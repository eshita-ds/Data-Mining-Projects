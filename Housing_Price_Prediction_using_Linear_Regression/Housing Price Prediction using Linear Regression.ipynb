{
 "cells": [
  {
   "cell_type": "markdown",
   "id": "d96b3869-6a1f-48aa-8955-94c0aa673e75",
   "metadata": {},
   "source": [
    "## DATA 240: Assignment No: 3"
   ]
  },
  {
   "cell_type": "markdown",
   "id": "b39d14c2-c7a3-47dd-841c-0d24b67e9526",
   "metadata": {},
   "source": [
    "### 1. Linear regression with gradient decent "
   ]
  },
  {
   "cell_type": "markdown",
   "id": "0d3e3de4-9664-4890-9be2-59861926714e",
   "metadata": {},
   "source": [
    "Please download housing.csv. This is a real-life dataset consisting of housing sales prices in the city of Windsor,\n",
    "Ontario, Canada. You can find a description of the variables in housing.txt. Our target variable is ‘price’"
   ]
  },
  {
   "cell_type": "markdown",
   "id": "5aff1a90-a610-4261-9115-095a1ff0397f",
   "metadata": {},
   "source": [
    "Importing only the allowed libraries"
   ]
  },
  {
   "cell_type": "code",
   "execution_count": 1,
   "id": "dfd7e3d4-473e-4e70-a6c5-d4d633027b4c",
   "metadata": {},
   "outputs": [],
   "source": [
    "import pandas as pd\n",
    "import numpy as np\n",
    "import matplotlib.pyplot as plt"
   ]
  },
  {
   "cell_type": "code",
   "execution_count": 2,
   "id": "d6d3d371-bea2-4be8-90d7-712695a82fbd",
   "metadata": {},
   "outputs": [],
   "source": [
    "housing_df = pd.read_csv('housing.csv')"
   ]
  },
  {
   "cell_type": "code",
   "execution_count": 3,
   "id": "bd1bfa7f-4893-4e13-b26c-aae3840f70f2",
   "metadata": {},
   "outputs": [
    {
     "data": {
      "text/html": [
       "<div>\n",
       "<style scoped>\n",
       "    .dataframe tbody tr th:only-of-type {\n",
       "        vertical-align: middle;\n",
       "    }\n",
       "\n",
       "    .dataframe tbody tr th {\n",
       "        vertical-align: top;\n",
       "    }\n",
       "\n",
       "    .dataframe thead th {\n",
       "        text-align: right;\n",
       "    }\n",
       "</style>\n",
       "<table border=\"1\" class=\"dataframe\">\n",
       "  <thead>\n",
       "    <tr style=\"text-align: right;\">\n",
       "      <th></th>\n",
       "      <th>price</th>\n",
       "      <th>lotsize</th>\n",
       "      <th>bedrooms</th>\n",
       "      <th>bathrms</th>\n",
       "      <th>stories</th>\n",
       "      <th>driveway</th>\n",
       "      <th>recroom</th>\n",
       "      <th>fullbase</th>\n",
       "      <th>gashw</th>\n",
       "      <th>airco</th>\n",
       "      <th>garagepl</th>\n",
       "      <th>prefarea</th>\n",
       "    </tr>\n",
       "  </thead>\n",
       "  <tbody>\n",
       "    <tr>\n",
       "      <th>0</th>\n",
       "      <td>42000</td>\n",
       "      <td>5850</td>\n",
       "      <td>3</td>\n",
       "      <td>1</td>\n",
       "      <td>2</td>\n",
       "      <td>yes</td>\n",
       "      <td>no</td>\n",
       "      <td>yes</td>\n",
       "      <td>no</td>\n",
       "      <td>no</td>\n",
       "      <td>1</td>\n",
       "      <td>no</td>\n",
       "    </tr>\n",
       "    <tr>\n",
       "      <th>1</th>\n",
       "      <td>38500</td>\n",
       "      <td>4000</td>\n",
       "      <td>2</td>\n",
       "      <td>1</td>\n",
       "      <td>1</td>\n",
       "      <td>yes</td>\n",
       "      <td>no</td>\n",
       "      <td>no</td>\n",
       "      <td>no</td>\n",
       "      <td>no</td>\n",
       "      <td>0</td>\n",
       "      <td>no</td>\n",
       "    </tr>\n",
       "    <tr>\n",
       "      <th>2</th>\n",
       "      <td>49500</td>\n",
       "      <td>3060</td>\n",
       "      <td>3</td>\n",
       "      <td>1</td>\n",
       "      <td>1</td>\n",
       "      <td>yes</td>\n",
       "      <td>no</td>\n",
       "      <td>no</td>\n",
       "      <td>no</td>\n",
       "      <td>no</td>\n",
       "      <td>0</td>\n",
       "      <td>no</td>\n",
       "    </tr>\n",
       "    <tr>\n",
       "      <th>3</th>\n",
       "      <td>60500</td>\n",
       "      <td>6650</td>\n",
       "      <td>3</td>\n",
       "      <td>1</td>\n",
       "      <td>2</td>\n",
       "      <td>yes</td>\n",
       "      <td>yes</td>\n",
       "      <td>no</td>\n",
       "      <td>no</td>\n",
       "      <td>no</td>\n",
       "      <td>0</td>\n",
       "      <td>no</td>\n",
       "    </tr>\n",
       "    <tr>\n",
       "      <th>4</th>\n",
       "      <td>61000</td>\n",
       "      <td>6360</td>\n",
       "      <td>2</td>\n",
       "      <td>1</td>\n",
       "      <td>1</td>\n",
       "      <td>yes</td>\n",
       "      <td>no</td>\n",
       "      <td>no</td>\n",
       "      <td>no</td>\n",
       "      <td>no</td>\n",
       "      <td>0</td>\n",
       "      <td>no</td>\n",
       "    </tr>\n",
       "  </tbody>\n",
       "</table>\n",
       "</div>"
      ],
      "text/plain": [
       "   price  lotsize  bedrooms  bathrms  stories driveway recroom fullbase gashw  \\\n",
       "0  42000     5850         3        1        2      yes      no      yes    no   \n",
       "1  38500     4000         2        1        1      yes      no       no    no   \n",
       "2  49500     3060         3        1        1      yes      no       no    no   \n",
       "3  60500     6650         3        1        2      yes     yes       no    no   \n",
       "4  61000     6360         2        1        1      yes      no       no    no   \n",
       "\n",
       "  airco  garagepl prefarea  \n",
       "0    no         1       no  \n",
       "1    no         0       no  \n",
       "2    no         0       no  \n",
       "3    no         0       no  \n",
       "4    no         0       no  "
      ]
     },
     "execution_count": 3,
     "metadata": {},
     "output_type": "execute_result"
    }
   ],
   "source": [
    "housing_df.head()"
   ]
  },
  {
   "cell_type": "code",
   "execution_count": 4,
   "id": "1a568191-6a0b-4468-97d1-2a2f96b92b76",
   "metadata": {},
   "outputs": [
    {
     "data": {
      "text/plain": [
       "(546, 12)"
      ]
     },
     "execution_count": 4,
     "metadata": {},
     "output_type": "execute_result"
    }
   ],
   "source": [
    "housing_df.shape"
   ]
  },
  {
   "cell_type": "markdown",
   "id": "2b8a029d-1cca-4d67-b007-c3deb56acf95",
   "metadata": {},
   "source": [
    "Description of columns: \n",
    "\n",
    "sell = sale price of a house \\\n",
    "lot = the lot size of a property in square feet \\\n",
    "bdms = the number of bedrooms \\\n",
    "fb = the number of full bathrooms \\\n",
    "sty = the number of stories excluding basement \\\n",
    "drv = 1 if the house has a driveway \\\n",
    "rec = 1 if the house has a recreational room \\\n",
    "ffin = 1 if the house has a full finished basement \\\n",
    "ghw = 1 if the house uses gas for hot water heating \\\n",
    "ca = 1 if there is central air conditioning \\\n",
    "gar = the number of garage places \\\n",
    "reg = 1 if the house is located in the preferred neighbourhood of the city"
   ]
  },
  {
   "cell_type": "code",
   "execution_count": 5,
   "id": "3dfbeb76-c3e1-4bc7-98ed-0727c2bd303a",
   "metadata": {},
   "outputs": [
    {
     "data": {
      "text/plain": [
       "price       0\n",
       "lotsize     0\n",
       "bedrooms    0\n",
       "bathrms     0\n",
       "stories     0\n",
       "driveway    0\n",
       "recroom     0\n",
       "fullbase    0\n",
       "gashw       0\n",
       "airco       0\n",
       "garagepl    0\n",
       "prefarea    0\n",
       "dtype: int64"
      ]
     },
     "execution_count": 5,
     "metadata": {},
     "output_type": "execute_result"
    }
   ],
   "source": [
    "housing_df.isna().sum()"
   ]
  },
  {
   "cell_type": "markdown",
   "id": "dd68e7cd-c314-44ca-a6a6-56cfa1905dd6",
   "metadata": {},
   "source": [
    "There are no missing values in housing.csv"
   ]
  },
  {
   "cell_type": "code",
   "execution_count": 6,
   "id": "1e9a935c-725d-49a0-92fe-4fd40df53487",
   "metadata": {},
   "outputs": [
    {
     "data": {
      "text/plain": [
       "price        int64\n",
       "lotsize      int64\n",
       "bedrooms     int64\n",
       "bathrms      int64\n",
       "stories      int64\n",
       "driveway    object\n",
       "recroom     object\n",
       "fullbase    object\n",
       "gashw       object\n",
       "airco       object\n",
       "garagepl     int64\n",
       "prefarea    object\n",
       "dtype: object"
      ]
     },
     "execution_count": 6,
     "metadata": {},
     "output_type": "execute_result"
    }
   ],
   "source": [
    "housing_df.dtypes"
   ]
  },
  {
   "cell_type": "markdown",
   "id": "fad69bc9-7bcf-4582-a425-c06c7f922893",
   "metadata": {},
   "source": [
    "Checking the unique values, the categorical columns possesses."
   ]
  },
  {
   "cell_type": "code",
   "execution_count": 7,
   "id": "d2ce99aa-bdf1-4a44-afe7-f5a0f61cf66f",
   "metadata": {},
   "outputs": [
    {
     "data": {
      "text/plain": [
       "array([3, 2, 4, 1, 5, 6])"
      ]
     },
     "execution_count": 7,
     "metadata": {},
     "output_type": "execute_result"
    }
   ],
   "source": [
    "housing_df['bedrooms'].unique()"
   ]
  },
  {
   "cell_type": "code",
   "execution_count": 8,
   "id": "77d321c3-2964-4c7f-bb18-7460ec1ef952",
   "metadata": {},
   "outputs": [
    {
     "data": {
      "text/plain": [
       "array([1, 2, 3, 4])"
      ]
     },
     "execution_count": 8,
     "metadata": {},
     "output_type": "execute_result"
    }
   ],
   "source": [
    "housing_df['bathrms'].unique()\n"
   ]
  },
  {
   "cell_type": "code",
   "execution_count": 9,
   "id": "d9d8dde4-a62b-4699-9e07-6b27f7083948",
   "metadata": {},
   "outputs": [
    {
     "data": {
      "text/plain": [
       "array([2, 1, 3, 4])"
      ]
     },
     "execution_count": 9,
     "metadata": {},
     "output_type": "execute_result"
    }
   ],
   "source": [
    "housing_df['stories'].unique()"
   ]
  },
  {
   "cell_type": "code",
   "execution_count": 10,
   "id": "de3ebee2-c2c1-480c-a04e-5e5e8fcfaea6",
   "metadata": {},
   "outputs": [
    {
     "data": {
      "text/plain": [
       "array(['yes', 'no'], dtype=object)"
      ]
     },
     "execution_count": 10,
     "metadata": {},
     "output_type": "execute_result"
    }
   ],
   "source": [
    "housing_df['driveway'].unique()"
   ]
  },
  {
   "cell_type": "code",
   "execution_count": 11,
   "id": "db56a678-a77e-4d6a-b95b-99c107758222",
   "metadata": {},
   "outputs": [
    {
     "data": {
      "text/plain": [
       "array([1, 0, 2, 3])"
      ]
     },
     "execution_count": 11,
     "metadata": {},
     "output_type": "execute_result"
    }
   ],
   "source": [
    "housing_df['garagepl'].unique()"
   ]
  },
  {
   "cell_type": "markdown",
   "id": "b0d048a1-3d6e-480d-9020-91e57e520cd1",
   "metadata": {},
   "source": [
    "Mapping categorical columns having object datatype to binary values"
   ]
  },
  {
   "cell_type": "code",
   "execution_count": 12,
   "id": "cea02f29-4f35-4fb1-98f8-23ce1b48d5f5",
   "metadata": {},
   "outputs": [],
   "source": [
    "categorical_columns = ['driveway', 'recroom', 'fullbase', 'gashw', 'airco', 'prefarea']\n",
    "for col in categorical_columns:\n",
    "    housing_df[col] = housing_df[col].map({'yes': 1, 'no': 0})"
   ]
  },
  {
   "cell_type": "code",
   "execution_count": 13,
   "id": "a2857620-52f7-4b00-929e-e43e7040873d",
   "metadata": {},
   "outputs": [
    {
     "data": {
      "text/html": [
       "<div>\n",
       "<style scoped>\n",
       "    .dataframe tbody tr th:only-of-type {\n",
       "        vertical-align: middle;\n",
       "    }\n",
       "\n",
       "    .dataframe tbody tr th {\n",
       "        vertical-align: top;\n",
       "    }\n",
       "\n",
       "    .dataframe thead th {\n",
       "        text-align: right;\n",
       "    }\n",
       "</style>\n",
       "<table border=\"1\" class=\"dataframe\">\n",
       "  <thead>\n",
       "    <tr style=\"text-align: right;\">\n",
       "      <th></th>\n",
       "      <th>price</th>\n",
       "      <th>lotsize</th>\n",
       "      <th>bedrooms</th>\n",
       "      <th>bathrms</th>\n",
       "      <th>stories</th>\n",
       "      <th>driveway</th>\n",
       "      <th>recroom</th>\n",
       "      <th>fullbase</th>\n",
       "      <th>gashw</th>\n",
       "      <th>airco</th>\n",
       "      <th>garagepl</th>\n",
       "      <th>prefarea</th>\n",
       "    </tr>\n",
       "  </thead>\n",
       "  <tbody>\n",
       "    <tr>\n",
       "      <th>0</th>\n",
       "      <td>42000</td>\n",
       "      <td>5850</td>\n",
       "      <td>3</td>\n",
       "      <td>1</td>\n",
       "      <td>2</td>\n",
       "      <td>1</td>\n",
       "      <td>0</td>\n",
       "      <td>1</td>\n",
       "      <td>0</td>\n",
       "      <td>0</td>\n",
       "      <td>1</td>\n",
       "      <td>0</td>\n",
       "    </tr>\n",
       "    <tr>\n",
       "      <th>1</th>\n",
       "      <td>38500</td>\n",
       "      <td>4000</td>\n",
       "      <td>2</td>\n",
       "      <td>1</td>\n",
       "      <td>1</td>\n",
       "      <td>1</td>\n",
       "      <td>0</td>\n",
       "      <td>0</td>\n",
       "      <td>0</td>\n",
       "      <td>0</td>\n",
       "      <td>0</td>\n",
       "      <td>0</td>\n",
       "    </tr>\n",
       "    <tr>\n",
       "      <th>2</th>\n",
       "      <td>49500</td>\n",
       "      <td>3060</td>\n",
       "      <td>3</td>\n",
       "      <td>1</td>\n",
       "      <td>1</td>\n",
       "      <td>1</td>\n",
       "      <td>0</td>\n",
       "      <td>0</td>\n",
       "      <td>0</td>\n",
       "      <td>0</td>\n",
       "      <td>0</td>\n",
       "      <td>0</td>\n",
       "    </tr>\n",
       "    <tr>\n",
       "      <th>3</th>\n",
       "      <td>60500</td>\n",
       "      <td>6650</td>\n",
       "      <td>3</td>\n",
       "      <td>1</td>\n",
       "      <td>2</td>\n",
       "      <td>1</td>\n",
       "      <td>1</td>\n",
       "      <td>0</td>\n",
       "      <td>0</td>\n",
       "      <td>0</td>\n",
       "      <td>0</td>\n",
       "      <td>0</td>\n",
       "    </tr>\n",
       "    <tr>\n",
       "      <th>4</th>\n",
       "      <td>61000</td>\n",
       "      <td>6360</td>\n",
       "      <td>2</td>\n",
       "      <td>1</td>\n",
       "      <td>1</td>\n",
       "      <td>1</td>\n",
       "      <td>0</td>\n",
       "      <td>0</td>\n",
       "      <td>0</td>\n",
       "      <td>0</td>\n",
       "      <td>0</td>\n",
       "      <td>0</td>\n",
       "    </tr>\n",
       "  </tbody>\n",
       "</table>\n",
       "</div>"
      ],
      "text/plain": [
       "   price  lotsize  bedrooms  bathrms  stories  driveway  recroom  fullbase  \\\n",
       "0  42000     5850         3        1        2         1        0         1   \n",
       "1  38500     4000         2        1        1         1        0         0   \n",
       "2  49500     3060         3        1        1         1        0         0   \n",
       "3  60500     6650         3        1        2         1        1         0   \n",
       "4  61000     6360         2        1        1         1        0         0   \n",
       "\n",
       "   gashw  airco  garagepl  prefarea  \n",
       "0      0      0         1         0  \n",
       "1      0      0         0         0  \n",
       "2      0      0         0         0  \n",
       "3      0      0         0         0  \n",
       "4      0      0         0         0  "
      ]
     },
     "execution_count": 13,
     "metadata": {},
     "output_type": "execute_result"
    }
   ],
   "source": [
    "housing_df.head()"
   ]
  },
  {
   "cell_type": "code",
   "execution_count": 14,
   "id": "9e271a23-9080-49d7-911a-cc8d42737601",
   "metadata": {},
   "outputs": [
    {
     "data": {
      "text/plain": [
       "price       int64\n",
       "lotsize     int64\n",
       "bedrooms    int64\n",
       "bathrms     int64\n",
       "stories     int64\n",
       "driveway    int64\n",
       "recroom     int64\n",
       "fullbase    int64\n",
       "gashw       int64\n",
       "airco       int64\n",
       "garagepl    int64\n",
       "prefarea    int64\n",
       "dtype: object"
      ]
     },
     "execution_count": 14,
     "metadata": {},
     "output_type": "execute_result"
    }
   ],
   "source": [
    "housing_df.dtypes"
   ]
  },
  {
   "cell_type": "markdown",
   "id": "6ba8d7a8-edde-40e5-8a5b-0ad0bdb62f6d",
   "metadata": {},
   "source": [
    "housing.csv now has all numerical values and int datatype"
   ]
  },
  {
   "cell_type": "markdown",
   "id": "ce6638bd-bb75-4ef1-97ae-df3441c7c6a4",
   "metadata": {},
   "source": [
    "Linear regression using gradient descent method from scratch. Before starting to implement gradient descent, we shall normalise all the variables excluding price (which is our target variable) using Z-score Normalisation."
   ]
  },
  {
   "cell_type": "code",
   "execution_count": 15,
   "id": "918ab14d-67ee-4efa-82b6-82a4eda63cf2",
   "metadata": {},
   "outputs": [],
   "source": [
    "X = housing_df.drop(columns=['price'])\n",
    "y = housing_df['price']"
   ]
  },
  {
   "cell_type": "markdown",
   "id": "49dadce7-645a-4383-a87e-4bbfa2b14718",
   "metadata": {},
   "source": [
    "Z-Score Normalisation"
   ]
  },
  {
   "cell_type": "code",
   "execution_count": 16,
   "id": "84978ed8-a033-4b96-8d88-29cada1f708d",
   "metadata": {},
   "outputs": [],
   "source": [
    "X_norm = (X - X.mean()) / X.std()"
   ]
  },
  {
   "cell_type": "code",
   "execution_count": 17,
   "id": "a76b22c3-f61b-4272-9774-ebc1ba04d22d",
   "metadata": {},
   "outputs": [
    {
     "data": {
      "text/html": [
       "<div>\n",
       "<style scoped>\n",
       "    .dataframe tbody tr th:only-of-type {\n",
       "        vertical-align: middle;\n",
       "    }\n",
       "\n",
       "    .dataframe tbody tr th {\n",
       "        vertical-align: top;\n",
       "    }\n",
       "\n",
       "    .dataframe thead th {\n",
       "        text-align: right;\n",
       "    }\n",
       "</style>\n",
       "<table border=\"1\" class=\"dataframe\">\n",
       "  <thead>\n",
       "    <tr style=\"text-align: right;\">\n",
       "      <th></th>\n",
       "      <th>lotsize</th>\n",
       "      <th>bedrooms</th>\n",
       "      <th>bathrms</th>\n",
       "      <th>stories</th>\n",
       "      <th>driveway</th>\n",
       "      <th>recroom</th>\n",
       "      <th>fullbase</th>\n",
       "      <th>gashw</th>\n",
       "      <th>airco</th>\n",
       "      <th>garagepl</th>\n",
       "      <th>prefarea</th>\n",
       "    </tr>\n",
       "  </thead>\n",
       "  <tbody>\n",
       "    <tr>\n",
       "      <th>0</th>\n",
       "      <td>0.322732</td>\n",
       "      <td>0.047192</td>\n",
       "      <td>-0.568973</td>\n",
       "      <td>0.221501</td>\n",
       "      <td>0.404819</td>\n",
       "      <td>-0.464371</td>\n",
       "      <td>1.362070</td>\n",
       "      <td>-0.218853</td>\n",
       "      <td>-0.680410</td>\n",
       "      <td>0.357239</td>\n",
       "      <td>-0.552865</td>\n",
       "    </tr>\n",
       "    <tr>\n",
       "      <th>1</th>\n",
       "      <td>-0.530526</td>\n",
       "      <td>-1.308947</td>\n",
       "      <td>-0.568973</td>\n",
       "      <td>-0.930304</td>\n",
       "      <td>0.404819</td>\n",
       "      <td>-0.464371</td>\n",
       "      <td>-0.732832</td>\n",
       "      <td>-0.218853</td>\n",
       "      <td>-0.680410</td>\n",
       "      <td>-0.803788</td>\n",
       "      <td>-0.552865</td>\n",
       "    </tr>\n",
       "    <tr>\n",
       "      <th>2</th>\n",
       "      <td>-0.964074</td>\n",
       "      <td>0.047192</td>\n",
       "      <td>-0.568973</td>\n",
       "      <td>-0.930304</td>\n",
       "      <td>0.404819</td>\n",
       "      <td>-0.464371</td>\n",
       "      <td>-0.732832</td>\n",
       "      <td>-0.218853</td>\n",
       "      <td>-0.680410</td>\n",
       "      <td>-0.803788</td>\n",
       "      <td>-0.552865</td>\n",
       "    </tr>\n",
       "    <tr>\n",
       "      <th>3</th>\n",
       "      <td>0.691709</td>\n",
       "      <td>0.047192</td>\n",
       "      <td>-0.568973</td>\n",
       "      <td>0.221501</td>\n",
       "      <td>0.404819</td>\n",
       "      <td>2.149509</td>\n",
       "      <td>-0.732832</td>\n",
       "      <td>-0.218853</td>\n",
       "      <td>-0.680410</td>\n",
       "      <td>-0.803788</td>\n",
       "      <td>-0.552865</td>\n",
       "    </tr>\n",
       "    <tr>\n",
       "      <th>4</th>\n",
       "      <td>0.557955</td>\n",
       "      <td>-1.308947</td>\n",
       "      <td>-0.568973</td>\n",
       "      <td>-0.930304</td>\n",
       "      <td>0.404819</td>\n",
       "      <td>-0.464371</td>\n",
       "      <td>-0.732832</td>\n",
       "      <td>-0.218853</td>\n",
       "      <td>-0.680410</td>\n",
       "      <td>-0.803788</td>\n",
       "      <td>-0.552865</td>\n",
       "    </tr>\n",
       "    <tr>\n",
       "      <th>...</th>\n",
       "      <td>...</td>\n",
       "      <td>...</td>\n",
       "      <td>...</td>\n",
       "      <td>...</td>\n",
       "      <td>...</td>\n",
       "      <td>...</td>\n",
       "      <td>...</td>\n",
       "      <td>...</td>\n",
       "      <td>...</td>\n",
       "      <td>...</td>\n",
       "      <td>...</td>\n",
       "    </tr>\n",
       "    <tr>\n",
       "      <th>541</th>\n",
       "      <td>-0.161550</td>\n",
       "      <td>0.047192</td>\n",
       "      <td>1.422433</td>\n",
       "      <td>2.525111</td>\n",
       "      <td>0.404819</td>\n",
       "      <td>2.149509</td>\n",
       "      <td>-0.732832</td>\n",
       "      <td>-0.218853</td>\n",
       "      <td>1.467011</td>\n",
       "      <td>-0.803788</td>\n",
       "      <td>-0.552865</td>\n",
       "    </tr>\n",
       "    <tr>\n",
       "      <th>542</th>\n",
       "      <td>0.391915</td>\n",
       "      <td>0.047192</td>\n",
       "      <td>1.422433</td>\n",
       "      <td>2.525111</td>\n",
       "      <td>0.404819</td>\n",
       "      <td>-0.464371</td>\n",
       "      <td>-0.732832</td>\n",
       "      <td>-0.218853</td>\n",
       "      <td>1.467011</td>\n",
       "      <td>-0.803788</td>\n",
       "      <td>-0.552865</td>\n",
       "    </tr>\n",
       "    <tr>\n",
       "      <th>543</th>\n",
       "      <td>0.391915</td>\n",
       "      <td>0.047192</td>\n",
       "      <td>1.422433</td>\n",
       "      <td>2.525111</td>\n",
       "      <td>0.404819</td>\n",
       "      <td>2.149509</td>\n",
       "      <td>-0.732832</td>\n",
       "      <td>-0.218853</td>\n",
       "      <td>1.467011</td>\n",
       "      <td>0.357239</td>\n",
       "      <td>-0.552865</td>\n",
       "    </tr>\n",
       "    <tr>\n",
       "      <th>544</th>\n",
       "      <td>0.391915</td>\n",
       "      <td>0.047192</td>\n",
       "      <td>1.422433</td>\n",
       "      <td>0.221501</td>\n",
       "      <td>0.404819</td>\n",
       "      <td>2.149509</td>\n",
       "      <td>-0.732832</td>\n",
       "      <td>-0.218853</td>\n",
       "      <td>1.467011</td>\n",
       "      <td>0.357239</td>\n",
       "      <td>-0.552865</td>\n",
       "    </tr>\n",
       "    <tr>\n",
       "      <th>545</th>\n",
       "      <td>0.391915</td>\n",
       "      <td>0.047192</td>\n",
       "      <td>-0.568973</td>\n",
       "      <td>0.221501</td>\n",
       "      <td>0.404819</td>\n",
       "      <td>-0.464371</td>\n",
       "      <td>-0.732832</td>\n",
       "      <td>-0.218853</td>\n",
       "      <td>1.467011</td>\n",
       "      <td>0.357239</td>\n",
       "      <td>-0.552865</td>\n",
       "    </tr>\n",
       "  </tbody>\n",
       "</table>\n",
       "<p>546 rows × 11 columns</p>\n",
       "</div>"
      ],
      "text/plain": [
       "      lotsize  bedrooms   bathrms   stories  driveway   recroom  fullbase  \\\n",
       "0    0.322732  0.047192 -0.568973  0.221501  0.404819 -0.464371  1.362070   \n",
       "1   -0.530526 -1.308947 -0.568973 -0.930304  0.404819 -0.464371 -0.732832   \n",
       "2   -0.964074  0.047192 -0.568973 -0.930304  0.404819 -0.464371 -0.732832   \n",
       "3    0.691709  0.047192 -0.568973  0.221501  0.404819  2.149509 -0.732832   \n",
       "4    0.557955 -1.308947 -0.568973 -0.930304  0.404819 -0.464371 -0.732832   \n",
       "..        ...       ...       ...       ...       ...       ...       ...   \n",
       "541 -0.161550  0.047192  1.422433  2.525111  0.404819  2.149509 -0.732832   \n",
       "542  0.391915  0.047192  1.422433  2.525111  0.404819 -0.464371 -0.732832   \n",
       "543  0.391915  0.047192  1.422433  2.525111  0.404819  2.149509 -0.732832   \n",
       "544  0.391915  0.047192  1.422433  0.221501  0.404819  2.149509 -0.732832   \n",
       "545  0.391915  0.047192 -0.568973  0.221501  0.404819 -0.464371 -0.732832   \n",
       "\n",
       "        gashw     airco  garagepl  prefarea  \n",
       "0   -0.218853 -0.680410  0.357239 -0.552865  \n",
       "1   -0.218853 -0.680410 -0.803788 -0.552865  \n",
       "2   -0.218853 -0.680410 -0.803788 -0.552865  \n",
       "3   -0.218853 -0.680410 -0.803788 -0.552865  \n",
       "4   -0.218853 -0.680410 -0.803788 -0.552865  \n",
       "..        ...       ...       ...       ...  \n",
       "541 -0.218853  1.467011 -0.803788 -0.552865  \n",
       "542 -0.218853  1.467011 -0.803788 -0.552865  \n",
       "543 -0.218853  1.467011  0.357239 -0.552865  \n",
       "544 -0.218853  1.467011  0.357239 -0.552865  \n",
       "545 -0.218853  1.467011  0.357239 -0.552865  \n",
       "\n",
       "[546 rows x 11 columns]"
      ]
     },
     "execution_count": 17,
     "metadata": {},
     "output_type": "execute_result"
    }
   ],
   "source": [
    "X_norm"
   ]
  },
  {
   "cell_type": "markdown",
   "id": "d864aa53-3acc-4a9d-8694-ceeb8f0128a0",
   "metadata": {},
   "source": [
    "Adding a column of ones to X to account for the bias (intercept) term"
   ]
  },
  {
   "cell_type": "code",
   "execution_count": 18,
   "id": "e934e3ef-0a10-46a5-972e-b90dc082bc3a",
   "metadata": {},
   "outputs": [],
   "source": [
    "X_norm.insert(0,'bias',1)"
   ]
  },
  {
   "cell_type": "markdown",
   "id": "f392b77a-1a6a-481c-a723-15a9108a0e10",
   "metadata": {},
   "source": [
    "Converting X and y to numpy arrays"
   ]
  },
  {
   "cell_type": "code",
   "execution_count": 19,
   "id": "d1e7a23d-f031-44a3-bcb1-b0c900f81f83",
   "metadata": {},
   "outputs": [],
   "source": [
    "X_norm_1 = X_norm.values"
   ]
  },
  {
   "cell_type": "code",
   "execution_count": 20,
   "id": "7edd2e1b-b8d4-4433-9093-a7195a53dc59",
   "metadata": {},
   "outputs": [
    {
     "data": {
      "text/plain": [
       "array([[ 1.        ,  0.32273211,  0.04719162, ..., -0.68040981,\n",
       "         0.35723902, -0.55286459],\n",
       "       [ 1.        , -0.53052646, -1.30894664, ..., -0.68040981,\n",
       "        -0.80378779, -0.55286459],\n",
       "       [ 1.        , -0.96407405,  0.04719162, ..., -0.68040981,\n",
       "        -0.80378779, -0.55286459],\n",
       "       ...,\n",
       "       [ 1.        ,  0.39191523,  0.04719162, ...,  1.46701074,\n",
       "         0.35723902, -0.55286459],\n",
       "       [ 1.        ,  0.39191523,  0.04719162, ...,  1.46701074,\n",
       "         0.35723902, -0.55286459],\n",
       "       [ 1.        ,  0.39191523,  0.04719162, ...,  1.46701074,\n",
       "         0.35723902, -0.55286459]])"
      ]
     },
     "metadata": {},
     "output_type": "display_data"
    }
   ],
   "source": [
    "display(X_norm_1)"
   ]
  },
  {
   "cell_type": "code",
   "execution_count": 21,
   "id": "5f6fd025-a92f-47b1-aad1-c3f730a7b6ec",
   "metadata": {},
   "outputs": [],
   "source": [
    "y = y.values"
   ]
  },
  {
   "cell_type": "markdown",
   "id": "9ebbf065-0e9c-43f8-a413-d7ec313c9f2a",
   "metadata": {},
   "source": [
    "1-1. Please build a gradient descent algorithm based on the following formulas\n",
    "\n",
    "<img src= \"attachment:d6f2a9be-c70b-4cb5-a3a8-350fe723a93d.png\" width=\"300\">"
   ]
  },
  {
   "cell_type": "code",
   "execution_count": 22,
   "id": "7626aee8-b1dd-4790-a1a4-c850dc20bead",
   "metadata": {},
   "outputs": [],
   "source": [
    "# Cost function\n",
    "def compute_cost(X, y, weights):\n",
    "    m = len(y)\n",
    "    y_pred = np.dot(X, weights)\n",
    "    cost = (1 / m) * np.sum((y_pred - y) ** 2)\n",
    "    return cost\n",
    "\n",
    "# RMSE calculation\n",
    "def compute_rmse(y_pred, y):\n",
    "    rmse = np.sqrt(np.mean((y_pred - y) ** 2))\n",
    "    return rmse"
   ]
  },
  {
   "cell_type": "markdown",
   "id": "65f062cc-c97f-447e-937f-5a3355702d1e",
   "metadata": {},
   "source": [
    "<img src=\"attachment:515873ef-10e2-4b13-8101-e5d3cc6f2f75.png\" width=\"300\">"
   ]
  },
  {
   "cell_type": "markdown",
   "id": "3b91fb28-881e-4259-9e56-12396fd7905d",
   "metadata": {},
   "source": [
    "Initialize weights and set hyperparameters\n",
    "\n",
    "Initializing weights to be a random number between 0 and 1, and then multiplying by 0.01 to scale the values down to be small and near-zero but not zero. This is useful for optimization algorithms like gradient descent."
   ]
  },
  {
   "cell_type": "code",
   "execution_count": 23,
   "id": "ec83f5e9-1104-4859-a5b7-c384e7ccc33a",
   "metadata": {},
   "outputs": [
    {
     "data": {
      "text/plain": [
       "12"
      ]
     },
     "execution_count": 23,
     "metadata": {},
     "output_type": "execute_result"
    }
   ],
   "source": [
    "X_norm_1.shape[1]"
   ]
  },
  {
   "cell_type": "code",
   "execution_count": 24,
   "id": "25297cf1-cf0b-43b1-b0e8-19fd593b1391",
   "metadata": {},
   "outputs": [],
   "source": [
    "W = np.random.rand(X_norm_1.shape[1]) * 0.01\n",
    "learning_rate = 0.25\n",
    "epochs = 20\n",
    "m = len(y)"
   ]
  },
  {
   "cell_type": "markdown",
   "id": "15e4a31c-0523-4353-9f0d-cde4f842aae0",
   "metadata": {},
   "source": [
    "Implementing Gradient Descent on the given data"
   ]
  },
  {
   "cell_type": "code",
   "execution_count": 25,
   "id": "33431841-af91-4748-9dab-5db0435b671d",
   "metadata": {
    "scrolled": true
   },
   "outputs": [
    {
     "name": "stdout",
     "output_type": "stream",
     "text": [
      "Epoch 1, Cost: 1416389470.1056, RMSE: 73159.2635\n",
      "Epoch 2, Cost: 527869274.6163, RMSE: 37634.9501\n",
      "Epoch 3, Cost: 307529033.1818, RMSE: 22975.4059\n",
      "Epoch 4, Cost: 251985003.7993, RMSE: 17536.5057\n",
      "Epoch 5, Cost: 237820582.1747, RMSE: 15874.0355\n",
      "Epoch 6, Cost: 234130599.0492, RMSE: 15421.4326\n",
      "Epoch 7, Cost: 233126982.2370, RMSE: 15301.3267\n",
      "Epoch 8, Cost: 232830744.0320, RMSE: 15268.4964\n",
      "Epoch 9, Cost: 232730755.4202, RMSE: 15258.7924\n",
      "Epoch 10, Cost: 232690628.3982, RMSE: 15255.5156\n",
      "Epoch 11, Cost: 232671620.1068, RMSE: 15254.2004\n",
      "Epoch 12, Cost: 232661470.0828, RMSE: 15253.5773\n",
      "Epoch 13, Cost: 232655651.7804, RMSE: 15253.2446\n",
      "Epoch 14, Cost: 232652186.5549, RMSE: 15253.0539\n",
      "Epoch 15, Cost: 232650080.1141, RMSE: 15252.9403\n",
      "Epoch 16, Cost: 232648784.8744, RMSE: 15252.8712\n",
      "Epoch 17, Cost: 232647982.9099, RMSE: 15252.8287\n",
      "Epoch 18, Cost: 232647484.1359, RMSE: 15252.8025\n",
      "Epoch 19, Cost: 232647172.9773, RMSE: 15252.7861\n",
      "Epoch 20, Cost: 232646978.4398, RMSE: 15252.7759\n"
     ]
    }
   ],
   "source": [
    "for epoch in range(epochs):\n",
    "    #compute predictions with initial weights\n",
    "    Y_pred = np.dot(X_norm_1, W)  \n",
    "\n",
    "    #compute error\n",
    "    errors = Y_pred - y\n",
    "\n",
    "    #calculate gradients\n",
    "    gradients = (2/m) * np.dot(X_norm_1.T, errors)\n",
    "\n",
    "    #Update weights\n",
    "    W -= learning_rate * gradients \n",
    "    \n",
    "    #compute and print cost and RMSE for the current epoch\n",
    "    cost = compute_cost(X_norm_1, y, W)\n",
    "    rmse = compute_rmse(Y_pred, y)\n",
    "    print(f\"Epoch {epoch + 1}, Cost: {cost:.4f}, RMSE: {rmse:.4f}\")\n",
    "\n",
    "Optimal_weights = W"
   ]
  },
  {
   "cell_type": "code",
   "execution_count": 26,
   "id": "449dcf85-ee66-4f61-909c-239ff61d2758",
   "metadata": {},
   "outputs": [
    {
     "name": "stdout",
     "output_type": "stream",
     "text": [
      "\n",
      "gradients:\n",
      " [ -0.25986326  -8.63641887  13.86169793   0.91037406 -17.35253541\n",
      "   6.17845468   6.93986664 -13.25266145   0.79801058   5.47481379\n",
      "   0.11570901   2.75526399]\n",
      "\n",
      " Optimal weights:\n",
      " [68121.53210378  7681.06233908  1363.41749674  7200.64156874\n",
      "  5675.76676439  2335.61245552  1732.20388273  2589.95755996\n",
      "  2685.54878502  5888.46458244  3655.52705543  3975.7551691 ]\n"
     ]
    }
   ],
   "source": [
    "print(\"\\ngradients:\\n\", gradients)\n",
    "print(\"\\n Optimal weights:\\n\", Optimal_weights)"
   ]
  },
  {
   "cell_type": "markdown",
   "id": "b630de65-070d-483e-b7e3-fa7021c267dc",
   "metadata": {},
   "source": [
    "Fitting the data using the Linear regression model with the optimum Weight. "
   ]
  },
  {
   "cell_type": "code",
   "execution_count": 27,
   "id": "18873ca6-df75-44e5-9f37-c78268d813a7",
   "metadata": {},
   "outputs": [],
   "source": [
    "predictions = np.dot(X_norm_1,Optimal_weights)"
   ]
  },
  {
   "cell_type": "markdown",
   "id": "5e19b947-3fbf-47c4-abb7-150f7c28c21f",
   "metadata": {},
   "source": [
    "Plotting ‘price’ vs ‘lotsize’ on the original scale"
   ]
  },
  {
   "cell_type": "code",
   "execution_count": 28,
   "id": "4b29697a-ace6-407a-9ced-5c370b697b02",
   "metadata": {},
   "outputs": [
    {
     "data": {
      "image/png": "[encoded data removed]",
      "text/plain": [
       "<Figure size 700x500 with 1 Axes>"
      ]
     },
     "metadata": {},
     "output_type": "display_data"
    }
   ],
   "source": [
    "# housing_df['lotsize'] having original values\n",
    "# y = housing_df['price'] having original values\n",
    "\n",
    "plt.figure(figsize=(7, 5))\n",
    "plt.scatter(housing_df['lotsize'], y, color='blue', label=\"Original Prices\")\n",
    "plt.scatter(housing_df['lotsize'], predictions, color='red', label=\"Predicted Prices\")\n",
    "plt.xlabel(\"Lot Size\")\n",
    "plt.ylabel(\"Price\")\n",
    "plt.title(\"Linear Regression: Price vs Lot Size\")\n",
    "plt.legend()\n",
    "plt.show()"
   ]
  },
  {
   "cell_type": "markdown",
   "id": "ef6b6706-990b-48db-814f-04d41990e400",
   "metadata": {},
   "source": [
    "Please plot ‘true-price’(y) vs ‘predicted-price’(𝑦̂) and display R2. The y and 𝑦̂ should be original scale instead of\n",
    "normalized scale. "
   ]
  },
  {
   "cell_type": "markdown",
   "id": "2ed0a2aa-1ffe-4465-856a-b05a5624362e",
   "metadata": {},
   "source": [
    "Calculating and displaying R^2\n",
    "\n",
    "<img src= \"attachment:a36ebd6b-fc3e-4e46-9952-2d43823c62d9.png\" width=\"300\">"
   ]
  },
  {
   "cell_type": "code",
   "execution_count": 29,
   "id": "bd55797f-e54a-4cbf-97bc-441cd36fe7d7",
   "metadata": {},
   "outputs": [
    {
     "name": "stdout",
     "output_type": "stream",
     "text": [
      "R^2: 0.6731231610882114\n"
     ]
    }
   ],
   "source": [
    "ss_total = np.sum((y - np.mean(y)) ** 2)\n",
    "ss_residual = np.sum((y - predictions) ** 2)\n",
    "r_squared = 1 - (ss_residual / ss_total)\n",
    "print(f\"R^2: {r_squared}\")"
   ]
  },
  {
   "cell_type": "markdown",
   "id": "23ef44c9-1af6-4d73-9a31-1f7dfa2edfad",
   "metadata": {},
   "source": [
    "Plotting true-price (y) vs predicted-price (ŷ) on original scale"
   ]
  },
  {
   "cell_type": "code",
   "execution_count": 30,
   "id": "a91bcb2e-eab9-4af4-abba-a0e8b3d9c4fc",
   "metadata": {},
   "outputs": [
    {
     "data": {
      "image/png": "[encoded data removed]",
      "text/plain": [
       "<Figure size 800x600 with 1 Axes>"
      ]
     },
     "metadata": {},
     "output_type": "display_data"
    }
   ],
   "source": [
    "plt.figure(figsize=(8, 6))\n",
    "plt.scatter(y, predictions, color='blue', alpha=0.5)\n",
    "plt.xlabel(\"True Price\")\n",
    "plt.ylabel(\"Predicted Price\")\n",
    "plt.title(f\"Plot of True Price vs Predicted Price (R^2 = {r_squared:.4f})\")\n",
    "\n",
    "#Add line of perfect fit\n",
    "plt.plot([min(y), max(y)], [min(y), max(y)], color='gray')\n",
    "plt.show()"
   ]
  },
  {
   "cell_type": "markdown",
   "id": "c174dbd2-40f0-4427-9712-4b89d2bc4d70",
   "metadata": {},
   "source": [
    "### 1-2. Please build a gradient descent algorithm based on the following cost function."
   ]
  },
  {
   "cell_type": "markdown",
   "id": "f28c09bb-c1f1-48c9-9712-7644829c19d3",
   "metadata": {},
   "source": [
    "<img src= \"attachment:e7701b6e-77ea-4ee8-8cec-13afcf296965.png\" width=\"200\">"
   ]
  },
  {
   "cell_type": "markdown",
   "id": "496b4ee2-c4be-4414-a652-cefb0d26061b",
   "metadata": {},
   "source": [
    "Please print out the Root Mean Squared Error (RMSE) every iteration (until 10 epochs).\n",
    "Please fit the data using the Linear regression model with the optimum Weight.\n",
    "Please plot ‘true-price’(y) vs ‘predicted-price’(𝑦̂) and display R2."
   ]
  },
  {
   "cell_type": "markdown",
   "id": "3aff078c-d205-44b9-a99d-0e0015c4a630",
   "metadata": {},
   "source": [
    "Setting new variable with X_new and y_new for features and target respectively"
   ]
  },
  {
   "cell_type": "code",
   "execution_count": 31,
   "id": "10ffe3a5-3e86-4b6a-a67e-9a86cbbc674b",
   "metadata": {},
   "outputs": [],
   "source": [
    "X_new = housing_df.drop(columns=['price'])\n",
    "y_new = housing_df['price']"
   ]
  },
  {
   "cell_type": "markdown",
   "id": "de25170b-3d88-4908-83cf-657604b4986a",
   "metadata": {},
   "source": [
    "Z-score normalising variables"
   ]
  },
  {
   "cell_type": "code",
   "execution_count": 32,
   "id": "61b61422-6e4c-47bb-85bf-97e2cd06fb35",
   "metadata": {},
   "outputs": [],
   "source": [
    "X_norm = (X_new - X_new.mean()) / X_new.std()"
   ]
  },
  {
   "cell_type": "markdown",
   "id": "49cf44af-09ef-4a5e-b224-a1b6873bfdeb",
   "metadata": {},
   "source": [
    "Adding bias"
   ]
  },
  {
   "cell_type": "code",
   "execution_count": 33,
   "id": "d425bf2a-31d6-47bd-bb61-6f1dcf595a2d",
   "metadata": {},
   "outputs": [],
   "source": [
    "X_norm.insert(0,'bias',1)"
   ]
  },
  {
   "cell_type": "markdown",
   "id": "76f43412-6d99-47c4-a2cd-0e43bc696263",
   "metadata": {},
   "source": [
    "convert X and y to numpy arrays"
   ]
  },
  {
   "cell_type": "code",
   "execution_count": 34,
   "id": "ce6bcda5-0be1-4588-ad1b-bfdfc1546c77",
   "metadata": {},
   "outputs": [],
   "source": [
    "X_norm_2 = X_norm.values"
   ]
  },
  {
   "cell_type": "code",
   "execution_count": 35,
   "id": "2136c43a-e135-4130-9a36-53c3f377cbf6",
   "metadata": {},
   "outputs": [],
   "source": [
    "Y= y_new.values"
   ]
  },
  {
   "cell_type": "markdown",
   "id": "c0592a60-d856-418e-9dde-8c98f1a7c213",
   "metadata": {},
   "source": [
    "Initializing weights randomly having value between 0 and 1, and multiplying with 0.01 for getting small values not near zero"
   ]
  },
  {
   "cell_type": "code",
   "execution_count": 36,
   "id": "9d9fa9da-0a9c-4aaf-aa2c-f58e5acc8db1",
   "metadata": {},
   "outputs": [],
   "source": [
    "weights = np.random.rand(1, X_norm_2.shape[1]) * 0.01"
   ]
  },
  {
   "cell_type": "code",
   "execution_count": 37,
   "id": "5aceb789-aec4-4bd9-8b96-bdd029295a69",
   "metadata": {},
   "outputs": [
    {
     "name": "stdout",
     "output_type": "stream",
     "text": [
      "[[0.00192998 0.00269164 0.0019595  0.00063317 0.00170443 0.00144071\n",
      "  0.00874815 0.0029777  0.00091164 0.00925495 0.00790673 0.00772461]]\n"
     ]
    }
   ],
   "source": [
    "print(weights)"
   ]
  },
  {
   "cell_type": "code",
   "execution_count": 38,
   "id": "77553617-bcb9-4961-8e7e-7a2a04338a24",
   "metadata": {},
   "outputs": [
    {
     "data": {
      "text/plain": [
       "(1, 12)"
      ]
     },
     "execution_count": 38,
     "metadata": {},
     "output_type": "execute_result"
    }
   ],
   "source": [
    "weights.shape"
   ]
  },
  {
   "cell_type": "code",
   "execution_count": 39,
   "id": "940cc08f-a427-46d5-9e33-b77010ed6666",
   "metadata": {},
   "outputs": [
    {
     "data": {
      "text/plain": [
       "(546, 12)"
      ]
     },
     "execution_count": 39,
     "metadata": {},
     "output_type": "execute_result"
    }
   ],
   "source": [
    "X_norm_2.shape"
   ]
  },
  {
   "cell_type": "code",
   "execution_count": 40,
   "id": "776f9f6d-2754-4342-8178-d3d7c155f3a7",
   "metadata": {},
   "outputs": [
    {
     "data": {
      "text/plain": [
       "(546,)"
      ]
     },
     "execution_count": 40,
     "metadata": {},
     "output_type": "execute_result"
    }
   ],
   "source": [
    "Y.shape"
   ]
  },
  {
   "cell_type": "code",
   "execution_count": 41,
   "id": "3a6790b5-e408-4fdc-8e42-2bd72d320972",
   "metadata": {},
   "outputs": [],
   "source": [
    "Y = Y.reshape(-1, 1)"
   ]
  },
  {
   "cell_type": "code",
   "execution_count": 42,
   "id": "68f5733d-8705-441b-b0ca-b4b8903e82c0",
   "metadata": {},
   "outputs": [
    {
     "data": {
      "text/plain": [
       "(546, 1)"
      ]
     },
     "execution_count": 42,
     "metadata": {},
     "output_type": "execute_result"
    }
   ],
   "source": [
    "Y.shape"
   ]
  },
  {
   "cell_type": "markdown",
   "id": "0f924c08-95fe-46a8-84d9-b4096b1473ab",
   "metadata": {},
   "source": [
    "Setting Learning rate and number of epochs"
   ]
  },
  {
   "cell_type": "code",
   "execution_count": 43,
   "id": "ac6eb70c-1738-458d-a884-3f3eeba66242",
   "metadata": {},
   "outputs": [],
   "source": [
    "alpha = 0.25 # learning rate\n",
    "epochs = 20 # epochs"
   ]
  },
  {
   "cell_type": "markdown",
   "id": "7420cd7a-4e70-4c43-8793-7d34f4e3a474",
   "metadata": {},
   "source": [
    "Gradient Descent Algorithm"
   ]
  },
  {
   "cell_type": "code",
   "execution_count": 44,
   "id": "5b1e2489-99c0-4f8f-b499-859fd1e20ec1",
   "metadata": {},
   "outputs": [
    {
     "name": "stdout",
     "output_type": "stream",
     "text": [
      "Epoch 1, Cost: 5352277570.9777, RMSE: 73159.2617\n",
      "Epoch 2, Cost: 1416389481.6802, RMSE: 37634.9503\n",
      "Epoch 3, Cost: 527869279.1807, RMSE: 22975.4060\n",
      "Epoch 4, Cost: 307529034.1902, RMSE: 17536.5058\n",
      "Epoch 5, Cost: 251985003.9571, RMSE: 15874.0355\n",
      "Epoch 6, Cost: 237820582.1510, RMSE: 15421.4326\n",
      "Epoch 7, Cost: 234130598.9968, RMSE: 15301.3267\n",
      "Epoch 8, Cost: 233126982.1895, RMSE: 15268.4964\n",
      "Epoch 9, Cost: 232830743.9952, RMSE: 15258.7924\n",
      "Epoch 10, Cost: 232730755.3934, RMSE: 15255.5156\n",
      "Epoch 11, Cost: 232690628.3795, RMSE: 15254.2004\n",
      "Epoch 12, Cost: 232671620.0940, RMSE: 15253.5773\n",
      "Epoch 13, Cost: 232661470.0742, RMSE: 15253.2446\n",
      "Epoch 14, Cost: 232655651.7747, RMSE: 15253.0539\n",
      "Epoch 15, Cost: 232652186.5512, RMSE: 15252.9403\n",
      "Epoch 16, Cost: 232650080.1117, RMSE: 15252.8712\n",
      "Epoch 17, Cost: 232648784.8728, RMSE: 15252.8287\n",
      "Epoch 18, Cost: 232647982.9089, RMSE: 15252.8025\n",
      "Epoch 19, Cost: 232647484.1352, RMSE: 15252.7861\n",
      "Epoch 20, Cost: 232647172.9769, RMSE: 15252.7759\n"
     ]
    }
   ],
   "source": [
    "costs = []\n",
    "rmses = []\n",
    "for epoch in range(epochs):\n",
    "    # Compute predictions: Ŷ = X · W^T\n",
    "    Y_pred = X_norm_2.dot(weights.T)\n",
    "\n",
    "    # Compute cost function J\n",
    "    J = (1 / len(Y)) * ((Y_pred - Y).T.dot(Y_pred - Y))[0, 0]\n",
    "    costs.append(J)\n",
    "\n",
    "    # Compute gradient\n",
    "    dW = (2 / len(Y)) * (Y_pred - Y).T.dot(X_norm_2)\n",
    "    dW = dW.reshape(1, -1) # Reshaping to ensure the shape (1, 12), W.T and W shape should be same\n",
    "\n",
    "    # Update weights\n",
    "    weights -= alpha * dW\n",
    "\n",
    "    # Calculate and store cost and RMSE for the epoch\n",
    "    rmse = np.sqrt(np.mean((Y_pred - Y) ** 2))\n",
    "    rmses.append(rmse)\n",
    "    print(f\"Epoch {epoch + 1}, Cost: {J:.4f}, RMSE: {rmse:.4f}\")\n",
    "\n",
    "final_weights = weights"
   ]
  },
  {
   "cell_type": "code",
   "execution_count": 45,
   "id": "2a2da228-5e15-4d2a-891d-5dedc7ec3c08",
   "metadata": {},
   "outputs": [
    {
     "name": "stdout",
     "output_type": "stream",
     "text": [
      "Shape of dW: (1, 12)\n"
     ]
    }
   ],
   "source": [
    "print(\"Shape of dW:\", dW.shape)"
   ]
  },
  {
   "cell_type": "code",
   "execution_count": 46,
   "id": "b999c944-3e5d-4280-8332-d972877d58b1",
   "metadata": {},
   "outputs": [
    {
     "name": "stdout",
     "output_type": "stream",
     "text": [
      "[[68121.53210378  7681.06233857  1363.41749012  7200.64156744\n",
      "   5675.76677346  2335.61245168  1732.20388317  2589.95756278\n",
      "   2685.54878394  5888.46457862  3655.52706022  3975.75517034]]\n"
     ]
    }
   ],
   "source": [
    "print(final_weights)"
   ]
  },
  {
   "cell_type": "code",
   "execution_count": 47,
   "id": "188ae4ba-6f9a-4784-b609-a5af26705156",
   "metadata": {},
   "outputs": [
    {
     "name": "stdout",
     "output_type": "stream",
     "text": [
      "Shape of X_b: (546, 12)\n"
     ]
    }
   ],
   "source": [
    "print(\"Shape of X_b:\", X_norm_2.shape)"
   ]
  },
  {
   "cell_type": "markdown",
   "id": "95b1810f-6d69-427f-b1b2-4dfff022d655",
   "metadata": {},
   "source": [
    "This should be the shape of all matrix for doing matrix calculation for gradient descent\n",
    "\n",
    "X_b is (546,12),\\\n",
    "Y is (546,1)\\\n",
    "Y_pred is (546,1),\\\n",
    "Y_pred - Y is (546,546),\\\n",
    "W = (1,12),\\\n",
    "WT = (12,1)\\\n",
    "dW =(1,12)"
   ]
  },
  {
   "cell_type": "markdown",
   "id": "5b5b4530-28d7-4048-8f75-20bffea3a90e",
   "metadata": {},
   "source": [
    "Calculate final predictions with optimized weights (final weights)"
   ]
  },
  {
   "cell_type": "code",
   "execution_count": 48,
   "id": "64422659-f982-40d1-af89-b86b901ef0fd",
   "metadata": {},
   "outputs": [],
   "source": [
    "predictions = np.dot(X_norm_2,final_weights.T)"
   ]
  },
  {
   "cell_type": "code",
   "execution_count": 49,
   "id": "21019b5d-964c-450a-811f-54e05f8160db",
   "metadata": {},
   "outputs": [
    {
     "data": {
      "image/png": "[encoded data removed]",
      "text/plain": [
       "<Figure size 640x480 with 1 Axes>"
      ]
     },
     "metadata": {},
     "output_type": "display_data"
    }
   ],
   "source": [
    "# Plot RMSE over epochs\n",
    "plt.plot(range(1, epochs + 1), rmses, marker='o')\n",
    "plt.xlabel(\"Epoch\")\n",
    "plt.ylabel(\"RMSE\")\n",
    "plt.title(\"RMSE over Epochs\")\n",
    "plt.show()"
   ]
  },
  {
   "cell_type": "markdown",
   "id": "ec43455b-6641-4136-8f7b-984fc353f12b",
   "metadata": {},
   "source": [
    "Plotting ‘true-price’(y) vs ‘predicted-price’(𝑦̂) and displaying R2."
   ]
  },
  {
   "cell_type": "markdown",
   "id": "4fe035ab-9fea-4ec3-8fe9-a6226c06b37d",
   "metadata": {},
   "source": [
    "##### Calculate R^2 score manually"
   ]
  },
  {
   "cell_type": "code",
   "execution_count": 50,
   "id": "7d619b2f-2de5-4abf-9f36-514b49b8d2cf",
   "metadata": {},
   "outputs": [
    {
     "name": "stdout",
     "output_type": "stream",
     "text": [
      "R^2: 0.6731231610885715\n"
     ]
    },
    {
     "data": {
      "image/png": "[encoded data removed]",
      "text/plain": [
       "<Figure size 700x500 with 1 Axes>"
      ]
     },
     "metadata": {},
     "output_type": "display_data"
    }
   ],
   "source": [
    "ss_total = np.sum((Y - np.mean(Y)) ** 2)\n",
    "ss_residual = np.sum((Y - predictions) ** 2)\n",
    "r_squared = 1 - (ss_residual / ss_total)\n",
    "print(f\"R^2: {r_squared}\")\n",
    "\n",
    "plt.figure(figsize=(7, 5))\n",
    "plt.scatter(Y, predictions, color='blue', alpha=0.5)\n",
    "plt.xlabel(\"True Price\")\n",
    "plt.ylabel(\"Predicted Price\")\n",
    "plt.title(f\"Plot of True Price vs Predicted Price (R^2 = {r_squared:.4f})\")\n",
    "\n",
    "#Add line of perfect fit\n",
    "plt.plot([min(y), max(y)], [min(y), max(y)], color='gray') \n",
    "plt.show()\n"
   ]
  },
  {
   "cell_type": "markdown",
   "id": "4f5b6815-2f3a-42e7-88c5-b866b0beb601",
   "metadata": {},
   "source": [
    "## Thank you!"
   ]
  }
 ],
 "metadata": {
  "kernelspec": {
   "display_name": "Python 3 (ipykernel)",
   "language": "python",
   "name": "python3"
  },
  "language_info": {
   "codemirror_mode": {
    "name": "ipython",
    "version": 3
   },
   "file_extension": ".py",
   "mimetype": "text/x-python",
   "name": "python",
   "nbconvert_exporter": "python",
   "pygments_lexer": "ipython3",
   "version": "3.12.3"
  }
 },
 "nbformat": 4,
 "nbformat_minor": 5
}
