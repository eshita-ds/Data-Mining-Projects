{
 "cells": [
  {
   "cell_type": "markdown",
   "id": "d96b3869-6a1f-48aa-8955-94c0aa673e75",
   "metadata": {},
   "source": [
    "## DATA 240: Assignment No: 3"
   ]
  },
  {
   "cell_type": "markdown",
   "id": "1a961a32-a560-4b66-ba36-28126d5a30ed",
   "metadata": {},
   "source": [
    "## Binary classification with logistic regression "
   ]
  },
  {
   "cell_type": "markdown",
   "id": "07ace6d9-1bb4-4df3-95ef-e835a9146940",
   "metadata": {},
   "source": [
    "Please download heart_disease_train.csv and heart_disease_test.csv. The dataset is for cardiovascular study. The\n",
    "target variable is ‘TenYearCHD’, which shows whether the patient has 10-year risk of future coronary heart disease\n",
    "(CHD). You can find a description of the variables in cardiovascular.txt."
   ]
  },
  {
   "cell_type": "markdown",
   "id": "61da9d81-baaf-401d-a570-4d87148b9ad5",
   "metadata": {},
   "source": [
    "• Gender: male(1) or female(0)\\\n",
    "• Age: Age of the patient\\\n",
    "• Current Smoker: whether or not the patient is a current smoker \\\n",
    "• Cigs Per Day: the number of cigarettes that the person smoked on average in one day\\\n",
    "• BP Meds: whether or not the patient was on blood pressure medication \\\n",
    "• Prevalent Stroke: whether or not the patient had previously had a stroke \\\n",
    "• Prevalent Hyp: whether or not the patient was hypertensive \\\n",
    "• Diabetes: whether or not the patient had diabetes \\\n",
    "• Tot Chol: total cholesterol level \\\n",
    "• Sys BP: systolic blood pressure\\\n",
    "• Dia BP: diastolic blood pressure \\\n",
    "• BMI: Body Mass Index \\\n",
    "• Heart Rate: heart rate \\\n",
    "• Glucose: glucose level \\\n",
    "• TenYearCHD: 10 year risk of coronary heart disease (1 means Yes, 0 means No)"
   ]
  },
  {
   "cell_type": "code",
   "execution_count": 51,
   "id": "d8168fa8-b65d-4197-89b4-0055852cb51d",
   "metadata": {},
   "outputs": [],
   "source": [
    "heart_train = pd.read_csv('heart_disease_train.csv')"
   ]
  },
  {
   "cell_type": "code",
   "execution_count": 52,
   "id": "704d6318-d9a4-4f55-92b9-1a88544a9de2",
   "metadata": {},
   "outputs": [],
   "source": [
    "heart_test = pd.read_csv('heart_disease_test.csv')"
   ]
  },
  {
   "cell_type": "code",
   "execution_count": 53,
   "id": "a4080f22-3a31-4fa1-a13b-25c051d35b21",
   "metadata": {},
   "outputs": [
    {
     "data": {
      "text/html": [
       "<div>\n",
       "<style scoped>\n",
       "    .dataframe tbody tr th:only-of-type {\n",
       "        vertical-align: middle;\n",
       "    }\n",
       "\n",
       "    .dataframe tbody tr th {\n",
       "        vertical-align: top;\n",
       "    }\n",
       "\n",
       "    .dataframe thead th {\n",
       "        text-align: right;\n",
       "    }\n",
       "</style>\n",
       "<table border=\"1\" class=\"dataframe\">\n",
       "  <thead>\n",
       "    <tr style=\"text-align: right;\">\n",
       "      <th></th>\n",
       "      <th>gender</th>\n",
       "      <th>age</th>\n",
       "      <th>education</th>\n",
       "      <th>currentSmoker</th>\n",
       "      <th>cigsPerDay</th>\n",
       "      <th>BPMeds</th>\n",
       "      <th>prevalentStroke</th>\n",
       "      <th>prevalentHyp</th>\n",
       "      <th>diabetes</th>\n",
       "      <th>totChol</th>\n",
       "      <th>sysBP</th>\n",
       "      <th>diaBP</th>\n",
       "      <th>BMI</th>\n",
       "      <th>heartRate</th>\n",
       "      <th>glucose</th>\n",
       "      <th>TenYearCHD</th>\n",
       "    </tr>\n",
       "  </thead>\n",
       "  <tbody>\n",
       "    <tr>\n",
       "      <th>0</th>\n",
       "      <td>1</td>\n",
       "      <td>63</td>\n",
       "      <td>1.0</td>\n",
       "      <td>0</td>\n",
       "      <td>0.0</td>\n",
       "      <td>0.0</td>\n",
       "      <td>0</td>\n",
       "      <td>1</td>\n",
       "      <td>0</td>\n",
       "      <td>190.0</td>\n",
       "      <td>148.0</td>\n",
       "      <td>90.0</td>\n",
       "      <td>27.13</td>\n",
       "      <td>72.0</td>\n",
       "      <td>86.0</td>\n",
       "      <td>0</td>\n",
       "    </tr>\n",
       "    <tr>\n",
       "      <th>1</th>\n",
       "      <td>1</td>\n",
       "      <td>45</td>\n",
       "      <td>3.0</td>\n",
       "      <td>0</td>\n",
       "      <td>0.0</td>\n",
       "      <td>0.0</td>\n",
       "      <td>0</td>\n",
       "      <td>0</td>\n",
       "      <td>0</td>\n",
       "      <td>162.0</td>\n",
       "      <td>125.0</td>\n",
       "      <td>89.0</td>\n",
       "      <td>27.98</td>\n",
       "      <td>85.0</td>\n",
       "      <td>83.0</td>\n",
       "      <td>0</td>\n",
       "    </tr>\n",
       "    <tr>\n",
       "      <th>2</th>\n",
       "      <td>0</td>\n",
       "      <td>51</td>\n",
       "      <td>1.0</td>\n",
       "      <td>1</td>\n",
       "      <td>2.0</td>\n",
       "      <td>0.0</td>\n",
       "      <td>0</td>\n",
       "      <td>0</td>\n",
       "      <td>0</td>\n",
       "      <td>261.0</td>\n",
       "      <td>127.0</td>\n",
       "      <td>81.0</td>\n",
       "      <td>20.24</td>\n",
       "      <td>75.0</td>\n",
       "      <td>96.0</td>\n",
       "      <td>0</td>\n",
       "    </tr>\n",
       "    <tr>\n",
       "      <th>3</th>\n",
       "      <td>1</td>\n",
       "      <td>45</td>\n",
       "      <td>3.0</td>\n",
       "      <td>1</td>\n",
       "      <td>30.0</td>\n",
       "      <td>0.0</td>\n",
       "      <td>0</td>\n",
       "      <td>0</td>\n",
       "      <td>0</td>\n",
       "      <td>250.0</td>\n",
       "      <td>126.0</td>\n",
       "      <td>89.5</td>\n",
       "      <td>28.68</td>\n",
       "      <td>75.0</td>\n",
       "      <td>92.0</td>\n",
       "      <td>0</td>\n",
       "    </tr>\n",
       "    <tr>\n",
       "      <th>4</th>\n",
       "      <td>0</td>\n",
       "      <td>45</td>\n",
       "      <td>2.0</td>\n",
       "      <td>1</td>\n",
       "      <td>3.0</td>\n",
       "      <td>0.0</td>\n",
       "      <td>0</td>\n",
       "      <td>0</td>\n",
       "      <td>0</td>\n",
       "      <td>250.0</td>\n",
       "      <td>130.0</td>\n",
       "      <td>80.0</td>\n",
       "      <td>20.24</td>\n",
       "      <td>90.0</td>\n",
       "      <td>86.0</td>\n",
       "      <td>0</td>\n",
       "    </tr>\n",
       "  </tbody>\n",
       "</table>\n",
       "</div>"
      ],
      "text/plain": [
       "   gender  age  education  currentSmoker  cigsPerDay  BPMeds  prevalentStroke  \\\n",
       "0       1   63        1.0              0         0.0     0.0                0   \n",
       "1       1   45        3.0              0         0.0     0.0                0   \n",
       "2       0   51        1.0              1         2.0     0.0                0   \n",
       "3       1   45        3.0              1        30.0     0.0                0   \n",
       "4       0   45        2.0              1         3.0     0.0                0   \n",
       "\n",
       "   prevalentHyp  diabetes  totChol  sysBP  diaBP    BMI  heartRate  glucose  \\\n",
       "0             1         0    190.0  148.0   90.0  27.13       72.0     86.0   \n",
       "1             0         0    162.0  125.0   89.0  27.98       85.0     83.0   \n",
       "2             0         0    261.0  127.0   81.0  20.24       75.0     96.0   \n",
       "3             0         0    250.0  126.0   89.5  28.68       75.0     92.0   \n",
       "4             0         0    250.0  130.0   80.0  20.24       90.0     86.0   \n",
       "\n",
       "   TenYearCHD  \n",
       "0           0  \n",
       "1           0  \n",
       "2           0  \n",
       "3           0  \n",
       "4           0  "
      ]
     },
     "execution_count": 53,
     "metadata": {},
     "output_type": "execute_result"
    }
   ],
   "source": [
    "heart_train.head()"
   ]
  },
  {
   "cell_type": "code",
   "execution_count": 54,
   "id": "ab1a8aca-4eb7-4872-9681-5c9f4f1f62d9",
   "metadata": {},
   "outputs": [
    {
     "data": {
      "text/html": [
       "<div>\n",
       "<style scoped>\n",
       "    .dataframe tbody tr th:only-of-type {\n",
       "        vertical-align: middle;\n",
       "    }\n",
       "\n",
       "    .dataframe tbody tr th {\n",
       "        vertical-align: top;\n",
       "    }\n",
       "\n",
       "    .dataframe thead th {\n",
       "        text-align: right;\n",
       "    }\n",
       "</style>\n",
       "<table border=\"1\" class=\"dataframe\">\n",
       "  <thead>\n",
       "    <tr style=\"text-align: right;\">\n",
       "      <th></th>\n",
       "      <th>gender</th>\n",
       "      <th>age</th>\n",
       "      <th>education</th>\n",
       "      <th>currentSmoker</th>\n",
       "      <th>cigsPerDay</th>\n",
       "      <th>BPMeds</th>\n",
       "      <th>prevalentStroke</th>\n",
       "      <th>prevalentHyp</th>\n",
       "      <th>diabetes</th>\n",
       "      <th>totChol</th>\n",
       "      <th>sysBP</th>\n",
       "      <th>diaBP</th>\n",
       "      <th>BMI</th>\n",
       "      <th>heartRate</th>\n",
       "      <th>glucose</th>\n",
       "      <th>TenYearCHD</th>\n",
       "    </tr>\n",
       "  </thead>\n",
       "  <tbody>\n",
       "    <tr>\n",
       "      <th>0</th>\n",
       "      <td>0</td>\n",
       "      <td>56</td>\n",
       "      <td>1.0</td>\n",
       "      <td>0</td>\n",
       "      <td>0.0</td>\n",
       "      <td>0.0</td>\n",
       "      <td>0</td>\n",
       "      <td>1</td>\n",
       "      <td>1</td>\n",
       "      <td>273.0</td>\n",
       "      <td>136.0</td>\n",
       "      <td>80.0</td>\n",
       "      <td>27.73</td>\n",
       "      <td>90.0</td>\n",
       "      <td>210.0</td>\n",
       "      <td>1</td>\n",
       "    </tr>\n",
       "    <tr>\n",
       "      <th>1</th>\n",
       "      <td>0</td>\n",
       "      <td>46</td>\n",
       "      <td>2.0</td>\n",
       "      <td>0</td>\n",
       "      <td>0.0</td>\n",
       "      <td>0.0</td>\n",
       "      <td>0</td>\n",
       "      <td>0</td>\n",
       "      <td>0</td>\n",
       "      <td>250.0</td>\n",
       "      <td>121.0</td>\n",
       "      <td>81.0</td>\n",
       "      <td>28.73</td>\n",
       "      <td>95.0</td>\n",
       "      <td>76.0</td>\n",
       "      <td>0</td>\n",
       "    </tr>\n",
       "    <tr>\n",
       "      <th>2</th>\n",
       "      <td>0</td>\n",
       "      <td>52</td>\n",
       "      <td>1.0</td>\n",
       "      <td>0</td>\n",
       "      <td>0.0</td>\n",
       "      <td>0.0</td>\n",
       "      <td>0</td>\n",
       "      <td>0</td>\n",
       "      <td>0</td>\n",
       "      <td>275.0</td>\n",
       "      <td>112.0</td>\n",
       "      <td>71.0</td>\n",
       "      <td>25.68</td>\n",
       "      <td>80.0</td>\n",
       "      <td>NaN</td>\n",
       "      <td>0</td>\n",
       "    </tr>\n",
       "    <tr>\n",
       "      <th>3</th>\n",
       "      <td>0</td>\n",
       "      <td>46</td>\n",
       "      <td>3.0</td>\n",
       "      <td>1</td>\n",
       "      <td>23.0</td>\n",
       "      <td>0.0</td>\n",
       "      <td>0</td>\n",
       "      <td>0</td>\n",
       "      <td>0</td>\n",
       "      <td>285.0</td>\n",
       "      <td>130.0</td>\n",
       "      <td>84.0</td>\n",
       "      <td>23.10</td>\n",
       "      <td>85.0</td>\n",
       "      <td>85.0</td>\n",
       "      <td>0</td>\n",
       "    </tr>\n",
       "    <tr>\n",
       "      <th>4</th>\n",
       "      <td>1</td>\n",
       "      <td>69</td>\n",
       "      <td>1.0</td>\n",
       "      <td>1</td>\n",
       "      <td>1.0</td>\n",
       "      <td>0.0</td>\n",
       "      <td>0</td>\n",
       "      <td>0</td>\n",
       "      <td>0</td>\n",
       "      <td>245.0</td>\n",
       "      <td>123.0</td>\n",
       "      <td>77.0</td>\n",
       "      <td>26.58</td>\n",
       "      <td>70.0</td>\n",
       "      <td>81.0</td>\n",
       "      <td>1</td>\n",
       "    </tr>\n",
       "  </tbody>\n",
       "</table>\n",
       "</div>"
      ],
      "text/plain": [
       "   gender  age  education  currentSmoker  cigsPerDay  BPMeds  prevalentStroke  \\\n",
       "0       0   56        1.0              0         0.0     0.0                0   \n",
       "1       0   46        2.0              0         0.0     0.0                0   \n",
       "2       0   52        1.0              0         0.0     0.0                0   \n",
       "3       0   46        3.0              1        23.0     0.0                0   \n",
       "4       1   69        1.0              1         1.0     0.0                0   \n",
       "\n",
       "   prevalentHyp  diabetes  totChol  sysBP  diaBP    BMI  heartRate  glucose  \\\n",
       "0             1         1    273.0  136.0   80.0  27.73       90.0    210.0   \n",
       "1             0         0    250.0  121.0   81.0  28.73       95.0     76.0   \n",
       "2             0         0    275.0  112.0   71.0  25.68       80.0      NaN   \n",
       "3             0         0    285.0  130.0   84.0  23.10       85.0     85.0   \n",
       "4             0         0    245.0  123.0   77.0  26.58       70.0     81.0   \n",
       "\n",
       "   TenYearCHD  \n",
       "0           1  \n",
       "1           0  \n",
       "2           0  \n",
       "3           0  \n",
       "4           1  "
      ]
     },
     "execution_count": 54,
     "metadata": {},
     "output_type": "execute_result"
    }
   ],
   "source": [
    "heart_test.head()"
   ]
  },
  {
   "cell_type": "code",
   "execution_count": 55,
   "id": "2abc8515-fb23-4eaf-a5ca-ffb2408f81f0",
   "metadata": {},
   "outputs": [
    {
     "data": {
      "text/plain": [
       "gender               int64\n",
       "age                  int64\n",
       "education          float64\n",
       "currentSmoker        int64\n",
       "cigsPerDay         float64\n",
       "BPMeds             float64\n",
       "prevalentStroke      int64\n",
       "prevalentHyp         int64\n",
       "diabetes             int64\n",
       "totChol            float64\n",
       "sysBP              float64\n",
       "diaBP              float64\n",
       "BMI                float64\n",
       "heartRate          float64\n",
       "glucose            float64\n",
       "TenYearCHD           int64\n",
       "dtype: object"
      ]
     },
     "execution_count": 55,
     "metadata": {},
     "output_type": "execute_result"
    }
   ],
   "source": [
    "heart_train.dtypes"
   ]
  },
  {
   "cell_type": "code",
   "execution_count": 56,
   "id": "31599386-5c87-4b9f-8a06-de02ed4bf1d2",
   "metadata": {},
   "outputs": [
    {
     "data": {
      "text/plain": [
       "gender               int64\n",
       "age                  int64\n",
       "education          float64\n",
       "currentSmoker        int64\n",
       "cigsPerDay         float64\n",
       "BPMeds             float64\n",
       "prevalentStroke      int64\n",
       "prevalentHyp         int64\n",
       "diabetes             int64\n",
       "totChol            float64\n",
       "sysBP              float64\n",
       "diaBP              float64\n",
       "BMI                float64\n",
       "heartRate          float64\n",
       "glucose            float64\n",
       "TenYearCHD           int64\n",
       "dtype: object"
      ]
     },
     "execution_count": 56,
     "metadata": {},
     "output_type": "execute_result"
    }
   ],
   "source": [
    "heart_test.dtypes"
   ]
  },
  {
   "cell_type": "markdown",
   "id": "51e878f0-602f-4e19-8b83-8cacd5e8c67d",
   "metadata": {},
   "source": [
    "Checking missing values on both heart_train and heart_test"
   ]
  },
  {
   "cell_type": "code",
   "execution_count": 57,
   "id": "ec1587dc-e816-46a5-9f34-1dc12ad0fd6d",
   "metadata": {},
   "outputs": [
    {
     "data": {
      "text/plain": [
       "gender               0\n",
       "age                  0\n",
       "education           84\n",
       "currentSmoker        0\n",
       "cigsPerDay          25\n",
       "BPMeds              42\n",
       "prevalentStroke      0\n",
       "prevalentHyp         0\n",
       "diabetes             0\n",
       "totChol             44\n",
       "sysBP                0\n",
       "diaBP                0\n",
       "BMI                 16\n",
       "heartRate            1\n",
       "glucose            315\n",
       "TenYearCHD           0\n",
       "dtype: int64"
      ]
     },
     "execution_count": 57,
     "metadata": {},
     "output_type": "execute_result"
    }
   ],
   "source": [
    "heart_train.isna().sum()"
   ]
  },
  {
   "cell_type": "code",
   "execution_count": 58,
   "id": "813edf10-08e0-4252-a9e1-c2dde7ffc283",
   "metadata": {},
   "outputs": [
    {
     "data": {
      "text/plain": [
       "gender              0\n",
       "age                 0\n",
       "education          21\n",
       "currentSmoker       0\n",
       "cigsPerDay          4\n",
       "BPMeds             11\n",
       "prevalentStroke     0\n",
       "prevalentHyp        0\n",
       "diabetes            0\n",
       "totChol             6\n",
       "sysBP               0\n",
       "diaBP               0\n",
       "BMI                 3\n",
       "heartRate           0\n",
       "glucose            73\n",
       "TenYearCHD          0\n",
       "dtype: int64"
      ]
     },
     "execution_count": 58,
     "metadata": {},
     "output_type": "execute_result"
    }
   ],
   "source": [
    "heart_test.isna().sum()"
   ]
  },
  {
   "cell_type": "markdown",
   "id": "692fb083-3eaa-4cb4-96d3-ab32f368a4a7",
   "metadata": {},
   "source": [
    "Checking the shape"
   ]
  },
  {
   "cell_type": "code",
   "execution_count": 59,
   "id": "12153214-cda1-49b7-a7f9-cc67d3126270",
   "metadata": {},
   "outputs": [
    {
     "data": {
      "text/plain": [
       "(3390, 16)"
      ]
     },
     "execution_count": 59,
     "metadata": {},
     "output_type": "execute_result"
    }
   ],
   "source": [
    "heart_train.shape"
   ]
  },
  {
   "cell_type": "code",
   "execution_count": 60,
   "id": "059ee6aa-ba87-4175-a1de-2f6915602ac9",
   "metadata": {},
   "outputs": [
    {
     "data": {
      "text/plain": [
       "(848, 16)"
      ]
     },
     "execution_count": 60,
     "metadata": {},
     "output_type": "execute_result"
    }
   ],
   "source": [
    "heart_test.shape"
   ]
  },
  {
   "cell_type": "code",
   "execution_count": 61,
   "id": "b3129793-eb94-406d-9ff8-46643faa62a9",
   "metadata": {},
   "outputs": [
    {
     "data": {
      "text/plain": [
       "array([ 1.,  3.,  2.,  4., nan])"
      ]
     },
     "execution_count": 61,
     "metadata": {},
     "output_type": "execute_result"
    }
   ],
   "source": [
    "heart_train['education'].unique()"
   ]
  },
  {
   "cell_type": "code",
   "execution_count": 62,
   "id": "af4ea1dc-f1b7-4b8d-af2e-de3e326cf013",
   "metadata": {},
   "outputs": [
    {
     "data": {
      "text/plain": [
       "array([ 1.,  2.,  3., nan,  4.])"
      ]
     },
     "execution_count": 62,
     "metadata": {},
     "output_type": "execute_result"
    }
   ],
   "source": [
    "heart_test['education'].unique()"
   ]
  },
  {
   "cell_type": "code",
   "execution_count": 63,
   "id": "dbc858d3-f225-4695-b7cb-71225ae9b65f",
   "metadata": {},
   "outputs": [
    {
     "data": {
      "text/plain": [
       "array([ 0.,  2., 30.,  3., 20., 15., 35., 23., 10.,  1., nan, 11., 40.,\n",
       "        5.,  9., 17., 16., 43., 12., 25.,  7.,  6.,  4., 50.,  8., 60.,\n",
       "       18., 70., 13., 38., 14., 45., 19.])"
      ]
     },
     "execution_count": 63,
     "metadata": {},
     "output_type": "execute_result"
    }
   ],
   "source": [
    "heart_train['cigsPerDay'].unique()"
   ]
  },
  {
   "cell_type": "code",
   "execution_count": 64,
   "id": "942b4a51-a5c4-4746-93d7-3910bca6c944",
   "metadata": {},
   "outputs": [
    {
     "data": {
      "text/plain": [
       "array([ 0., 23.,  1., 20., 30.,  7., 10.,  3.,  5.,  9., 43., 40., 15.,\n",
       "        6., 35., 25., 13.,  2., 60., 18., nan, 11., 29., 12., 45.,  8.,\n",
       "       17.])"
      ]
     },
     "execution_count": 64,
     "metadata": {},
     "output_type": "execute_result"
    }
   ],
   "source": [
    "heart_test['cigsPerDay'].unique()"
   ]
  },
  {
   "cell_type": "code",
   "execution_count": 65,
   "id": "4b15c884-d96d-4372-97bc-dc41b4615230",
   "metadata": {},
   "outputs": [
    {
     "data": {
      "text/plain": [
       "array([ 0.,  1., nan])"
      ]
     },
     "execution_count": 65,
     "metadata": {},
     "output_type": "execute_result"
    }
   ],
   "source": [
    "heart_train['BPMeds'].unique()"
   ]
  },
  {
   "cell_type": "code",
   "execution_count": 66,
   "id": "c5225744-8a8c-4eb1-982d-9d5b52d2927a",
   "metadata": {},
   "outputs": [
    {
     "data": {
      "text/plain": [
       "array([ 0.,  1., nan])"
      ]
     },
     "execution_count": 66,
     "metadata": {},
     "output_type": "execute_result"
    }
   ],
   "source": [
    "heart_test['BPMeds'].unique()"
   ]
  },
  {
   "cell_type": "markdown",
   "id": "5b8711f8-299e-4d26-9200-95efb2709bca",
   "metadata": {},
   "source": [
    "Checking the statistics of both the train and test set"
   ]
  },
  {
   "cell_type": "code",
   "execution_count": 67,
   "id": "f8440268-b412-49b7-8e4e-fa018131b2cb",
   "metadata": {},
   "outputs": [
    {
     "data": {
      "text/html": [
       "<div>\n",
       "<style scoped>\n",
       "    .dataframe tbody tr th:only-of-type {\n",
       "        vertical-align: middle;\n",
       "    }\n",
       "\n",
       "    .dataframe tbody tr th {\n",
       "        vertical-align: top;\n",
       "    }\n",
       "\n",
       "    .dataframe thead th {\n",
       "        text-align: right;\n",
       "    }\n",
       "</style>\n",
       "<table border=\"1\" class=\"dataframe\">\n",
       "  <thead>\n",
       "    <tr style=\"text-align: right;\">\n",
       "      <th></th>\n",
       "      <th>gender</th>\n",
       "      <th>age</th>\n",
       "      <th>education</th>\n",
       "      <th>currentSmoker</th>\n",
       "      <th>cigsPerDay</th>\n",
       "      <th>BPMeds</th>\n",
       "      <th>prevalentStroke</th>\n",
       "      <th>prevalentHyp</th>\n",
       "      <th>diabetes</th>\n",
       "      <th>totChol</th>\n",
       "      <th>sysBP</th>\n",
       "      <th>diaBP</th>\n",
       "      <th>BMI</th>\n",
       "      <th>heartRate</th>\n",
       "      <th>glucose</th>\n",
       "      <th>TenYearCHD</th>\n",
       "    </tr>\n",
       "  </thead>\n",
       "  <tbody>\n",
       "    <tr>\n",
       "      <th>count</th>\n",
       "      <td>3390.000000</td>\n",
       "      <td>3390.000000</td>\n",
       "      <td>3306.000000</td>\n",
       "      <td>3390.000000</td>\n",
       "      <td>3365.000000</td>\n",
       "      <td>3348.000000</td>\n",
       "      <td>3390.000000</td>\n",
       "      <td>3390.000000</td>\n",
       "      <td>3390.000000</td>\n",
       "      <td>3346.000000</td>\n",
       "      <td>3390.000000</td>\n",
       "      <td>3390.000000</td>\n",
       "      <td>3374.000000</td>\n",
       "      <td>3389.000000</td>\n",
       "      <td>3075.000000</td>\n",
       "      <td>3390.000000</td>\n",
       "    </tr>\n",
       "    <tr>\n",
       "      <th>mean</th>\n",
       "      <td>0.433628</td>\n",
       "      <td>49.614159</td>\n",
       "      <td>1.981246</td>\n",
       "      <td>0.486726</td>\n",
       "      <td>8.962556</td>\n",
       "      <td>0.028375</td>\n",
       "      <td>0.004720</td>\n",
       "      <td>0.302065</td>\n",
       "      <td>0.024779</td>\n",
       "      <td>236.759713</td>\n",
       "      <td>132.126696</td>\n",
       "      <td>82.752065</td>\n",
       "      <td>25.793874</td>\n",
       "      <td>75.776335</td>\n",
       "      <td>82.023089</td>\n",
       "      <td>0.152212</td>\n",
       "    </tr>\n",
       "    <tr>\n",
       "      <th>std</th>\n",
       "      <td>0.495648</td>\n",
       "      <td>8.609617</td>\n",
       "      <td>1.023009</td>\n",
       "      <td>0.499897</td>\n",
       "      <td>12.030447</td>\n",
       "      <td>0.166067</td>\n",
       "      <td>0.068548</td>\n",
       "      <td>0.459221</td>\n",
       "      <td>0.155473</td>\n",
       "      <td>45.347259</td>\n",
       "      <td>22.047822</td>\n",
       "      <td>11.933836</td>\n",
       "      <td>4.045690</td>\n",
       "      <td>11.952094</td>\n",
       "      <td>23.934546</td>\n",
       "      <td>0.359280</td>\n",
       "    </tr>\n",
       "    <tr>\n",
       "      <th>min</th>\n",
       "      <td>0.000000</td>\n",
       "      <td>32.000000</td>\n",
       "      <td>1.000000</td>\n",
       "      <td>0.000000</td>\n",
       "      <td>0.000000</td>\n",
       "      <td>0.000000</td>\n",
       "      <td>0.000000</td>\n",
       "      <td>0.000000</td>\n",
       "      <td>0.000000</td>\n",
       "      <td>107.000000</td>\n",
       "      <td>83.500000</td>\n",
       "      <td>50.000000</td>\n",
       "      <td>15.540000</td>\n",
       "      <td>44.000000</td>\n",
       "      <td>40.000000</td>\n",
       "      <td>0.000000</td>\n",
       "    </tr>\n",
       "    <tr>\n",
       "      <th>25%</th>\n",
       "      <td>0.000000</td>\n",
       "      <td>42.000000</td>\n",
       "      <td>1.000000</td>\n",
       "      <td>0.000000</td>\n",
       "      <td>0.000000</td>\n",
       "      <td>0.000000</td>\n",
       "      <td>0.000000</td>\n",
       "      <td>0.000000</td>\n",
       "      <td>0.000000</td>\n",
       "      <td>206.000000</td>\n",
       "      <td>116.500000</td>\n",
       "      <td>74.500000</td>\n",
       "      <td>23.080000</td>\n",
       "      <td>68.000000</td>\n",
       "      <td>71.000000</td>\n",
       "      <td>0.000000</td>\n",
       "    </tr>\n",
       "    <tr>\n",
       "      <th>50%</th>\n",
       "      <td>0.000000</td>\n",
       "      <td>49.000000</td>\n",
       "      <td>2.000000</td>\n",
       "      <td>0.000000</td>\n",
       "      <td>0.000000</td>\n",
       "      <td>0.000000</td>\n",
       "      <td>0.000000</td>\n",
       "      <td>0.000000</td>\n",
       "      <td>0.000000</td>\n",
       "      <td>233.500000</td>\n",
       "      <td>128.000000</td>\n",
       "      <td>82.000000</td>\n",
       "      <td>25.425000</td>\n",
       "      <td>75.000000</td>\n",
       "      <td>78.000000</td>\n",
       "      <td>0.000000</td>\n",
       "    </tr>\n",
       "    <tr>\n",
       "      <th>75%</th>\n",
       "      <td>1.000000</td>\n",
       "      <td>57.000000</td>\n",
       "      <td>3.000000</td>\n",
       "      <td>1.000000</td>\n",
       "      <td>20.000000</td>\n",
       "      <td>0.000000</td>\n",
       "      <td>0.000000</td>\n",
       "      <td>1.000000</td>\n",
       "      <td>0.000000</td>\n",
       "      <td>264.000000</td>\n",
       "      <td>143.500000</td>\n",
       "      <td>89.000000</td>\n",
       "      <td>28.060000</td>\n",
       "      <td>82.000000</td>\n",
       "      <td>87.000000</td>\n",
       "      <td>0.000000</td>\n",
       "    </tr>\n",
       "    <tr>\n",
       "      <th>max</th>\n",
       "      <td>1.000000</td>\n",
       "      <td>70.000000</td>\n",
       "      <td>4.000000</td>\n",
       "      <td>1.000000</td>\n",
       "      <td>70.000000</td>\n",
       "      <td>1.000000</td>\n",
       "      <td>1.000000</td>\n",
       "      <td>1.000000</td>\n",
       "      <td>1.000000</td>\n",
       "      <td>696.000000</td>\n",
       "      <td>295.000000</td>\n",
       "      <td>142.500000</td>\n",
       "      <td>56.800000</td>\n",
       "      <td>143.000000</td>\n",
       "      <td>394.000000</td>\n",
       "      <td>1.000000</td>\n",
       "    </tr>\n",
       "  </tbody>\n",
       "</table>\n",
       "</div>"
      ],
      "text/plain": [
       "            gender          age    education  currentSmoker   cigsPerDay  \\\n",
       "count  3390.000000  3390.000000  3306.000000    3390.000000  3365.000000   \n",
       "mean      0.433628    49.614159     1.981246       0.486726     8.962556   \n",
       "std       0.495648     8.609617     1.023009       0.499897    12.030447   \n",
       "min       0.000000    32.000000     1.000000       0.000000     0.000000   \n",
       "25%       0.000000    42.000000     1.000000       0.000000     0.000000   \n",
       "50%       0.000000    49.000000     2.000000       0.000000     0.000000   \n",
       "75%       1.000000    57.000000     3.000000       1.000000    20.000000   \n",
       "max       1.000000    70.000000     4.000000       1.000000    70.000000   \n",
       "\n",
       "            BPMeds  prevalentStroke  prevalentHyp     diabetes      totChol  \\\n",
       "count  3348.000000      3390.000000   3390.000000  3390.000000  3346.000000   \n",
       "mean      0.028375         0.004720      0.302065     0.024779   236.759713   \n",
       "std       0.166067         0.068548      0.459221     0.155473    45.347259   \n",
       "min       0.000000         0.000000      0.000000     0.000000   107.000000   \n",
       "25%       0.000000         0.000000      0.000000     0.000000   206.000000   \n",
       "50%       0.000000         0.000000      0.000000     0.000000   233.500000   \n",
       "75%       0.000000         0.000000      1.000000     0.000000   264.000000   \n",
       "max       1.000000         1.000000      1.000000     1.000000   696.000000   \n",
       "\n",
       "             sysBP        diaBP          BMI    heartRate      glucose  \\\n",
       "count  3390.000000  3390.000000  3374.000000  3389.000000  3075.000000   \n",
       "mean    132.126696    82.752065    25.793874    75.776335    82.023089   \n",
       "std      22.047822    11.933836     4.045690    11.952094    23.934546   \n",
       "min      83.500000    50.000000    15.540000    44.000000    40.000000   \n",
       "25%     116.500000    74.500000    23.080000    68.000000    71.000000   \n",
       "50%     128.000000    82.000000    25.425000    75.000000    78.000000   \n",
       "75%     143.500000    89.000000    28.060000    82.000000    87.000000   \n",
       "max     295.000000   142.500000    56.800000   143.000000   394.000000   \n",
       "\n",
       "        TenYearCHD  \n",
       "count  3390.000000  \n",
       "mean      0.152212  \n",
       "std       0.359280  \n",
       "min       0.000000  \n",
       "25%       0.000000  \n",
       "50%       0.000000  \n",
       "75%       0.000000  \n",
       "max       1.000000  "
      ]
     },
     "execution_count": 67,
     "metadata": {},
     "output_type": "execute_result"
    }
   ],
   "source": [
    "heart_train.describe()"
   ]
  },
  {
   "cell_type": "code",
   "execution_count": 68,
   "id": "3000740a-bf2d-4bc7-b899-8785f63e9d6b",
   "metadata": {},
   "outputs": [
    {
     "data": {
      "text/html": [
       "<div>\n",
       "<style scoped>\n",
       "    .dataframe tbody tr th:only-of-type {\n",
       "        vertical-align: middle;\n",
       "    }\n",
       "\n",
       "    .dataframe tbody tr th {\n",
       "        vertical-align: top;\n",
       "    }\n",
       "\n",
       "    .dataframe thead th {\n",
       "        text-align: right;\n",
       "    }\n",
       "</style>\n",
       "<table border=\"1\" class=\"dataframe\">\n",
       "  <thead>\n",
       "    <tr style=\"text-align: right;\">\n",
       "      <th></th>\n",
       "      <th>gender</th>\n",
       "      <th>age</th>\n",
       "      <th>education</th>\n",
       "      <th>currentSmoker</th>\n",
       "      <th>cigsPerDay</th>\n",
       "      <th>BPMeds</th>\n",
       "      <th>prevalentStroke</th>\n",
       "      <th>prevalentHyp</th>\n",
       "      <th>diabetes</th>\n",
       "      <th>totChol</th>\n",
       "      <th>sysBP</th>\n",
       "      <th>diaBP</th>\n",
       "      <th>BMI</th>\n",
       "      <th>heartRate</th>\n",
       "      <th>glucose</th>\n",
       "      <th>TenYearCHD</th>\n",
       "    </tr>\n",
       "  </thead>\n",
       "  <tbody>\n",
       "    <tr>\n",
       "      <th>count</th>\n",
       "      <td>848.000000</td>\n",
       "      <td>848.000000</td>\n",
       "      <td>827.000000</td>\n",
       "      <td>848.000000</td>\n",
       "      <td>844.000000</td>\n",
       "      <td>837.000000</td>\n",
       "      <td>848.000000</td>\n",
       "      <td>848.000000</td>\n",
       "      <td>848.000000</td>\n",
       "      <td>842.000000</td>\n",
       "      <td>848.000000</td>\n",
       "      <td>848.000000</td>\n",
       "      <td>845.000000</td>\n",
       "      <td>848.000000</td>\n",
       "      <td>775.000000</td>\n",
       "      <td>848.000000</td>\n",
       "    </tr>\n",
       "    <tr>\n",
       "      <th>mean</th>\n",
       "      <td>0.411557</td>\n",
       "      <td>49.468160</td>\n",
       "      <td>1.969770</td>\n",
       "      <td>0.523585</td>\n",
       "      <td>9.164692</td>\n",
       "      <td>0.034648</td>\n",
       "      <td>0.010613</td>\n",
       "      <td>0.344340</td>\n",
       "      <td>0.029481</td>\n",
       "      <td>236.570071</td>\n",
       "      <td>133.254717</td>\n",
       "      <td>83.458726</td>\n",
       "      <td>25.834485</td>\n",
       "      <td>76.288915</td>\n",
       "      <td>81.743226</td>\n",
       "      <td>0.150943</td>\n",
       "    </tr>\n",
       "    <tr>\n",
       "      <th>std</th>\n",
       "      <td>0.492406</td>\n",
       "      <td>8.424758</td>\n",
       "      <td>1.007385</td>\n",
       "      <td>0.499738</td>\n",
       "      <td>11.475080</td>\n",
       "      <td>0.182995</td>\n",
       "      <td>0.102533</td>\n",
       "      <td>0.475433</td>\n",
       "      <td>0.169251</td>\n",
       "      <td>41.471282</td>\n",
       "      <td>21.989009</td>\n",
       "      <td>11.808590</td>\n",
       "      <td>4.217051</td>\n",
       "      <td>12.318492</td>\n",
       "      <td>24.074923</td>\n",
       "      <td>0.358205</td>\n",
       "    </tr>\n",
       "    <tr>\n",
       "      <th>min</th>\n",
       "      <td>0.000000</td>\n",
       "      <td>33.000000</td>\n",
       "      <td>1.000000</td>\n",
       "      <td>0.000000</td>\n",
       "      <td>0.000000</td>\n",
       "      <td>0.000000</td>\n",
       "      <td>0.000000</td>\n",
       "      <td>0.000000</td>\n",
       "      <td>0.000000</td>\n",
       "      <td>145.000000</td>\n",
       "      <td>92.000000</td>\n",
       "      <td>48.000000</td>\n",
       "      <td>16.750000</td>\n",
       "      <td>45.000000</td>\n",
       "      <td>40.000000</td>\n",
       "      <td>0.000000</td>\n",
       "    </tr>\n",
       "    <tr>\n",
       "      <th>25%</th>\n",
       "      <td>0.000000</td>\n",
       "      <td>42.000000</td>\n",
       "      <td>1.000000</td>\n",
       "      <td>0.000000</td>\n",
       "      <td>0.000000</td>\n",
       "      <td>0.000000</td>\n",
       "      <td>0.000000</td>\n",
       "      <td>0.000000</td>\n",
       "      <td>0.000000</td>\n",
       "      <td>206.000000</td>\n",
       "      <td>117.875000</td>\n",
       "      <td>75.500000</td>\n",
       "      <td>23.060000</td>\n",
       "      <td>67.750000</td>\n",
       "      <td>71.000000</td>\n",
       "      <td>0.000000</td>\n",
       "    </tr>\n",
       "    <tr>\n",
       "      <th>50%</th>\n",
       "      <td>0.000000</td>\n",
       "      <td>49.000000</td>\n",
       "      <td>2.000000</td>\n",
       "      <td>1.000000</td>\n",
       "      <td>1.500000</td>\n",
       "      <td>0.000000</td>\n",
       "      <td>0.000000</td>\n",
       "      <td>0.000000</td>\n",
       "      <td>0.000000</td>\n",
       "      <td>235.000000</td>\n",
       "      <td>129.000000</td>\n",
       "      <td>82.500000</td>\n",
       "      <td>25.310000</td>\n",
       "      <td>75.000000</td>\n",
       "      <td>77.000000</td>\n",
       "      <td>0.000000</td>\n",
       "    </tr>\n",
       "    <tr>\n",
       "      <th>75%</th>\n",
       "      <td>1.000000</td>\n",
       "      <td>56.000000</td>\n",
       "      <td>3.000000</td>\n",
       "      <td>1.000000</td>\n",
       "      <td>20.000000</td>\n",
       "      <td>0.000000</td>\n",
       "      <td>0.000000</td>\n",
       "      <td>1.000000</td>\n",
       "      <td>0.000000</td>\n",
       "      <td>261.750000</td>\n",
       "      <td>144.500000</td>\n",
       "      <td>90.000000</td>\n",
       "      <td>27.930000</td>\n",
       "      <td>85.000000</td>\n",
       "      <td>86.000000</td>\n",
       "      <td>0.000000</td>\n",
       "    </tr>\n",
       "    <tr>\n",
       "      <th>max</th>\n",
       "      <td>1.000000</td>\n",
       "      <td>69.000000</td>\n",
       "      <td>4.000000</td>\n",
       "      <td>1.000000</td>\n",
       "      <td>60.000000</td>\n",
       "      <td>1.000000</td>\n",
       "      <td>1.000000</td>\n",
       "      <td>1.000000</td>\n",
       "      <td>1.000000</td>\n",
       "      <td>453.000000</td>\n",
       "      <td>215.000000</td>\n",
       "      <td>140.000000</td>\n",
       "      <td>51.280000</td>\n",
       "      <td>125.000000</td>\n",
       "      <td>325.000000</td>\n",
       "      <td>1.000000</td>\n",
       "    </tr>\n",
       "  </tbody>\n",
       "</table>\n",
       "</div>"
      ],
      "text/plain": [
       "           gender         age   education  currentSmoker  cigsPerDay  \\\n",
       "count  848.000000  848.000000  827.000000     848.000000  844.000000   \n",
       "mean     0.411557   49.468160    1.969770       0.523585    9.164692   \n",
       "std      0.492406    8.424758    1.007385       0.499738   11.475080   \n",
       "min      0.000000   33.000000    1.000000       0.000000    0.000000   \n",
       "25%      0.000000   42.000000    1.000000       0.000000    0.000000   \n",
       "50%      0.000000   49.000000    2.000000       1.000000    1.500000   \n",
       "75%      1.000000   56.000000    3.000000       1.000000   20.000000   \n",
       "max      1.000000   69.000000    4.000000       1.000000   60.000000   \n",
       "\n",
       "           BPMeds  prevalentStroke  prevalentHyp    diabetes     totChol  \\\n",
       "count  837.000000       848.000000    848.000000  848.000000  842.000000   \n",
       "mean     0.034648         0.010613      0.344340    0.029481  236.570071   \n",
       "std      0.182995         0.102533      0.475433    0.169251   41.471282   \n",
       "min      0.000000         0.000000      0.000000    0.000000  145.000000   \n",
       "25%      0.000000         0.000000      0.000000    0.000000  206.000000   \n",
       "50%      0.000000         0.000000      0.000000    0.000000  235.000000   \n",
       "75%      0.000000         0.000000      1.000000    0.000000  261.750000   \n",
       "max      1.000000         1.000000      1.000000    1.000000  453.000000   \n",
       "\n",
       "            sysBP       diaBP         BMI   heartRate     glucose  TenYearCHD  \n",
       "count  848.000000  848.000000  845.000000  848.000000  775.000000  848.000000  \n",
       "mean   133.254717   83.458726   25.834485   76.288915   81.743226    0.150943  \n",
       "std     21.989009   11.808590    4.217051   12.318492   24.074923    0.358205  \n",
       "min     92.000000   48.000000   16.750000   45.000000   40.000000    0.000000  \n",
       "25%    117.875000   75.500000   23.060000   67.750000   71.000000    0.000000  \n",
       "50%    129.000000   82.500000   25.310000   75.000000   77.000000    0.000000  \n",
       "75%    144.500000   90.000000   27.930000   85.000000   86.000000    0.000000  \n",
       "max    215.000000  140.000000   51.280000  125.000000  325.000000    1.000000  "
      ]
     },
     "execution_count": 68,
     "metadata": {},
     "output_type": "execute_result"
    }
   ],
   "source": [
    "heart_test.describe()"
   ]
  },
  {
   "cell_type": "markdown",
   "id": "bd4133e6-73fd-43ee-99e9-c1ae09bda6c9",
   "metadata": {},
   "source": [
    "### Imputing Missing Values in heart_train and heart_test"
   ]
  },
  {
   "cell_type": "markdown",
   "id": "63dfeba3-632c-4afe-8a25-4fc5f61fed18",
   "metadata": {},
   "source": [
    "Data Imputation: Using subclass methods to handle the missing values. \n",
    "For numerical features, we could use mean or median imputation, while for categorical features, mode imputation is suitable."
   ]
  },
  {
   "cell_type": "markdown",
   "id": "58f841a2-ba74-46ae-9eb6-5659650c5a38",
   "metadata": {},
   "source": [
    "In order to fill the missing values with sub class, we need to find what features are related with each other the most. For that, we have used the correlation matrix to identify features most strongly correlated with the column containing missing values."
   ]
  },
  {
   "cell_type": "code",
   "execution_count": 69,
   "id": "59acaf11-11e2-4ab8-9650-7bc4cb7625c6",
   "metadata": {},
   "outputs": [
    {
     "data": {
      "text/html": [
       "<div>\n",
       "<style scoped>\n",
       "    .dataframe tbody tr th:only-of-type {\n",
       "        vertical-align: middle;\n",
       "    }\n",
       "\n",
       "    .dataframe tbody tr th {\n",
       "        vertical-align: top;\n",
       "    }\n",
       "\n",
       "    .dataframe thead th {\n",
       "        text-align: right;\n",
       "    }\n",
       "</style>\n",
       "<table border=\"1\" class=\"dataframe\">\n",
       "  <thead>\n",
       "    <tr style=\"text-align: right;\">\n",
       "      <th></th>\n",
       "      <th>gender</th>\n",
       "      <th>age</th>\n",
       "      <th>education</th>\n",
       "      <th>currentSmoker</th>\n",
       "      <th>cigsPerDay</th>\n",
       "      <th>BPMeds</th>\n",
       "      <th>prevalentStroke</th>\n",
       "      <th>prevalentHyp</th>\n",
       "      <th>diabetes</th>\n",
       "      <th>totChol</th>\n",
       "      <th>sysBP</th>\n",
       "      <th>diaBP</th>\n",
       "      <th>BMI</th>\n",
       "      <th>heartRate</th>\n",
       "      <th>glucose</th>\n",
       "      <th>TenYearCHD</th>\n",
       "    </tr>\n",
       "  </thead>\n",
       "  <tbody>\n",
       "    <tr>\n",
       "      <th>gender</th>\n",
       "      <td>1.000000</td>\n",
       "      <td>-0.021699</td>\n",
       "      <td>0.017740</td>\n",
       "      <td>0.197109</td>\n",
       "      <td>0.312110</td>\n",
       "      <td>-0.063121</td>\n",
       "      <td>0.000538</td>\n",
       "      <td>-0.003935</td>\n",
       "      <td>0.021348</td>\n",
       "      <td>-0.075607</td>\n",
       "      <td>-0.041278</td>\n",
       "      <td>0.057516</td>\n",
       "      <td>0.090680</td>\n",
       "      <td>-0.117163</td>\n",
       "      <td>0.017359</td>\n",
       "      <td>0.093203</td>\n",
       "    </tr>\n",
       "    <tr>\n",
       "      <th>age</th>\n",
       "      <td>-0.021699</td>\n",
       "      <td>1.000000</td>\n",
       "      <td>-0.156948</td>\n",
       "      <td>-0.218453</td>\n",
       "      <td>-0.186060</td>\n",
       "      <td>0.126578</td>\n",
       "      <td>0.068083</td>\n",
       "      <td>0.304355</td>\n",
       "      <td>0.110090</td>\n",
       "      <td>0.262306</td>\n",
       "      <td>0.386243</td>\n",
       "      <td>0.204637</td>\n",
       "      <td>0.142417</td>\n",
       "      <td>-0.018992</td>\n",
       "      <td>0.121737</td>\n",
       "      <td>0.215881</td>\n",
       "    </tr>\n",
       "    <tr>\n",
       "      <th>education</th>\n",
       "      <td>0.017740</td>\n",
       "      <td>-0.156948</td>\n",
       "      <td>1.000000</td>\n",
       "      <td>0.011334</td>\n",
       "      <td>0.003289</td>\n",
       "      <td>-0.002784</td>\n",
       "      <td>-0.032811</td>\n",
       "      <td>-0.062608</td>\n",
       "      <td>-0.044612</td>\n",
       "      <td>-0.009843</td>\n",
       "      <td>-0.113493</td>\n",
       "      <td>-0.043689</td>\n",
       "      <td>-0.122646</td>\n",
       "      <td>-0.048114</td>\n",
       "      <td>-0.033716</td>\n",
       "      <td>-0.036786</td>\n",
       "    </tr>\n",
       "    <tr>\n",
       "      <th>currentSmoker</th>\n",
       "      <td>0.197109</td>\n",
       "      <td>-0.218453</td>\n",
       "      <td>0.011334</td>\n",
       "      <td>1.000000</td>\n",
       "      <td>0.771015</td>\n",
       "      <td>-0.047996</td>\n",
       "      <td>-0.032615</td>\n",
       "      <td>-0.096925</td>\n",
       "      <td>-0.048919</td>\n",
       "      <td>-0.051385</td>\n",
       "      <td>-0.130769</td>\n",
       "      <td>-0.103222</td>\n",
       "      <td>-0.164121</td>\n",
       "      <td>0.057198</td>\n",
       "      <td>-0.057929</td>\n",
       "      <td>0.022754</td>\n",
       "    </tr>\n",
       "    <tr>\n",
       "      <th>cigsPerDay</th>\n",
       "      <td>0.312110</td>\n",
       "      <td>-0.186060</td>\n",
       "      <td>0.003289</td>\n",
       "      <td>0.771015</td>\n",
       "      <td>1.000000</td>\n",
       "      <td>-0.043402</td>\n",
       "      <td>-0.029953</td>\n",
       "      <td>-0.063781</td>\n",
       "      <td>-0.046534</td>\n",
       "      <td>-0.021426</td>\n",
       "      <td>-0.090941</td>\n",
       "      <td>-0.055125</td>\n",
       "      <td>-0.091066</td>\n",
       "      <td>0.078196</td>\n",
       "      <td>-0.067160</td>\n",
       "      <td>0.054683</td>\n",
       "    </tr>\n",
       "    <tr>\n",
       "      <th>BPMeds</th>\n",
       "      <td>-0.063121</td>\n",
       "      <td>0.126578</td>\n",
       "      <td>-0.002784</td>\n",
       "      <td>-0.047996</td>\n",
       "      <td>-0.043402</td>\n",
       "      <td>1.000000</td>\n",
       "      <td>0.069341</td>\n",
       "      <td>0.260374</td>\n",
       "      <td>0.066023</td>\n",
       "      <td>0.098285</td>\n",
       "      <td>0.253094</td>\n",
       "      <td>0.197538</td>\n",
       "      <td>0.090651</td>\n",
       "      <td>0.013199</td>\n",
       "      <td>0.062359</td>\n",
       "      <td>0.103217</td>\n",
       "    </tr>\n",
       "    <tr>\n",
       "      <th>prevalentStroke</th>\n",
       "      <td>0.000538</td>\n",
       "      <td>0.068083</td>\n",
       "      <td>-0.032811</td>\n",
       "      <td>-0.032615</td>\n",
       "      <td>-0.029953</td>\n",
       "      <td>0.069341</td>\n",
       "      <td>1.000000</td>\n",
       "      <td>0.085928</td>\n",
       "      <td>0.016710</td>\n",
       "      <td>0.008202</td>\n",
       "      <td>0.047633</td>\n",
       "      <td>0.041469</td>\n",
       "      <td>0.031158</td>\n",
       "      <td>-0.022485</td>\n",
       "      <td>0.015608</td>\n",
       "      <td>0.078652</td>\n",
       "    </tr>\n",
       "    <tr>\n",
       "      <th>prevalentHyp</th>\n",
       "      <td>-0.003935</td>\n",
       "      <td>0.304355</td>\n",
       "      <td>-0.062608</td>\n",
       "      <td>-0.096925</td>\n",
       "      <td>-0.063781</td>\n",
       "      <td>0.260374</td>\n",
       "      <td>0.085928</td>\n",
       "      <td>1.000000</td>\n",
       "      <td>0.072848</td>\n",
       "      <td>0.169543</td>\n",
       "      <td>0.696449</td>\n",
       "      <td>0.619885</td>\n",
       "      <td>0.292622</td>\n",
       "      <td>0.147365</td>\n",
       "      <td>0.076927</td>\n",
       "      <td>0.168354</td>\n",
       "    </tr>\n",
       "    <tr>\n",
       "      <th>diabetes</th>\n",
       "      <td>0.021348</td>\n",
       "      <td>0.110090</td>\n",
       "      <td>-0.044612</td>\n",
       "      <td>-0.048919</td>\n",
       "      <td>-0.046534</td>\n",
       "      <td>0.066023</td>\n",
       "      <td>0.016710</td>\n",
       "      <td>0.072848</td>\n",
       "      <td>1.000000</td>\n",
       "      <td>0.053439</td>\n",
       "      <td>0.115293</td>\n",
       "      <td>0.035596</td>\n",
       "      <td>0.077206</td>\n",
       "      <td>0.034112</td>\n",
       "      <td>0.603499</td>\n",
       "      <td>0.085651</td>\n",
       "    </tr>\n",
       "    <tr>\n",
       "      <th>totChol</th>\n",
       "      <td>-0.075607</td>\n",
       "      <td>0.262306</td>\n",
       "      <td>-0.009843</td>\n",
       "      <td>-0.051385</td>\n",
       "      <td>-0.021426</td>\n",
       "      <td>0.098285</td>\n",
       "      <td>0.008202</td>\n",
       "      <td>0.169543</td>\n",
       "      <td>0.053439</td>\n",
       "      <td>1.000000</td>\n",
       "      <td>0.215922</td>\n",
       "      <td>0.166074</td>\n",
       "      <td>0.117041</td>\n",
       "      <td>0.076157</td>\n",
       "      <td>0.053876</td>\n",
       "      <td>0.087134</td>\n",
       "    </tr>\n",
       "    <tr>\n",
       "      <th>sysBP</th>\n",
       "      <td>-0.041278</td>\n",
       "      <td>0.386243</td>\n",
       "      <td>-0.113493</td>\n",
       "      <td>-0.130769</td>\n",
       "      <td>-0.090941</td>\n",
       "      <td>0.253094</td>\n",
       "      <td>0.047633</td>\n",
       "      <td>0.696449</td>\n",
       "      <td>0.115293</td>\n",
       "      <td>0.215922</td>\n",
       "      <td>1.000000</td>\n",
       "      <td>0.787136</td>\n",
       "      <td>0.331848</td>\n",
       "      <td>0.188739</td>\n",
       "      <td>0.138556</td>\n",
       "      <td>0.206707</td>\n",
       "    </tr>\n",
       "    <tr>\n",
       "      <th>diaBP</th>\n",
       "      <td>0.057516</td>\n",
       "      <td>0.204637</td>\n",
       "      <td>-0.043689</td>\n",
       "      <td>-0.103222</td>\n",
       "      <td>-0.055125</td>\n",
       "      <td>0.197538</td>\n",
       "      <td>0.041469</td>\n",
       "      <td>0.619885</td>\n",
       "      <td>0.035596</td>\n",
       "      <td>0.166074</td>\n",
       "      <td>0.787136</td>\n",
       "      <td>1.000000</td>\n",
       "      <td>0.377363</td>\n",
       "      <td>0.178134</td>\n",
       "      <td>0.050901</td>\n",
       "      <td>0.138634</td>\n",
       "    </tr>\n",
       "    <tr>\n",
       "      <th>BMI</th>\n",
       "      <td>0.090680</td>\n",
       "      <td>0.142417</td>\n",
       "      <td>-0.122646</td>\n",
       "      <td>-0.164121</td>\n",
       "      <td>-0.091066</td>\n",
       "      <td>0.090651</td>\n",
       "      <td>0.031158</td>\n",
       "      <td>0.292622</td>\n",
       "      <td>0.077206</td>\n",
       "      <td>0.117041</td>\n",
       "      <td>0.331848</td>\n",
       "      <td>0.377363</td>\n",
       "      <td>1.000000</td>\n",
       "      <td>0.061650</td>\n",
       "      <td>0.081233</td>\n",
       "      <td>0.060039</td>\n",
       "    </tr>\n",
       "    <tr>\n",
       "      <th>heartRate</th>\n",
       "      <td>-0.117163</td>\n",
       "      <td>-0.018992</td>\n",
       "      <td>-0.048114</td>\n",
       "      <td>0.057198</td>\n",
       "      <td>0.078196</td>\n",
       "      <td>0.013199</td>\n",
       "      <td>-0.022485</td>\n",
       "      <td>0.147365</td>\n",
       "      <td>0.034112</td>\n",
       "      <td>0.076157</td>\n",
       "      <td>0.188739</td>\n",
       "      <td>0.178134</td>\n",
       "      <td>0.061650</td>\n",
       "      <td>1.000000</td>\n",
       "      <td>0.090087</td>\n",
       "      <td>0.028420</td>\n",
       "    </tr>\n",
       "    <tr>\n",
       "      <th>glucose</th>\n",
       "      <td>0.017359</td>\n",
       "      <td>0.121737</td>\n",
       "      <td>-0.033716</td>\n",
       "      <td>-0.057929</td>\n",
       "      <td>-0.067160</td>\n",
       "      <td>0.062359</td>\n",
       "      <td>0.015608</td>\n",
       "      <td>0.076927</td>\n",
       "      <td>0.603499</td>\n",
       "      <td>0.053876</td>\n",
       "      <td>0.138556</td>\n",
       "      <td>0.050901</td>\n",
       "      <td>0.081233</td>\n",
       "      <td>0.090087</td>\n",
       "      <td>1.000000</td>\n",
       "      <td>0.101690</td>\n",
       "    </tr>\n",
       "    <tr>\n",
       "      <th>TenYearCHD</th>\n",
       "      <td>0.093203</td>\n",
       "      <td>0.215881</td>\n",
       "      <td>-0.036786</td>\n",
       "      <td>0.022754</td>\n",
       "      <td>0.054683</td>\n",
       "      <td>0.103217</td>\n",
       "      <td>0.078652</td>\n",
       "      <td>0.168354</td>\n",
       "      <td>0.085651</td>\n",
       "      <td>0.087134</td>\n",
       "      <td>0.206707</td>\n",
       "      <td>0.138634</td>\n",
       "      <td>0.060039</td>\n",
       "      <td>0.028420</td>\n",
       "      <td>0.101690</td>\n",
       "      <td>1.000000</td>\n",
       "    </tr>\n",
       "  </tbody>\n",
       "</table>\n",
       "</div>"
      ],
      "text/plain": [
       "                   gender       age  education  currentSmoker  cigsPerDay  \\\n",
       "gender           1.000000 -0.021699   0.017740       0.197109    0.312110   \n",
       "age             -0.021699  1.000000  -0.156948      -0.218453   -0.186060   \n",
       "education        0.017740 -0.156948   1.000000       0.011334    0.003289   \n",
       "currentSmoker    0.197109 -0.218453   0.011334       1.000000    0.771015   \n",
       "cigsPerDay       0.312110 -0.186060   0.003289       0.771015    1.000000   \n",
       "BPMeds          -0.063121  0.126578  -0.002784      -0.047996   -0.043402   \n",
       "prevalentStroke  0.000538  0.068083  -0.032811      -0.032615   -0.029953   \n",
       "prevalentHyp    -0.003935  0.304355  -0.062608      -0.096925   -0.063781   \n",
       "diabetes         0.021348  0.110090  -0.044612      -0.048919   -0.046534   \n",
       "totChol         -0.075607  0.262306  -0.009843      -0.051385   -0.021426   \n",
       "sysBP           -0.041278  0.386243  -0.113493      -0.130769   -0.090941   \n",
       "diaBP            0.057516  0.204637  -0.043689      -0.103222   -0.055125   \n",
       "BMI              0.090680  0.142417  -0.122646      -0.164121   -0.091066   \n",
       "heartRate       -0.117163 -0.018992  -0.048114       0.057198    0.078196   \n",
       "glucose          0.017359  0.121737  -0.033716      -0.057929   -0.067160   \n",
       "TenYearCHD       0.093203  0.215881  -0.036786       0.022754    0.054683   \n",
       "\n",
       "                   BPMeds  prevalentStroke  prevalentHyp  diabetes   totChol  \\\n",
       "gender          -0.063121         0.000538     -0.003935  0.021348 -0.075607   \n",
       "age              0.126578         0.068083      0.304355  0.110090  0.262306   \n",
       "education       -0.002784        -0.032811     -0.062608 -0.044612 -0.009843   \n",
       "currentSmoker   -0.047996        -0.032615     -0.096925 -0.048919 -0.051385   \n",
       "cigsPerDay      -0.043402        -0.029953     -0.063781 -0.046534 -0.021426   \n",
       "BPMeds           1.000000         0.069341      0.260374  0.066023  0.098285   \n",
       "prevalentStroke  0.069341         1.000000      0.085928  0.016710  0.008202   \n",
       "prevalentHyp     0.260374         0.085928      1.000000  0.072848  0.169543   \n",
       "diabetes         0.066023         0.016710      0.072848  1.000000  0.053439   \n",
       "totChol          0.098285         0.008202      0.169543  0.053439  1.000000   \n",
       "sysBP            0.253094         0.047633      0.696449  0.115293  0.215922   \n",
       "diaBP            0.197538         0.041469      0.619885  0.035596  0.166074   \n",
       "BMI              0.090651         0.031158      0.292622  0.077206  0.117041   \n",
       "heartRate        0.013199        -0.022485      0.147365  0.034112  0.076157   \n",
       "glucose          0.062359         0.015608      0.076927  0.603499  0.053876   \n",
       "TenYearCHD       0.103217         0.078652      0.168354  0.085651  0.087134   \n",
       "\n",
       "                    sysBP     diaBP       BMI  heartRate   glucose  TenYearCHD  \n",
       "gender          -0.041278  0.057516  0.090680  -0.117163  0.017359    0.093203  \n",
       "age              0.386243  0.204637  0.142417  -0.018992  0.121737    0.215881  \n",
       "education       -0.113493 -0.043689 -0.122646  -0.048114 -0.033716   -0.036786  \n",
       "currentSmoker   -0.130769 -0.103222 -0.164121   0.057198 -0.057929    0.022754  \n",
       "cigsPerDay      -0.090941 -0.055125 -0.091066   0.078196 -0.067160    0.054683  \n",
       "BPMeds           0.253094  0.197538  0.090651   0.013199  0.062359    0.103217  \n",
       "prevalentStroke  0.047633  0.041469  0.031158  -0.022485  0.015608    0.078652  \n",
       "prevalentHyp     0.696449  0.619885  0.292622   0.147365  0.076927    0.168354  \n",
       "diabetes         0.115293  0.035596  0.077206   0.034112  0.603499    0.085651  \n",
       "totChol          0.215922  0.166074  0.117041   0.076157  0.053876    0.087134  \n",
       "sysBP            1.000000  0.787136  0.331848   0.188739  0.138556    0.206707  \n",
       "diaBP            0.787136  1.000000  0.377363   0.178134  0.050901    0.138634  \n",
       "BMI              0.331848  0.377363  1.000000   0.061650  0.081233    0.060039  \n",
       "heartRate        0.188739  0.178134  0.061650   1.000000  0.090087    0.028420  \n",
       "glucose          0.138556  0.050901  0.081233   0.090087  1.000000    0.101690  \n",
       "TenYearCHD       0.206707  0.138634  0.060039   0.028420  0.101690    1.000000  "
      ]
     },
     "execution_count": 69,
     "metadata": {},
     "output_type": "execute_result"
    }
   ],
   "source": [
    "heart_train.corr()"
   ]
  },
  {
   "cell_type": "markdown",
   "id": "8bd9e52d-75ee-4600-8be0-65fc7cbba412",
   "metadata": {},
   "source": [
    "Using the sysBP and diaBP, for that categorizing systolic and diastolic BP into ranges.\\\n",
    "For SysBP : Values < 120 are low, 120-140 are normal and >120 high\\\n",
    "For DiaBP : Values < 80 are low, 80-90 are normal and >90 high"
   ]
  },
  {
   "cell_type": "code",
   "execution_count": 70,
   "id": "ef1da462-1877-4aeb-bc7f-70abfe34661c",
   "metadata": {},
   "outputs": [],
   "source": [
    "def categorize_bp(df, sys_threshold=140, dia_threshold=90):\n",
    "    \"\"\"Categorize systolic and diastolic BP into ranges.\"\"\"\n",
    "    sys_category = pd.cut(df['sysBP'], bins=[-float('inf'), 120, sys_threshold, float('inf')],\n",
    "                          labels=['low', 'normal', 'high'], right=True)\n",
    "    dia_category = pd.cut(df['diaBP'], bins=[-float('inf'), 80, dia_threshold, float('inf')],\n",
    "                          labels=['low', 'normal', 'high'], right=True)\n",
    "    return sys_category, dia_category"
   ]
  },
  {
   "cell_type": "markdown",
   "id": "8b9c173c-2d50-4346-a5af-28b964cd64b3",
   "metadata": {},
   "source": [
    "#### For heart_test, we will ensure that imputation is based on statistics derived from heart_train in order to avoid data leakage."
   ]
  },
  {
   "cell_type": "markdown",
   "id": "98afccaf-6670-4b47-b0cc-6b2cfb5e94bb",
   "metadata": {},
   "source": [
    "##### Imputation Logic for Education, cigsPerDay, and Glucose. "
   ]
  },
  {
   "cell_type": "code",
   "execution_count": 71,
   "id": "60d1314c-b218-499f-8713-f4e50ecbf6df",
   "metadata": {},
   "outputs": [],
   "source": [
    "def MissingValueImputer_1(train_df, test_df):\n",
    "    # Education: filling with mode (categorical variable)\n",
    "    train_df['education'].fillna(train_df['education'].mode()[0], inplace=True)\n",
    "    test_df['education'].fillna(train_df['education'].mode()[0], inplace=True)\n",
    "\n",
    "    # Smoker: filling with the median of current smokers (positively skewed, so using median)\n",
    "    # Set to 0 for non-smokers as they don't smoke\n",
    "    train_df.loc[train_df['currentSmoker'] == 0, 'cigsPerDay'] = 0\n",
    "    test_df.loc[test_df['currentSmoker'] == 0, 'cigsPerDay'] = 0\n",
    "    \n",
    "    median_cigs = train_df[train_df['currentSmoker'] == 1]['cigsPerDay'].median()\n",
    "    \n",
    "    train_df.loc[train_df['currentSmoker'] == 1, 'cigsPerDay'] = train_df.loc[train_df['currentSmoker'] == 1, 'cigsPerDay'].fillna(median_cigs)\n",
    "    test_df.loc[test_df['currentSmoker'] == 1, 'cigsPerDay'] = test_df.loc[test_df['currentSmoker'] == 1, 'cigsPerDay'].fillna(median_cigs)\n",
    "\n",
    "    # Glucose: based on diabetes status (max is significantly higher than 75th percentile, using median)\n",
    "    # Highest corelation with diabetes columns\n",
    "    train_df['glucose'] = train_df.groupby('diabetes', observed=False)['glucose'].transform(lambda x: x.fillna(x.median()))\n",
    "    test_df['glucose'] = test_df.groupby('diabetes', observed=False)['glucose'].transform(\n",
    "        lambda x: x.fillna(train_df.groupby('diabetes', observed=False)['glucose'].median()[x.name]))\n",
    "    \n",
    "    return train_df, test_df"
   ]
  },
  {
   "cell_type": "markdown",
   "id": "2fc29cc1-735a-4706-a7a8-8ac6a71646d6",
   "metadata": {},
   "source": [
    "##### Imputation Logic for BPMeds. Having strong corelation with prevalentHyp,sysBP,diaBP"
   ]
  },
  {
   "cell_type": "code",
   "execution_count": 72,
   "id": "8ede2d5f-e4a8-4707-9b92-6e7d87d39782",
   "metadata": {},
   "outputs": [],
   "source": [
    "def MissingValueImputer_2(train_df, test_df):\n",
    "    # BP Meds: \n",
    "    # Rule 1: Patients with prevalent hypertension (prevalentHyp == 1)\n",
    "    train_df.loc[train_df['BPMeds'].isnull() & (train_df['prevalentHyp'] == 1), 'BPMeds'] = 1\n",
    "    test_df.loc[test_df['BPMeds'].isnull() & (test_df['prevalentHyp'] == 1), 'BPMeds'] = 1\n",
    "    \n",
    "    # Rule 2: Patients with very high systolic blood pressure (sysBP > 140) and no prevalent hypertension\n",
    "    high_bp_threshold = 140\n",
    "    train_df.loc[train_df['BPMeds'].isnull() & (train_df['sysBP'] > high_bp_threshold), 'BPMeds'] = 1\n",
    "    test_df.loc[test_df['BPMeds'].isnull() & (test_df['sysBP'] > high_bp_threshold), 'BPMeds'] = 1\n",
    "\n",
    "    # Rule 3: Patients with very high diaBP blood pressure (diaBP > 90) and no prevalent hypertension\n",
    "    train_df.loc[train_df['BPMeds'].isnull() & (train_df['diaBP'] > 90), 'BPMeds'] = 1\n",
    "    test_df.loc[test_df['BPMeds'].isnull() & (test_df['diaBP'] > 90), 'BPMeds'] = 1\n",
    "\n",
    "    # Rule 4: Remaining missing values default to 0 (not on medication)\n",
    "    train_df['BPMeds'].fillna(0, inplace=True)\n",
    "    test_df['BPMeds'].fillna(0, inplace=True)\n",
    "    train_df['BPMeds'] = train_df['BPMeds'].astype(int)\n",
    "    test_df['BPMeds'] = test_df['BPMeds'].astype(int)\n",
    "    \n",
    "    return train_df, test_df"
   ]
  },
  {
   "cell_type": "markdown",
   "id": "6863b910-a7c0-40a1-a2f8-ef4ccc5468ce",
   "metadata": {},
   "source": [
    "##### Imputation Logic for Cholestrol, BMI, and Heart Rate."
   ]
  },
  {
   "cell_type": "markdown",
   "id": "e89e7974-2688-425e-ade7-8fd9eae6239b",
   "metadata": {},
   "source": [
    "Using subclass(based on corelation matrix which are highly corelated) and considering median for it. After reading the statistics we got in describe method, we saw feature cholestrol is positively skewed, therefore using median as it is robust to outliers.\n",
    "\n",
    "For Heart rate also, using median based on the statistics, as max is significantly higher than 75th percentile. Using Median as it is robust to outliers. Same for BMI as well, mean is higher than median and max is higher than 7th percentile. "
   ]
  },
  {
   "cell_type": "code",
   "execution_count": 73,
   "id": "300ad400-17de-42bc-bc69-1cd172dce1cf",
   "metadata": {},
   "outputs": [],
   "source": [
    "def MissingValueImputer_3(train_df, test_df):\n",
    "    \n",
    "    # Categorize sysBP for train and test datasets\n",
    "    train_df['sysBP_category'], train_df['diaBP_category'] = categorize_bp(train_df)\n",
    "    test_df['sysBP_category'], test_df['diaBP_category'] = categorize_bp(test_df)\n",
    "\n",
    "    # Cholesterol: Filling based on age and sysBP_category (Highest corelation with these columns)\n",
    "    train_df['totChol'] = train_df.groupby(['age', 'sysBP_category'], observed=False)['totChol'].transform(\n",
    "        lambda x: x.fillna(x.median())\n",
    "    )\n",
    "    test_df['totChol'] = test_df.groupby(['age', 'sysBP_category'], observed=False)['totChol'].transform(\n",
    "        lambda x: x.fillna(train_df.groupby(['age', 'sysBP_category'], observed=False)['totChol'].median()[x.name])\n",
    "    )\n",
    "    \n",
    "    # BMI: filling by using age, gender, prevalentHyp, sysBP, and diaBP (Highest corelation with these columns)\n",
    "    train_df['BMI'] = train_df.groupby(['age', 'gender', 'prevalentHyp', 'sysBP_category', 'diaBP_category'], observed=False)['BMI'].transform(\n",
    "        lambda x: x.fillna(x.median() if not x.isnull().all() else train_df['BMI'].median()))\n",
    "    test_df['BMI'] = test_df.groupby(['age', 'gender', 'prevalentHyp', 'sysBP_category', 'diaBP_category'], observed=False)['BMI'].transform(\n",
    "        lambda x: x.fillna(train_df.groupby(['age', 'gender', 'prevalentHyp', 'sysBP_category', 'diaBP_category'], observed=False)['BMI'].median().get(x.name, train_df['BMI'].median()) if not x.isnull().all() else train_df['BMI'].median()))\n",
    "\n",
    "    # Heart Rate: filling by using sysBP and diaBP (Highest corelation with these columns)\n",
    "    train_df['heartRate'] = train_df.groupby(['sysBP_category', 'diaBP_category'], observed=False)['heartRate'].transform(lambda x: x.fillna(x.median()))\n",
    "    test_df['heartRate'] = test_df.groupby(['sysBP_category', 'diaBP_category'], observed=False)['heartRate'].transform(\n",
    "        lambda x: x.fillna(train_df.groupby(['sysBP_category', 'diaBP_category'], observed=False)['heartRate'].median()[x.name]))\n",
    "\n",
    "    # Dropping the temporary sysBP_category column\n",
    "    train_df.drop(columns=['sysBP_category', 'diaBP_category'], inplace=True)\n",
    "    test_df.drop(columns=['sysBP_category','diaBP_category'], inplace=True)\n",
    "\n",
    "    return train_df, test_df"
   ]
  },
  {
   "cell_type": "code",
   "execution_count": 74,
   "id": "fe2047db-af53-4ada-85d9-5d193dca6241",
   "metadata": {},
   "outputs": [
    {
     "name": "stderr",
     "output_type": "stream",
     "text": [
      "/var/folders/f9/tzl1jwjn3f3fvhyb_dm77j6h0000gn/T/ipykernel_85751/3040251283.py:3: FutureWarning: A value is trying to be set on a copy of a DataFrame or Series through chained assignment using an inplace method.\n",
      "The behavior will change in pandas 3.0. This inplace method will never work because the intermediate object on which we are setting values always behaves as a copy.\n",
      "\n",
      "For example, when doing 'df[col].method(value, inplace=True)', try using 'df.method({col: value}, inplace=True)' or df[col] = df[col].method(value) instead, to perform the operation inplace on the original object.\n",
      "\n",
      "\n",
      "  train_df['education'].fillna(train_df['education'].mode()[0], inplace=True)\n",
      "/var/folders/f9/tzl1jwjn3f3fvhyb_dm77j6h0000gn/T/ipykernel_85751/3040251283.py:4: FutureWarning: A value is trying to be set on a copy of a DataFrame or Series through chained assignment using an inplace method.\n",
      "The behavior will change in pandas 3.0. This inplace method will never work because the intermediate object on which we are setting values always behaves as a copy.\n",
      "\n",
      "For example, when doing 'df[col].method(value, inplace=True)', try using 'df.method({col: value}, inplace=True)' or df[col] = df[col].method(value) instead, to perform the operation inplace on the original object.\n",
      "\n",
      "\n",
      "  test_df['education'].fillna(train_df['education'].mode()[0], inplace=True)\n",
      "/var/folders/f9/tzl1jwjn3f3fvhyb_dm77j6h0000gn/T/ipykernel_85751/2286975567.py:17: FutureWarning: A value is trying to be set on a copy of a DataFrame or Series through chained assignment using an inplace method.\n",
      "The behavior will change in pandas 3.0. This inplace method will never work because the intermediate object on which we are setting values always behaves as a copy.\n",
      "\n",
      "For example, when doing 'df[col].method(value, inplace=True)', try using 'df.method({col: value}, inplace=True)' or df[col] = df[col].method(value) instead, to perform the operation inplace on the original object.\n",
      "\n",
      "\n",
      "  train_df['BPMeds'].fillna(0, inplace=True)\n",
      "/var/folders/f9/tzl1jwjn3f3fvhyb_dm77j6h0000gn/T/ipykernel_85751/2286975567.py:18: FutureWarning: A value is trying to be set on a copy of a DataFrame or Series through chained assignment using an inplace method.\n",
      "The behavior will change in pandas 3.0. This inplace method will never work because the intermediate object on which we are setting values always behaves as a copy.\n",
      "\n",
      "For example, when doing 'df[col].method(value, inplace=True)', try using 'df.method({col: value}, inplace=True)' or df[col] = df[col].method(value) instead, to perform the operation inplace on the original object.\n",
      "\n",
      "\n",
      "  test_df['BPMeds'].fillna(0, inplace=True)\n"
     ]
    },
    {
     "name": "stdout",
     "output_type": "stream",
     "text": [
      "Train Data Missing Values After Imputation:\n",
      " gender             0\n",
      "age                0\n",
      "education          0\n",
      "currentSmoker      0\n",
      "cigsPerDay         0\n",
      "BPMeds             0\n",
      "prevalentStroke    0\n",
      "prevalentHyp       0\n",
      "diabetes           0\n",
      "totChol            0\n",
      "sysBP              0\n",
      "diaBP              0\n",
      "BMI                0\n",
      "heartRate          0\n",
      "glucose            0\n",
      "TenYearCHD         0\n",
      "dtype: int64\n",
      "\n",
      "Test Data Missing Values After Imputation:\n",
      " gender             0\n",
      "age                0\n",
      "education          0\n",
      "currentSmoker      0\n",
      "cigsPerDay         0\n",
      "BPMeds             0\n",
      "prevalentStroke    0\n",
      "prevalentHyp       0\n",
      "diabetes           0\n",
      "totChol            0\n",
      "sysBP              0\n",
      "diaBP              0\n",
      "BMI                0\n",
      "heartRate          0\n",
      "glucose            0\n",
      "TenYearCHD         0\n",
      "dtype: int64\n"
     ]
    }
   ],
   "source": [
    "# Imputation Logic for Education, cigsPerDay, and Glucose\n",
    "MissingValueImputer_1(heart_train, heart_test)\n",
    "# Imputation Logic for BPMeds¶\n",
    "MissingValueImputer_2(heart_train, heart_test)\n",
    "# Imputation Logic for Cholestrol, BMI, and Heart Rate\n",
    "MissingValueImputer_3(heart_train, heart_test)\n",
    "\n",
    "print(\"Train Data Missing Values After Imputation:\\n\", heart_train.isnull().sum())\n",
    "print(\"\\nTest Data Missing Values After Imputation:\\n\", heart_test.isnull().sum())"
   ]
  },
  {
   "cell_type": "markdown",
   "id": "740c9f3f-07ef-4d7c-9aad-0f2ca93f6a2c",
   "metadata": {},
   "source": [
    "### Normalising the data"
   ]
  },
  {
   "cell_type": "markdown",
   "id": "ce4ba8ed-26ad-4cfe-825c-5f15a67ad371",
   "metadata": {},
   "source": [
    "Applying z-score normalization on heart_train, and then normalizing heart_test using the mean and standard deviation from heart_train."
   ]
  },
  {
   "cell_type": "code",
   "execution_count": 75,
   "id": "e8039bcf-ce53-427e-a0e1-6153d4d1cafb",
   "metadata": {},
   "outputs": [],
   "source": [
    "mean_std = {}"
   ]
  },
  {
   "cell_type": "code",
   "execution_count": 76,
   "id": "9c3a1ff8-7930-4a76-8b8b-468615f9e796",
   "metadata": {},
   "outputs": [],
   "source": [
    "def z_score_normalize(train_df):\n",
    "    for column in train_df.columns:\n",
    "        if train_df[column].dtype in ['int64', 'float64'] and column != 'TenYearCHD':\n",
    "            mean = train_df[column].mean()\n",
    "            std = train_df[column].std()\n",
    "            mean_std[column] = (mean, std)\n",
    "            train_df[column] = (train_df[column] - mean) / std"
   ]
  },
  {
   "cell_type": "code",
   "execution_count": 77,
   "id": "6d78db1d-8982-4fe0-8a5c-fedec7cd014b",
   "metadata": {},
   "outputs": [],
   "source": [
    "z_score_normalize(heart_train)"
   ]
  },
  {
   "cell_type": "code",
   "execution_count": 78,
   "id": "4bb24722-3dbe-423e-8071-4fa0f464e0cf",
   "metadata": {},
   "outputs": [
    {
     "name": "stdout",
     "output_type": "stream",
     "text": [
      "{'gender': (0.4336283185840708, 0.495648331104533), 'age': (49.614159292035396, 8.609616730841537), 'education': (1.9569321533923303, 1.0217048588742135), 'currentSmoker': (0.48672566371681414, 0.4998974975685707), 'cigsPerDay': (9.043952802359883, 12.023146397122822), 'BPMeds': (0.033628318584070796, 0.18029709890002746), 'prevalentStroke': (0.00471976401179941, 0.06854833286068387), 'prevalentHyp': (0.30206489675516224, 0.4592209735457691), 'diabetes': (0.024778761061946902, 0.15547316301364433), 'totChol': (236.71312684365782, 45.08705642840767), 'sysBP': (132.12669616519173, 22.047822389406125), 'diaBP': (82.75206489675516, 11.933836490922324), 'BMI': (25.78600442477876, 4.039053065029307), 'heartRate': (75.77610619469027, 11.95033818141861), 'glucose': (81.70766961651917, 22.89993435334305)}\n"
     ]
    }
   ],
   "source": [
    "print(mean_std)"
   ]
  },
  {
   "cell_type": "code",
   "execution_count": 79,
   "id": "d2e449c1-15db-4312-aec3-2f7580e62687",
   "metadata": {},
   "outputs": [],
   "source": [
    "def apply_normalization(heart_test):\n",
    "    for column, (mean, std) in mean_std.items():\n",
    "        heart_test[column] = (heart_test[column] - mean) / std"
   ]
  },
  {
   "cell_type": "code",
   "execution_count": 80,
   "id": "de4478ad-1203-4a2f-bfe9-672119867118",
   "metadata": {},
   "outputs": [],
   "source": [
    "apply_normalization(heart_test)"
   ]
  },
  {
   "cell_type": "code",
   "execution_count": 81,
   "id": "cabedd6d-bf8d-4417-89d9-0bd86629fb67",
   "metadata": {},
   "outputs": [
    {
     "data": {
      "text/html": [
       "<div>\n",
       "<style scoped>\n",
       "    .dataframe tbody tr th:only-of-type {\n",
       "        vertical-align: middle;\n",
       "    }\n",
       "\n",
       "    .dataframe tbody tr th {\n",
       "        vertical-align: top;\n",
       "    }\n",
       "\n",
       "    .dataframe thead th {\n",
       "        text-align: right;\n",
       "    }\n",
       "</style>\n",
       "<table border=\"1\" class=\"dataframe\">\n",
       "  <thead>\n",
       "    <tr style=\"text-align: right;\">\n",
       "      <th></th>\n",
       "      <th>gender</th>\n",
       "      <th>age</th>\n",
       "      <th>education</th>\n",
       "      <th>currentSmoker</th>\n",
       "      <th>cigsPerDay</th>\n",
       "      <th>BPMeds</th>\n",
       "      <th>prevalentStroke</th>\n",
       "      <th>prevalentHyp</th>\n",
       "      <th>diabetes</th>\n",
       "      <th>totChol</th>\n",
       "      <th>sysBP</th>\n",
       "      <th>diaBP</th>\n",
       "      <th>BMI</th>\n",
       "      <th>heartRate</th>\n",
       "      <th>glucose</th>\n",
       "      <th>TenYearCHD</th>\n",
       "    </tr>\n",
       "  </thead>\n",
       "  <tbody>\n",
       "    <tr>\n",
       "      <th>0</th>\n",
       "      <td>1.142689</td>\n",
       "      <td>1.554755</td>\n",
       "      <td>-0.936603</td>\n",
       "      <td>-0.973651</td>\n",
       "      <td>-0.752212</td>\n",
       "      <td>-0.186516</td>\n",
       "      <td>-0.068853</td>\n",
       "      <td>1.519824</td>\n",
       "      <td>-0.159376</td>\n",
       "      <td>-1.036065</td>\n",
       "      <td>0.719949</td>\n",
       "      <td>0.607343</td>\n",
       "      <td>0.332750</td>\n",
       "      <td>-0.315983</td>\n",
       "      <td>0.187439</td>\n",
       "      <td>0</td>\n",
       "    </tr>\n",
       "    <tr>\n",
       "      <th>1</th>\n",
       "      <td>1.142689</td>\n",
       "      <td>-0.535931</td>\n",
       "      <td>1.020909</td>\n",
       "      <td>-0.973651</td>\n",
       "      <td>-0.752212</td>\n",
       "      <td>-0.186516</td>\n",
       "      <td>-0.068853</td>\n",
       "      <td>-0.657777</td>\n",
       "      <td>-0.159376</td>\n",
       "      <td>-1.657086</td>\n",
       "      <td>-0.323238</td>\n",
       "      <td>0.523548</td>\n",
       "      <td>0.543196</td>\n",
       "      <td>0.771852</td>\n",
       "      <td>0.056434</td>\n",
       "      <td>0</td>\n",
       "    </tr>\n",
       "    <tr>\n",
       "      <th>2</th>\n",
       "      <td>-0.874871</td>\n",
       "      <td>0.160964</td>\n",
       "      <td>-0.936603</td>\n",
       "      <td>1.026759</td>\n",
       "      <td>-0.585866</td>\n",
       "      <td>-0.186516</td>\n",
       "      <td>-0.068853</td>\n",
       "      <td>-0.657777</td>\n",
       "      <td>-0.159376</td>\n",
       "      <td>0.538666</td>\n",
       "      <td>-0.232526</td>\n",
       "      <td>-0.146815</td>\n",
       "      <td>-1.373095</td>\n",
       "      <td>-0.064944</td>\n",
       "      <td>0.624121</td>\n",
       "      <td>0</td>\n",
       "    </tr>\n",
       "    <tr>\n",
       "      <th>3</th>\n",
       "      <td>1.142689</td>\n",
       "      <td>-0.535931</td>\n",
       "      <td>1.020909</td>\n",
       "      <td>1.026759</td>\n",
       "      <td>1.742975</td>\n",
       "      <td>-0.186516</td>\n",
       "      <td>-0.068853</td>\n",
       "      <td>-0.657777</td>\n",
       "      <td>-0.159376</td>\n",
       "      <td>0.294694</td>\n",
       "      <td>-0.277882</td>\n",
       "      <td>0.565446</td>\n",
       "      <td>0.716503</td>\n",
       "      <td>-0.064944</td>\n",
       "      <td>0.449448</td>\n",
       "      <td>0</td>\n",
       "    </tr>\n",
       "    <tr>\n",
       "      <th>4</th>\n",
       "      <td>-0.874871</td>\n",
       "      <td>-0.535931</td>\n",
       "      <td>0.042153</td>\n",
       "      <td>1.026759</td>\n",
       "      <td>-0.502693</td>\n",
       "      <td>-0.186516</td>\n",
       "      <td>-0.068853</td>\n",
       "      <td>-0.657777</td>\n",
       "      <td>-0.159376</td>\n",
       "      <td>0.294694</td>\n",
       "      <td>-0.096458</td>\n",
       "      <td>-0.230610</td>\n",
       "      <td>-1.373095</td>\n",
       "      <td>1.190250</td>\n",
       "      <td>0.187439</td>\n",
       "      <td>0</td>\n",
       "    </tr>\n",
       "  </tbody>\n",
       "</table>\n",
       "</div>"
      ],
      "text/plain": [
       "     gender       age  education  currentSmoker  cigsPerDay    BPMeds  \\\n",
       "0  1.142689  1.554755  -0.936603      -0.973651   -0.752212 -0.186516   \n",
       "1  1.142689 -0.535931   1.020909      -0.973651   -0.752212 -0.186516   \n",
       "2 -0.874871  0.160964  -0.936603       1.026759   -0.585866 -0.186516   \n",
       "3  1.142689 -0.535931   1.020909       1.026759    1.742975 -0.186516   \n",
       "4 -0.874871 -0.535931   0.042153       1.026759   -0.502693 -0.186516   \n",
       "\n",
       "   prevalentStroke  prevalentHyp  diabetes   totChol     sysBP     diaBP  \\\n",
       "0        -0.068853      1.519824 -0.159376 -1.036065  0.719949  0.607343   \n",
       "1        -0.068853     -0.657777 -0.159376 -1.657086 -0.323238  0.523548   \n",
       "2        -0.068853     -0.657777 -0.159376  0.538666 -0.232526 -0.146815   \n",
       "3        -0.068853     -0.657777 -0.159376  0.294694 -0.277882  0.565446   \n",
       "4        -0.068853     -0.657777 -0.159376  0.294694 -0.096458 -0.230610   \n",
       "\n",
       "        BMI  heartRate   glucose  TenYearCHD  \n",
       "0  0.332750  -0.315983  0.187439           0  \n",
       "1  0.543196   0.771852  0.056434           0  \n",
       "2 -1.373095  -0.064944  0.624121           0  \n",
       "3  0.716503  -0.064944  0.449448           0  \n",
       "4 -1.373095   1.190250  0.187439           0  "
      ]
     },
     "execution_count": 81,
     "metadata": {},
     "output_type": "execute_result"
    }
   ],
   "source": [
    "heart_train.head()"
   ]
  },
  {
   "cell_type": "code",
   "execution_count": 82,
   "id": "ad9f4225-b2a2-47e6-9670-7b43acd6df79",
   "metadata": {},
   "outputs": [
    {
     "data": {
      "text/html": [
       "<div>\n",
       "<style scoped>\n",
       "    .dataframe tbody tr th:only-of-type {\n",
       "        vertical-align: middle;\n",
       "    }\n",
       "\n",
       "    .dataframe tbody tr th {\n",
       "        vertical-align: top;\n",
       "    }\n",
       "\n",
       "    .dataframe thead th {\n",
       "        text-align: right;\n",
       "    }\n",
       "</style>\n",
       "<table border=\"1\" class=\"dataframe\">\n",
       "  <thead>\n",
       "    <tr style=\"text-align: right;\">\n",
       "      <th></th>\n",
       "      <th>gender</th>\n",
       "      <th>age</th>\n",
       "      <th>education</th>\n",
       "      <th>currentSmoker</th>\n",
       "      <th>cigsPerDay</th>\n",
       "      <th>BPMeds</th>\n",
       "      <th>prevalentStroke</th>\n",
       "      <th>prevalentHyp</th>\n",
       "      <th>diabetes</th>\n",
       "      <th>totChol</th>\n",
       "      <th>sysBP</th>\n",
       "      <th>diaBP</th>\n",
       "      <th>BMI</th>\n",
       "      <th>heartRate</th>\n",
       "      <th>glucose</th>\n",
       "      <th>TenYearCHD</th>\n",
       "    </tr>\n",
       "  </thead>\n",
       "  <tbody>\n",
       "    <tr>\n",
       "      <th>0</th>\n",
       "      <td>-0.874871</td>\n",
       "      <td>0.741710</td>\n",
       "      <td>-0.936603</td>\n",
       "      <td>-0.973651</td>\n",
       "      <td>-0.752212</td>\n",
       "      <td>-0.186516</td>\n",
       "      <td>-0.068853</td>\n",
       "      <td>1.519824</td>\n",
       "      <td>6.272602</td>\n",
       "      <td>0.804818</td>\n",
       "      <td>0.175677</td>\n",
       "      <td>-0.230610</td>\n",
       "      <td>0.481300</td>\n",
       "      <td>1.190250</td>\n",
       "      <td>5.602301</td>\n",
       "      <td>1</td>\n",
       "    </tr>\n",
       "    <tr>\n",
       "      <th>1</th>\n",
       "      <td>-0.874871</td>\n",
       "      <td>-0.419782</td>\n",
       "      <td>0.042153</td>\n",
       "      <td>-0.973651</td>\n",
       "      <td>-0.752212</td>\n",
       "      <td>-0.186516</td>\n",
       "      <td>-0.068853</td>\n",
       "      <td>-0.657777</td>\n",
       "      <td>-0.159376</td>\n",
       "      <td>0.294694</td>\n",
       "      <td>-0.504662</td>\n",
       "      <td>-0.146815</td>\n",
       "      <td>0.728883</td>\n",
       "      <td>1.608649</td>\n",
       "      <td>-0.249244</td>\n",
       "      <td>0</td>\n",
       "    </tr>\n",
       "    <tr>\n",
       "      <th>2</th>\n",
       "      <td>-0.874871</td>\n",
       "      <td>0.277113</td>\n",
       "      <td>-0.936603</td>\n",
       "      <td>-0.973651</td>\n",
       "      <td>-0.752212</td>\n",
       "      <td>-0.186516</td>\n",
       "      <td>-0.068853</td>\n",
       "      <td>-0.657777</td>\n",
       "      <td>-0.159376</td>\n",
       "      <td>0.849177</td>\n",
       "      <td>-0.912865</td>\n",
       "      <td>-0.984768</td>\n",
       "      <td>-0.026245</td>\n",
       "      <td>0.353454</td>\n",
       "      <td>-0.161907</td>\n",
       "      <td>0</td>\n",
       "    </tr>\n",
       "    <tr>\n",
       "      <th>3</th>\n",
       "      <td>-0.874871</td>\n",
       "      <td>-0.419782</td>\n",
       "      <td>1.020909</td>\n",
       "      <td>1.026759</td>\n",
       "      <td>1.160765</td>\n",
       "      <td>-0.186516</td>\n",
       "      <td>-0.068853</td>\n",
       "      <td>-0.657777</td>\n",
       "      <td>-0.159376</td>\n",
       "      <td>1.070970</td>\n",
       "      <td>-0.096458</td>\n",
       "      <td>0.104571</td>\n",
       "      <td>-0.665008</td>\n",
       "      <td>0.771852</td>\n",
       "      <td>0.143770</td>\n",
       "      <td>0</td>\n",
       "    </tr>\n",
       "    <tr>\n",
       "      <th>4</th>\n",
       "      <td>1.142689</td>\n",
       "      <td>2.251650</td>\n",
       "      <td>-0.936603</td>\n",
       "      <td>1.026759</td>\n",
       "      <td>-0.669039</td>\n",
       "      <td>-0.186516</td>\n",
       "      <td>-0.068853</td>\n",
       "      <td>-0.657777</td>\n",
       "      <td>-0.159376</td>\n",
       "      <td>0.183797</td>\n",
       "      <td>-0.413950</td>\n",
       "      <td>-0.481996</td>\n",
       "      <td>0.196580</td>\n",
       "      <td>-0.483342</td>\n",
       "      <td>-0.030903</td>\n",
       "      <td>1</td>\n",
       "    </tr>\n",
       "  </tbody>\n",
       "</table>\n",
       "</div>"
      ],
      "text/plain": [
       "     gender       age  education  currentSmoker  cigsPerDay    BPMeds  \\\n",
       "0 -0.874871  0.741710  -0.936603      -0.973651   -0.752212 -0.186516   \n",
       "1 -0.874871 -0.419782   0.042153      -0.973651   -0.752212 -0.186516   \n",
       "2 -0.874871  0.277113  -0.936603      -0.973651   -0.752212 -0.186516   \n",
       "3 -0.874871 -0.419782   1.020909       1.026759    1.160765 -0.186516   \n",
       "4  1.142689  2.251650  -0.936603       1.026759   -0.669039 -0.186516   \n",
       "\n",
       "   prevalentStroke  prevalentHyp  diabetes   totChol     sysBP     diaBP  \\\n",
       "0        -0.068853      1.519824  6.272602  0.804818  0.175677 -0.230610   \n",
       "1        -0.068853     -0.657777 -0.159376  0.294694 -0.504662 -0.146815   \n",
       "2        -0.068853     -0.657777 -0.159376  0.849177 -0.912865 -0.984768   \n",
       "3        -0.068853     -0.657777 -0.159376  1.070970 -0.096458  0.104571   \n",
       "4        -0.068853     -0.657777 -0.159376  0.183797 -0.413950 -0.481996   \n",
       "\n",
       "        BMI  heartRate   glucose  TenYearCHD  \n",
       "0  0.481300   1.190250  5.602301           1  \n",
       "1  0.728883   1.608649 -0.249244           0  \n",
       "2 -0.026245   0.353454 -0.161907           0  \n",
       "3 -0.665008   0.771852  0.143770           0  \n",
       "4  0.196580  -0.483342 -0.030903           1  "
      ]
     },
     "execution_count": 82,
     "metadata": {},
     "output_type": "execute_result"
    }
   ],
   "source": [
    "heart_test.head()"
   ]
  },
  {
   "cell_type": "markdown",
   "id": "2bdec939-1ce5-4914-b111-d8a308237326",
   "metadata": {},
   "source": [
    "Our both datasets are free from missing values and are in normalised form now. We can begin to build logistic regression model."
   ]
  },
  {
   "cell_type": "code",
   "execution_count": 83,
   "id": "84d8f2cf-75a7-4346-93c2-3ff9eb3f9cfb",
   "metadata": {},
   "outputs": [],
   "source": [
    "# Preparing data for training and testing by separate features and target variable\n",
    "X_train = heart_train.drop(columns=['TenYearCHD']).values\n",
    "y_train = heart_train['TenYearCHD'].values\n",
    "\n",
    "X_test = heart_test.drop(columns=['TenYearCHD']).values\n",
    "y_test = heart_test['TenYearCHD'].values"
   ]
  },
  {
   "cell_type": "code",
   "execution_count": 84,
   "id": "fb296658-8748-4d81-b1f7-e4d0f77c21aa",
   "metadata": {},
   "outputs": [],
   "source": [
    "# Adding bias term to X\n",
    "X_train = np.c_[np.ones(X_train.shape[0]), X_train]\n",
    "X_test = np.c_[np.ones(X_test.shape[0]), X_test]"
   ]
  },
  {
   "cell_type": "code",
   "execution_count": 85,
   "id": "95e2354f-910d-4013-8439-3424cfe092e7",
   "metadata": {},
   "outputs": [],
   "source": [
    "# Initialize weights and setting other parameters\n",
    "# initializing with the same logic as in ques 1\n",
    "weights = np.random.randn(X_train.shape[1]) * 0.01\n",
    "\n",
    "m, n = X_train.shape\n",
    "learning_rate = 0.1\n",
    "epochs = 10"
   ]
  },
  {
   "cell_type": "markdown",
   "id": "493793d6-d05c-4d78-8a48-249de0f07688",
   "metadata": {},
   "source": [
    "<img src= \"attachment:3c7b316e-2a0c-4fe5-ac27-93c26c6c0813.png\" width=\"400\">"
   ]
  },
  {
   "cell_type": "markdown",
   "id": "f4b1e4ad-93a2-455a-aba8-8f212a28c508",
   "metadata": {},
   "source": [
    "Sigmoid function"
   ]
  },
  {
   "cell_type": "code",
   "execution_count": 86,
   "id": "b80b466e-bcc8-4bd6-9408-f84ba058dfb2",
   "metadata": {},
   "outputs": [],
   "source": [
    "def sigmoid(z):\n",
    "    return 1 / (1 + np.exp(-z))"
   ]
  },
  {
   "cell_type": "markdown",
   "id": "9bfee479-3c0d-428c-b169-85d056a01d3f",
   "metadata": {},
   "source": [
    "Cost function (Binary Cross-Entropy)"
   ]
  },
  {
   "cell_type": "code",
   "execution_count": 87,
   "id": "ef205668-60d5-4212-be67-aa5293c14d90",
   "metadata": {},
   "outputs": [],
   "source": [
    "def compute_cost(y, y_pred):\n",
    "    m = len(y)\n",
    "    cost = -(1 / m) * np.sum(y * np.log(y_pred) + (1 - y) * np.log(1 - y_pred))\n",
    "    return cost"
   ]
  },
  {
   "cell_type": "markdown",
   "id": "a7adbb7f-26a4-4c63-bcf3-286f7aaa7ecb",
   "metadata": {},
   "source": [
    "Gradient Descent Algorithm based on Logistic Regression"
   ]
  },
  {
   "cell_type": "markdown",
   "id": "a8c2bba1-e05c-419d-86d3-b36557ba99a2",
   "metadata": {},
   "source": [
    "From class slides:\n",
    "\n",
    "<img src= \"attachment:099f45c6-1cc4-41e3-b5ad-39da120dd97e.png\" width=\"300\">"
   ]
  },
  {
   "cell_type": "code",
   "execution_count": 88,
   "id": "7df49381-e19b-41e7-94de-935599d2ee53",
   "metadata": {},
   "outputs": [],
   "source": [
    "def gradient_descent(X, y, weights, learning_rate, epochs):\n",
    "    m = X.shape[0]\n",
    "    for epoch in range(epochs):\n",
    "        # z as per formula\n",
    "        z = np.dot(X, weights)\n",
    "        y_pred = sigmoid(z)\n",
    "        \n",
    "        # Compute cost\n",
    "        cost = compute_cost(y, y_pred)\n",
    "        print(f\"Epoch {epoch+1}, Cost: {cost}\")\n",
    "        \n",
    "        # Compute gradients\n",
    "        dw = (1 / m) * np.dot(X.T, (y_pred - y))\n",
    "        \n",
    "        # Update weights\n",
    "        weights -= learning_rate * dw\n",
    "    \n",
    "    return weights"
   ]
  },
  {
   "cell_type": "markdown",
   "id": "250da453-2083-4f33-9ba8-8ebd5d67450b",
   "metadata": {},
   "source": [
    "Prediction"
   ]
  },
  {
   "cell_type": "code",
   "execution_count": 89,
   "id": "835bfccc-6902-4b3e-b6ac-bd3b7d969c1c",
   "metadata": {},
   "outputs": [],
   "source": [
    "def predict(X, weights):\n",
    "    z = np.dot(X, weights)\n",
    "    y_pred = sigmoid(z)\n",
    "    return [1 if i >= 0.5 else 0 for i in y_pred]"
   ]
  },
  {
   "cell_type": "markdown",
   "id": "ce0dca05-2dd6-4b5e-8709-34f22f972624",
   "metadata": {},
   "source": [
    "Please print out the Cost function J for every iteration (until 10 epochs) for the train dataset."
   ]
  },
  {
   "cell_type": "markdown",
   "id": "c7101600-abe2-4f52-9240-99315193aec7",
   "metadata": {},
   "source": [
    "Train the model"
   ]
  },
  {
   "cell_type": "code",
   "execution_count": 90,
   "id": "1888243e-023c-4dee-9e3a-4c13fbbe5d88",
   "metadata": {},
   "outputs": [
    {
     "name": "stdout",
     "output_type": "stream",
     "text": [
      "Epoch 1, Cost: 0.6939275939216488\n",
      "Epoch 2, Cost: 0.6792177301857384\n",
      "Epoch 3, Cost: 0.66546804063382\n",
      "Epoch 4, Cost: 0.6525948555863147\n",
      "Epoch 5, Cost: 0.640523025413177\n",
      "Epoch 6, Cost: 0.6291851594335296\n",
      "Epoch 7, Cost: 0.618520860227914\n",
      "Epoch 8, Cost: 0.6084759855469655\n",
      "Epoch 9, Cost: 0.5990019574596301\n",
      "Epoch 10, Cost: 0.5900551291807082\n"
     ]
    }
   ],
   "source": [
    "optimal_weights = gradient_descent(X_train, y_train, weights, learning_rate, epochs)"
   ]
  },
  {
   "cell_type": "markdown",
   "id": "6a43bce8-1d4f-4dd5-8755-b9a405263e34",
   "metadata": {},
   "source": [
    "Make predictions on train and test sets"
   ]
  },
  {
   "cell_type": "code",
   "execution_count": 91,
   "id": "01f1a28b-a07a-4949-983a-a1d2507f5ae1",
   "metadata": {},
   "outputs": [],
   "source": [
    "train_predictions = predict(X_train, optimal_weights)\n",
    "test_predictions = predict(X_test, optimal_weights)"
   ]
  },
  {
   "cell_type": "markdown",
   "id": "25033119-a905-4a79-928a-c2bd5d401678",
   "metadata": {},
   "source": [
    "##### Evaluation"
   ]
  },
  {
   "cell_type": "markdown",
   "id": "aa215557-03a6-4059-bc4c-65606d6a02a5",
   "metadata": {},
   "source": [
    "Please print out confusion matrix and its corresponding accuracy, precision, and recall for the train and test dataset after the last iteration. "
   ]
  },
  {
   "cell_type": "markdown",
   "id": "4dfe422c-ab38-4bed-bd0a-ccaeb7993ab0",
   "metadata": {},
   "source": [
    "##### Confusion Matrix"
   ]
  },
  {
   "cell_type": "code",
   "execution_count": 92,
   "id": "66f8164b-57ae-4360-b515-9a2e9a37f69f",
   "metadata": {},
   "outputs": [],
   "source": [
    "def evaluate(y_true, y_pred):\n",
    "    tp = sum((y_true == 1) & (np.array(y_pred) == 1))\n",
    "    tn = sum((y_true == 0) & (np.array(y_pred) == 0))\n",
    "    fp = sum((y_true == 0) & (np.array(y_pred) == 1))\n",
    "    fn = sum((y_true == 1) & (np.array(y_pred) == 0))\n",
    "\n",
    "    print(\"\\nConfusion Matrix:\")\n",
    "    print(\"----------------\")\n",
    "    print(f\"            Predicted\")\n",
    "    print(f\"             1    0\")\n",
    "    print(f\"Actual  1  [TP:{tp:3d} FN:{fn:3d}]\")\n",
    "    print(f\"        0  [FP:{fp:3d} TN:{tn:3d}]\")\n",
    "    \n",
    "    accuracy = (tp + tn) / len(y_true)\n",
    "    precision = tp / (tp + fp) if (tp + fp) > 0 else 0\n",
    "    recall = tp / (tp + fn) if (tp + fn) > 0 else 0\n",
    "    \n",
    "    print(\"\\nMetrics:\")\n",
    "    print(f\"Accuracy:  {accuracy:.3f}\")\n",
    "    print(f\"Precision: {precision:.3f}\")\n",
    "    print(f\"Recall:    {recall:.3f}\")"
   ]
  },
  {
   "cell_type": "code",
   "execution_count": 93,
   "id": "a228ec8d-7d49-41bf-ba94-5c1d19b8c62e",
   "metadata": {},
   "outputs": [
    {
     "name": "stdout",
     "output_type": "stream",
     "text": [
      "\n",
      "Train Dataset Evaluation:\n",
      "\n",
      "Confusion Matrix:\n",
      "----------------\n",
      "            Predicted\n",
      "             1    0\n",
      "Actual  1  [TP: 79 FN:437]\n",
      "        0  [FP:100 TN:2774]\n",
      "\n",
      "Metrics:\n",
      "Accuracy:  0.842\n",
      "Precision: 0.441\n",
      "Recall:    0.153\n"
     ]
    }
   ],
   "source": [
    "# Evaluate on train dataset\n",
    "print(\"\\nTrain Dataset Evaluation:\")\n",
    "evaluate(y_train, train_predictions)"
   ]
  },
  {
   "cell_type": "code",
   "execution_count": 94,
   "id": "5da6274e-8a92-4c2b-ad2d-aa633f0456f4",
   "metadata": {},
   "outputs": [
    {
     "name": "stdout",
     "output_type": "stream",
     "text": [
      "\n",
      "Test Dataset Evaluation:\n",
      "\n",
      "Confusion Matrix:\n",
      "----------------\n",
      "            Predicted\n",
      "             1    0\n",
      "Actual  1  [TP: 23 FN:105]\n",
      "        0  [FP: 25 TN:695]\n",
      "\n",
      "Metrics:\n",
      "Accuracy:  0.847\n",
      "Precision: 0.479\n",
      "Recall:    0.180\n"
     ]
    }
   ],
   "source": [
    "# Evaluate on test dataset\n",
    "print(\"\\nTest Dataset Evaluation:\")\n",
    "evaluate(y_test, test_predictions)"
   ]
  },
  {
   "cell_type": "markdown",
   "id": "4098877a-1836-4585-9542-c1c9d7e18289",
   "metadata": {},
   "source": [
    "The model shows an accuracy of approximately 83-84% on both the train and test datasets. However, this seems to be misleading, if we notice the precision and recall metrics for both train and test datasets. On the train set, the precision is 0.441 and recall is 0.153, while on the test set, precision improves slightly to 0.479 and recall increases to 0.180. This tells that the model is more effective at reducing false positives (higher precision) but struggles with capturing a good portion of the actual positive cases (relatively low recall).\n",
    "\n",
    "This low recall tells also tells us that dataset is imbalanced. In such cases, model predicts well on majority class(here '0') and struggles to classify minority class(here '1'). The model is maintaining high overall accuracy due to correct prediction of the majority class. The low recall tells us that model is missing many of the positive cases. "
   ]
  },
  {
   "cell_type": "markdown",
   "id": "d9ed56aa-15da-4258-afff-708da10e606a",
   "metadata": {},
   "source": [
    "Original Requirement for the assignment is finished at this point. Trying additional things to improve the results."
   ]
  },
  {
   "cell_type": "markdown",
   "id": "91209373-a474-46fe-9f2a-8cb9c5399c51",
   "metadata": {},
   "source": [
    "### ============================================="
   ]
  },
  {
   "cell_type": "markdown",
   "id": "c6c4b6ed-ae78-4083-b161-5f2a403f68f4",
   "metadata": {},
   "source": [
    "## Trying to Address imbalance by using weighted cost function"
   ]
  },
  {
   "cell_type": "markdown",
   "id": "f121a39e-a13e-42d5-9d18-0a5c2a05b055",
   "metadata": {},
   "source": [
    "Applying higher weights to the minority class and lower to majority class to allow balance for the dataset. Updated the cost function to use the calculated weights."
   ]
  },
  {
   "cell_type": "code",
   "execution_count": 95,
   "id": "36856e05-31e9-43d4-97dc-502faaabdc7c",
   "metadata": {},
   "outputs": [],
   "source": [
    "def compute_cost_w(y, y_pred, w1, w0):\n",
    "    m = len(y)\n",
    "    cost = - (1 / m) * np.sum(\n",
    "        w1 * y * np.log(y_pred + 1e-15) + \n",
    "        w0 * (1 - y) * np.log(1 - y_pred + 1e-15)\n",
    "    )\n",
    "    return cost"
   ]
  },
  {
   "cell_type": "code",
   "execution_count": 96,
   "id": "5aa27983-6b08-4582-aebf-db2efa26aeaa",
   "metadata": {},
   "outputs": [],
   "source": [
    "def gradient_descent_w(X, y, weights, learning_rate, epochs):\n",
    "    m = len(y)\n",
    "    \n",
    "    pos_count = np.sum(y)\n",
    "    neg_count = m - pos_count\n",
    "    w1 = m / (2 * pos_count)\n",
    "    w0 = m / (2 * neg_count)\n",
    "    \n",
    "    for epoch in range(epochs):\n",
    "        z = np.dot(X, weights)\n",
    "        y_pred = sigmoid(z)\n",
    "        \n",
    "        cost = compute_cost_w(y, y_pred, w1, w0)\n",
    "        print(f\"Epoch {epoch+1}, Cost: {cost}\")\n",
    "        dw = (1 / m) * np.dot(X.T, (y_pred - y))\n",
    "        \n",
    "        weights -= learning_rate * dw\n",
    "    \n",
    "    return weights"
   ]
  },
  {
   "cell_type": "code",
   "execution_count": 97,
   "id": "af6c61f1-5f10-4ea8-a0aa-841857e50089",
   "metadata": {},
   "outputs": [],
   "source": [
    "def predict_w(X, weights):\n",
    "    z = np.dot(X, weights)\n",
    "    y_pred = sigmoid(z)\n",
    "    return [1 if i >= 0.5 else 0 for i in y_pred]"
   ]
  },
  {
   "cell_type": "code",
   "execution_count": 98,
   "id": "7b828f8b-3c0b-4e23-a269-9b96e2923ccb",
   "metadata": {},
   "outputs": [
    {
     "name": "stdout",
     "output_type": "stream",
     "text": [
      "Epoch 1, Cost: 0.6924977446891223\n",
      "Epoch 2, Cost: 0.6878514814752195\n",
      "Epoch 3, Cost: 0.6838852667699582\n",
      "Epoch 4, Cost: 0.6805289367686805\n",
      "Epoch 5, Cost: 0.6777198992467847\n",
      "Epoch 6, Cost: 0.6754023698599398\n",
      "Epoch 7, Cost: 0.6735266395452729\n",
      "Epoch 8, Cost: 0.6720483916123675\n",
      "Epoch 9, Cost: 0.670928078135847\n",
      "Epoch 10, Cost: 0.6701303589975697\n"
     ]
    }
   ],
   "source": [
    "weights = np.random.randn(X_train.shape[1]) * 0.01\n",
    "\n",
    "m, n = X_train.shape\n",
    "learning_rate = 0.1\n",
    "epochs = 10\n",
    "\n",
    "optimal_weights_w = gradient_descent_w(X_train, y_train, weights, learning_rate, epochs)"
   ]
  },
  {
   "cell_type": "code",
   "execution_count": 99,
   "id": "c8fa1d8d-16fb-4d82-b2af-3cb618d69d3d",
   "metadata": {},
   "outputs": [],
   "source": [
    "train_predictions_w = predict_w(X_train, optimal_weights_w)\n",
    "test_predictions_w = predict_w(X_test, optimal_weights_w)"
   ]
  },
  {
   "cell_type": "code",
   "execution_count": 100,
   "id": "42517f68-6e6e-48dc-9449-3c436d4043bf",
   "metadata": {},
   "outputs": [
    {
     "name": "stdout",
     "output_type": "stream",
     "text": [
      "\n",
      "Train Dataset Evaluation:\n",
      "\n",
      "Confusion Matrix:\n",
      "----------------\n",
      "            Predicted\n",
      "             1    0\n",
      "Actual  1  [TP:107 FN:409]\n",
      "        0  [FP:143 TN:2731]\n",
      "\n",
      "Metrics:\n",
      "Accuracy:  0.837\n",
      "Precision: 0.428\n",
      "Recall:    0.207\n"
     ]
    }
   ],
   "source": [
    "print(\"\\nTrain Dataset Evaluation:\")\n",
    "evaluate(y_train, train_predictions_w)"
   ]
  },
  {
   "cell_type": "code",
   "execution_count": 101,
   "id": "fdcecd03-8171-438e-8d30-b0b7f1b315d9",
   "metadata": {},
   "outputs": [
    {
     "name": "stdout",
     "output_type": "stream",
     "text": [
      "\n",
      "Test Dataset Evaluation:\n",
      "\n",
      "Confusion Matrix:\n",
      "----------------\n",
      "            Predicted\n",
      "             1    0\n",
      "Actual  1  [TP: 27 FN:101]\n",
      "        0  [FP: 38 TN:682]\n",
      "\n",
      "Metrics:\n",
      "Accuracy:  0.836\n",
      "Precision: 0.415\n",
      "Recall:    0.211\n"
     ]
    }
   ],
   "source": [
    "print(\"\\nTest Dataset Evaluation:\")\n",
    "evaluate(y_test, test_predictions_w)"
   ]
  },
  {
   "cell_type": "markdown",
   "id": "6129d31b-2c3d-4872-8e18-648747ab79f9",
   "metadata": {},
   "source": [
    "Looking at the results, we don't see any improvement over the original model which did not consider weights. Trying an alternate approach. "
   ]
  },
  {
   "cell_type": "markdown",
   "id": "16d0ed83-91c4-422e-a7c6-722c1fc7bd4a",
   "metadata": {},
   "source": [
    "## Trying to address imbalance using SMOTE method"
   ]
  },
  {
   "cell_type": "markdown",
   "id": "57ec08e4-60ef-4fc4-aa00-0be1c7776cb6",
   "metadata": {},
   "source": [
    "Creating synthetic data for the minority class to balance the training dataset."
   ]
  },
  {
   "cell_type": "code",
   "execution_count": 102,
   "id": "82d069b2-395b-49bb-8dd2-3887e7a14169",
   "metadata": {},
   "outputs": [],
   "source": [
    "from imblearn.over_sampling import SMOTE\n",
    "import numpy as np\n",
    "\n",
    "smote = SMOTE(random_state=42)\n",
    "X_balanced, y_balanced = smote.fit_resample(X_train, y_train)"
   ]
  },
  {
   "cell_type": "code",
   "execution_count": 103,
   "id": "f49abf89-109c-4e1d-b47e-b64d20d58a73",
   "metadata": {},
   "outputs": [
    {
     "name": "stdout",
     "output_type": "stream",
     "text": [
      "Epoch 1, Cost: 0.6931471805599453\n",
      "Epoch 2, Cost: 0.6921968127898235\n",
      "Epoch 3, Cost: 0.6912618768164219\n",
      "Epoch 4, Cost: 0.6903420909159323\n",
      "Epoch 5, Cost: 0.6894371777202472\n",
      "Epoch 6, Cost: 0.6885468642193586\n",
      "Epoch 7, Cost: 0.6876708817590796\n",
      "Epoch 8, Cost: 0.6868089660343142\n",
      "Epoch 9, Cost: 0.6859608570781046\n",
      "Epoch 10, Cost: 0.6851262992466836\n"
     ]
    }
   ],
   "source": [
    "weights = np.zeros(X_balanced.shape[1])\n",
    "learning_rate = 0.01\n",
    "epochs = 10\n",
    "\n",
    "trained_weights = gradient_descent(X_balanced, y_balanced, weights, learning_rate, epochs)"
   ]
  },
  {
   "cell_type": "code",
   "execution_count": 104,
   "id": "c3036395-33a5-4ba1-b352-6cd346487b52",
   "metadata": {},
   "outputs": [],
   "source": [
    "def predict_sm(X, weights, threshold=0.5):\n",
    "    z = np.dot(X, weights)\n",
    "    y_pred = sigmoid(z)\n",
    "    return (y_pred >= threshold).astype(int)"
   ]
  },
  {
   "cell_type": "code",
   "execution_count": 105,
   "id": "ccae6ea9-223c-4697-8833-080ff301f3c2",
   "metadata": {},
   "outputs": [],
   "source": [
    "train_predictions_sm = predict_sm(X_balanced, trained_weights)\n",
    "test_predictions_sm = predict_sm(X_test, trained_weights)"
   ]
  },
  {
   "cell_type": "code",
   "execution_count": 106,
   "id": "27b5e99f-4a43-4f36-94c4-ecebb45ec156",
   "metadata": {},
   "outputs": [
    {
     "name": "stdout",
     "output_type": "stream",
     "text": [
      "\n",
      "Train Dataset Evaluation:\n",
      "\n",
      "Confusion Matrix:\n",
      "----------------\n",
      "            Predicted\n",
      "             1    0\n",
      "Actual  1  [TP:1945 FN:929]\n",
      "        0  [FP:1103 TN:1771]\n",
      "\n",
      "Metrics:\n",
      "Accuracy:  0.646\n",
      "Precision: 0.638\n",
      "Recall:    0.677\n"
     ]
    }
   ],
   "source": [
    "print(\"\\nTrain Dataset Evaluation:\")\n",
    "evaluate(y_balanced, train_predictions_sm)"
   ]
  },
  {
   "cell_type": "code",
   "execution_count": 107,
   "id": "c9f0adbe-221b-4b7d-b940-548d98ad45db",
   "metadata": {},
   "outputs": [
    {
     "name": "stdout",
     "output_type": "stream",
     "text": [
      "\n",
      "Test Dataset Evaluation:\n",
      "\n",
      "Confusion Matrix:\n",
      "----------------\n",
      "            Predicted\n",
      "             1    0\n",
      "Actual  1  [TP: 96 FN: 32]\n",
      "        0  [FP:291 TN:429]\n",
      "\n",
      "Metrics:\n",
      "Accuracy:  0.619\n",
      "Precision: 0.248\n",
      "Recall:    0.750\n"
     ]
    }
   ],
   "source": [
    "print(\"\\nTest Dataset Evaluation:\")\n",
    "evaluate(y_test, test_predictions_sm)"
   ]
  },
  {
   "cell_type": "markdown",
   "id": "a8e3edc9-d8ad-4ec4-99ca-cc02b306f548",
   "metadata": {},
   "source": [
    "Results seem promising on the Train dataset with high precision and recall. However, low precision on test dataset means the model is overfitting. Further exploration use regularization techniques can be evaluated. "
   ]
  },
  {
   "cell_type": "markdown",
   "id": "4f5b6815-2f3a-42e7-88c5-b866b0beb601",
   "metadata": {},
   "source": [
    "## Thank you!"
   ]
  }
 ],
 "metadata": {
  "kernelspec": {
   "display_name": "Python 3 (ipykernel)",
   "language": "python",
   "name": "python3"
  },
  "language_info": {
   "codemirror_mode": {
    "name": "ipython",
    "version": 3
   },
   "file_extension": ".py",
   "mimetype": "text/x-python",
   "name": "python",
   "nbconvert_exporter": "python",
   "pygments_lexer": "ipython3",
   "version": "3.12.3"
  }
 },
 "nbformat": 4,
 "nbformat_minor": 5
}
