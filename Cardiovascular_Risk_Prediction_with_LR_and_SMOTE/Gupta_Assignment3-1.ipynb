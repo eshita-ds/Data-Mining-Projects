{
 "cells": [
  {
   "cell_type": "markdown",
   "id": "d96b3869-6a1f-48aa-8955-94c0aa673e75",
   "metadata": {},
   "source": [
    "## DATA 240: Assignment No: 3"
   ]
  },
  {
   "cell_type": "markdown",
   "id": "b39d14c2-c7a3-47dd-841c-0d24b67e9526",
   "metadata": {},
   "source": [
    "### 1. Linear regression with gradient decent "
   ]
  },
  {
   "cell_type": "markdown",
   "id": "0d3e3de4-9664-4890-9be2-59861926714e",
   "metadata": {},
   "source": [
    "Please download housing.csv. This is a real-life dataset consisting of housing sales prices in the city of Windsor,\n",
    "Ontario, Canada. You can find a description of the variables in housing.txt. Our target variable is ‘price’"
   ]
  },
  {
   "cell_type": "markdown",
   "id": "5aff1a90-a610-4261-9115-095a1ff0397f",
   "metadata": {},
   "source": [
    "Importing only the allowed libraries"
   ]
  },
  {
   "cell_type": "code",
   "execution_count": 1,
   "id": "dfd7e3d4-473e-4e70-a6c5-d4d633027b4c",
   "metadata": {},
   "outputs": [],
   "source": [
    "import pandas as pd\n",
    "import numpy as np\n",
    "import matplotlib.pyplot as plt"
   ]
  },
  {
   "cell_type": "code",
   "execution_count": 2,
   "id": "d6d3d371-bea2-4be8-90d7-712695a82fbd",
   "metadata": {},
   "outputs": [],
   "source": [
    "housing_df = pd.read_csv('housing.csv')"
   ]
  },
  {
   "cell_type": "code",
   "execution_count": 3,
   "id": "bd1bfa7f-4893-4e13-b26c-aae3840f70f2",
   "metadata": {},
   "outputs": [
    {
     "data": {
      "text/html": [
       "<div>\n",
       "<style scoped>\n",
       "    .dataframe tbody tr th:only-of-type {\n",
       "        vertical-align: middle;\n",
       "    }\n",
       "\n",
       "    .dataframe tbody tr th {\n",
       "        vertical-align: top;\n",
       "    }\n",
       "\n",
       "    .dataframe thead th {\n",
       "        text-align: right;\n",
       "    }\n",
       "</style>\n",
       "<table border=\"1\" class=\"dataframe\">\n",
       "  <thead>\n",
       "    <tr style=\"text-align: right;\">\n",
       "      <th></th>\n",
       "      <th>price</th>\n",
       "      <th>lotsize</th>\n",
       "      <th>bedrooms</th>\n",
       "      <th>bathrms</th>\n",
       "      <th>stories</th>\n",
       "      <th>driveway</th>\n",
       "      <th>recroom</th>\n",
       "      <th>fullbase</th>\n",
       "      <th>gashw</th>\n",
       "      <th>airco</th>\n",
       "      <th>garagepl</th>\n",
       "      <th>prefarea</th>\n",
       "    </tr>\n",
       "  </thead>\n",
       "  <tbody>\n",
       "    <tr>\n",
       "      <th>0</th>\n",
       "      <td>42000</td>\n",
       "      <td>5850</td>\n",
       "      <td>3</td>\n",
       "      <td>1</td>\n",
       "      <td>2</td>\n",
       "      <td>yes</td>\n",
       "      <td>no</td>\n",
       "      <td>yes</td>\n",
       "      <td>no</td>\n",
       "      <td>no</td>\n",
       "      <td>1</td>\n",
       "      <td>no</td>\n",
       "    </tr>\n",
       "    <tr>\n",
       "      <th>1</th>\n",
       "      <td>38500</td>\n",
       "      <td>4000</td>\n",
       "      <td>2</td>\n",
       "      <td>1</td>\n",
       "      <td>1</td>\n",
       "      <td>yes</td>\n",
       "      <td>no</td>\n",
       "      <td>no</td>\n",
       "      <td>no</td>\n",
       "      <td>no</td>\n",
       "      <td>0</td>\n",
       "      <td>no</td>\n",
       "    </tr>\n",
       "    <tr>\n",
       "      <th>2</th>\n",
       "      <td>49500</td>\n",
       "      <td>3060</td>\n",
       "      <td>3</td>\n",
       "      <td>1</td>\n",
       "      <td>1</td>\n",
       "      <td>yes</td>\n",
       "      <td>no</td>\n",
       "      <td>no</td>\n",
       "      <td>no</td>\n",
       "      <td>no</td>\n",
       "      <td>0</td>\n",
       "      <td>no</td>\n",
       "    </tr>\n",
       "    <tr>\n",
       "      <th>3</th>\n",
       "      <td>60500</td>\n",
       "      <td>6650</td>\n",
       "      <td>3</td>\n",
       "      <td>1</td>\n",
       "      <td>2</td>\n",
       "      <td>yes</td>\n",
       "      <td>yes</td>\n",
       "      <td>no</td>\n",
       "      <td>no</td>\n",
       "      <td>no</td>\n",
       "      <td>0</td>\n",
       "      <td>no</td>\n",
       "    </tr>\n",
       "    <tr>\n",
       "      <th>4</th>\n",
       "      <td>61000</td>\n",
       "      <td>6360</td>\n",
       "      <td>2</td>\n",
       "      <td>1</td>\n",
       "      <td>1</td>\n",
       "      <td>yes</td>\n",
       "      <td>no</td>\n",
       "      <td>no</td>\n",
       "      <td>no</td>\n",
       "      <td>no</td>\n",
       "      <td>0</td>\n",
       "      <td>no</td>\n",
       "    </tr>\n",
       "  </tbody>\n",
       "</table>\n",
       "</div>"
      ],
      "text/plain": [
       "   price  lotsize  bedrooms  bathrms  stories driveway recroom fullbase gashw  \\\n",
       "0  42000     5850         3        1        2      yes      no      yes    no   \n",
       "1  38500     4000         2        1        1      yes      no       no    no   \n",
       "2  49500     3060         3        1        1      yes      no       no    no   \n",
       "3  60500     6650         3        1        2      yes     yes       no    no   \n",
       "4  61000     6360         2        1        1      yes      no       no    no   \n",
       "\n",
       "  airco  garagepl prefarea  \n",
       "0    no         1       no  \n",
       "1    no         0       no  \n",
       "2    no         0       no  \n",
       "3    no         0       no  \n",
       "4    no         0       no  "
      ]
     },
     "execution_count": 3,
     "metadata": {},
     "output_type": "execute_result"
    }
   ],
   "source": [
    "housing_df.head()"
   ]
  },
  {
   "cell_type": "code",
   "execution_count": 4,
   "id": "1a568191-6a0b-4468-97d1-2a2f96b92b76",
   "metadata": {},
   "outputs": [
    {
     "data": {
      "text/plain": [
       "(546, 12)"
      ]
     },
     "execution_count": 4,
     "metadata": {},
     "output_type": "execute_result"
    }
   ],
   "source": [
    "housing_df.shape"
   ]
  },
  {
   "cell_type": "markdown",
   "id": "2b8a029d-1cca-4d67-b007-c3deb56acf95",
   "metadata": {},
   "source": [
    "Description of columns: \n",
    "\n",
    "sell = sale price of a house \\\n",
    "lot = the lot size of a property in square feet \\\n",
    "bdms = the number of bedrooms \\\n",
    "fb = the number of full bathrooms \\\n",
    "sty = the number of stories excluding basement \\\n",
    "drv = 1 if the house has a driveway \\\n",
    "rec = 1 if the house has a recreational room \\\n",
    "ffin = 1 if the house has a full finished basement \\\n",
    "ghw = 1 if the house uses gas for hot water heating \\\n",
    "ca = 1 if there is central air conditioning \\\n",
    "gar = the number of garage places \\\n",
    "reg = 1 if the house is located in the preferred neighbourhood of the city"
   ]
  },
  {
   "cell_type": "code",
   "execution_count": 5,
   "id": "3dfbeb76-c3e1-4bc7-98ed-0727c2bd303a",
   "metadata": {},
   "outputs": [
    {
     "data": {
      "text/plain": [
       "price       0\n",
       "lotsize     0\n",
       "bedrooms    0\n",
       "bathrms     0\n",
       "stories     0\n",
       "driveway    0\n",
       "recroom     0\n",
       "fullbase    0\n",
       "gashw       0\n",
       "airco       0\n",
       "garagepl    0\n",
       "prefarea    0\n",
       "dtype: int64"
      ]
     },
     "execution_count": 5,
     "metadata": {},
     "output_type": "execute_result"
    }
   ],
   "source": [
    "housing_df.isna().sum()"
   ]
  },
  {
   "cell_type": "markdown",
   "id": "dd68e7cd-c314-44ca-a6a6-56cfa1905dd6",
   "metadata": {},
   "source": [
    "There are no missing values in housing.csv"
   ]
  },
  {
   "cell_type": "code",
   "execution_count": 6,
   "id": "1e9a935c-725d-49a0-92fe-4fd40df53487",
   "metadata": {},
   "outputs": [
    {
     "data": {
      "text/plain": [
       "price        int64\n",
       "lotsize      int64\n",
       "bedrooms     int64\n",
       "bathrms      int64\n",
       "stories      int64\n",
       "driveway    object\n",
       "recroom     object\n",
       "fullbase    object\n",
       "gashw       object\n",
       "airco       object\n",
       "garagepl     int64\n",
       "prefarea    object\n",
       "dtype: object"
      ]
     },
     "execution_count": 6,
     "metadata": {},
     "output_type": "execute_result"
    }
   ],
   "source": [
    "housing_df.dtypes"
   ]
  },
  {
   "cell_type": "markdown",
   "id": "fad69bc9-7bcf-4582-a425-c06c7f922893",
   "metadata": {},
   "source": [
    "Checking the unique values, the categorical columns possesses."
   ]
  },
  {
   "cell_type": "code",
   "execution_count": 7,
   "id": "d2ce99aa-bdf1-4a44-afe7-f5a0f61cf66f",
   "metadata": {},
   "outputs": [
    {
     "data": {
      "text/plain": [
       "array([3, 2, 4, 1, 5, 6])"
      ]
     },
     "execution_count": 7,
     "metadata": {},
     "output_type": "execute_result"
    }
   ],
   "source": [
    "housing_df['bedrooms'].unique()"
   ]
  },
  {
   "cell_type": "code",
   "execution_count": 8,
   "id": "77d321c3-2964-4c7f-bb18-7460ec1ef952",
   "metadata": {},
   "outputs": [
    {
     "data": {
      "text/plain": [
       "array([1, 2, 3, 4])"
      ]
     },
     "execution_count": 8,
     "metadata": {},
     "output_type": "execute_result"
    }
   ],
   "source": [
    "housing_df['bathrms'].unique()\n"
   ]
  },
  {
   "cell_type": "code",
   "execution_count": 9,
   "id": "d9d8dde4-a62b-4699-9e07-6b27f7083948",
   "metadata": {},
   "outputs": [
    {
     "data": {
      "text/plain": [
       "array([2, 1, 3, 4])"
      ]
     },
     "execution_count": 9,
     "metadata": {},
     "output_type": "execute_result"
    }
   ],
   "source": [
    "housing_df['stories'].unique()"
   ]
  },
  {
   "cell_type": "code",
   "execution_count": 10,
   "id": "de3ebee2-c2c1-480c-a04e-5e5e8fcfaea6",
   "metadata": {},
   "outputs": [
    {
     "data": {
      "text/plain": [
       "array(['yes', 'no'], dtype=object)"
      ]
     },
     "execution_count": 10,
     "metadata": {},
     "output_type": "execute_result"
    }
   ],
   "source": [
    "housing_df['driveway'].unique()"
   ]
  },
  {
   "cell_type": "code",
   "execution_count": 11,
   "id": "db56a678-a77e-4d6a-b95b-99c107758222",
   "metadata": {},
   "outputs": [
    {
     "data": {
      "text/plain": [
       "array([1, 0, 2, 3])"
      ]
     },
     "execution_count": 11,
     "metadata": {},
     "output_type": "execute_result"
    }
   ],
   "source": [
    "housing_df['garagepl'].unique()"
   ]
  },
  {
   "cell_type": "markdown",
   "id": "b0d048a1-3d6e-480d-9020-91e57e520cd1",
   "metadata": {},
   "source": [
    "Mapping categorical columns having object datatype to binary values"
   ]
  },
  {
   "cell_type": "code",
   "execution_count": 12,
   "id": "cea02f29-4f35-4fb1-98f8-23ce1b48d5f5",
   "metadata": {},
   "outputs": [],
   "source": [
    "categorical_columns = ['driveway', 'recroom', 'fullbase', 'gashw', 'airco', 'prefarea']\n",
    "for col in categorical_columns:\n",
    "    housing_df[col] = housing_df[col].map({'yes': 1, 'no': 0})"
   ]
  },
  {
   "cell_type": "code",
   "execution_count": 13,
   "id": "a2857620-52f7-4b00-929e-e43e7040873d",
   "metadata": {},
   "outputs": [
    {
     "data": {
      "text/html": [
       "<div>\n",
       "<style scoped>\n",
       "    .dataframe tbody tr th:only-of-type {\n",
       "        vertical-align: middle;\n",
       "    }\n",
       "\n",
       "    .dataframe tbody tr th {\n",
       "        vertical-align: top;\n",
       "    }\n",
       "\n",
       "    .dataframe thead th {\n",
       "        text-align: right;\n",
       "    }\n",
       "</style>\n",
       "<table border=\"1\" class=\"dataframe\">\n",
       "  <thead>\n",
       "    <tr style=\"text-align: right;\">\n",
       "      <th></th>\n",
       "      <th>price</th>\n",
       "      <th>lotsize</th>\n",
       "      <th>bedrooms</th>\n",
       "      <th>bathrms</th>\n",
       "      <th>stories</th>\n",
       "      <th>driveway</th>\n",
       "      <th>recroom</th>\n",
       "      <th>fullbase</th>\n",
       "      <th>gashw</th>\n",
       "      <th>airco</th>\n",
       "      <th>garagepl</th>\n",
       "      <th>prefarea</th>\n",
       "    </tr>\n",
       "  </thead>\n",
       "  <tbody>\n",
       "    <tr>\n",
       "      <th>0</th>\n",
       "      <td>42000</td>\n",
       "      <td>5850</td>\n",
       "      <td>3</td>\n",
       "      <td>1</td>\n",
       "      <td>2</td>\n",
       "      <td>1</td>\n",
       "      <td>0</td>\n",
       "      <td>1</td>\n",
       "      <td>0</td>\n",
       "      <td>0</td>\n",
       "      <td>1</td>\n",
       "      <td>0</td>\n",
       "    </tr>\n",
       "    <tr>\n",
       "      <th>1</th>\n",
       "      <td>38500</td>\n",
       "      <td>4000</td>\n",
       "      <td>2</td>\n",
       "      <td>1</td>\n",
       "      <td>1</td>\n",
       "      <td>1</td>\n",
       "      <td>0</td>\n",
       "      <td>0</td>\n",
       "      <td>0</td>\n",
       "      <td>0</td>\n",
       "      <td>0</td>\n",
       "      <td>0</td>\n",
       "    </tr>\n",
       "    <tr>\n",
       "      <th>2</th>\n",
       "      <td>49500</td>\n",
       "      <td>3060</td>\n",
       "      <td>3</td>\n",
       "      <td>1</td>\n",
       "      <td>1</td>\n",
       "      <td>1</td>\n",
       "      <td>0</td>\n",
       "      <td>0</td>\n",
       "      <td>0</td>\n",
       "      <td>0</td>\n",
       "      <td>0</td>\n",
       "      <td>0</td>\n",
       "    </tr>\n",
       "    <tr>\n",
       "      <th>3</th>\n",
       "      <td>60500</td>\n",
       "      <td>6650</td>\n",
       "      <td>3</td>\n",
       "      <td>1</td>\n",
       "      <td>2</td>\n",
       "      <td>1</td>\n",
       "      <td>1</td>\n",
       "      <td>0</td>\n",
       "      <td>0</td>\n",
       "      <td>0</td>\n",
       "      <td>0</td>\n",
       "      <td>0</td>\n",
       "    </tr>\n",
       "    <tr>\n",
       "      <th>4</th>\n",
       "      <td>61000</td>\n",
       "      <td>6360</td>\n",
       "      <td>2</td>\n",
       "      <td>1</td>\n",
       "      <td>1</td>\n",
       "      <td>1</td>\n",
       "      <td>0</td>\n",
       "      <td>0</td>\n",
       "      <td>0</td>\n",
       "      <td>0</td>\n",
       "      <td>0</td>\n",
       "      <td>0</td>\n",
       "    </tr>\n",
       "  </tbody>\n",
       "</table>\n",
       "</div>"
      ],
      "text/plain": [
       "   price  lotsize  bedrooms  bathrms  stories  driveway  recroom  fullbase  \\\n",
       "0  42000     5850         3        1        2         1        0         1   \n",
       "1  38500     4000         2        1        1         1        0         0   \n",
       "2  49500     3060         3        1        1         1        0         0   \n",
       "3  60500     6650         3        1        2         1        1         0   \n",
       "4  61000     6360         2        1        1         1        0         0   \n",
       "\n",
       "   gashw  airco  garagepl  prefarea  \n",
       "0      0      0         1         0  \n",
       "1      0      0         0         0  \n",
       "2      0      0         0         0  \n",
       "3      0      0         0         0  \n",
       "4      0      0         0         0  "
      ]
     },
     "execution_count": 13,
     "metadata": {},
     "output_type": "execute_result"
    }
   ],
   "source": [
    "housing_df.head()"
   ]
  },
  {
   "cell_type": "code",
   "execution_count": 14,
   "id": "9e271a23-9080-49d7-911a-cc8d42737601",
   "metadata": {},
   "outputs": [
    {
     "data": {
      "text/plain": [
       "price       int64\n",
       "lotsize     int64\n",
       "bedrooms    int64\n",
       "bathrms     int64\n",
       "stories     int64\n",
       "driveway    int64\n",
       "recroom     int64\n",
       "fullbase    int64\n",
       "gashw       int64\n",
       "airco       int64\n",
       "garagepl    int64\n",
       "prefarea    int64\n",
       "dtype: object"
      ]
     },
     "execution_count": 14,
     "metadata": {},
     "output_type": "execute_result"
    }
   ],
   "source": [
    "housing_df.dtypes"
   ]
  },
  {
   "cell_type": "markdown",
   "id": "6ba8d7a8-edde-40e5-8a5b-0ad0bdb62f6d",
   "metadata": {},
   "source": [
    "housing.csv now has all numerical values and int datatype"
   ]
  },
  {
   "cell_type": "markdown",
   "id": "ce6638bd-bb75-4ef1-97ae-df3441c7c6a4",
   "metadata": {},
   "source": [
    "Linear regression using gradient descent method from scratch. Before starting to implement gradient descent, we shall normalise all the variables excluding price (which is our target variable) using Z-score Normalisation."
   ]
  },
  {
   "cell_type": "code",
   "execution_count": 15,
   "id": "918ab14d-67ee-4efa-82b6-82a4eda63cf2",
   "metadata": {},
   "outputs": [],
   "source": [
    "X = housing_df.drop(columns=['price'])\n",
    "y = housing_df['price']"
   ]
  },
  {
   "cell_type": "markdown",
   "id": "49dadce7-645a-4383-a87e-4bbfa2b14718",
   "metadata": {},
   "source": [
    "Z-Score Normalisation"
   ]
  },
  {
   "cell_type": "code",
   "execution_count": 16,
   "id": "84978ed8-a033-4b96-8d88-29cada1f708d",
   "metadata": {},
   "outputs": [],
   "source": [
    "X_norm = (X - X.mean()) / X.std()"
   ]
  },
  {
   "cell_type": "code",
   "execution_count": 17,
   "id": "a76b22c3-f61b-4272-9774-ebc1ba04d22d",
   "metadata": {},
   "outputs": [
    {
     "data": {
      "text/html": [
       "<div>\n",
       "<style scoped>\n",
       "    .dataframe tbody tr th:only-of-type {\n",
       "        vertical-align: middle;\n",
       "    }\n",
       "\n",
       "    .dataframe tbody tr th {\n",
       "        vertical-align: top;\n",
       "    }\n",
       "\n",
       "    .dataframe thead th {\n",
       "        text-align: right;\n",
       "    }\n",
       "</style>\n",
       "<table border=\"1\" class=\"dataframe\">\n",
       "  <thead>\n",
       "    <tr style=\"text-align: right;\">\n",
       "      <th></th>\n",
       "      <th>lotsize</th>\n",
       "      <th>bedrooms</th>\n",
       "      <th>bathrms</th>\n",
       "      <th>stories</th>\n",
       "      <th>driveway</th>\n",
       "      <th>recroom</th>\n",
       "      <th>fullbase</th>\n",
       "      <th>gashw</th>\n",
       "      <th>airco</th>\n",
       "      <th>garagepl</th>\n",
       "      <th>prefarea</th>\n",
       "    </tr>\n",
       "  </thead>\n",
       "  <tbody>\n",
       "    <tr>\n",
       "      <th>0</th>\n",
       "      <td>0.322732</td>\n",
       "      <td>0.047192</td>\n",
       "      <td>-0.568973</td>\n",
       "      <td>0.221501</td>\n",
       "      <td>0.404819</td>\n",
       "      <td>-0.464371</td>\n",
       "      <td>1.362070</td>\n",
       "      <td>-0.218853</td>\n",
       "      <td>-0.680410</td>\n",
       "      <td>0.357239</td>\n",
       "      <td>-0.552865</td>\n",
       "    </tr>\n",
       "    <tr>\n",
       "      <th>1</th>\n",
       "      <td>-0.530526</td>\n",
       "      <td>-1.308947</td>\n",
       "      <td>-0.568973</td>\n",
       "      <td>-0.930304</td>\n",
       "      <td>0.404819</td>\n",
       "      <td>-0.464371</td>\n",
       "      <td>-0.732832</td>\n",
       "      <td>-0.218853</td>\n",
       "      <td>-0.680410</td>\n",
       "      <td>-0.803788</td>\n",
       "      <td>-0.552865</td>\n",
       "    </tr>\n",
       "    <tr>\n",
       "      <th>2</th>\n",
       "      <td>-0.964074</td>\n",
       "      <td>0.047192</td>\n",
       "      <td>-0.568973</td>\n",
       "      <td>-0.930304</td>\n",
       "      <td>0.404819</td>\n",
       "      <td>-0.464371</td>\n",
       "      <td>-0.732832</td>\n",
       "      <td>-0.218853</td>\n",
       "      <td>-0.680410</td>\n",
       "      <td>-0.803788</td>\n",
       "      <td>-0.552865</td>\n",
       "    </tr>\n",
       "    <tr>\n",
       "      <th>3</th>\n",
       "      <td>0.691709</td>\n",
       "      <td>0.047192</td>\n",
       "      <td>-0.568973</td>\n",
       "      <td>0.221501</td>\n",
       "      <td>0.404819</td>\n",
       "      <td>2.149509</td>\n",
       "      <td>-0.732832</td>\n",
       "      <td>-0.218853</td>\n",
       "      <td>-0.680410</td>\n",
       "      <td>-0.803788</td>\n",
       "      <td>-0.552865</td>\n",
       "    </tr>\n",
       "    <tr>\n",
       "      <th>4</th>\n",
       "      <td>0.557955</td>\n",
       "      <td>-1.308947</td>\n",
       "      <td>-0.568973</td>\n",
       "      <td>-0.930304</td>\n",
       "      <td>0.404819</td>\n",
       "      <td>-0.464371</td>\n",
       "      <td>-0.732832</td>\n",
       "      <td>-0.218853</td>\n",
       "      <td>-0.680410</td>\n",
       "      <td>-0.803788</td>\n",
       "      <td>-0.552865</td>\n",
       "    </tr>\n",
       "    <tr>\n",
       "      <th>...</th>\n",
       "      <td>...</td>\n",
       "      <td>...</td>\n",
       "      <td>...</td>\n",
       "      <td>...</td>\n",
       "      <td>...</td>\n",
       "      <td>...</td>\n",
       "      <td>...</td>\n",
       "      <td>...</td>\n",
       "      <td>...</td>\n",
       "      <td>...</td>\n",
       "      <td>...</td>\n",
       "    </tr>\n",
       "    <tr>\n",
       "      <th>541</th>\n",
       "      <td>-0.161550</td>\n",
       "      <td>0.047192</td>\n",
       "      <td>1.422433</td>\n",
       "      <td>2.525111</td>\n",
       "      <td>0.404819</td>\n",
       "      <td>2.149509</td>\n",
       "      <td>-0.732832</td>\n",
       "      <td>-0.218853</td>\n",
       "      <td>1.467011</td>\n",
       "      <td>-0.803788</td>\n",
       "      <td>-0.552865</td>\n",
       "    </tr>\n",
       "    <tr>\n",
       "      <th>542</th>\n",
       "      <td>0.391915</td>\n",
       "      <td>0.047192</td>\n",
       "      <td>1.422433</td>\n",
       "      <td>2.525111</td>\n",
       "      <td>0.404819</td>\n",
       "      <td>-0.464371</td>\n",
       "      <td>-0.732832</td>\n",
       "      <td>-0.218853</td>\n",
       "      <td>1.467011</td>\n",
       "      <td>-0.803788</td>\n",
       "      <td>-0.552865</td>\n",
       "    </tr>\n",
       "    <tr>\n",
       "      <th>543</th>\n",
       "      <td>0.391915</td>\n",
       "      <td>0.047192</td>\n",
       "      <td>1.422433</td>\n",
       "      <td>2.525111</td>\n",
       "      <td>0.404819</td>\n",
       "      <td>2.149509</td>\n",
       "      <td>-0.732832</td>\n",
       "      <td>-0.218853</td>\n",
       "      <td>1.467011</td>\n",
       "      <td>0.357239</td>\n",
       "      <td>-0.552865</td>\n",
       "    </tr>\n",
       "    <tr>\n",
       "      <th>544</th>\n",
       "      <td>0.391915</td>\n",
       "      <td>0.047192</td>\n",
       "      <td>1.422433</td>\n",
       "      <td>0.221501</td>\n",
       "      <td>0.404819</td>\n",
       "      <td>2.149509</td>\n",
       "      <td>-0.732832</td>\n",
       "      <td>-0.218853</td>\n",
       "      <td>1.467011</td>\n",
       "      <td>0.357239</td>\n",
       "      <td>-0.552865</td>\n",
       "    </tr>\n",
       "    <tr>\n",
       "      <th>545</th>\n",
       "      <td>0.391915</td>\n",
       "      <td>0.047192</td>\n",
       "      <td>-0.568973</td>\n",
       "      <td>0.221501</td>\n",
       "      <td>0.404819</td>\n",
       "      <td>-0.464371</td>\n",
       "      <td>-0.732832</td>\n",
       "      <td>-0.218853</td>\n",
       "      <td>1.467011</td>\n",
       "      <td>0.357239</td>\n",
       "      <td>-0.552865</td>\n",
       "    </tr>\n",
       "  </tbody>\n",
       "</table>\n",
       "<p>546 rows × 11 columns</p>\n",
       "</div>"
      ],
      "text/plain": [
       "      lotsize  bedrooms   bathrms   stories  driveway   recroom  fullbase  \\\n",
       "0    0.322732  0.047192 -0.568973  0.221501  0.404819 -0.464371  1.362070   \n",
       "1   -0.530526 -1.308947 -0.568973 -0.930304  0.404819 -0.464371 -0.732832   \n",
       "2   -0.964074  0.047192 -0.568973 -0.930304  0.404819 -0.464371 -0.732832   \n",
       "3    0.691709  0.047192 -0.568973  0.221501  0.404819  2.149509 -0.732832   \n",
       "4    0.557955 -1.308947 -0.568973 -0.930304  0.404819 -0.464371 -0.732832   \n",
       "..        ...       ...       ...       ...       ...       ...       ...   \n",
       "541 -0.161550  0.047192  1.422433  2.525111  0.404819  2.149509 -0.732832   \n",
       "542  0.391915  0.047192  1.422433  2.525111  0.404819 -0.464371 -0.732832   \n",
       "543  0.391915  0.047192  1.422433  2.525111  0.404819  2.149509 -0.732832   \n",
       "544  0.391915  0.047192  1.422433  0.221501  0.404819  2.149509 -0.732832   \n",
       "545  0.391915  0.047192 -0.568973  0.221501  0.404819 -0.464371 -0.732832   \n",
       "\n",
       "        gashw     airco  garagepl  prefarea  \n",
       "0   -0.218853 -0.680410  0.357239 -0.552865  \n",
       "1   -0.218853 -0.680410 -0.803788 -0.552865  \n",
       "2   -0.218853 -0.680410 -0.803788 -0.552865  \n",
       "3   -0.218853 -0.680410 -0.803788 -0.552865  \n",
       "4   -0.218853 -0.680410 -0.803788 -0.552865  \n",
       "..        ...       ...       ...       ...  \n",
       "541 -0.218853  1.467011 -0.803788 -0.552865  \n",
       "542 -0.218853  1.467011 -0.803788 -0.552865  \n",
       "543 -0.218853  1.467011  0.357239 -0.552865  \n",
       "544 -0.218853  1.467011  0.357239 -0.552865  \n",
       "545 -0.218853  1.467011  0.357239 -0.552865  \n",
       "\n",
       "[546 rows x 11 columns]"
      ]
     },
     "execution_count": 17,
     "metadata": {},
     "output_type": "execute_result"
    }
   ],
   "source": [
    "X_norm"
   ]
  },
  {
   "cell_type": "markdown",
   "id": "d864aa53-3acc-4a9d-8694-ceeb8f0128a0",
   "metadata": {},
   "source": [
    "Adding a column of ones to X to account for the bias (intercept) term"
   ]
  },
  {
   "cell_type": "code",
   "execution_count": 18,
   "id": "e934e3ef-0a10-46a5-972e-b90dc082bc3a",
   "metadata": {},
   "outputs": [],
   "source": [
    "X_norm.insert(0,'bias',1)"
   ]
  },
  {
   "cell_type": "markdown",
   "id": "f392b77a-1a6a-481c-a723-15a9108a0e10",
   "metadata": {},
   "source": [
    "Converting X and y to numpy arrays"
   ]
  },
  {
   "cell_type": "code",
   "execution_count": 19,
   "id": "d1e7a23d-f031-44a3-bcb1-b0c900f81f83",
   "metadata": {},
   "outputs": [],
   "source": [
    "X_norm_1 = X_norm.values"
   ]
  },
  {
   "cell_type": "code",
   "execution_count": 20,
   "id": "7edd2e1b-b8d4-4433-9093-a7195a53dc59",
   "metadata": {},
   "outputs": [
    {
     "data": {
      "text/plain": [
       "array([[ 1.        ,  0.32273211,  0.04719162, ..., -0.68040981,\n",
       "         0.35723902, -0.55286459],\n",
       "       [ 1.        , -0.53052646, -1.30894664, ..., -0.68040981,\n",
       "        -0.80378779, -0.55286459],\n",
       "       [ 1.        , -0.96407405,  0.04719162, ..., -0.68040981,\n",
       "        -0.80378779, -0.55286459],\n",
       "       ...,\n",
       "       [ 1.        ,  0.39191523,  0.04719162, ...,  1.46701074,\n",
       "         0.35723902, -0.55286459],\n",
       "       [ 1.        ,  0.39191523,  0.04719162, ...,  1.46701074,\n",
       "         0.35723902, -0.55286459],\n",
       "       [ 1.        ,  0.39191523,  0.04719162, ...,  1.46701074,\n",
       "         0.35723902, -0.55286459]])"
      ]
     },
     "metadata": {},
     "output_type": "display_data"
    }
   ],
   "source": [
    "display(X_norm_1)"
   ]
  },
  {
   "cell_type": "code",
   "execution_count": 21,
   "id": "5f6fd025-a92f-47b1-aad1-c3f730a7b6ec",
   "metadata": {},
   "outputs": [],
   "source": [
    "y = y.values"
   ]
  },
  {
   "attachments": {
    "d6f2a9be-c70b-4cb5-a3a8-350fe723a93d.png": {
     "image/png": "[encoded data removed]"
    }
   },
   "cell_type": "markdown",
   "id": "9ebbf065-0e9c-43f8-a413-d7ec313c9f2a",
   "metadata": {},
   "source": [
    "1-1. Please build a gradient descent algorithm based on the following formulas\n",
    "\n",
    "<img src= \"attachment:d6f2a9be-c70b-4cb5-a3a8-350fe723a93d.png\" width=\"300\">"
   ]
  },
  {
   "cell_type": "code",
   "execution_count": 22,
   "id": "7626aee8-b1dd-4790-a1a4-c850dc20bead",
   "metadata": {},
   "outputs": [],
   "source": [
    "# Cost function\n",
    "def compute_cost(X, y, weights):\n",
    "    m = len(y)\n",
    "    y_pred = np.dot(X, weights)\n",
    "    cost = (1 / m) * np.sum((y_pred - y) ** 2)\n",
    "    return cost\n",
    "\n",
    "# RMSE calculation\n",
    "def compute_rmse(y_pred, y):\n",
    "    rmse = np.sqrt(np.mean((y_pred - y) ** 2))\n",
    "    return rmse"
   ]
  },
  {
   "attachments": {
    "515873ef-10e2-4b13-8101-e5d3cc6f2f75.png": {
     "image/png": "[encoded data removed]"
    }
   },
   "cell_type": "markdown",
   "id": "65f062cc-c97f-447e-937f-5a3355702d1e",
   "metadata": {},
   "source": [
    "<img src=\"attachment:515873ef-10e2-4b13-8101-e5d3cc6f2f75.png\" width=\"300\">"
   ]
  },
  {
   "cell_type": "markdown",
   "id": "3b91fb28-881e-4259-9e56-12396fd7905d",
   "metadata": {},
   "source": [
    "Initialize weights and set hyperparameters\n",
    "\n",
    "Initializing weights to be a random number between 0 and 1, and then multiplying by 0.01 to scale the values down to be small and near-zero but not zero. This is useful for optimization algorithms like gradient descent."
   ]
  },
  {
   "cell_type": "code",
   "execution_count": 23,
   "id": "ec83f5e9-1104-4859-a5b7-c384e7ccc33a",
   "metadata": {},
   "outputs": [
    {
     "data": {
      "text/plain": [
       "12"
      ]
     },
     "execution_count": 23,
     "metadata": {},
     "output_type": "execute_result"
    }
   ],
   "source": [
    "X_norm_1.shape[1]"
   ]
  },
  {
   "cell_type": "code",
   "execution_count": 24,
   "id": "25297cf1-cf0b-43b1-b0e8-19fd593b1391",
   "metadata": {},
   "outputs": [],
   "source": [
    "W = np.random.rand(X_norm_1.shape[1]) * 0.01\n",
    "learning_rate = 0.25\n",
    "epochs = 20\n",
    "m = len(y)"
   ]
  },
  {
   "cell_type": "markdown",
   "id": "15e4a31c-0523-4353-9f0d-cde4f842aae0",
   "metadata": {},
   "source": [
    "Implementing Gradient Descent on the given data"
   ]
  },
  {
   "cell_type": "code",
   "execution_count": 25,
   "id": "33431841-af91-4748-9dab-5db0435b671d",
   "metadata": {
    "scrolled": true
   },
   "outputs": [
    {
     "name": "stdout",
     "output_type": "stream",
     "text": [
      "Epoch 1, Cost: 1416389470.1056, RMSE: 73159.2635\n",
      "Epoch 2, Cost: 527869274.6163, RMSE: 37634.9501\n",
      "Epoch 3, Cost: 307529033.1818, RMSE: 22975.4059\n",
      "Epoch 4, Cost: 251985003.7993, RMSE: 17536.5057\n",
      "Epoch 5, Cost: 237820582.1747, RMSE: 15874.0355\n",
      "Epoch 6, Cost: 234130599.0492, RMSE: 15421.4326\n",
      "Epoch 7, Cost: 233126982.2370, RMSE: 15301.3267\n",
      "Epoch 8, Cost: 232830744.0320, RMSE: 15268.4964\n",
      "Epoch 9, Cost: 232730755.4202, RMSE: 15258.7924\n",
      "Epoch 10, Cost: 232690628.3982, RMSE: 15255.5156\n",
      "Epoch 11, Cost: 232671620.1068, RMSE: 15254.2004\n",
      "Epoch 12, Cost: 232661470.0828, RMSE: 15253.5773\n",
      "Epoch 13, Cost: 232655651.7804, RMSE: 15253.2446\n",
      "Epoch 14, Cost: 232652186.5549, RMSE: 15253.0539\n",
      "Epoch 15, Cost: 232650080.1141, RMSE: 15252.9403\n",
      "Epoch 16, Cost: 232648784.8744, RMSE: 15252.8712\n",
      "Epoch 17, Cost: 232647982.9099, RMSE: 15252.8287\n",
      "Epoch 18, Cost: 232647484.1359, RMSE: 15252.8025\n",
      "Epoch 19, Cost: 232647172.9773, RMSE: 15252.7861\n",
      "Epoch 20, Cost: 232646978.4398, RMSE: 15252.7759\n"
     ]
    }
   ],
   "source": [
    "for epoch in range(epochs):\n",
    "    #compute predictions with initial weights\n",
    "    Y_pred = np.dot(X_norm_1, W)  \n",
    "\n",
    "    #compute error\n",
    "    errors = Y_pred - y\n",
    "\n",
    "    #calculate gradients\n",
    "    gradients = (2/m) * np.dot(X_norm_1.T, errors)\n",
    "\n",
    "    #Update weights\n",
    "    W -= learning_rate * gradients \n",
    "    \n",
    "    #compute and print cost and RMSE for the current epoch\n",
    "    cost = compute_cost(X_norm_1, y, W)\n",
    "    rmse = compute_rmse(Y_pred, y)\n",
    "    print(f\"Epoch {epoch + 1}, Cost: {cost:.4f}, RMSE: {rmse:.4f}\")\n",
    "\n",
    "Optimal_weights = W"
   ]
  },
  {
   "cell_type": "code",
   "execution_count": 26,
   "id": "449dcf85-ee66-4f61-909c-239ff61d2758",
   "metadata": {},
   "outputs": [
    {
     "name": "stdout",
     "output_type": "stream",
     "text": [
      "\n",
      "gradients:\n",
      " [ -0.25986326  -8.63641887  13.86169793   0.91037406 -17.35253541\n",
      "   6.17845468   6.93986664 -13.25266145   0.79801058   5.47481379\n",
      "   0.11570901   2.75526399]\n",
      "\n",
      " Optimal weights:\n",
      " [68121.53210378  7681.06233908  1363.41749674  7200.64156874\n",
      "  5675.76676439  2335.61245552  1732.20388273  2589.95755996\n",
      "  2685.54878502  5888.46458244  3655.52705543  3975.7551691 ]\n"
     ]
    }
   ],
   "source": [
    "print(\"\\ngradients:\\n\", gradients)\n",
    "print(\"\\n Optimal weights:\\n\", Optimal_weights)"
   ]
  },
  {
   "cell_type": "markdown",
   "id": "b630de65-070d-483e-b7e3-fa7021c267dc",
   "metadata": {},
   "source": [
    "Fitting the data using the Linear regression model with the optimum Weight. "
   ]
  },
  {
   "cell_type": "code",
   "execution_count": 27,
   "id": "18873ca6-df75-44e5-9f37-c78268d813a7",
   "metadata": {},
   "outputs": [],
   "source": [
    "predictions = np.dot(X_norm_1,Optimal_weights)"
   ]
  },
  {
   "cell_type": "markdown",
   "id": "5e19b947-3fbf-47c4-abb7-150f7c28c21f",
   "metadata": {},
   "source": [
    "Plotting ‘price’ vs ‘lotsize’ on the original scale"
   ]
  },
  {
   "cell_type": "code",
   "execution_count": 28,
   "id": "4b29697a-ace6-407a-9ced-5c370b697b02",
   "metadata": {},
   "outputs": [
    {
     "data": {
      "image/png": "[encoded data removed]",
      "text/plain": [
       "<Figure size 700x500 with 1 Axes>"
      ]
     },
     "metadata": {},
     "output_type": "display_data"
    }
   ],
   "source": [
    "# housing_df['lotsize'] having original values\n",
    "# y = housing_df['price'] having original values\n",
    "\n",
    "plt.figure(figsize=(7, 5))\n",
    "plt.scatter(housing_df['lotsize'], y, color='blue', label=\"Original Prices\")\n",
    "plt.scatter(housing_df['lotsize'], predictions, color='red', label=\"Predicted Prices\")\n",
    "plt.xlabel(\"Lot Size\")\n",
    "plt.ylabel(\"Price\")\n",
    "plt.title(\"Linear Regression: Price vs Lot Size\")\n",
    "plt.legend()\n",
    "plt.show()"
   ]
  },
  {
   "cell_type": "markdown",
   "id": "ef6b6706-990b-48db-814f-04d41990e400",
   "metadata": {},
   "source": [
    "Please plot ‘true-price’(y) vs ‘predicted-price’(𝑦̂) and display R2. The y and 𝑦̂ should be original scale instead of\n",
    "normalized scale. "
   ]
  },
  {
   "attachments": {
    "a36ebd6b-fc3e-4e46-9952-2d43823c62d9.png": {
     "image/png": "[encoded data removed]"
    }
   },
   "cell_type": "markdown",
   "id": "2ed0a2aa-1ffe-4465-856a-b05a5624362e",
   "metadata": {},
   "source": [
    "Calculating and displaying R^2\n",
    "\n",
    "<img src= \"attachment:a36ebd6b-fc3e-4e46-9952-2d43823c62d9.png\" width=\"300\">"
   ]
  },
  {
   "cell_type": "code",
   "execution_count": 29,
   "id": "bd55797f-e54a-4cbf-97bc-441cd36fe7d7",
   "metadata": {},
   "outputs": [
    {
     "name": "stdout",
     "output_type": "stream",
     "text": [
      "R^2: 0.6731231610882114\n"
     ]
    }
   ],
   "source": [
    "ss_total = np.sum((y - np.mean(y)) ** 2)\n",
    "ss_residual = np.sum((y - predictions) ** 2)\n",
    "r_squared = 1 - (ss_residual / ss_total)\n",
    "print(f\"R^2: {r_squared}\")"
   ]
  },
  {
   "cell_type": "markdown",
   "id": "23ef44c9-1af6-4d73-9a31-1f7dfa2edfad",
   "metadata": {},
   "source": [
    "Plotting true-price (y) vs predicted-price (ŷ) on original scale"
   ]
  },
  {
   "cell_type": "code",
   "execution_count": 30,
   "id": "a91bcb2e-eab9-4af4-abba-a0e8b3d9c4fc",
   "metadata": {},
   "outputs": [
    {
     "data": {
      "image/png": "[encoded data removed]",
      "text/plain": [
       "<Figure size 800x600 with 1 Axes>"
      ]
     },
     "metadata": {},
     "output_type": "display_data"
    }
   ],
   "source": [
    "plt.figure(figsize=(8, 6))\n",
    "plt.scatter(y, predictions, color='blue', alpha=0.5)\n",
    "plt.xlabel(\"True Price\")\n",
    "plt.ylabel(\"Predicted Price\")\n",
    "plt.title(f\"Plot of True Price vs Predicted Price (R^2 = {r_squared:.4f})\")\n",
    "\n",
    "#Add line of perfect fit\n",
    "plt.plot([min(y), max(y)], [min(y), max(y)], color='gray')\n",
    "plt.show()"
   ]
  },
  {
   "cell_type": "markdown",
   "id": "c174dbd2-40f0-4427-9712-4b89d2bc4d70",
   "metadata": {},
   "source": [
    "### 1-2. Please build a gradient descent algorithm based on the following cost function."
   ]
  },
  {
   "attachments": {
    "e7701b6e-77ea-4ee8-8cec-13afcf296965.png": {
     "image/png": "[encoded data removed]"
    }
   },
   "cell_type": "markdown",
   "id": "f28c09bb-c1f1-48c9-9712-7644829c19d3",
   "metadata": {},
   "source": [
    "<img src= \"attachment:e7701b6e-77ea-4ee8-8cec-13afcf296965.png\" width=\"200\">"
   ]
  },
  {
   "cell_type": "markdown",
   "id": "496b4ee2-c4be-4414-a652-cefb0d26061b",
   "metadata": {},
   "source": [
    "Please print out the Root Mean Squared Error (RMSE) every iteration (until 10 epochs).\n",
    "Please fit the data using the Linear regression model with the optimum Weight.\n",
    "Please plot ‘true-price’(y) vs ‘predicted-price’(𝑦̂) and display R2."
   ]
  },
  {
   "cell_type": "markdown",
   "id": "3aff078c-d205-44b9-a99d-0e0015c4a630",
   "metadata": {},
   "source": [
    "Setting new variable with X_new and y_new for features and target respectively"
   ]
  },
  {
   "cell_type": "code",
   "execution_count": 31,
   "id": "10ffe3a5-3e86-4b6a-a67e-9a86cbbc674b",
   "metadata": {},
   "outputs": [],
   "source": [
    "X_new = housing_df.drop(columns=['price'])\n",
    "y_new = housing_df['price']"
   ]
  },
  {
   "cell_type": "markdown",
   "id": "de25170b-3d88-4908-83cf-657604b4986a",
   "metadata": {},
   "source": [
    "Z-score normalising variables"
   ]
  },
  {
   "cell_type": "code",
   "execution_count": 32,
   "id": "61b61422-6e4c-47bb-85bf-97e2cd06fb35",
   "metadata": {},
   "outputs": [],
   "source": [
    "X_norm = (X_new - X_new.mean()) / X_new.std()"
   ]
  },
  {
   "cell_type": "markdown",
   "id": "49cf44af-09ef-4a5e-b224-a1b6873bfdeb",
   "metadata": {},
   "source": [
    "Adding bias"
   ]
  },
  {
   "cell_type": "code",
   "execution_count": 33,
   "id": "d425bf2a-31d6-47bd-bb61-6f1dcf595a2d",
   "metadata": {},
   "outputs": [],
   "source": [
    "X_norm.insert(0,'bias',1)"
   ]
  },
  {
   "cell_type": "markdown",
   "id": "76f43412-6d99-47c4-a2cd-0e43bc696263",
   "metadata": {},
   "source": [
    "convert X and y to numpy arrays"
   ]
  },
  {
   "cell_type": "code",
   "execution_count": 34,
   "id": "ce6bcda5-0be1-4588-ad1b-bfdfc1546c77",
   "metadata": {},
   "outputs": [],
   "source": [
    "X_norm_2 = X_norm.values"
   ]
  },
  {
   "cell_type": "code",
   "execution_count": 35,
   "id": "2136c43a-e135-4130-9a36-53c3f377cbf6",
   "metadata": {},
   "outputs": [],
   "source": [
    "Y= y_new.values"
   ]
  },
  {
   "cell_type": "markdown",
   "id": "c0592a60-d856-418e-9dde-8c98f1a7c213",
   "metadata": {},
   "source": [
    "Initializing weights randomly having value between 0 and 1, and multiplying with 0.01 for getting small values not near zero"
   ]
  },
  {
   "cell_type": "code",
   "execution_count": 36,
   "id": "9d9fa9da-0a9c-4aaf-aa2c-f58e5acc8db1",
   "metadata": {},
   "outputs": [],
   "source": [
    "weights = np.random.rand(1, X_norm_2.shape[1]) * 0.01"
   ]
  },
  {
   "cell_type": "code",
   "execution_count": 37,
   "id": "5aceb789-aec4-4bd9-8b96-bdd029295a69",
   "metadata": {},
   "outputs": [
    {
     "name": "stdout",
     "output_type": "stream",
     "text": [
      "[[0.00192998 0.00269164 0.0019595  0.00063317 0.00170443 0.00144071\n",
      "  0.00874815 0.0029777  0.00091164 0.00925495 0.00790673 0.00772461]]\n"
     ]
    }
   ],
   "source": [
    "print(weights)"
   ]
  },
  {
   "cell_type": "code",
   "execution_count": 38,
   "id": "77553617-bcb9-4961-8e7e-7a2a04338a24",
   "metadata": {},
   "outputs": [
    {
     "data": {
      "text/plain": [
       "(1, 12)"
      ]
     },
     "execution_count": 38,
     "metadata": {},
     "output_type": "execute_result"
    }
   ],
   "source": [
    "weights.shape"
   ]
  },
  {
   "cell_type": "code",
   "execution_count": 39,
   "id": "940cc08f-a427-46d5-9e33-b77010ed6666",
   "metadata": {},
   "outputs": [
    {
     "data": {
      "text/plain": [
       "(546, 12)"
      ]
     },
     "execution_count": 39,
     "metadata": {},
     "output_type": "execute_result"
    }
   ],
   "source": [
    "X_norm_2.shape"
   ]
  },
  {
   "cell_type": "code",
   "execution_count": 40,
   "id": "776f9f6d-2754-4342-8178-d3d7c155f3a7",
   "metadata": {},
   "outputs": [
    {
     "data": {
      "text/plain": [
       "(546,)"
      ]
     },
     "execution_count": 40,
     "metadata": {},
     "output_type": "execute_result"
    }
   ],
   "source": [
    "Y.shape"
   ]
  },
  {
   "cell_type": "code",
   "execution_count": 41,
   "id": "3a6790b5-e408-4fdc-8e42-2bd72d320972",
   "metadata": {},
   "outputs": [],
   "source": [
    "Y = Y.reshape(-1, 1)"
   ]
  },
  {
   "cell_type": "code",
   "execution_count": 42,
   "id": "68f5733d-8705-441b-b0ca-b4b8903e82c0",
   "metadata": {},
   "outputs": [
    {
     "data": {
      "text/plain": [
       "(546, 1)"
      ]
     },
     "execution_count": 42,
     "metadata": {},
     "output_type": "execute_result"
    }
   ],
   "source": [
    "Y.shape"
   ]
  },
  {
   "cell_type": "markdown",
   "id": "0f924c08-95fe-46a8-84d9-b4096b1473ab",
   "metadata": {},
   "source": [
    "Setting Learning rate and number of epochs"
   ]
  },
  {
   "cell_type": "code",
   "execution_count": 43,
   "id": "ac6eb70c-1738-458d-a884-3f3eeba66242",
   "metadata": {},
   "outputs": [],
   "source": [
    "alpha = 0.25 # learning rate\n",
    "epochs = 20 # epochs"
   ]
  },
  {
   "cell_type": "markdown",
   "id": "7420cd7a-4e70-4c43-8793-7d34f4e3a474",
   "metadata": {},
   "source": [
    "Gradient Descent Algorithm"
   ]
  },
  {
   "cell_type": "code",
   "execution_count": 44,
   "id": "5b1e2489-99c0-4f8f-b499-859fd1e20ec1",
   "metadata": {},
   "outputs": [
    {
     "name": "stdout",
     "output_type": "stream",
     "text": [
      "Epoch 1, Cost: 5352277570.9777, RMSE: 73159.2617\n",
      "Epoch 2, Cost: 1416389481.6802, RMSE: 37634.9503\n",
      "Epoch 3, Cost: 527869279.1807, RMSE: 22975.4060\n",
      "Epoch 4, Cost: 307529034.1902, RMSE: 17536.5058\n",
      "Epoch 5, Cost: 251985003.9571, RMSE: 15874.0355\n",
      "Epoch 6, Cost: 237820582.1510, RMSE: 15421.4326\n",
      "Epoch 7, Cost: 234130598.9968, RMSE: 15301.3267\n",
      "Epoch 8, Cost: 233126982.1895, RMSE: 15268.4964\n",
      "Epoch 9, Cost: 232830743.9952, RMSE: 15258.7924\n",
      "Epoch 10, Cost: 232730755.3934, RMSE: 15255.5156\n",
      "Epoch 11, Cost: 232690628.3795, RMSE: 15254.2004\n",
      "Epoch 12, Cost: 232671620.0940, RMSE: 15253.5773\n",
      "Epoch 13, Cost: 232661470.0742, RMSE: 15253.2446\n",
      "Epoch 14, Cost: 232655651.7747, RMSE: 15253.0539\n",
      "Epoch 15, Cost: 232652186.5512, RMSE: 15252.9403\n",
      "Epoch 16, Cost: 232650080.1117, RMSE: 15252.8712\n",
      "Epoch 17, Cost: 232648784.8728, RMSE: 15252.8287\n",
      "Epoch 18, Cost: 232647982.9089, RMSE: 15252.8025\n",
      "Epoch 19, Cost: 232647484.1352, RMSE: 15252.7861\n",
      "Epoch 20, Cost: 232647172.9769, RMSE: 15252.7759\n"
     ]
    }
   ],
   "source": [
    "costs = []\n",
    "rmses = []\n",
    "for epoch in range(epochs):\n",
    "    # Compute predictions: Ŷ = X · W^T\n",
    "    Y_pred = X_norm_2.dot(weights.T)\n",
    "\n",
    "    # Compute cost function J\n",
    "    J = (1 / len(Y)) * ((Y_pred - Y).T.dot(Y_pred - Y))[0, 0]\n",
    "    costs.append(J)\n",
    "\n",
    "    # Compute gradient\n",
    "    dW = (2 / len(Y)) * (Y_pred - Y).T.dot(X_norm_2)\n",
    "    dW = dW.reshape(1, -1) # Reshaping to ensure the shape (1, 12), W.T and W shape should be same\n",
    "\n",
    "    # Update weights\n",
    "    weights -= alpha * dW\n",
    "\n",
    "    # Calculate and store cost and RMSE for the epoch\n",
    "    rmse = np.sqrt(np.mean((Y_pred - Y) ** 2))\n",
    "    rmses.append(rmse)\n",
    "    print(f\"Epoch {epoch + 1}, Cost: {J:.4f}, RMSE: {rmse:.4f}\")\n",
    "\n",
    "final_weights = weights"
   ]
  },
  {
   "cell_type": "code",
   "execution_count": 45,
   "id": "2a2da228-5e15-4d2a-891d-5dedc7ec3c08",
   "metadata": {},
   "outputs": [
    {
     "name": "stdout",
     "output_type": "stream",
     "text": [
      "Shape of dW: (1, 12)\n"
     ]
    }
   ],
   "source": [
    "print(\"Shape of dW:\", dW.shape)"
   ]
  },
  {
   "cell_type": "code",
   "execution_count": 46,
   "id": "b999c944-3e5d-4280-8332-d972877d58b1",
   "metadata": {},
   "outputs": [
    {
     "name": "stdout",
     "output_type": "stream",
     "text": [
      "[[68121.53210378  7681.06233857  1363.41749012  7200.64156744\n",
      "   5675.76677346  2335.61245168  1732.20388317  2589.95756278\n",
      "   2685.54878394  5888.46457862  3655.52706022  3975.75517034]]\n"
     ]
    }
   ],
   "source": [
    "print(final_weights)"
   ]
  },
  {
   "cell_type": "code",
   "execution_count": 47,
   "id": "188ae4ba-6f9a-4784-b609-a5af26705156",
   "metadata": {},
   "outputs": [
    {
     "name": "stdout",
     "output_type": "stream",
     "text": [
      "Shape of X_b: (546, 12)\n"
     ]
    }
   ],
   "source": [
    "print(\"Shape of X_b:\", X_norm_2.shape)"
   ]
  },
  {
   "cell_type": "markdown",
   "id": "95b1810f-6d69-427f-b1b2-4dfff022d655",
   "metadata": {},
   "source": [
    "This should be the shape of all matrix for doing matrix calculation for gradient descent\n",
    "\n",
    "X_b is (546,12),\\\n",
    "Y is (546,1)\\\n",
    "Y_pred is (546,1),\\\n",
    "Y_pred - Y is (546,546),\\\n",
    "W = (1,12),\\\n",
    "WT = (12,1)\\\n",
    "dW =(1,12)"
   ]
  },
  {
   "cell_type": "markdown",
   "id": "5b5b4530-28d7-4048-8f75-20bffea3a90e",
   "metadata": {},
   "source": [
    "Calculate final predictions with optimized weights (final weights)"
   ]
  },
  {
   "cell_type": "code",
   "execution_count": 48,
   "id": "64422659-f982-40d1-af89-b86b901ef0fd",
   "metadata": {},
   "outputs": [],
   "source": [
    "predictions = np.dot(X_norm_2,final_weights.T)"
   ]
  },
  {
   "cell_type": "code",
   "execution_count": 49,
   "id": "21019b5d-964c-450a-811f-54e05f8160db",
   "metadata": {},
   "outputs": [
    {
     "data": {
      "image/png": "[encoded data removed]",
      "text/plain": [
       "<Figure size 640x480 with 1 Axes>"
      ]
     },
     "metadata": {},
     "output_type": "display_data"
    }
   ],
   "source": [
    "# Plot RMSE over epochs\n",
    "plt.plot(range(1, epochs + 1), rmses, marker='o')\n",
    "plt.xlabel(\"Epoch\")\n",
    "plt.ylabel(\"RMSE\")\n",
    "plt.title(\"RMSE over Epochs\")\n",
    "plt.show()"
   ]
  },
  {
   "cell_type": "markdown",
   "id": "ec43455b-6641-4136-8f7b-984fc353f12b",
   "metadata": {},
   "source": [
    "Plotting ‘true-price’(y) vs ‘predicted-price’(𝑦̂) and displaying R2."
   ]
  },
  {
   "cell_type": "markdown",
   "id": "4fe035ab-9fea-4ec3-8fe9-a6226c06b37d",
   "metadata": {},
   "source": [
    "##### Calculate R^2 score manually"
   ]
  },
  {
   "cell_type": "code",
   "execution_count": 50,
   "id": "7d619b2f-2de5-4abf-9f36-514b49b8d2cf",
   "metadata": {},
   "outputs": [
    {
     "name": "stdout",
     "output_type": "stream",
     "text": [
      "R^2: 0.6731231610885715\n"
     ]
    },
    {
     "data": {
      "image/png": "[encoded data removed]",
      "text/plain": [
       "<Figure size 700x500 with 1 Axes>"
      ]
     },
     "metadata": {},
     "output_type": "display_data"
    }
   ],
   "source": [
    "ss_total = np.sum((Y - np.mean(Y)) ** 2)\n",
    "ss_residual = np.sum((Y - predictions) ** 2)\n",
    "r_squared = 1 - (ss_residual / ss_total)\n",
    "print(f\"R^2: {r_squared}\")\n",
    "\n",
    "plt.figure(figsize=(7, 5))\n",
    "plt.scatter(Y, predictions, color='blue', alpha=0.5)\n",
    "plt.xlabel(\"True Price\")\n",
    "plt.ylabel(\"Predicted Price\")\n",
    "plt.title(f\"Plot of True Price vs Predicted Price (R^2 = {r_squared:.4f})\")\n",
    "\n",
    "#Add line of perfect fit\n",
    "plt.plot([min(y), max(y)], [min(y), max(y)], color='gray') \n",
    "plt.show()\n"
   ]
  },
  {
   "cell_type": "markdown",
   "id": "1a961a32-a560-4b66-ba36-28126d5a30ed",
   "metadata": {},
   "source": [
    "## 2. Binary classification with logistic regression "
   ]
  },
  {
   "cell_type": "markdown",
   "id": "07ace6d9-1bb4-4df3-95ef-e835a9146940",
   "metadata": {},
   "source": [
    "Please download heart_disease_train.csv and heart_disease_test.csv. The dataset is for cardiovascular study. The\n",
    "target variable is ‘TenYearCHD’, which shows whether the patient has 10-year risk of future coronary heart disease\n",
    "(CHD). You can find a description of the variables in cardiovascular.txt."
   ]
  },
  {
   "cell_type": "markdown",
   "id": "61da9d81-baaf-401d-a570-4d87148b9ad5",
   "metadata": {},
   "source": [
    "• Gender: male(1) or female(0)\\\n",
    "• Age: Age of the patient\\\n",
    "• Current Smoker: whether or not the patient is a current smoker \\\n",
    "• Cigs Per Day: the number of cigarettes that the person smoked on average in one day\\\n",
    "• BP Meds: whether or not the patient was on blood pressure medication \\\n",
    "• Prevalent Stroke: whether or not the patient had previously had a stroke \\\n",
    "• Prevalent Hyp: whether or not the patient was hypertensive \\\n",
    "• Diabetes: whether or not the patient had diabetes \\\n",
    "• Tot Chol: total cholesterol level \\\n",
    "• Sys BP: systolic blood pressure\\\n",
    "• Dia BP: diastolic blood pressure \\\n",
    "• BMI: Body Mass Index \\\n",
    "• Heart Rate: heart rate \\\n",
    "• Glucose: glucose level \\\n",
    "• TenYearCHD: 10 year risk of coronary heart disease (1 means Yes, 0 means No)"
   ]
  },
  {
   "cell_type": "code",
   "execution_count": 51,
   "id": "d8168fa8-b65d-4197-89b4-0055852cb51d",
   "metadata": {},
   "outputs": [],
   "source": [
    "heart_train = pd.read_csv('heart_disease_train.csv')"
   ]
  },
  {
   "cell_type": "code",
   "execution_count": 52,
   "id": "704d6318-d9a4-4f55-92b9-1a88544a9de2",
   "metadata": {},
   "outputs": [],
   "source": [
    "heart_test = pd.read_csv('heart_disease_test.csv')"
   ]
  },
  {
   "cell_type": "code",
   "execution_count": 53,
   "id": "a4080f22-3a31-4fa1-a13b-25c051d35b21",
   "metadata": {},
   "outputs": [
    {
     "data": {
      "text/html": [
       "<div>\n",
       "<style scoped>\n",
       "    .dataframe tbody tr th:only-of-type {\n",
       "        vertical-align: middle;\n",
       "    }\n",
       "\n",
       "    .dataframe tbody tr th {\n",
       "        vertical-align: top;\n",
       "    }\n",
       "\n",
       "    .dataframe thead th {\n",
       "        text-align: right;\n",
       "    }\n",
       "</style>\n",
       "<table border=\"1\" class=\"dataframe\">\n",
       "  <thead>\n",
       "    <tr style=\"text-align: right;\">\n",
       "      <th></th>\n",
       "      <th>gender</th>\n",
       "      <th>age</th>\n",
       "      <th>education</th>\n",
       "      <th>currentSmoker</th>\n",
       "      <th>cigsPerDay</th>\n",
       "      <th>BPMeds</th>\n",
       "      <th>prevalentStroke</th>\n",
       "      <th>prevalentHyp</th>\n",
       "      <th>diabetes</th>\n",
       "      <th>totChol</th>\n",
       "      <th>sysBP</th>\n",
       "      <th>diaBP</th>\n",
       "      <th>BMI</th>\n",
       "      <th>heartRate</th>\n",
       "      <th>glucose</th>\n",
       "      <th>TenYearCHD</th>\n",
       "    </tr>\n",
       "  </thead>\n",
       "  <tbody>\n",
       "    <tr>\n",
       "      <th>0</th>\n",
       "      <td>1</td>\n",
       "      <td>63</td>\n",
       "      <td>1.0</td>\n",
       "      <td>0</td>\n",
       "      <td>0.0</td>\n",
       "      <td>0.0</td>\n",
       "      <td>0</td>\n",
       "      <td>1</td>\n",
       "      <td>0</td>\n",
       "      <td>190.0</td>\n",
       "      <td>148.0</td>\n",
       "      <td>90.0</td>\n",
       "      <td>27.13</td>\n",
       "      <td>72.0</td>\n",
       "      <td>86.0</td>\n",
       "      <td>0</td>\n",
       "    </tr>\n",
       "    <tr>\n",
       "      <th>1</th>\n",
       "      <td>1</td>\n",
       "      <td>45</td>\n",
       "      <td>3.0</td>\n",
       "      <td>0</td>\n",
       "      <td>0.0</td>\n",
       "      <td>0.0</td>\n",
       "      <td>0</td>\n",
       "      <td>0</td>\n",
       "      <td>0</td>\n",
       "      <td>162.0</td>\n",
       "      <td>125.0</td>\n",
       "      <td>89.0</td>\n",
       "      <td>27.98</td>\n",
       "      <td>85.0</td>\n",
       "      <td>83.0</td>\n",
       "      <td>0</td>\n",
       "    </tr>\n",
       "    <tr>\n",
       "      <th>2</th>\n",
       "      <td>0</td>\n",
       "      <td>51</td>\n",
       "      <td>1.0</td>\n",
       "      <td>1</td>\n",
       "      <td>2.0</td>\n",
       "      <td>0.0</td>\n",
       "      <td>0</td>\n",
       "      <td>0</td>\n",
       "      <td>0</td>\n",
       "      <td>261.0</td>\n",
       "      <td>127.0</td>\n",
       "      <td>81.0</td>\n",
       "      <td>20.24</td>\n",
       "      <td>75.0</td>\n",
       "      <td>96.0</td>\n",
       "      <td>0</td>\n",
       "    </tr>\n",
       "    <tr>\n",
       "      <th>3</th>\n",
       "      <td>1</td>\n",
       "      <td>45</td>\n",
       "      <td>3.0</td>\n",
       "      <td>1</td>\n",
       "      <td>30.0</td>\n",
       "      <td>0.0</td>\n",
       "      <td>0</td>\n",
       "      <td>0</td>\n",
       "      <td>0</td>\n",
       "      <td>250.0</td>\n",
       "      <td>126.0</td>\n",
       "      <td>89.5</td>\n",
       "      <td>28.68</td>\n",
       "      <td>75.0</td>\n",
       "      <td>92.0</td>\n",
       "      <td>0</td>\n",
       "    </tr>\n",
       "    <tr>\n",
       "      <th>4</th>\n",
       "      <td>0</td>\n",
       "      <td>45</td>\n",
       "      <td>2.0</td>\n",
       "      <td>1</td>\n",
       "      <td>3.0</td>\n",
       "      <td>0.0</td>\n",
       "      <td>0</td>\n",
       "      <td>0</td>\n",
       "      <td>0</td>\n",
       "      <td>250.0</td>\n",
       "      <td>130.0</td>\n",
       "      <td>80.0</td>\n",
       "      <td>20.24</td>\n",
       "      <td>90.0</td>\n",
       "      <td>86.0</td>\n",
       "      <td>0</td>\n",
       "    </tr>\n",
       "  </tbody>\n",
       "</table>\n",
       "</div>"
      ],
      "text/plain": [
       "   gender  age  education  currentSmoker  cigsPerDay  BPMeds  prevalentStroke  \\\n",
       "0       1   63        1.0              0         0.0     0.0                0   \n",
       "1       1   45        3.0              0         0.0     0.0                0   \n",
       "2       0   51        1.0              1         2.0     0.0                0   \n",
       "3       1   45        3.0              1        30.0     0.0                0   \n",
       "4       0   45        2.0              1         3.0     0.0                0   \n",
       "\n",
       "   prevalentHyp  diabetes  totChol  sysBP  diaBP    BMI  heartRate  glucose  \\\n",
       "0             1         0    190.0  148.0   90.0  27.13       72.0     86.0   \n",
       "1             0         0    162.0  125.0   89.0  27.98       85.0     83.0   \n",
       "2             0         0    261.0  127.0   81.0  20.24       75.0     96.0   \n",
       "3             0         0    250.0  126.0   89.5  28.68       75.0     92.0   \n",
       "4             0         0    250.0  130.0   80.0  20.24       90.0     86.0   \n",
       "\n",
       "   TenYearCHD  \n",
       "0           0  \n",
       "1           0  \n",
       "2           0  \n",
       "3           0  \n",
       "4           0  "
      ]
     },
     "execution_count": 53,
     "metadata": {},
     "output_type": "execute_result"
    }
   ],
   "source": [
    "heart_train.head()"
   ]
  },
  {
   "cell_type": "code",
   "execution_count": 54,
   "id": "ab1a8aca-4eb7-4872-9681-5c9f4f1f62d9",
   "metadata": {},
   "outputs": [
    {
     "data": {
      "text/html": [
       "<div>\n",
       "<style scoped>\n",
       "    .dataframe tbody tr th:only-of-type {\n",
       "        vertical-align: middle;\n",
       "    }\n",
       "\n",
       "    .dataframe tbody tr th {\n",
       "        vertical-align: top;\n",
       "    }\n",
       "\n",
       "    .dataframe thead th {\n",
       "        text-align: right;\n",
       "    }\n",
       "</style>\n",
       "<table border=\"1\" class=\"dataframe\">\n",
       "  <thead>\n",
       "    <tr style=\"text-align: right;\">\n",
       "      <th></th>\n",
       "      <th>gender</th>\n",
       "      <th>age</th>\n",
       "      <th>education</th>\n",
       "      <th>currentSmoker</th>\n",
       "      <th>cigsPerDay</th>\n",
       "      <th>BPMeds</th>\n",
       "      <th>prevalentStroke</th>\n",
       "      <th>prevalentHyp</th>\n",
       "      <th>diabetes</th>\n",
       "      <th>totChol</th>\n",
       "      <th>sysBP</th>\n",
       "      <th>diaBP</th>\n",
       "      <th>BMI</th>\n",
       "      <th>heartRate</th>\n",
       "      <th>glucose</th>\n",
       "      <th>TenYearCHD</th>\n",
       "    </tr>\n",
       "  </thead>\n",
       "  <tbody>\n",
       "    <tr>\n",
       "      <th>0</th>\n",
       "      <td>0</td>\n",
       "      <td>56</td>\n",
       "      <td>1.0</td>\n",
       "      <td>0</td>\n",
       "      <td>0.0</td>\n",
       "      <td>0.0</td>\n",
       "      <td>0</td>\n",
       "      <td>1</td>\n",
       "      <td>1</td>\n",
       "      <td>273.0</td>\n",
       "      <td>136.0</td>\n",
       "      <td>80.0</td>\n",
       "      <td>27.73</td>\n",
       "      <td>90.0</td>\n",
       "      <td>210.0</td>\n",
       "      <td>1</td>\n",
       "    </tr>\n",
       "    <tr>\n",
       "      <th>1</th>\n",
       "      <td>0</td>\n",
       "      <td>46</td>\n",
       "      <td>2.0</td>\n",
       "      <td>0</td>\n",
       "      <td>0.0</td>\n",
       "      <td>0.0</td>\n",
       "      <td>0</td>\n",
       "      <td>0</td>\n",
       "      <td>0</td>\n",
       "      <td>250.0</td>\n",
       "      <td>121.0</td>\n",
       "      <td>81.0</td>\n",
       "      <td>28.73</td>\n",
       "      <td>95.0</td>\n",
       "      <td>76.0</td>\n",
       "      <td>0</td>\n",
       "    </tr>\n",
       "    <tr>\n",
       "      <th>2</th>\n",
       "      <td>0</td>\n",
       "      <td>52</td>\n",
       "      <td>1.0</td>\n",
       "      <td>0</td>\n",
       "      <td>0.0</td>\n",
       "      <td>0.0</td>\n",
       "      <td>0</td>\n",
       "      <td>0</td>\n",
       "      <td>0</td>\n",
       "      <td>275.0</td>\n",
       "      <td>112.0</td>\n",
       "      <td>71.0</td>\n",
       "      <td>25.68</td>\n",
       "      <td>80.0</td>\n",
       "      <td>NaN</td>\n",
       "      <td>0</td>\n",
       "    </tr>\n",
       "    <tr>\n",
       "      <th>3</th>\n",
       "      <td>0</td>\n",
       "      <td>46</td>\n",
       "      <td>3.0</td>\n",
       "      <td>1</td>\n",
       "      <td>23.0</td>\n",
       "      <td>0.0</td>\n",
       "      <td>0</td>\n",
       "      <td>0</td>\n",
       "      <td>0</td>\n",
       "      <td>285.0</td>\n",
       "      <td>130.0</td>\n",
       "      <td>84.0</td>\n",
       "      <td>23.10</td>\n",
       "      <td>85.0</td>\n",
       "      <td>85.0</td>\n",
       "      <td>0</td>\n",
       "    </tr>\n",
       "    <tr>\n",
       "      <th>4</th>\n",
       "      <td>1</td>\n",
       "      <td>69</td>\n",
       "      <td>1.0</td>\n",
       "      <td>1</td>\n",
       "      <td>1.0</td>\n",
       "      <td>0.0</td>\n",
       "      <td>0</td>\n",
       "      <td>0</td>\n",
       "      <td>0</td>\n",
       "      <td>245.0</td>\n",
       "      <td>123.0</td>\n",
       "      <td>77.0</td>\n",
       "      <td>26.58</td>\n",
       "      <td>70.0</td>\n",
       "      <td>81.0</td>\n",
       "      <td>1</td>\n",
       "    </tr>\n",
       "  </tbody>\n",
       "</table>\n",
       "</div>"
      ],
      "text/plain": [
       "   gender  age  education  currentSmoker  cigsPerDay  BPMeds  prevalentStroke  \\\n",
       "0       0   56        1.0              0         0.0     0.0                0   \n",
       "1       0   46        2.0              0         0.0     0.0                0   \n",
       "2       0   52        1.0              0         0.0     0.0                0   \n",
       "3       0   46        3.0              1        23.0     0.0                0   \n",
       "4       1   69        1.0              1         1.0     0.0                0   \n",
       "\n",
       "   prevalentHyp  diabetes  totChol  sysBP  diaBP    BMI  heartRate  glucose  \\\n",
       "0             1         1    273.0  136.0   80.0  27.73       90.0    210.0   \n",
       "1             0         0    250.0  121.0   81.0  28.73       95.0     76.0   \n",
       "2             0         0    275.0  112.0   71.0  25.68       80.0      NaN   \n",
       "3             0         0    285.0  130.0   84.0  23.10       85.0     85.0   \n",
       "4             0         0    245.0  123.0   77.0  26.58       70.0     81.0   \n",
       "\n",
       "   TenYearCHD  \n",
       "0           1  \n",
       "1           0  \n",
       "2           0  \n",
       "3           0  \n",
       "4           1  "
      ]
     },
     "execution_count": 54,
     "metadata": {},
     "output_type": "execute_result"
    }
   ],
   "source": [
    "heart_test.head()"
   ]
  },
  {
   "cell_type": "code",
   "execution_count": 55,
   "id": "2abc8515-fb23-4eaf-a5ca-ffb2408f81f0",
   "metadata": {},
   "outputs": [
    {
     "data": {
      "text/plain": [
       "gender               int64\n",
       "age                  int64\n",
       "education          float64\n",
       "currentSmoker        int64\n",
       "cigsPerDay         float64\n",
       "BPMeds             float64\n",
       "prevalentStroke      int64\n",
       "prevalentHyp         int64\n",
       "diabetes             int64\n",
       "totChol            float64\n",
       "sysBP              float64\n",
       "diaBP              float64\n",
       "BMI                float64\n",
       "heartRate          float64\n",
       "glucose            float64\n",
       "TenYearCHD           int64\n",
       "dtype: object"
      ]
     },
     "execution_count": 55,
     "metadata": {},
     "output_type": "execute_result"
    }
   ],
   "source": [
    "heart_train.dtypes"
   ]
  },
  {
   "cell_type": "code",
   "execution_count": 56,
   "id": "31599386-5c87-4b9f-8a06-de02ed4bf1d2",
   "metadata": {},
   "outputs": [
    {
     "data": {
      "text/plain": [
       "gender               int64\n",
       "age                  int64\n",
       "education          float64\n",
       "currentSmoker        int64\n",
       "cigsPerDay         float64\n",
       "BPMeds             float64\n",
       "prevalentStroke      int64\n",
       "prevalentHyp         int64\n",
       "diabetes             int64\n",
       "totChol            float64\n",
       "sysBP              float64\n",
       "diaBP              float64\n",
       "BMI                float64\n",
       "heartRate          float64\n",
       "glucose            float64\n",
       "TenYearCHD           int64\n",
       "dtype: object"
      ]
     },
     "execution_count": 56,
     "metadata": {},
     "output_type": "execute_result"
    }
   ],
   "source": [
    "heart_test.dtypes"
   ]
  },
  {
   "cell_type": "markdown",
   "id": "51e878f0-602f-4e19-8b83-8cacd5e8c67d",
   "metadata": {},
   "source": [
    "Checking missing values on both heart_train and heart_test"
   ]
  },
  {
   "cell_type": "code",
   "execution_count": 57,
   "id": "ec1587dc-e816-46a5-9f34-1dc12ad0fd6d",
   "metadata": {},
   "outputs": [
    {
     "data": {
      "text/plain": [
       "gender               0\n",
       "age                  0\n",
       "education           84\n",
       "currentSmoker        0\n",
       "cigsPerDay          25\n",
       "BPMeds              42\n",
       "prevalentStroke      0\n",
       "prevalentHyp         0\n",
       "diabetes             0\n",
       "totChol             44\n",
       "sysBP                0\n",
       "diaBP                0\n",
       "BMI                 16\n",
       "heartRate            1\n",
       "glucose            315\n",
       "TenYearCHD           0\n",
       "dtype: int64"
      ]
     },
     "execution_count": 57,
     "metadata": {},
     "output_type": "execute_result"
    }
   ],
   "source": [
    "heart_train.isna().sum()"
   ]
  },
  {
   "cell_type": "code",
   "execution_count": 58,
   "id": "813edf10-08e0-4252-a9e1-c2dde7ffc283",
   "metadata": {},
   "outputs": [
    {
     "data": {
      "text/plain": [
       "gender              0\n",
       "age                 0\n",
       "education          21\n",
       "currentSmoker       0\n",
       "cigsPerDay          4\n",
       "BPMeds             11\n",
       "prevalentStroke     0\n",
       "prevalentHyp        0\n",
       "diabetes            0\n",
       "totChol             6\n",
       "sysBP               0\n",
       "diaBP               0\n",
       "BMI                 3\n",
       "heartRate           0\n",
       "glucose            73\n",
       "TenYearCHD          0\n",
       "dtype: int64"
      ]
     },
     "execution_count": 58,
     "metadata": {},
     "output_type": "execute_result"
    }
   ],
   "source": [
    "heart_test.isna().sum()"
   ]
  },
  {
   "cell_type": "markdown",
   "id": "692fb083-3eaa-4cb4-96d3-ab32f368a4a7",
   "metadata": {},
   "source": [
    "Checking the shape"
   ]
  },
  {
   "cell_type": "code",
   "execution_count": 59,
   "id": "12153214-cda1-49b7-a7f9-cc67d3126270",
   "metadata": {},
   "outputs": [
    {
     "data": {
      "text/plain": [
       "(3390, 16)"
      ]
     },
     "execution_count": 59,
     "metadata": {},
     "output_type": "execute_result"
    }
   ],
   "source": [
    "heart_train.shape"
   ]
  },
  {
   "cell_type": "code",
   "execution_count": 60,
   "id": "059ee6aa-ba87-4175-a1de-2f6915602ac9",
   "metadata": {},
   "outputs": [
    {
     "data": {
      "text/plain": [
       "(848, 16)"
      ]
     },
     "execution_count": 60,
     "metadata": {},
     "output_type": "execute_result"
    }
   ],
   "source": [
    "heart_test.shape"
   ]
  },
  {
   "cell_type": "code",
   "execution_count": 61,
   "id": "b3129793-eb94-406d-9ff8-46643faa62a9",
   "metadata": {},
   "outputs": [
    {
     "data": {
      "text/plain": [
       "array([ 1.,  3.,  2.,  4., nan])"
      ]
     },
     "execution_count": 61,
     "metadata": {},
     "output_type": "execute_result"
    }
   ],
   "source": [
    "heart_train['education'].unique()"
   ]
  },
  {
   "cell_type": "code",
   "execution_count": 62,
   "id": "af4ea1dc-f1b7-4b8d-af2e-de3e326cf013",
   "metadata": {},
   "outputs": [
    {
     "data": {
      "text/plain": [
       "array([ 1.,  2.,  3., nan,  4.])"
      ]
     },
     "execution_count": 62,
     "metadata": {},
     "output_type": "execute_result"
    }
   ],
   "source": [
    "heart_test['education'].unique()"
   ]
  },
  {
   "cell_type": "code",
   "execution_count": 63,
   "id": "dbc858d3-f225-4695-b7cb-71225ae9b65f",
   "metadata": {},
   "outputs": [
    {
     "data": {
      "text/plain": [
       "array([ 0.,  2., 30.,  3., 20., 15., 35., 23., 10.,  1., nan, 11., 40.,\n",
       "        5.,  9., 17., 16., 43., 12., 25.,  7.,  6.,  4., 50.,  8., 60.,\n",
       "       18., 70., 13., 38., 14., 45., 19.])"
      ]
     },
     "execution_count": 63,
     "metadata": {},
     "output_type": "execute_result"
    }
   ],
   "source": [
    "heart_train['cigsPerDay'].unique()"
   ]
  },
  {
   "cell_type": "code",
   "execution_count": 64,
   "id": "942b4a51-a5c4-4746-93d7-3910bca6c944",
   "metadata": {},
   "outputs": [
    {
     "data": {
      "text/plain": [
       "array([ 0., 23.,  1., 20., 30.,  7., 10.,  3.,  5.,  9., 43., 40., 15.,\n",
       "        6., 35., 25., 13.,  2., 60., 18., nan, 11., 29., 12., 45.,  8.,\n",
       "       17.])"
      ]
     },
     "execution_count": 64,
     "metadata": {},
     "output_type": "execute_result"
    }
   ],
   "source": [
    "heart_test['cigsPerDay'].unique()"
   ]
  },
  {
   "cell_type": "code",
   "execution_count": 65,
   "id": "4b15c884-d96d-4372-97bc-dc41b4615230",
   "metadata": {},
   "outputs": [
    {
     "data": {
      "text/plain": [
       "array([ 0.,  1., nan])"
      ]
     },
     "execution_count": 65,
     "metadata": {},
     "output_type": "execute_result"
    }
   ],
   "source": [
    "heart_train['BPMeds'].unique()"
   ]
  },
  {
   "cell_type": "code",
   "execution_count": 66,
   "id": "c5225744-8a8c-4eb1-982d-9d5b52d2927a",
   "metadata": {},
   "outputs": [
    {
     "data": {
      "text/plain": [
       "array([ 0.,  1., nan])"
      ]
     },
     "execution_count": 66,
     "metadata": {},
     "output_type": "execute_result"
    }
   ],
   "source": [
    "heart_test['BPMeds'].unique()"
   ]
  },
  {
   "cell_type": "markdown",
   "id": "5b8711f8-299e-4d26-9200-95efb2709bca",
   "metadata": {},
   "source": [
    "Checking the statistics of both the train and test set"
   ]
  },
  {
   "cell_type": "code",
   "execution_count": 67,
   "id": "f8440268-b412-49b7-8e4e-fa018131b2cb",
   "metadata": {},
   "outputs": [
    {
     "data": {
      "text/html": [
       "<div>\n",
       "<style scoped>\n",
       "    .dataframe tbody tr th:only-of-type {\n",
       "        vertical-align: middle;\n",
       "    }\n",
       "\n",
       "    .dataframe tbody tr th {\n",
       "        vertical-align: top;\n",
       "    }\n",
       "\n",
       "    .dataframe thead th {\n",
       "        text-align: right;\n",
       "    }\n",
       "</style>\n",
       "<table border=\"1\" class=\"dataframe\">\n",
       "  <thead>\n",
       "    <tr style=\"text-align: right;\">\n",
       "      <th></th>\n",
       "      <th>gender</th>\n",
       "      <th>age</th>\n",
       "      <th>education</th>\n",
       "      <th>currentSmoker</th>\n",
       "      <th>cigsPerDay</th>\n",
       "      <th>BPMeds</th>\n",
       "      <th>prevalentStroke</th>\n",
       "      <th>prevalentHyp</th>\n",
       "      <th>diabetes</th>\n",
       "      <th>totChol</th>\n",
       "      <th>sysBP</th>\n",
       "      <th>diaBP</th>\n",
       "      <th>BMI</th>\n",
       "      <th>heartRate</th>\n",
       "      <th>glucose</th>\n",
       "      <th>TenYearCHD</th>\n",
       "    </tr>\n",
       "  </thead>\n",
       "  <tbody>\n",
       "    <tr>\n",
       "      <th>count</th>\n",
       "      <td>3390.000000</td>\n",
       "      <td>3390.000000</td>\n",
       "      <td>3306.000000</td>\n",
       "      <td>3390.000000</td>\n",
       "      <td>3365.000000</td>\n",
       "      <td>3348.000000</td>\n",
       "      <td>3390.000000</td>\n",
       "      <td>3390.000000</td>\n",
       "      <td>3390.000000</td>\n",
       "      <td>3346.000000</td>\n",
       "      <td>3390.000000</td>\n",
       "      <td>3390.000000</td>\n",
       "      <td>3374.000000</td>\n",
       "      <td>3389.000000</td>\n",
       "      <td>3075.000000</td>\n",
       "      <td>3390.000000</td>\n",
       "    </tr>\n",
       "    <tr>\n",
       "      <th>mean</th>\n",
       "      <td>0.433628</td>\n",
       "      <td>49.614159</td>\n",
       "      <td>1.981246</td>\n",
       "      <td>0.486726</td>\n",
       "      <td>8.962556</td>\n",
       "      <td>0.028375</td>\n",
       "      <td>0.004720</td>\n",
       "      <td>0.302065</td>\n",
       "      <td>0.024779</td>\n",
       "      <td>236.759713</td>\n",
       "      <td>132.126696</td>\n",
       "      <td>82.752065</td>\n",
       "      <td>25.793874</td>\n",
       "      <td>75.776335</td>\n",
       "      <td>82.023089</td>\n",
       "      <td>0.152212</td>\n",
       "    </tr>\n",
       "    <tr>\n",
       "      <th>std</th>\n",
       "      <td>0.495648</td>\n",
       "      <td>8.609617</td>\n",
       "      <td>1.023009</td>\n",
       "      <td>0.499897</td>\n",
       "      <td>12.030447</td>\n",
       "      <td>0.166067</td>\n",
       "      <td>0.068548</td>\n",
       "      <td>0.459221</td>\n",
       "      <td>0.155473</td>\n",
       "      <td>45.347259</td>\n",
       "      <td>22.047822</td>\n",
       "      <td>11.933836</td>\n",
       "      <td>4.045690</td>\n",
       "      <td>11.952094</td>\n",
       "      <td>23.934546</td>\n",
       "      <td>0.359280</td>\n",
       "    </tr>\n",
       "    <tr>\n",
       "      <th>min</th>\n",
       "      <td>0.000000</td>\n",
       "      <td>32.000000</td>\n",
       "      <td>1.000000</td>\n",
       "      <td>0.000000</td>\n",
       "      <td>0.000000</td>\n",
       "      <td>0.000000</td>\n",
       "      <td>0.000000</td>\n",
       "      <td>0.000000</td>\n",
       "      <td>0.000000</td>\n",
       "      <td>107.000000</td>\n",
       "      <td>83.500000</td>\n",
       "      <td>50.000000</td>\n",
       "      <td>15.540000</td>\n",
       "      <td>44.000000</td>\n",
       "      <td>40.000000</td>\n",
       "      <td>0.000000</td>\n",
       "    </tr>\n",
       "    <tr>\n",
       "      <th>25%</th>\n",
       "      <td>0.000000</td>\n",
       "      <td>42.000000</td>\n",
       "      <td>1.000000</td>\n",
       "      <td>0.000000</td>\n",
       "      <td>0.000000</td>\n",
       "      <td>0.000000</td>\n",
       "      <td>0.000000</td>\n",
       "      <td>0.000000</td>\n",
       "      <td>0.000000</td>\n",
       "      <td>206.000000</td>\n",
       "      <td>116.500000</td>\n",
       "      <td>74.500000</td>\n",
       "      <td>23.080000</td>\n",
       "      <td>68.000000</td>\n",
       "      <td>71.000000</td>\n",
       "      <td>0.000000</td>\n",
       "    </tr>\n",
       "    <tr>\n",
       "      <th>50%</th>\n",
       "      <td>0.000000</td>\n",
       "      <td>49.000000</td>\n",
       "      <td>2.000000</td>\n",
       "      <td>0.000000</td>\n",
       "      <td>0.000000</td>\n",
       "      <td>0.000000</td>\n",
       "      <td>0.000000</td>\n",
       "      <td>0.000000</td>\n",
       "      <td>0.000000</td>\n",
       "      <td>233.500000</td>\n",
       "      <td>128.000000</td>\n",
       "      <td>82.000000</td>\n",
       "      <td>25.425000</td>\n",
       "      <td>75.000000</td>\n",
       "      <td>78.000000</td>\n",
       "      <td>0.000000</td>\n",
       "    </tr>\n",
       "    <tr>\n",
       "      <th>75%</th>\n",
       "      <td>1.000000</td>\n",
       "      <td>57.000000</td>\n",
       "      <td>3.000000</td>\n",
       "      <td>1.000000</td>\n",
       "      <td>20.000000</td>\n",
       "      <td>0.000000</td>\n",
       "      <td>0.000000</td>\n",
       "      <td>1.000000</td>\n",
       "      <td>0.000000</td>\n",
       "      <td>264.000000</td>\n",
       "      <td>143.500000</td>\n",
       "      <td>89.000000</td>\n",
       "      <td>28.060000</td>\n",
       "      <td>82.000000</td>\n",
       "      <td>87.000000</td>\n",
       "      <td>0.000000</td>\n",
       "    </tr>\n",
       "    <tr>\n",
       "      <th>max</th>\n",
       "      <td>1.000000</td>\n",
       "      <td>70.000000</td>\n",
       "      <td>4.000000</td>\n",
       "      <td>1.000000</td>\n",
       "      <td>70.000000</td>\n",
       "      <td>1.000000</td>\n",
       "      <td>1.000000</td>\n",
       "      <td>1.000000</td>\n",
       "      <td>1.000000</td>\n",
       "      <td>696.000000</td>\n",
       "      <td>295.000000</td>\n",
       "      <td>142.500000</td>\n",
       "      <td>56.800000</td>\n",
       "      <td>143.000000</td>\n",
       "      <td>394.000000</td>\n",
       "      <td>1.000000</td>\n",
       "    </tr>\n",
       "  </tbody>\n",
       "</table>\n",
       "</div>"
      ],
      "text/plain": [
       "            gender          age    education  currentSmoker   cigsPerDay  \\\n",
       "count  3390.000000  3390.000000  3306.000000    3390.000000  3365.000000   \n",
       "mean      0.433628    49.614159     1.981246       0.486726     8.962556   \n",
       "std       0.495648     8.609617     1.023009       0.499897    12.030447   \n",
       "min       0.000000    32.000000     1.000000       0.000000     0.000000   \n",
       "25%       0.000000    42.000000     1.000000       0.000000     0.000000   \n",
       "50%       0.000000    49.000000     2.000000       0.000000     0.000000   \n",
       "75%       1.000000    57.000000     3.000000       1.000000    20.000000   \n",
       "max       1.000000    70.000000     4.000000       1.000000    70.000000   \n",
       "\n",
       "            BPMeds  prevalentStroke  prevalentHyp     diabetes      totChol  \\\n",
       "count  3348.000000      3390.000000   3390.000000  3390.000000  3346.000000   \n",
       "mean      0.028375         0.004720      0.302065     0.024779   236.759713   \n",
       "std       0.166067         0.068548      0.459221     0.155473    45.347259   \n",
       "min       0.000000         0.000000      0.000000     0.000000   107.000000   \n",
       "25%       0.000000         0.000000      0.000000     0.000000   206.000000   \n",
       "50%       0.000000         0.000000      0.000000     0.000000   233.500000   \n",
       "75%       0.000000         0.000000      1.000000     0.000000   264.000000   \n",
       "max       1.000000         1.000000      1.000000     1.000000   696.000000   \n",
       "\n",
       "             sysBP        diaBP          BMI    heartRate      glucose  \\\n",
       "count  3390.000000  3390.000000  3374.000000  3389.000000  3075.000000   \n",
       "mean    132.126696    82.752065    25.793874    75.776335    82.023089   \n",
       "std      22.047822    11.933836     4.045690    11.952094    23.934546   \n",
       "min      83.500000    50.000000    15.540000    44.000000    40.000000   \n",
       "25%     116.500000    74.500000    23.080000    68.000000    71.000000   \n",
       "50%     128.000000    82.000000    25.425000    75.000000    78.000000   \n",
       "75%     143.500000    89.000000    28.060000    82.000000    87.000000   \n",
       "max     295.000000   142.500000    56.800000   143.000000   394.000000   \n",
       "\n",
       "        TenYearCHD  \n",
       "count  3390.000000  \n",
       "mean      0.152212  \n",
       "std       0.359280  \n",
       "min       0.000000  \n",
       "25%       0.000000  \n",
       "50%       0.000000  \n",
       "75%       0.000000  \n",
       "max       1.000000  "
      ]
     },
     "execution_count": 67,
     "metadata": {},
     "output_type": "execute_result"
    }
   ],
   "source": [
    "heart_train.describe()"
   ]
  },
  {
   "cell_type": "code",
   "execution_count": 68,
   "id": "3000740a-bf2d-4bc7-b899-8785f63e9d6b",
   "metadata": {},
   "outputs": [
    {
     "data": {
      "text/html": [
       "<div>\n",
       "<style scoped>\n",
       "    .dataframe tbody tr th:only-of-type {\n",
       "        vertical-align: middle;\n",
       "    }\n",
       "\n",
       "    .dataframe tbody tr th {\n",
       "        vertical-align: top;\n",
       "    }\n",
       "\n",
       "    .dataframe thead th {\n",
       "        text-align: right;\n",
       "    }\n",
       "</style>\n",
       "<table border=\"1\" class=\"dataframe\">\n",
       "  <thead>\n",
       "    <tr style=\"text-align: right;\">\n",
       "      <th></th>\n",
       "      <th>gender</th>\n",
       "      <th>age</th>\n",
       "      <th>education</th>\n",
       "      <th>currentSmoker</th>\n",
       "      <th>cigsPerDay</th>\n",
       "      <th>BPMeds</th>\n",
       "      <th>prevalentStroke</th>\n",
       "      <th>prevalentHyp</th>\n",
       "      <th>diabetes</th>\n",
       "      <th>totChol</th>\n",
       "      <th>sysBP</th>\n",
       "      <th>diaBP</th>\n",
       "      <th>BMI</th>\n",
       "      <th>heartRate</th>\n",
       "      <th>glucose</th>\n",
       "      <th>TenYearCHD</th>\n",
       "    </tr>\n",
       "  </thead>\n",
       "  <tbody>\n",
       "    <tr>\n",
       "      <th>count</th>\n",
       "      <td>848.000000</td>\n",
       "      <td>848.000000</td>\n",
       "      <td>827.000000</td>\n",
       "      <td>848.000000</td>\n",
       "      <td>844.000000</td>\n",
       "      <td>837.000000</td>\n",
       "      <td>848.000000</td>\n",
       "      <td>848.000000</td>\n",
       "      <td>848.000000</td>\n",
       "      <td>842.000000</td>\n",
       "      <td>848.000000</td>\n",
       "      <td>848.000000</td>\n",
       "      <td>845.000000</td>\n",
       "      <td>848.000000</td>\n",
       "      <td>775.000000</td>\n",
       "      <td>848.000000</td>\n",
       "    </tr>\n",
       "    <tr>\n",
       "      <th>mean</th>\n",
       "      <td>0.411557</td>\n",
       "      <td>49.468160</td>\n",
       "      <td>1.969770</td>\n",
       "      <td>0.523585</td>\n",
       "      <td>9.164692</td>\n",
       "      <td>0.034648</td>\n",
       "      <td>0.010613</td>\n",
       "      <td>0.344340</td>\n",
       "      <td>0.029481</td>\n",
       "      <td>236.570071</td>\n",
       "      <td>133.254717</td>\n",
       "      <td>83.458726</td>\n",
       "      <td>25.834485</td>\n",
       "      <td>76.288915</td>\n",
       "      <td>81.743226</td>\n",
       "      <td>0.150943</td>\n",
       "    </tr>\n",
       "    <tr>\n",
       "      <th>std</th>\n",
       "      <td>0.492406</td>\n",
       "      <td>8.424758</td>\n",
       "      <td>1.007385</td>\n",
       "      <td>0.499738</td>\n",
       "      <td>11.475080</td>\n",
       "      <td>0.182995</td>\n",
       "      <td>0.102533</td>\n",
       "      <td>0.475433</td>\n",
       "      <td>0.169251</td>\n",
       "      <td>41.471282</td>\n",
       "      <td>21.989009</td>\n",
       "      <td>11.808590</td>\n",
       "      <td>4.217051</td>\n",
       "      <td>12.318492</td>\n",
       "      <td>24.074923</td>\n",
       "      <td>0.358205</td>\n",
       "    </tr>\n",
       "    <tr>\n",
       "      <th>min</th>\n",
       "      <td>0.000000</td>\n",
       "      <td>33.000000</td>\n",
       "      <td>1.000000</td>\n",
       "      <td>0.000000</td>\n",
       "      <td>0.000000</td>\n",
       "      <td>0.000000</td>\n",
       "      <td>0.000000</td>\n",
       "      <td>0.000000</td>\n",
       "      <td>0.000000</td>\n",
       "      <td>145.000000</td>\n",
       "      <td>92.000000</td>\n",
       "      <td>48.000000</td>\n",
       "      <td>16.750000</td>\n",
       "      <td>45.000000</td>\n",
       "      <td>40.000000</td>\n",
       "      <td>0.000000</td>\n",
       "    </tr>\n",
       "    <tr>\n",
       "      <th>25%</th>\n",
       "      <td>0.000000</td>\n",
       "      <td>42.000000</td>\n",
       "      <td>1.000000</td>\n",
       "      <td>0.000000</td>\n",
       "      <td>0.000000</td>\n",
       "      <td>0.000000</td>\n",
       "      <td>0.000000</td>\n",
       "      <td>0.000000</td>\n",
       "      <td>0.000000</td>\n",
       "      <td>206.000000</td>\n",
       "      <td>117.875000</td>\n",
       "      <td>75.500000</td>\n",
       "      <td>23.060000</td>\n",
       "      <td>67.750000</td>\n",
       "      <td>71.000000</td>\n",
       "      <td>0.000000</td>\n",
       "    </tr>\n",
       "    <tr>\n",
       "      <th>50%</th>\n",
       "      <td>0.000000</td>\n",
       "      <td>49.000000</td>\n",
       "      <td>2.000000</td>\n",
       "      <td>1.000000</td>\n",
       "      <td>1.500000</td>\n",
       "      <td>0.000000</td>\n",
       "      <td>0.000000</td>\n",
       "      <td>0.000000</td>\n",
       "      <td>0.000000</td>\n",
       "      <td>235.000000</td>\n",
       "      <td>129.000000</td>\n",
       "      <td>82.500000</td>\n",
       "      <td>25.310000</td>\n",
       "      <td>75.000000</td>\n",
       "      <td>77.000000</td>\n",
       "      <td>0.000000</td>\n",
       "    </tr>\n",
       "    <tr>\n",
       "      <th>75%</th>\n",
       "      <td>1.000000</td>\n",
       "      <td>56.000000</td>\n",
       "      <td>3.000000</td>\n",
       "      <td>1.000000</td>\n",
       "      <td>20.000000</td>\n",
       "      <td>0.000000</td>\n",
       "      <td>0.000000</td>\n",
       "      <td>1.000000</td>\n",
       "      <td>0.000000</td>\n",
       "      <td>261.750000</td>\n",
       "      <td>144.500000</td>\n",
       "      <td>90.000000</td>\n",
       "      <td>27.930000</td>\n",
       "      <td>85.000000</td>\n",
       "      <td>86.000000</td>\n",
       "      <td>0.000000</td>\n",
       "    </tr>\n",
       "    <tr>\n",
       "      <th>max</th>\n",
       "      <td>1.000000</td>\n",
       "      <td>69.000000</td>\n",
       "      <td>4.000000</td>\n",
       "      <td>1.000000</td>\n",
       "      <td>60.000000</td>\n",
       "      <td>1.000000</td>\n",
       "      <td>1.000000</td>\n",
       "      <td>1.000000</td>\n",
       "      <td>1.000000</td>\n",
       "      <td>453.000000</td>\n",
       "      <td>215.000000</td>\n",
       "      <td>140.000000</td>\n",
       "      <td>51.280000</td>\n",
       "      <td>125.000000</td>\n",
       "      <td>325.000000</td>\n",
       "      <td>1.000000</td>\n",
       "    </tr>\n",
       "  </tbody>\n",
       "</table>\n",
       "</div>"
      ],
      "text/plain": [
       "           gender         age   education  currentSmoker  cigsPerDay  \\\n",
       "count  848.000000  848.000000  827.000000     848.000000  844.000000   \n",
       "mean     0.411557   49.468160    1.969770       0.523585    9.164692   \n",
       "std      0.492406    8.424758    1.007385       0.499738   11.475080   \n",
       "min      0.000000   33.000000    1.000000       0.000000    0.000000   \n",
       "25%      0.000000   42.000000    1.000000       0.000000    0.000000   \n",
       "50%      0.000000   49.000000    2.000000       1.000000    1.500000   \n",
       "75%      1.000000   56.000000    3.000000       1.000000   20.000000   \n",
       "max      1.000000   69.000000    4.000000       1.000000   60.000000   \n",
       "\n",
       "           BPMeds  prevalentStroke  prevalentHyp    diabetes     totChol  \\\n",
       "count  837.000000       848.000000    848.000000  848.000000  842.000000   \n",
       "mean     0.034648         0.010613      0.344340    0.029481  236.570071   \n",
       "std      0.182995         0.102533      0.475433    0.169251   41.471282   \n",
       "min      0.000000         0.000000      0.000000    0.000000  145.000000   \n",
       "25%      0.000000         0.000000      0.000000    0.000000  206.000000   \n",
       "50%      0.000000         0.000000      0.000000    0.000000  235.000000   \n",
       "75%      0.000000         0.000000      1.000000    0.000000  261.750000   \n",
       "max      1.000000         1.000000      1.000000    1.000000  453.000000   \n",
       "\n",
       "            sysBP       diaBP         BMI   heartRate     glucose  TenYearCHD  \n",
       "count  848.000000  848.000000  845.000000  848.000000  775.000000  848.000000  \n",
       "mean   133.254717   83.458726   25.834485   76.288915   81.743226    0.150943  \n",
       "std     21.989009   11.808590    4.217051   12.318492   24.074923    0.358205  \n",
       "min     92.000000   48.000000   16.750000   45.000000   40.000000    0.000000  \n",
       "25%    117.875000   75.500000   23.060000   67.750000   71.000000    0.000000  \n",
       "50%    129.000000   82.500000   25.310000   75.000000   77.000000    0.000000  \n",
       "75%    144.500000   90.000000   27.930000   85.000000   86.000000    0.000000  \n",
       "max    215.000000  140.000000   51.280000  125.000000  325.000000    1.000000  "
      ]
     },
     "execution_count": 68,
     "metadata": {},
     "output_type": "execute_result"
    }
   ],
   "source": [
    "heart_test.describe()"
   ]
  },
  {
   "cell_type": "markdown",
   "id": "bd4133e6-73fd-43ee-99e9-c1ae09bda6c9",
   "metadata": {},
   "source": [
    "### Imputing Missing Values in heart_train and heart_test"
   ]
  },
  {
   "cell_type": "markdown",
   "id": "63dfeba3-632c-4afe-8a25-4fc5f61fed18",
   "metadata": {},
   "source": [
    "Data Imputation: Using subclass methods to handle the missing values. \n",
    "For numerical features, we could use mean or median imputation, while for categorical features, mode imputation is suitable."
   ]
  },
  {
   "cell_type": "markdown",
   "id": "58f841a2-ba74-46ae-9eb6-5659650c5a38",
   "metadata": {},
   "source": [
    "In order to fill the missing values with sub class, we need to find what features are related with each other the most. For that, we have used the correlation matrix to identify features most strongly correlated with the column containing missing values."
   ]
  },
  {
   "cell_type": "code",
   "execution_count": 69,
   "id": "59acaf11-11e2-4ab8-9650-7bc4cb7625c6",
   "metadata": {},
   "outputs": [
    {
     "data": {
      "text/html": [
       "<div>\n",
       "<style scoped>\n",
       "    .dataframe tbody tr th:only-of-type {\n",
       "        vertical-align: middle;\n",
       "    }\n",
       "\n",
       "    .dataframe tbody tr th {\n",
       "        vertical-align: top;\n",
       "    }\n",
       "\n",
       "    .dataframe thead th {\n",
       "        text-align: right;\n",
       "    }\n",
       "</style>\n",
       "<table border=\"1\" class=\"dataframe\">\n",
       "  <thead>\n",
       "    <tr style=\"text-align: right;\">\n",
       "      <th></th>\n",
       "      <th>gender</th>\n",
       "      <th>age</th>\n",
       "      <th>education</th>\n",
       "      <th>currentSmoker</th>\n",
       "      <th>cigsPerDay</th>\n",
       "      <th>BPMeds</th>\n",
       "      <th>prevalentStroke</th>\n",
       "      <th>prevalentHyp</th>\n",
       "      <th>diabetes</th>\n",
       "      <th>totChol</th>\n",
       "      <th>sysBP</th>\n",
       "      <th>diaBP</th>\n",
       "      <th>BMI</th>\n",
       "      <th>heartRate</th>\n",
       "      <th>glucose</th>\n",
       "      <th>TenYearCHD</th>\n",
       "    </tr>\n",
       "  </thead>\n",
       "  <tbody>\n",
       "    <tr>\n",
       "      <th>gender</th>\n",
       "      <td>1.000000</td>\n",
       "      <td>-0.021699</td>\n",
       "      <td>0.017740</td>\n",
       "      <td>0.197109</td>\n",
       "      <td>0.312110</td>\n",
       "      <td>-0.063121</td>\n",
       "      <td>0.000538</td>\n",
       "      <td>-0.003935</td>\n",
       "      <td>0.021348</td>\n",
       "      <td>-0.075607</td>\n",
       "      <td>-0.041278</td>\n",
       "      <td>0.057516</td>\n",
       "      <td>0.090680</td>\n",
       "      <td>-0.117163</td>\n",
       "      <td>0.017359</td>\n",
       "      <td>0.093203</td>\n",
       "    </tr>\n",
       "    <tr>\n",
       "      <th>age</th>\n",
       "      <td>-0.021699</td>\n",
       "      <td>1.000000</td>\n",
       "      <td>-0.156948</td>\n",
       "      <td>-0.218453</td>\n",
       "      <td>-0.186060</td>\n",
       "      <td>0.126578</td>\n",
       "      <td>0.068083</td>\n",
       "      <td>0.304355</td>\n",
       "      <td>0.110090</td>\n",
       "      <td>0.262306</td>\n",
       "      <td>0.386243</td>\n",
       "      <td>0.204637</td>\n",
       "      <td>0.142417</td>\n",
       "      <td>-0.018992</td>\n",
       "      <td>0.121737</td>\n",
       "      <td>0.215881</td>\n",
       "    </tr>\n",
       "    <tr>\n",
       "      <th>education</th>\n",
       "      <td>0.017740</td>\n",
       "      <td>-0.156948</td>\n",
       "      <td>1.000000</td>\n",
       "      <td>0.011334</td>\n",
       "      <td>0.003289</td>\n",
       "      <td>-0.002784</td>\n",
       "      <td>-0.032811</td>\n",
       "      <td>-0.062608</td>\n",
       "      <td>-0.044612</td>\n",
       "      <td>-0.009843</td>\n",
       "      <td>-0.113493</td>\n",
       "      <td>-0.043689</td>\n",
       "      <td>-0.122646</td>\n",
       "      <td>-0.048114</td>\n",
       "      <td>-0.033716</td>\n",
       "      <td>-0.036786</td>\n",
       "    </tr>\n",
       "    <tr>\n",
       "      <th>currentSmoker</th>\n",
       "      <td>0.197109</td>\n",
       "      <td>-0.218453</td>\n",
       "      <td>0.011334</td>\n",
       "      <td>1.000000</td>\n",
       "      <td>0.771015</td>\n",
       "      <td>-0.047996</td>\n",
       "      <td>-0.032615</td>\n",
       "      <td>-0.096925</td>\n",
       "      <td>-0.048919</td>\n",
       "      <td>-0.051385</td>\n",
       "      <td>-0.130769</td>\n",
       "      <td>-0.103222</td>\n",
       "      <td>-0.164121</td>\n",
       "      <td>0.057198</td>\n",
       "      <td>-0.057929</td>\n",
       "      <td>0.022754</td>\n",
       "    </tr>\n",
       "    <tr>\n",
       "      <th>cigsPerDay</th>\n",
       "      <td>0.312110</td>\n",
       "      <td>-0.186060</td>\n",
       "      <td>0.003289</td>\n",
       "      <td>0.771015</td>\n",
       "      <td>1.000000</td>\n",
       "      <td>-0.043402</td>\n",
       "      <td>-0.029953</td>\n",
       "      <td>-0.063781</td>\n",
       "      <td>-0.046534</td>\n",
       "      <td>-0.021426</td>\n",
       "      <td>-0.090941</td>\n",
       "      <td>-0.055125</td>\n",
       "      <td>-0.091066</td>\n",
       "      <td>0.078196</td>\n",
       "      <td>-0.067160</td>\n",
       "      <td>0.054683</td>\n",
       "    </tr>\n",
       "    <tr>\n",
       "      <th>BPMeds</th>\n",
       "      <td>-0.063121</td>\n",
       "      <td>0.126578</td>\n",
       "      <td>-0.002784</td>\n",
       "      <td>-0.047996</td>\n",
       "      <td>-0.043402</td>\n",
       "      <td>1.000000</td>\n",
       "      <td>0.069341</td>\n",
       "      <td>0.260374</td>\n",
       "      <td>0.066023</td>\n",
       "      <td>0.098285</td>\n",
       "      <td>0.253094</td>\n",
       "      <td>0.197538</td>\n",
       "      <td>0.090651</td>\n",
       "      <td>0.013199</td>\n",
       "      <td>0.062359</td>\n",
       "      <td>0.103217</td>\n",
       "    </tr>\n",
       "    <tr>\n",
       "      <th>prevalentStroke</th>\n",
       "      <td>0.000538</td>\n",
       "      <td>0.068083</td>\n",
       "      <td>-0.032811</td>\n",
       "      <td>-0.032615</td>\n",
       "      <td>-0.029953</td>\n",
       "      <td>0.069341</td>\n",
       "      <td>1.000000</td>\n",
       "      <td>0.085928</td>\n",
       "      <td>0.016710</td>\n",
       "      <td>0.008202</td>\n",
       "      <td>0.047633</td>\n",
       "      <td>0.041469</td>\n",
       "      <td>0.031158</td>\n",
       "      <td>-0.022485</td>\n",
       "      <td>0.015608</td>\n",
       "      <td>0.078652</td>\n",
       "    </tr>\n",
       "    <tr>\n",
       "      <th>prevalentHyp</th>\n",
       "      <td>-0.003935</td>\n",
       "      <td>0.304355</td>\n",
       "      <td>-0.062608</td>\n",
       "      <td>-0.096925</td>\n",
       "      <td>-0.063781</td>\n",
       "      <td>0.260374</td>\n",
       "      <td>0.085928</td>\n",
       "      <td>1.000000</td>\n",
       "      <td>0.072848</td>\n",
       "      <td>0.169543</td>\n",
       "      <td>0.696449</td>\n",
       "      <td>0.619885</td>\n",
       "      <td>0.292622</td>\n",
       "      <td>0.147365</td>\n",
       "      <td>0.076927</td>\n",
       "      <td>0.168354</td>\n",
       "    </tr>\n",
       "    <tr>\n",
       "      <th>diabetes</th>\n",
       "      <td>0.021348</td>\n",
       "      <td>0.110090</td>\n",
       "      <td>-0.044612</td>\n",
       "      <td>-0.048919</td>\n",
       "      <td>-0.046534</td>\n",
       "      <td>0.066023</td>\n",
       "      <td>0.016710</td>\n",
       "      <td>0.072848</td>\n",
       "      <td>1.000000</td>\n",
       "      <td>0.053439</td>\n",
       "      <td>0.115293</td>\n",
       "      <td>0.035596</td>\n",
       "      <td>0.077206</td>\n",
       "      <td>0.034112</td>\n",
       "      <td>0.603499</td>\n",
       "      <td>0.085651</td>\n",
       "    </tr>\n",
       "    <tr>\n",
       "      <th>totChol</th>\n",
       "      <td>-0.075607</td>\n",
       "      <td>0.262306</td>\n",
       "      <td>-0.009843</td>\n",
       "      <td>-0.051385</td>\n",
       "      <td>-0.021426</td>\n",
       "      <td>0.098285</td>\n",
       "      <td>0.008202</td>\n",
       "      <td>0.169543</td>\n",
       "      <td>0.053439</td>\n",
       "      <td>1.000000</td>\n",
       "      <td>0.215922</td>\n",
       "      <td>0.166074</td>\n",
       "      <td>0.117041</td>\n",
       "      <td>0.076157</td>\n",
       "      <td>0.053876</td>\n",
       "      <td>0.087134</td>\n",
       "    </tr>\n",
       "    <tr>\n",
       "      <th>sysBP</th>\n",
       "      <td>-0.041278</td>\n",
       "      <td>0.386243</td>\n",
       "      <td>-0.113493</td>\n",
       "      <td>-0.130769</td>\n",
       "      <td>-0.090941</td>\n",
       "      <td>0.253094</td>\n",
       "      <td>0.047633</td>\n",
       "      <td>0.696449</td>\n",
       "      <td>0.115293</td>\n",
       "      <td>0.215922</td>\n",
       "      <td>1.000000</td>\n",
       "      <td>0.787136</td>\n",
       "      <td>0.331848</td>\n",
       "      <td>0.188739</td>\n",
       "      <td>0.138556</td>\n",
       "      <td>0.206707</td>\n",
       "    </tr>\n",
       "    <tr>\n",
       "      <th>diaBP</th>\n",
       "      <td>0.057516</td>\n",
       "      <td>0.204637</td>\n",
       "      <td>-0.043689</td>\n",
       "      <td>-0.103222</td>\n",
       "      <td>-0.055125</td>\n",
       "      <td>0.197538</td>\n",
       "      <td>0.041469</td>\n",
       "      <td>0.619885</td>\n",
       "      <td>0.035596</td>\n",
       "      <td>0.166074</td>\n",
       "      <td>0.787136</td>\n",
       "      <td>1.000000</td>\n",
       "      <td>0.377363</td>\n",
       "      <td>0.178134</td>\n",
       "      <td>0.050901</td>\n",
       "      <td>0.138634</td>\n",
       "    </tr>\n",
       "    <tr>\n",
       "      <th>BMI</th>\n",
       "      <td>0.090680</td>\n",
       "      <td>0.142417</td>\n",
       "      <td>-0.122646</td>\n",
       "      <td>-0.164121</td>\n",
       "      <td>-0.091066</td>\n",
       "      <td>0.090651</td>\n",
       "      <td>0.031158</td>\n",
       "      <td>0.292622</td>\n",
       "      <td>0.077206</td>\n",
       "      <td>0.117041</td>\n",
       "      <td>0.331848</td>\n",
       "      <td>0.377363</td>\n",
       "      <td>1.000000</td>\n",
       "      <td>0.061650</td>\n",
       "      <td>0.081233</td>\n",
       "      <td>0.060039</td>\n",
       "    </tr>\n",
       "    <tr>\n",
       "      <th>heartRate</th>\n",
       "      <td>-0.117163</td>\n",
       "      <td>-0.018992</td>\n",
       "      <td>-0.048114</td>\n",
       "      <td>0.057198</td>\n",
       "      <td>0.078196</td>\n",
       "      <td>0.013199</td>\n",
       "      <td>-0.022485</td>\n",
       "      <td>0.147365</td>\n",
       "      <td>0.034112</td>\n",
       "      <td>0.076157</td>\n",
       "      <td>0.188739</td>\n",
       "      <td>0.178134</td>\n",
       "      <td>0.061650</td>\n",
       "      <td>1.000000</td>\n",
       "      <td>0.090087</td>\n",
       "      <td>0.028420</td>\n",
       "    </tr>\n",
       "    <tr>\n",
       "      <th>glucose</th>\n",
       "      <td>0.017359</td>\n",
       "      <td>0.121737</td>\n",
       "      <td>-0.033716</td>\n",
       "      <td>-0.057929</td>\n",
       "      <td>-0.067160</td>\n",
       "      <td>0.062359</td>\n",
       "      <td>0.015608</td>\n",
       "      <td>0.076927</td>\n",
       "      <td>0.603499</td>\n",
       "      <td>0.053876</td>\n",
       "      <td>0.138556</td>\n",
       "      <td>0.050901</td>\n",
       "      <td>0.081233</td>\n",
       "      <td>0.090087</td>\n",
       "      <td>1.000000</td>\n",
       "      <td>0.101690</td>\n",
       "    </tr>\n",
       "    <tr>\n",
       "      <th>TenYearCHD</th>\n",
       "      <td>0.093203</td>\n",
       "      <td>0.215881</td>\n",
       "      <td>-0.036786</td>\n",
       "      <td>0.022754</td>\n",
       "      <td>0.054683</td>\n",
       "      <td>0.103217</td>\n",
       "      <td>0.078652</td>\n",
       "      <td>0.168354</td>\n",
       "      <td>0.085651</td>\n",
       "      <td>0.087134</td>\n",
       "      <td>0.206707</td>\n",
       "      <td>0.138634</td>\n",
       "      <td>0.060039</td>\n",
       "      <td>0.028420</td>\n",
       "      <td>0.101690</td>\n",
       "      <td>1.000000</td>\n",
       "    </tr>\n",
       "  </tbody>\n",
       "</table>\n",
       "</div>"
      ],
      "text/plain": [
       "                   gender       age  education  currentSmoker  cigsPerDay  \\\n",
       "gender           1.000000 -0.021699   0.017740       0.197109    0.312110   \n",
       "age             -0.021699  1.000000  -0.156948      -0.218453   -0.186060   \n",
       "education        0.017740 -0.156948   1.000000       0.011334    0.003289   \n",
       "currentSmoker    0.197109 -0.218453   0.011334       1.000000    0.771015   \n",
       "cigsPerDay       0.312110 -0.186060   0.003289       0.771015    1.000000   \n",
       "BPMeds          -0.063121  0.126578  -0.002784      -0.047996   -0.043402   \n",
       "prevalentStroke  0.000538  0.068083  -0.032811      -0.032615   -0.029953   \n",
       "prevalentHyp    -0.003935  0.304355  -0.062608      -0.096925   -0.063781   \n",
       "diabetes         0.021348  0.110090  -0.044612      -0.048919   -0.046534   \n",
       "totChol         -0.075607  0.262306  -0.009843      -0.051385   -0.021426   \n",
       "sysBP           -0.041278  0.386243  -0.113493      -0.130769   -0.090941   \n",
       "diaBP            0.057516  0.204637  -0.043689      -0.103222   -0.055125   \n",
       "BMI              0.090680  0.142417  -0.122646      -0.164121   -0.091066   \n",
       "heartRate       -0.117163 -0.018992  -0.048114       0.057198    0.078196   \n",
       "glucose          0.017359  0.121737  -0.033716      -0.057929   -0.067160   \n",
       "TenYearCHD       0.093203  0.215881  -0.036786       0.022754    0.054683   \n",
       "\n",
       "                   BPMeds  prevalentStroke  prevalentHyp  diabetes   totChol  \\\n",
       "gender          -0.063121         0.000538     -0.003935  0.021348 -0.075607   \n",
       "age              0.126578         0.068083      0.304355  0.110090  0.262306   \n",
       "education       -0.002784        -0.032811     -0.062608 -0.044612 -0.009843   \n",
       "currentSmoker   -0.047996        -0.032615     -0.096925 -0.048919 -0.051385   \n",
       "cigsPerDay      -0.043402        -0.029953     -0.063781 -0.046534 -0.021426   \n",
       "BPMeds           1.000000         0.069341      0.260374  0.066023  0.098285   \n",
       "prevalentStroke  0.069341         1.000000      0.085928  0.016710  0.008202   \n",
       "prevalentHyp     0.260374         0.085928      1.000000  0.072848  0.169543   \n",
       "diabetes         0.066023         0.016710      0.072848  1.000000  0.053439   \n",
       "totChol          0.098285         0.008202      0.169543  0.053439  1.000000   \n",
       "sysBP            0.253094         0.047633      0.696449  0.115293  0.215922   \n",
       "diaBP            0.197538         0.041469      0.619885  0.035596  0.166074   \n",
       "BMI              0.090651         0.031158      0.292622  0.077206  0.117041   \n",
       "heartRate        0.013199        -0.022485      0.147365  0.034112  0.076157   \n",
       "glucose          0.062359         0.015608      0.076927  0.603499  0.053876   \n",
       "TenYearCHD       0.103217         0.078652      0.168354  0.085651  0.087134   \n",
       "\n",
       "                    sysBP     diaBP       BMI  heartRate   glucose  TenYearCHD  \n",
       "gender          -0.041278  0.057516  0.090680  -0.117163  0.017359    0.093203  \n",
       "age              0.386243  0.204637  0.142417  -0.018992  0.121737    0.215881  \n",
       "education       -0.113493 -0.043689 -0.122646  -0.048114 -0.033716   -0.036786  \n",
       "currentSmoker   -0.130769 -0.103222 -0.164121   0.057198 -0.057929    0.022754  \n",
       "cigsPerDay      -0.090941 -0.055125 -0.091066   0.078196 -0.067160    0.054683  \n",
       "BPMeds           0.253094  0.197538  0.090651   0.013199  0.062359    0.103217  \n",
       "prevalentStroke  0.047633  0.041469  0.031158  -0.022485  0.015608    0.078652  \n",
       "prevalentHyp     0.696449  0.619885  0.292622   0.147365  0.076927    0.168354  \n",
       "diabetes         0.115293  0.035596  0.077206   0.034112  0.603499    0.085651  \n",
       "totChol          0.215922  0.166074  0.117041   0.076157  0.053876    0.087134  \n",
       "sysBP            1.000000  0.787136  0.331848   0.188739  0.138556    0.206707  \n",
       "diaBP            0.787136  1.000000  0.377363   0.178134  0.050901    0.138634  \n",
       "BMI              0.331848  0.377363  1.000000   0.061650  0.081233    0.060039  \n",
       "heartRate        0.188739  0.178134  0.061650   1.000000  0.090087    0.028420  \n",
       "glucose          0.138556  0.050901  0.081233   0.090087  1.000000    0.101690  \n",
       "TenYearCHD       0.206707  0.138634  0.060039   0.028420  0.101690    1.000000  "
      ]
     },
     "execution_count": 69,
     "metadata": {},
     "output_type": "execute_result"
    }
   ],
   "source": [
    "heart_train.corr()"
   ]
  },
  {
   "cell_type": "markdown",
   "id": "8bd9e52d-75ee-4600-8be0-65fc7cbba412",
   "metadata": {},
   "source": [
    "Using the sysBP and diaBP, for that categorizing systolic and diastolic BP into ranges.\\\n",
    "For SysBP : Values < 120 are low, 120-140 are normal and >120 high\\\n",
    "For DiaBP : Values < 80 are low, 80-90 are normal and >90 high"
   ]
  },
  {
   "cell_type": "code",
   "execution_count": 70,
   "id": "ef1da462-1877-4aeb-bc7f-70abfe34661c",
   "metadata": {},
   "outputs": [],
   "source": [
    "def categorize_bp(df, sys_threshold=140, dia_threshold=90):\n",
    "    \"\"\"Categorize systolic and diastolic BP into ranges.\"\"\"\n",
    "    sys_category = pd.cut(df['sysBP'], bins=[-float('inf'), 120, sys_threshold, float('inf')],\n",
    "                          labels=['low', 'normal', 'high'], right=True)\n",
    "    dia_category = pd.cut(df['diaBP'], bins=[-float('inf'), 80, dia_threshold, float('inf')],\n",
    "                          labels=['low', 'normal', 'high'], right=True)\n",
    "    return sys_category, dia_category"
   ]
  },
  {
   "cell_type": "markdown",
   "id": "8b9c173c-2d50-4346-a5af-28b964cd64b3",
   "metadata": {},
   "source": [
    "#### For heart_test, we will ensure that imputation is based on statistics derived from heart_train in order to avoid data leakage."
   ]
  },
  {
   "cell_type": "markdown",
   "id": "98afccaf-6670-4b47-b0cc-6b2cfb5e94bb",
   "metadata": {},
   "source": [
    "##### Imputation Logic for Education, cigsPerDay, and Glucose. "
   ]
  },
  {
   "cell_type": "code",
   "execution_count": 71,
   "id": "60d1314c-b218-499f-8713-f4e50ecbf6df",
   "metadata": {},
   "outputs": [],
   "source": [
    "def MissingValueImputer_1(train_df, test_df):\n",
    "    # Education: filling with mode (categorical variable)\n",
    "    train_df['education'].fillna(train_df['education'].mode()[0], inplace=True)\n",
    "    test_df['education'].fillna(train_df['education'].mode()[0], inplace=True)\n",
    "\n",
    "    # Smoker: filling with the median of current smokers (positively skewed, so using median)\n",
    "    # Set to 0 for non-smokers as they don't smoke\n",
    "    train_df.loc[train_df['currentSmoker'] == 0, 'cigsPerDay'] = 0\n",
    "    test_df.loc[test_df['currentSmoker'] == 0, 'cigsPerDay'] = 0\n",
    "    \n",
    "    median_cigs = train_df[train_df['currentSmoker'] == 1]['cigsPerDay'].median()\n",
    "    \n",
    "    train_df.loc[train_df['currentSmoker'] == 1, 'cigsPerDay'] = train_df.loc[train_df['currentSmoker'] == 1, 'cigsPerDay'].fillna(median_cigs)\n",
    "    test_df.loc[test_df['currentSmoker'] == 1, 'cigsPerDay'] = test_df.loc[test_df['currentSmoker'] == 1, 'cigsPerDay'].fillna(median_cigs)\n",
    "\n",
    "    # Glucose: based on diabetes status (max is significantly higher than 75th percentile, using median)\n",
    "    # Highest corelation with diabetes columns\n",
    "    train_df['glucose'] = train_df.groupby('diabetes', observed=False)['glucose'].transform(lambda x: x.fillna(x.median()))\n",
    "    test_df['glucose'] = test_df.groupby('diabetes', observed=False)['glucose'].transform(\n",
    "        lambda x: x.fillna(train_df.groupby('diabetes', observed=False)['glucose'].median()[x.name]))\n",
    "    \n",
    "    return train_df, test_df"
   ]
  },
  {
   "cell_type": "markdown",
   "id": "2fc29cc1-735a-4706-a7a8-8ac6a71646d6",
   "metadata": {},
   "source": [
    "##### Imputation Logic for BPMeds. Having strong corelation with prevalentHyp,sysBP,diaBP"
   ]
  },
  {
   "cell_type": "code",
   "execution_count": 72,
   "id": "8ede2d5f-e4a8-4707-9b92-6e7d87d39782",
   "metadata": {},
   "outputs": [],
   "source": [
    "def MissingValueImputer_2(train_df, test_df):\n",
    "    # BP Meds: \n",
    "    # Rule 1: Patients with prevalent hypertension (prevalentHyp == 1)\n",
    "    train_df.loc[train_df['BPMeds'].isnull() & (train_df['prevalentHyp'] == 1), 'BPMeds'] = 1\n",
    "    test_df.loc[test_df['BPMeds'].isnull() & (test_df['prevalentHyp'] == 1), 'BPMeds'] = 1\n",
    "    \n",
    "    # Rule 2: Patients with very high systolic blood pressure (sysBP > 140) and no prevalent hypertension\n",
    "    high_bp_threshold = 140\n",
    "    train_df.loc[train_df['BPMeds'].isnull() & (train_df['sysBP'] > high_bp_threshold), 'BPMeds'] = 1\n",
    "    test_df.loc[test_df['BPMeds'].isnull() & (test_df['sysBP'] > high_bp_threshold), 'BPMeds'] = 1\n",
    "\n",
    "    # Rule 3: Patients with very high diaBP blood pressure (diaBP > 90) and no prevalent hypertension\n",
    "    train_df.loc[train_df['BPMeds'].isnull() & (train_df['diaBP'] > 90), 'BPMeds'] = 1\n",
    "    test_df.loc[test_df['BPMeds'].isnull() & (test_df['diaBP'] > 90), 'BPMeds'] = 1\n",
    "\n",
    "    # Rule 4: Remaining missing values default to 0 (not on medication)\n",
    "    train_df['BPMeds'].fillna(0, inplace=True)\n",
    "    test_df['BPMeds'].fillna(0, inplace=True)\n",
    "    train_df['BPMeds'] = train_df['BPMeds'].astype(int)\n",
    "    test_df['BPMeds'] = test_df['BPMeds'].astype(int)\n",
    "    \n",
    "    return train_df, test_df"
   ]
  },
  {
   "cell_type": "markdown",
   "id": "6863b910-a7c0-40a1-a2f8-ef4ccc5468ce",
   "metadata": {},
   "source": [
    "##### Imputation Logic for Cholestrol, BMI, and Heart Rate."
   ]
  },
  {
   "cell_type": "markdown",
   "id": "e89e7974-2688-425e-ade7-8fd9eae6239b",
   "metadata": {},
   "source": [
    "Using subclass(based on corelation matrix which are highly corelated) and considering median for it. After reading the statistics we got in describe method, we saw feature cholestrol is positively skewed, therefore using median as it is robust to outliers.\n",
    "\n",
    "For Heart rate also, using median based on the statistics, as max is significantly higher than 75th percentile. Using Median as it is robust to outliers. Same for BMI as well, mean is higher than median and max is higher than 7th percentile. "
   ]
  },
  {
   "cell_type": "code",
   "execution_count": 73,
   "id": "300ad400-17de-42bc-bc69-1cd172dce1cf",
   "metadata": {},
   "outputs": [],
   "source": [
    "def MissingValueImputer_3(train_df, test_df):\n",
    "    \n",
    "    # Categorize sysBP for train and test datasets\n",
    "    train_df['sysBP_category'], train_df['diaBP_category'] = categorize_bp(train_df)\n",
    "    test_df['sysBP_category'], test_df['diaBP_category'] = categorize_bp(test_df)\n",
    "\n",
    "    # Cholesterol: Filling based on age and sysBP_category (Highest corelation with these columns)\n",
    "    train_df['totChol'] = train_df.groupby(['age', 'sysBP_category'], observed=False)['totChol'].transform(\n",
    "        lambda x: x.fillna(x.median())\n",
    "    )\n",
    "    test_df['totChol'] = test_df.groupby(['age', 'sysBP_category'], observed=False)['totChol'].transform(\n",
    "        lambda x: x.fillna(train_df.groupby(['age', 'sysBP_category'], observed=False)['totChol'].median()[x.name])\n",
    "    )\n",
    "    \n",
    "    # BMI: filling by using age, gender, prevalentHyp, sysBP, and diaBP (Highest corelation with these columns)\n",
    "    train_df['BMI'] = train_df.groupby(['age', 'gender', 'prevalentHyp', 'sysBP_category', 'diaBP_category'], observed=False)['BMI'].transform(\n",
    "        lambda x: x.fillna(x.median() if not x.isnull().all() else train_df['BMI'].median()))\n",
    "    test_df['BMI'] = test_df.groupby(['age', 'gender', 'prevalentHyp', 'sysBP_category', 'diaBP_category'], observed=False)['BMI'].transform(\n",
    "        lambda x: x.fillna(train_df.groupby(['age', 'gender', 'prevalentHyp', 'sysBP_category', 'diaBP_category'], observed=False)['BMI'].median().get(x.name, train_df['BMI'].median()) if not x.isnull().all() else train_df['BMI'].median()))\n",
    "\n",
    "    # Heart Rate: filling by using sysBP and diaBP (Highest corelation with these columns)\n",
    "    train_df['heartRate'] = train_df.groupby(['sysBP_category', 'diaBP_category'], observed=False)['heartRate'].transform(lambda x: x.fillna(x.median()))\n",
    "    test_df['heartRate'] = test_df.groupby(['sysBP_category', 'diaBP_category'], observed=False)['heartRate'].transform(\n",
    "        lambda x: x.fillna(train_df.groupby(['sysBP_category', 'diaBP_category'], observed=False)['heartRate'].median()[x.name]))\n",
    "\n",
    "    # Dropping the temporary sysBP_category column\n",
    "    train_df.drop(columns=['sysBP_category', 'diaBP_category'], inplace=True)\n",
    "    test_df.drop(columns=['sysBP_category','diaBP_category'], inplace=True)\n",
    "\n",
    "    return train_df, test_df"
   ]
  },
  {
   "cell_type": "code",
   "execution_count": 74,
   "id": "fe2047db-af53-4ada-85d9-5d193dca6241",
   "metadata": {},
   "outputs": [
    {
     "name": "stderr",
     "output_type": "stream",
     "text": [
      "/var/folders/f9/tzl1jwjn3f3fvhyb_dm77j6h0000gn/T/ipykernel_85751/3040251283.py:3: FutureWarning: A value is trying to be set on a copy of a DataFrame or Series through chained assignment using an inplace method.\n",
      "The behavior will change in pandas 3.0. This inplace method will never work because the intermediate object on which we are setting values always behaves as a copy.\n",
      "\n",
      "For example, when doing 'df[col].method(value, inplace=True)', try using 'df.method({col: value}, inplace=True)' or df[col] = df[col].method(value) instead, to perform the operation inplace on the original object.\n",
      "\n",
      "\n",
      "  train_df['education'].fillna(train_df['education'].mode()[0], inplace=True)\n",
      "/var/folders/f9/tzl1jwjn3f3fvhyb_dm77j6h0000gn/T/ipykernel_85751/3040251283.py:4: FutureWarning: A value is trying to be set on a copy of a DataFrame or Series through chained assignment using an inplace method.\n",
      "The behavior will change in pandas 3.0. This inplace method will never work because the intermediate object on which we are setting values always behaves as a copy.\n",
      "\n",
      "For example, when doing 'df[col].method(value, inplace=True)', try using 'df.method({col: value}, inplace=True)' or df[col] = df[col].method(value) instead, to perform the operation inplace on the original object.\n",
      "\n",
      "\n",
      "  test_df['education'].fillna(train_df['education'].mode()[0], inplace=True)\n",
      "/var/folders/f9/tzl1jwjn3f3fvhyb_dm77j6h0000gn/T/ipykernel_85751/2286975567.py:17: FutureWarning: A value is trying to be set on a copy of a DataFrame or Series through chained assignment using an inplace method.\n",
      "The behavior will change in pandas 3.0. This inplace method will never work because the intermediate object on which we are setting values always behaves as a copy.\n",
      "\n",
      "For example, when doing 'df[col].method(value, inplace=True)', try using 'df.method({col: value}, inplace=True)' or df[col] = df[col].method(value) instead, to perform the operation inplace on the original object.\n",
      "\n",
      "\n",
      "  train_df['BPMeds'].fillna(0, inplace=True)\n",
      "/var/folders/f9/tzl1jwjn3f3fvhyb_dm77j6h0000gn/T/ipykernel_85751/2286975567.py:18: FutureWarning: A value is trying to be set on a copy of a DataFrame or Series through chained assignment using an inplace method.\n",
      "The behavior will change in pandas 3.0. This inplace method will never work because the intermediate object on which we are setting values always behaves as a copy.\n",
      "\n",
      "For example, when doing 'df[col].method(value, inplace=True)', try using 'df.method({col: value}, inplace=True)' or df[col] = df[col].method(value) instead, to perform the operation inplace on the original object.\n",
      "\n",
      "\n",
      "  test_df['BPMeds'].fillna(0, inplace=True)\n"
     ]
    },
    {
     "name": "stdout",
     "output_type": "stream",
     "text": [
      "Train Data Missing Values After Imputation:\n",
      " gender             0\n",
      "age                0\n",
      "education          0\n",
      "currentSmoker      0\n",
      "cigsPerDay         0\n",
      "BPMeds             0\n",
      "prevalentStroke    0\n",
      "prevalentHyp       0\n",
      "diabetes           0\n",
      "totChol            0\n",
      "sysBP              0\n",
      "diaBP              0\n",
      "BMI                0\n",
      "heartRate          0\n",
      "glucose            0\n",
      "TenYearCHD         0\n",
      "dtype: int64\n",
      "\n",
      "Test Data Missing Values After Imputation:\n",
      " gender             0\n",
      "age                0\n",
      "education          0\n",
      "currentSmoker      0\n",
      "cigsPerDay         0\n",
      "BPMeds             0\n",
      "prevalentStroke    0\n",
      "prevalentHyp       0\n",
      "diabetes           0\n",
      "totChol            0\n",
      "sysBP              0\n",
      "diaBP              0\n",
      "BMI                0\n",
      "heartRate          0\n",
      "glucose            0\n",
      "TenYearCHD         0\n",
      "dtype: int64\n"
     ]
    }
   ],
   "source": [
    "# Imputation Logic for Education, cigsPerDay, and Glucose\n",
    "MissingValueImputer_1(heart_train, heart_test)\n",
    "# Imputation Logic for BPMeds¶\n",
    "MissingValueImputer_2(heart_train, heart_test)\n",
    "# Imputation Logic for Cholestrol, BMI, and Heart Rate\n",
    "MissingValueImputer_3(heart_train, heart_test)\n",
    "\n",
    "print(\"Train Data Missing Values After Imputation:\\n\", heart_train.isnull().sum())\n",
    "print(\"\\nTest Data Missing Values After Imputation:\\n\", heart_test.isnull().sum())"
   ]
  },
  {
   "cell_type": "markdown",
   "id": "740c9f3f-07ef-4d7c-9aad-0f2ca93f6a2c",
   "metadata": {},
   "source": [
    "### Normalising the data"
   ]
  },
  {
   "cell_type": "markdown",
   "id": "ce4ba8ed-26ad-4cfe-825c-5f15a67ad371",
   "metadata": {},
   "source": [
    "Applying z-score normalization on heart_train, and then normalizing heart_test using the mean and standard deviation from heart_train."
   ]
  },
  {
   "cell_type": "code",
   "execution_count": 75,
   "id": "e8039bcf-ce53-427e-a0e1-6153d4d1cafb",
   "metadata": {},
   "outputs": [],
   "source": [
    "mean_std = {}"
   ]
  },
  {
   "cell_type": "code",
   "execution_count": 76,
   "id": "9c3a1ff8-7930-4a76-8b8b-468615f9e796",
   "metadata": {},
   "outputs": [],
   "source": [
    "def z_score_normalize(train_df):\n",
    "    for column in train_df.columns:\n",
    "        if train_df[column].dtype in ['int64', 'float64'] and column != 'TenYearCHD':\n",
    "            mean = train_df[column].mean()\n",
    "            std = train_df[column].std()\n",
    "            mean_std[column] = (mean, std)\n",
    "            train_df[column] = (train_df[column] - mean) / std"
   ]
  },
  {
   "cell_type": "code",
   "execution_count": 77,
   "id": "6d78db1d-8982-4fe0-8a5c-fedec7cd014b",
   "metadata": {},
   "outputs": [],
   "source": [
    "z_score_normalize(heart_train)"
   ]
  },
  {
   "cell_type": "code",
   "execution_count": 78,
   "id": "4bb24722-3dbe-423e-8071-4fa0f464e0cf",
   "metadata": {},
   "outputs": [
    {
     "name": "stdout",
     "output_type": "stream",
     "text": [
      "{'gender': (0.4336283185840708, 0.495648331104533), 'age': (49.614159292035396, 8.609616730841537), 'education': (1.9569321533923303, 1.0217048588742135), 'currentSmoker': (0.48672566371681414, 0.4998974975685707), 'cigsPerDay': (9.043952802359883, 12.023146397122822), 'BPMeds': (0.033628318584070796, 0.18029709890002746), 'prevalentStroke': (0.00471976401179941, 0.06854833286068387), 'prevalentHyp': (0.30206489675516224, 0.4592209735457691), 'diabetes': (0.024778761061946902, 0.15547316301364433), 'totChol': (236.71312684365782, 45.08705642840767), 'sysBP': (132.12669616519173, 22.047822389406125), 'diaBP': (82.75206489675516, 11.933836490922324), 'BMI': (25.78600442477876, 4.039053065029307), 'heartRate': (75.77610619469027, 11.95033818141861), 'glucose': (81.70766961651917, 22.89993435334305)}\n"
     ]
    }
   ],
   "source": [
    "print(mean_std)"
   ]
  },
  {
   "cell_type": "code",
   "execution_count": 79,
   "id": "d2e449c1-15db-4312-aec3-2f7580e62687",
   "metadata": {},
   "outputs": [],
   "source": [
    "def apply_normalization(heart_test):\n",
    "    for column, (mean, std) in mean_std.items():\n",
    "        heart_test[column] = (heart_test[column] - mean) / std"
   ]
  },
  {
   "cell_type": "code",
   "execution_count": 80,
   "id": "de4478ad-1203-4a2f-bfe9-672119867118",
   "metadata": {},
   "outputs": [],
   "source": [
    "apply_normalization(heart_test)"
   ]
  },
  {
   "cell_type": "code",
   "execution_count": 81,
   "id": "cabedd6d-bf8d-4417-89d9-0bd86629fb67",
   "metadata": {},
   "outputs": [
    {
     "data": {
      "text/html": [
       "<div>\n",
       "<style scoped>\n",
       "    .dataframe tbody tr th:only-of-type {\n",
       "        vertical-align: middle;\n",
       "    }\n",
       "\n",
       "    .dataframe tbody tr th {\n",
       "        vertical-align: top;\n",
       "    }\n",
       "\n",
       "    .dataframe thead th {\n",
       "        text-align: right;\n",
       "    }\n",
       "</style>\n",
       "<table border=\"1\" class=\"dataframe\">\n",
       "  <thead>\n",
       "    <tr style=\"text-align: right;\">\n",
       "      <th></th>\n",
       "      <th>gender</th>\n",
       "      <th>age</th>\n",
       "      <th>education</th>\n",
       "      <th>currentSmoker</th>\n",
       "      <th>cigsPerDay</th>\n",
       "      <th>BPMeds</th>\n",
       "      <th>prevalentStroke</th>\n",
       "      <th>prevalentHyp</th>\n",
       "      <th>diabetes</th>\n",
       "      <th>totChol</th>\n",
       "      <th>sysBP</th>\n",
       "      <th>diaBP</th>\n",
       "      <th>BMI</th>\n",
       "      <th>heartRate</th>\n",
       "      <th>glucose</th>\n",
       "      <th>TenYearCHD</th>\n",
       "    </tr>\n",
       "  </thead>\n",
       "  <tbody>\n",
       "    <tr>\n",
       "      <th>0</th>\n",
       "      <td>1.142689</td>\n",
       "      <td>1.554755</td>\n",
       "      <td>-0.936603</td>\n",
       "      <td>-0.973651</td>\n",
       "      <td>-0.752212</td>\n",
       "      <td>-0.186516</td>\n",
       "      <td>-0.068853</td>\n",
       "      <td>1.519824</td>\n",
       "      <td>-0.159376</td>\n",
       "      <td>-1.036065</td>\n",
       "      <td>0.719949</td>\n",
       "      <td>0.607343</td>\n",
       "      <td>0.332750</td>\n",
       "      <td>-0.315983</td>\n",
       "      <td>0.187439</td>\n",
       "      <td>0</td>\n",
       "    </tr>\n",
       "    <tr>\n",
       "      <th>1</th>\n",
       "      <td>1.142689</td>\n",
       "      <td>-0.535931</td>\n",
       "      <td>1.020909</td>\n",
       "      <td>-0.973651</td>\n",
       "      <td>-0.752212</td>\n",
       "      <td>-0.186516</td>\n",
       "      <td>-0.068853</td>\n",
       "      <td>-0.657777</td>\n",
       "      <td>-0.159376</td>\n",
       "      <td>-1.657086</td>\n",
       "      <td>-0.323238</td>\n",
       "      <td>0.523548</td>\n",
       "      <td>0.543196</td>\n",
       "      <td>0.771852</td>\n",
       "      <td>0.056434</td>\n",
       "      <td>0</td>\n",
       "    </tr>\n",
       "    <tr>\n",
       "      <th>2</th>\n",
       "      <td>-0.874871</td>\n",
       "      <td>0.160964</td>\n",
       "      <td>-0.936603</td>\n",
       "      <td>1.026759</td>\n",
       "      <td>-0.585866</td>\n",
       "      <td>-0.186516</td>\n",
       "      <td>-0.068853</td>\n",
       "      <td>-0.657777</td>\n",
       "      <td>-0.159376</td>\n",
       "      <td>0.538666</td>\n",
       "      <td>-0.232526</td>\n",
       "      <td>-0.146815</td>\n",
       "      <td>-1.373095</td>\n",
       "      <td>-0.064944</td>\n",
       "      <td>0.624121</td>\n",
       "      <td>0</td>\n",
       "    </tr>\n",
       "    <tr>\n",
       "      <th>3</th>\n",
       "      <td>1.142689</td>\n",
       "      <td>-0.535931</td>\n",
       "      <td>1.020909</td>\n",
       "      <td>1.026759</td>\n",
       "      <td>1.742975</td>\n",
       "      <td>-0.186516</td>\n",
       "      <td>-0.068853</td>\n",
       "      <td>-0.657777</td>\n",
       "      <td>-0.159376</td>\n",
       "      <td>0.294694</td>\n",
       "      <td>-0.277882</td>\n",
       "      <td>0.565446</td>\n",
       "      <td>0.716503</td>\n",
       "      <td>-0.064944</td>\n",
       "      <td>0.449448</td>\n",
       "      <td>0</td>\n",
       "    </tr>\n",
       "    <tr>\n",
       "      <th>4</th>\n",
       "      <td>-0.874871</td>\n",
       "      <td>-0.535931</td>\n",
       "      <td>0.042153</td>\n",
       "      <td>1.026759</td>\n",
       "      <td>-0.502693</td>\n",
       "      <td>-0.186516</td>\n",
       "      <td>-0.068853</td>\n",
       "      <td>-0.657777</td>\n",
       "      <td>-0.159376</td>\n",
       "      <td>0.294694</td>\n",
       "      <td>-0.096458</td>\n",
       "      <td>-0.230610</td>\n",
       "      <td>-1.373095</td>\n",
       "      <td>1.190250</td>\n",
       "      <td>0.187439</td>\n",
       "      <td>0</td>\n",
       "    </tr>\n",
       "  </tbody>\n",
       "</table>\n",
       "</div>"
      ],
      "text/plain": [
       "     gender       age  education  currentSmoker  cigsPerDay    BPMeds  \\\n",
       "0  1.142689  1.554755  -0.936603      -0.973651   -0.752212 -0.186516   \n",
       "1  1.142689 -0.535931   1.020909      -0.973651   -0.752212 -0.186516   \n",
       "2 -0.874871  0.160964  -0.936603       1.026759   -0.585866 -0.186516   \n",
       "3  1.142689 -0.535931   1.020909       1.026759    1.742975 -0.186516   \n",
       "4 -0.874871 -0.535931   0.042153       1.026759   -0.502693 -0.186516   \n",
       "\n",
       "   prevalentStroke  prevalentHyp  diabetes   totChol     sysBP     diaBP  \\\n",
       "0        -0.068853      1.519824 -0.159376 -1.036065  0.719949  0.607343   \n",
       "1        -0.068853     -0.657777 -0.159376 -1.657086 -0.323238  0.523548   \n",
       "2        -0.068853     -0.657777 -0.159376  0.538666 -0.232526 -0.146815   \n",
       "3        -0.068853     -0.657777 -0.159376  0.294694 -0.277882  0.565446   \n",
       "4        -0.068853     -0.657777 -0.159376  0.294694 -0.096458 -0.230610   \n",
       "\n",
       "        BMI  heartRate   glucose  TenYearCHD  \n",
       "0  0.332750  -0.315983  0.187439           0  \n",
       "1  0.543196   0.771852  0.056434           0  \n",
       "2 -1.373095  -0.064944  0.624121           0  \n",
       "3  0.716503  -0.064944  0.449448           0  \n",
       "4 -1.373095   1.190250  0.187439           0  "
      ]
     },
     "execution_count": 81,
     "metadata": {},
     "output_type": "execute_result"
    }
   ],
   "source": [
    "heart_train.head()"
   ]
  },
  {
   "cell_type": "code",
   "execution_count": 82,
   "id": "ad9f4225-b2a2-47e6-9670-7b43acd6df79",
   "metadata": {},
   "outputs": [
    {
     "data": {
      "text/html": [
       "<div>\n",
       "<style scoped>\n",
       "    .dataframe tbody tr th:only-of-type {\n",
       "        vertical-align: middle;\n",
       "    }\n",
       "\n",
       "    .dataframe tbody tr th {\n",
       "        vertical-align: top;\n",
       "    }\n",
       "\n",
       "    .dataframe thead th {\n",
       "        text-align: right;\n",
       "    }\n",
       "</style>\n",
       "<table border=\"1\" class=\"dataframe\">\n",
       "  <thead>\n",
       "    <tr style=\"text-align: right;\">\n",
       "      <th></th>\n",
       "      <th>gender</th>\n",
       "      <th>age</th>\n",
       "      <th>education</th>\n",
       "      <th>currentSmoker</th>\n",
       "      <th>cigsPerDay</th>\n",
       "      <th>BPMeds</th>\n",
       "      <th>prevalentStroke</th>\n",
       "      <th>prevalentHyp</th>\n",
       "      <th>diabetes</th>\n",
       "      <th>totChol</th>\n",
       "      <th>sysBP</th>\n",
       "      <th>diaBP</th>\n",
       "      <th>BMI</th>\n",
       "      <th>heartRate</th>\n",
       "      <th>glucose</th>\n",
       "      <th>TenYearCHD</th>\n",
       "    </tr>\n",
       "  </thead>\n",
       "  <tbody>\n",
       "    <tr>\n",
       "      <th>0</th>\n",
       "      <td>-0.874871</td>\n",
       "      <td>0.741710</td>\n",
       "      <td>-0.936603</td>\n",
       "      <td>-0.973651</td>\n",
       "      <td>-0.752212</td>\n",
       "      <td>-0.186516</td>\n",
       "      <td>-0.068853</td>\n",
       "      <td>1.519824</td>\n",
       "      <td>6.272602</td>\n",
       "      <td>0.804818</td>\n",
       "      <td>0.175677</td>\n",
       "      <td>-0.230610</td>\n",
       "      <td>0.481300</td>\n",
       "      <td>1.190250</td>\n",
       "      <td>5.602301</td>\n",
       "      <td>1</td>\n",
       "    </tr>\n",
       "    <tr>\n",
       "      <th>1</th>\n",
       "      <td>-0.874871</td>\n",
       "      <td>-0.419782</td>\n",
       "      <td>0.042153</td>\n",
       "      <td>-0.973651</td>\n",
       "      <td>-0.752212</td>\n",
       "      <td>-0.186516</td>\n",
       "      <td>-0.068853</td>\n",
       "      <td>-0.657777</td>\n",
       "      <td>-0.159376</td>\n",
       "      <td>0.294694</td>\n",
       "      <td>-0.504662</td>\n",
       "      <td>-0.146815</td>\n",
       "      <td>0.728883</td>\n",
       "      <td>1.608649</td>\n",
       "      <td>-0.249244</td>\n",
       "      <td>0</td>\n",
       "    </tr>\n",
       "    <tr>\n",
       "      <th>2</th>\n",
       "      <td>-0.874871</td>\n",
       "      <td>0.277113</td>\n",
       "      <td>-0.936603</td>\n",
       "      <td>-0.973651</td>\n",
       "      <td>-0.752212</td>\n",
       "      <td>-0.186516</td>\n",
       "      <td>-0.068853</td>\n",
       "      <td>-0.657777</td>\n",
       "      <td>-0.159376</td>\n",
       "      <td>0.849177</td>\n",
       "      <td>-0.912865</td>\n",
       "      <td>-0.984768</td>\n",
       "      <td>-0.026245</td>\n",
       "      <td>0.353454</td>\n",
       "      <td>-0.161907</td>\n",
       "      <td>0</td>\n",
       "    </tr>\n",
       "    <tr>\n",
       "      <th>3</th>\n",
       "      <td>-0.874871</td>\n",
       "      <td>-0.419782</td>\n",
       "      <td>1.020909</td>\n",
       "      <td>1.026759</td>\n",
       "      <td>1.160765</td>\n",
       "      <td>-0.186516</td>\n",
       "      <td>-0.068853</td>\n",
       "      <td>-0.657777</td>\n",
       "      <td>-0.159376</td>\n",
       "      <td>1.070970</td>\n",
       "      <td>-0.096458</td>\n",
       "      <td>0.104571</td>\n",
       "      <td>-0.665008</td>\n",
       "      <td>0.771852</td>\n",
       "      <td>0.143770</td>\n",
       "      <td>0</td>\n",
       "    </tr>\n",
       "    <tr>\n",
       "      <th>4</th>\n",
       "      <td>1.142689</td>\n",
       "      <td>2.251650</td>\n",
       "      <td>-0.936603</td>\n",
       "      <td>1.026759</td>\n",
       "      <td>-0.669039</td>\n",
       "      <td>-0.186516</td>\n",
       "      <td>-0.068853</td>\n",
       "      <td>-0.657777</td>\n",
       "      <td>-0.159376</td>\n",
       "      <td>0.183797</td>\n",
       "      <td>-0.413950</td>\n",
       "      <td>-0.481996</td>\n",
       "      <td>0.196580</td>\n",
       "      <td>-0.483342</td>\n",
       "      <td>-0.030903</td>\n",
       "      <td>1</td>\n",
       "    </tr>\n",
       "  </tbody>\n",
       "</table>\n",
       "</div>"
      ],
      "text/plain": [
       "     gender       age  education  currentSmoker  cigsPerDay    BPMeds  \\\n",
       "0 -0.874871  0.741710  -0.936603      -0.973651   -0.752212 -0.186516   \n",
       "1 -0.874871 -0.419782   0.042153      -0.973651   -0.752212 -0.186516   \n",
       "2 -0.874871  0.277113  -0.936603      -0.973651   -0.752212 -0.186516   \n",
       "3 -0.874871 -0.419782   1.020909       1.026759    1.160765 -0.186516   \n",
       "4  1.142689  2.251650  -0.936603       1.026759   -0.669039 -0.186516   \n",
       "\n",
       "   prevalentStroke  prevalentHyp  diabetes   totChol     sysBP     diaBP  \\\n",
       "0        -0.068853      1.519824  6.272602  0.804818  0.175677 -0.230610   \n",
       "1        -0.068853     -0.657777 -0.159376  0.294694 -0.504662 -0.146815   \n",
       "2        -0.068853     -0.657777 -0.159376  0.849177 -0.912865 -0.984768   \n",
       "3        -0.068853     -0.657777 -0.159376  1.070970 -0.096458  0.104571   \n",
       "4        -0.068853     -0.657777 -0.159376  0.183797 -0.413950 -0.481996   \n",
       "\n",
       "        BMI  heartRate   glucose  TenYearCHD  \n",
       "0  0.481300   1.190250  5.602301           1  \n",
       "1  0.728883   1.608649 -0.249244           0  \n",
       "2 -0.026245   0.353454 -0.161907           0  \n",
       "3 -0.665008   0.771852  0.143770           0  \n",
       "4  0.196580  -0.483342 -0.030903           1  "
      ]
     },
     "execution_count": 82,
     "metadata": {},
     "output_type": "execute_result"
    }
   ],
   "source": [
    "heart_test.head()"
   ]
  },
  {
   "cell_type": "markdown",
   "id": "2bdec939-1ce5-4914-b111-d8a308237326",
   "metadata": {},
   "source": [
    "Our both datasets are free from missing values and are in normalised form now. We can begin to build logistic regression model."
   ]
  },
  {
   "cell_type": "code",
   "execution_count": 83,
   "id": "84d8f2cf-75a7-4346-93c2-3ff9eb3f9cfb",
   "metadata": {},
   "outputs": [],
   "source": [
    "# Preparing data for training and testing by separate features and target variable\n",
    "X_train = heart_train.drop(columns=['TenYearCHD']).values\n",
    "y_train = heart_train['TenYearCHD'].values\n",
    "\n",
    "X_test = heart_test.drop(columns=['TenYearCHD']).values\n",
    "y_test = heart_test['TenYearCHD'].values"
   ]
  },
  {
   "cell_type": "code",
   "execution_count": 84,
   "id": "fb296658-8748-4d81-b1f7-e4d0f77c21aa",
   "metadata": {},
   "outputs": [],
   "source": [
    "# Adding bias term to X\n",
    "X_train = np.c_[np.ones(X_train.shape[0]), X_train]\n",
    "X_test = np.c_[np.ones(X_test.shape[0]), X_test]"
   ]
  },
  {
   "cell_type": "code",
   "execution_count": 85,
   "id": "95e2354f-910d-4013-8439-3424cfe092e7",
   "metadata": {},
   "outputs": [],
   "source": [
    "# Initialize weights and setting other parameters\n",
    "# initializing with the same logic as in ques 1\n",
    "weights = np.random.randn(X_train.shape[1]) * 0.01\n",
    "\n",
    "m, n = X_train.shape\n",
    "learning_rate = 0.1\n",
    "epochs = 10"
   ]
  },
  {
   "attachments": {
    "3c7b316e-2a0c-4fe5-ac27-93c26c6c0813.png": {
     "image/png": "[encoded data removed]"
    }
   },
   "cell_type": "markdown",
   "id": "493793d6-d05c-4d78-8a48-249de0f07688",
   "metadata": {},
   "source": [
    "<img src= \"attachment:3c7b316e-2a0c-4fe5-ac27-93c26c6c0813.png\" width=\"400\">"
   ]
  },
  {
   "cell_type": "markdown",
   "id": "f4b1e4ad-93a2-455a-aba8-8f212a28c508",
   "metadata": {},
   "source": [
    "Sigmoid function"
   ]
  },
  {
   "cell_type": "code",
   "execution_count": 86,
   "id": "b80b466e-bcc8-4bd6-9408-f84ba058dfb2",
   "metadata": {},
   "outputs": [],
   "source": [
    "def sigmoid(z):\n",
    "    return 1 / (1 + np.exp(-z))"
   ]
  },
  {
   "cell_type": "markdown",
   "id": "9bfee479-3c0d-428c-b169-85d056a01d3f",
   "metadata": {},
   "source": [
    "Cost function (Binary Cross-Entropy)"
   ]
  },
  {
   "cell_type": "code",
   "execution_count": 87,
   "id": "ef205668-60d5-4212-be67-aa5293c14d90",
   "metadata": {},
   "outputs": [],
   "source": [
    "def compute_cost(y, y_pred):\n",
    "    m = len(y)\n",
    "    cost = -(1 / m) * np.sum(y * np.log(y_pred) + (1 - y) * np.log(1 - y_pred))\n",
    "    return cost"
   ]
  },
  {
   "cell_type": "markdown",
   "id": "a7adbb7f-26a4-4c63-bcf3-286f7aaa7ecb",
   "metadata": {},
   "source": [
    "Gradient Descent Algorithm based on Logistic Regression"
   ]
  },
  {
   "attachments": {
    "099f45c6-1cc4-41e3-b5ad-39da120dd97e.png": {
     "image/png": "[encoded data removed]"
    }
   },
   "cell_type": "markdown",
   "id": "a8c2bba1-e05c-419d-86d3-b36557ba99a2",
   "metadata": {},
   "source": [
    "From class slides:\n",
    "\n",
    "<img src= \"attachment:099f45c6-1cc4-41e3-b5ad-39da120dd97e.png\" width=\"300\">"
   ]
  },
  {
   "cell_type": "code",
   "execution_count": 88,
   "id": "7df49381-e19b-41e7-94de-935599d2ee53",
   "metadata": {},
   "outputs": [],
   "source": [
    "def gradient_descent(X, y, weights, learning_rate, epochs):\n",
    "    m = X.shape[0]\n",
    "    for epoch in range(epochs):\n",
    "        # z as per formula\n",
    "        z = np.dot(X, weights)\n",
    "        y_pred = sigmoid(z)\n",
    "        \n",
    "        # Compute cost\n",
    "        cost = compute_cost(y, y_pred)\n",
    "        print(f\"Epoch {epoch+1}, Cost: {cost}\")\n",
    "        \n",
    "        # Compute gradients\n",
    "        dw = (1 / m) * np.dot(X.T, (y_pred - y))\n",
    "        \n",
    "        # Update weights\n",
    "        weights -= learning_rate * dw\n",
    "    \n",
    "    return weights"
   ]
  },
  {
   "cell_type": "markdown",
   "id": "250da453-2083-4f33-9ba8-8ebd5d67450b",
   "metadata": {},
   "source": [
    "Prediction"
   ]
  },
  {
   "cell_type": "code",
   "execution_count": 89,
   "id": "835bfccc-6902-4b3e-b6ac-bd3b7d969c1c",
   "metadata": {},
   "outputs": [],
   "source": [
    "def predict(X, weights):\n",
    "    z = np.dot(X, weights)\n",
    "    y_pred = sigmoid(z)\n",
    "    return [1 if i >= 0.5 else 0 for i in y_pred]"
   ]
  },
  {
   "cell_type": "markdown",
   "id": "ce0dca05-2dd6-4b5e-8709-34f22f972624",
   "metadata": {},
   "source": [
    "Please print out the Cost function J for every iteration (until 10 epochs) for the train dataset."
   ]
  },
  {
   "cell_type": "markdown",
   "id": "c7101600-abe2-4f52-9240-99315193aec7",
   "metadata": {},
   "source": [
    "Train the model"
   ]
  },
  {
   "cell_type": "code",
   "execution_count": 90,
   "id": "1888243e-023c-4dee-9e3a-4c13fbbe5d88",
   "metadata": {},
   "outputs": [
    {
     "name": "stdout",
     "output_type": "stream",
     "text": [
      "Epoch 1, Cost: 0.6939275939216488\n",
      "Epoch 2, Cost: 0.6792177301857384\n",
      "Epoch 3, Cost: 0.66546804063382\n",
      "Epoch 4, Cost: 0.6525948555863147\n",
      "Epoch 5, Cost: 0.640523025413177\n",
      "Epoch 6, Cost: 0.6291851594335296\n",
      "Epoch 7, Cost: 0.618520860227914\n",
      "Epoch 8, Cost: 0.6084759855469655\n",
      "Epoch 9, Cost: 0.5990019574596301\n",
      "Epoch 10, Cost: 0.5900551291807082\n"
     ]
    }
   ],
   "source": [
    "optimal_weights = gradient_descent(X_train, y_train, weights, learning_rate, epochs)"
   ]
  },
  {
   "cell_type": "markdown",
   "id": "6a43bce8-1d4f-4dd5-8755-b9a405263e34",
   "metadata": {},
   "source": [
    "Make predictions on train and test sets"
   ]
  },
  {
   "cell_type": "code",
   "execution_count": 91,
   "id": "01f1a28b-a07a-4949-983a-a1d2507f5ae1",
   "metadata": {},
   "outputs": [],
   "source": [
    "train_predictions = predict(X_train, optimal_weights)\n",
    "test_predictions = predict(X_test, optimal_weights)"
   ]
  },
  {
   "cell_type": "markdown",
   "id": "25033119-a905-4a79-928a-c2bd5d401678",
   "metadata": {},
   "source": [
    "##### Evaluation"
   ]
  },
  {
   "cell_type": "markdown",
   "id": "aa215557-03a6-4059-bc4c-65606d6a02a5",
   "metadata": {},
   "source": [
    "Please print out confusion matrix and its corresponding accuracy, precision, and recall for the train and test dataset after the last iteration. "
   ]
  },
  {
   "cell_type": "markdown",
   "id": "4dfe422c-ab38-4bed-bd0a-ccaeb7993ab0",
   "metadata": {},
   "source": [
    "##### Confusion Matrix"
   ]
  },
  {
   "cell_type": "code",
   "execution_count": 92,
   "id": "66f8164b-57ae-4360-b515-9a2e9a37f69f",
   "metadata": {},
   "outputs": [],
   "source": [
    "def evaluate(y_true, y_pred):\n",
    "    tp = sum((y_true == 1) & (np.array(y_pred) == 1))\n",
    "    tn = sum((y_true == 0) & (np.array(y_pred) == 0))\n",
    "    fp = sum((y_true == 0) & (np.array(y_pred) == 1))\n",
    "    fn = sum((y_true == 1) & (np.array(y_pred) == 0))\n",
    "\n",
    "    print(\"\\nConfusion Matrix:\")\n",
    "    print(\"----------------\")\n",
    "    print(f\"            Predicted\")\n",
    "    print(f\"             1    0\")\n",
    "    print(f\"Actual  1  [TP:{tp:3d} FN:{fn:3d}]\")\n",
    "    print(f\"        0  [FP:{fp:3d} TN:{tn:3d}]\")\n",
    "    \n",
    "    accuracy = (tp + tn) / len(y_true)\n",
    "    precision = tp / (tp + fp) if (tp + fp) > 0 else 0\n",
    "    recall = tp / (tp + fn) if (tp + fn) > 0 else 0\n",
    "    \n",
    "    print(\"\\nMetrics:\")\n",
    "    print(f\"Accuracy:  {accuracy:.3f}\")\n",
    "    print(f\"Precision: {precision:.3f}\")\n",
    "    print(f\"Recall:    {recall:.3f}\")"
   ]
  },
  {
   "cell_type": "code",
   "execution_count": 93,
   "id": "a228ec8d-7d49-41bf-ba94-5c1d19b8c62e",
   "metadata": {},
   "outputs": [
    {
     "name": "stdout",
     "output_type": "stream",
     "text": [
      "\n",
      "Train Dataset Evaluation:\n",
      "\n",
      "Confusion Matrix:\n",
      "----------------\n",
      "            Predicted\n",
      "             1    0\n",
      "Actual  1  [TP: 79 FN:437]\n",
      "        0  [FP:100 TN:2774]\n",
      "\n",
      "Metrics:\n",
      "Accuracy:  0.842\n",
      "Precision: 0.441\n",
      "Recall:    0.153\n"
     ]
    }
   ],
   "source": [
    "# Evaluate on train dataset\n",
    "print(\"\\nTrain Dataset Evaluation:\")\n",
    "evaluate(y_train, train_predictions)"
   ]
  },
  {
   "cell_type": "code",
   "execution_count": 94,
   "id": "5da6274e-8a92-4c2b-ad2d-aa633f0456f4",
   "metadata": {},
   "outputs": [
    {
     "name": "stdout",
     "output_type": "stream",
     "text": [
      "\n",
      "Test Dataset Evaluation:\n",
      "\n",
      "Confusion Matrix:\n",
      "----------------\n",
      "            Predicted\n",
      "             1    0\n",
      "Actual  1  [TP: 23 FN:105]\n",
      "        0  [FP: 25 TN:695]\n",
      "\n",
      "Metrics:\n",
      "Accuracy:  0.847\n",
      "Precision: 0.479\n",
      "Recall:    0.180\n"
     ]
    }
   ],
   "source": [
    "# Evaluate on test dataset\n",
    "print(\"\\nTest Dataset Evaluation:\")\n",
    "evaluate(y_test, test_predictions)"
   ]
  },
  {
   "cell_type": "markdown",
   "id": "4098877a-1836-4585-9542-c1c9d7e18289",
   "metadata": {},
   "source": [
    "The model shows an accuracy of approximately 83-84% on both the train and test datasets. However, this seems to be misleading, if we notice the precision and recall metrics for both train and test datasets. On the train set, the precision is 0.441 and recall is 0.153, while on the test set, precision improves slightly to 0.479 and recall increases to 0.180. This tells that the model is more effective at reducing false positives (higher precision) but struggles with capturing a good portion of the actual positive cases (relatively low recall).\n",
    "\n",
    "This low recall tells also tells us that dataset is imbalanced. In such cases, model predicts well on majority class(here '0') and struggles to classify minority class(here '1'). The model is maintaining high overall accuracy due to correct prediction of the majority class. The low recall tells us that model is missing many of the positive cases. "
   ]
  },
  {
   "cell_type": "markdown",
   "id": "d9ed56aa-15da-4258-afff-708da10e606a",
   "metadata": {},
   "source": [
    "Original Requirement for the assignment is finished at this point. Trying additional things to improve the results."
   ]
  },
  {
   "cell_type": "markdown",
   "id": "91209373-a474-46fe-9f2a-8cb9c5399c51",
   "metadata": {},
   "source": [
    "### ============================================="
   ]
  },
  {
   "cell_type": "markdown",
   "id": "c6c4b6ed-ae78-4083-b161-5f2a403f68f4",
   "metadata": {},
   "source": [
    "## Trying to Address imbalance by using weighted cost function"
   ]
  },
  {
   "cell_type": "markdown",
   "id": "f121a39e-a13e-42d5-9d18-0a5c2a05b055",
   "metadata": {},
   "source": [
    "Applying higher weights to the minority class and lower to majority class to allow balance for the dataset. Updated the cost function to use the calculated weights."
   ]
  },
  {
   "cell_type": "code",
   "execution_count": 95,
   "id": "36856e05-31e9-43d4-97dc-502faaabdc7c",
   "metadata": {},
   "outputs": [],
   "source": [
    "def compute_cost_w(y, y_pred, w1, w0):\n",
    "    m = len(y)\n",
    "    cost = - (1 / m) * np.sum(\n",
    "        w1 * y * np.log(y_pred + 1e-15) + \n",
    "        w0 * (1 - y) * np.log(1 - y_pred + 1e-15)\n",
    "    )\n",
    "    return cost"
   ]
  },
  {
   "cell_type": "code",
   "execution_count": 96,
   "id": "5aa27983-6b08-4582-aebf-db2efa26aeaa",
   "metadata": {},
   "outputs": [],
   "source": [
    "def gradient_descent_w(X, y, weights, learning_rate, epochs):\n",
    "    m = len(y)\n",
    "    \n",
    "    pos_count = np.sum(y)\n",
    "    neg_count = m - pos_count\n",
    "    w1 = m / (2 * pos_count)\n",
    "    w0 = m / (2 * neg_count)\n",
    "    \n",
    "    for epoch in range(epochs):\n",
    "        z = np.dot(X, weights)\n",
    "        y_pred = sigmoid(z)\n",
    "        \n",
    "        cost = compute_cost_w(y, y_pred, w1, w0)\n",
    "        print(f\"Epoch {epoch+1}, Cost: {cost}\")\n",
    "        dw = (1 / m) * np.dot(X.T, (y_pred - y))\n",
    "        \n",
    "        weights -= learning_rate * dw\n",
    "    \n",
    "    return weights"
   ]
  },
  {
   "cell_type": "code",
   "execution_count": 97,
   "id": "af6c61f1-5f10-4ea8-a0aa-841857e50089",
   "metadata": {},
   "outputs": [],
   "source": [
    "def predict_w(X, weights):\n",
    "    z = np.dot(X, weights)\n",
    "    y_pred = sigmoid(z)\n",
    "    return [1 if i >= 0.5 else 0 for i in y_pred]"
   ]
  },
  {
   "cell_type": "code",
   "execution_count": 98,
   "id": "7b828f8b-3c0b-4e23-a269-9b96e2923ccb",
   "metadata": {},
   "outputs": [
    {
     "name": "stdout",
     "output_type": "stream",
     "text": [
      "Epoch 1, Cost: 0.6924977446891223\n",
      "Epoch 2, Cost: 0.6878514814752195\n",
      "Epoch 3, Cost: 0.6838852667699582\n",
      "Epoch 4, Cost: 0.6805289367686805\n",
      "Epoch 5, Cost: 0.6777198992467847\n",
      "Epoch 6, Cost: 0.6754023698599398\n",
      "Epoch 7, Cost: 0.6735266395452729\n",
      "Epoch 8, Cost: 0.6720483916123675\n",
      "Epoch 9, Cost: 0.670928078135847\n",
      "Epoch 10, Cost: 0.6701303589975697\n"
     ]
    }
   ],
   "source": [
    "weights = np.random.randn(X_train.shape[1]) * 0.01\n",
    "\n",
    "m, n = X_train.shape\n",
    "learning_rate = 0.1\n",
    "epochs = 10\n",
    "\n",
    "optimal_weights_w = gradient_descent_w(X_train, y_train, weights, learning_rate, epochs)"
   ]
  },
  {
   "cell_type": "code",
   "execution_count": 99,
   "id": "c8fa1d8d-16fb-4d82-b2af-3cb618d69d3d",
   "metadata": {},
   "outputs": [],
   "source": [
    "train_predictions_w = predict_w(X_train, optimal_weights_w)\n",
    "test_predictions_w = predict_w(X_test, optimal_weights_w)"
   ]
  },
  {
   "cell_type": "code",
   "execution_count": 100,
   "id": "42517f68-6e6e-48dc-9449-3c436d4043bf",
   "metadata": {},
   "outputs": [
    {
     "name": "stdout",
     "output_type": "stream",
     "text": [
      "\n",
      "Train Dataset Evaluation:\n",
      "\n",
      "Confusion Matrix:\n",
      "----------------\n",
      "            Predicted\n",
      "             1    0\n",
      "Actual  1  [TP:107 FN:409]\n",
      "        0  [FP:143 TN:2731]\n",
      "\n",
      "Metrics:\n",
      "Accuracy:  0.837\n",
      "Precision: 0.428\n",
      "Recall:    0.207\n"
     ]
    }
   ],
   "source": [
    "print(\"\\nTrain Dataset Evaluation:\")\n",
    "evaluate(y_train, train_predictions_w)"
   ]
  },
  {
   "cell_type": "code",
   "execution_count": 101,
   "id": "fdcecd03-8171-438e-8d30-b0b7f1b315d9",
   "metadata": {},
   "outputs": [
    {
     "name": "stdout",
     "output_type": "stream",
     "text": [
      "\n",
      "Test Dataset Evaluation:\n",
      "\n",
      "Confusion Matrix:\n",
      "----------------\n",
      "            Predicted\n",
      "             1    0\n",
      "Actual  1  [TP: 27 FN:101]\n",
      "        0  [FP: 38 TN:682]\n",
      "\n",
      "Metrics:\n",
      "Accuracy:  0.836\n",
      "Precision: 0.415\n",
      "Recall:    0.211\n"
     ]
    }
   ],
   "source": [
    "print(\"\\nTest Dataset Evaluation:\")\n",
    "evaluate(y_test, test_predictions_w)"
   ]
  },
  {
   "cell_type": "markdown",
   "id": "6129d31b-2c3d-4872-8e18-648747ab79f9",
   "metadata": {},
   "source": [
    "Looking at the results, we don't see any improvement over the original model which did not consider weights. Trying an alternate approach. "
   ]
  },
  {
   "cell_type": "markdown",
   "id": "16d0ed83-91c4-422e-a7c6-722c1fc7bd4a",
   "metadata": {},
   "source": [
    "## Trying to address imbalance using SMOTE method"
   ]
  },
  {
   "cell_type": "markdown",
   "id": "57ec08e4-60ef-4fc4-aa00-0be1c7776cb6",
   "metadata": {},
   "source": [
    "Creating synthetic data for the minority class to balance the training dataset."
   ]
  },
  {
   "cell_type": "code",
   "execution_count": 102,
   "id": "82d069b2-395b-49bb-8dd2-3887e7a14169",
   "metadata": {},
   "outputs": [],
   "source": [
    "from imblearn.over_sampling import SMOTE\n",
    "import numpy as np\n",
    "\n",
    "smote = SMOTE(random_state=42)\n",
    "X_balanced, y_balanced = smote.fit_resample(X_train, y_train)"
   ]
  },
  {
   "cell_type": "code",
   "execution_count": 103,
   "id": "f49abf89-109c-4e1d-b47e-b64d20d58a73",
   "metadata": {},
   "outputs": [
    {
     "name": "stdout",
     "output_type": "stream",
     "text": [
      "Epoch 1, Cost: 0.6931471805599453\n",
      "Epoch 2, Cost: 0.6921968127898235\n",
      "Epoch 3, Cost: 0.6912618768164219\n",
      "Epoch 4, Cost: 0.6903420909159323\n",
      "Epoch 5, Cost: 0.6894371777202472\n",
      "Epoch 6, Cost: 0.6885468642193586\n",
      "Epoch 7, Cost: 0.6876708817590796\n",
      "Epoch 8, Cost: 0.6868089660343142\n",
      "Epoch 9, Cost: 0.6859608570781046\n",
      "Epoch 10, Cost: 0.6851262992466836\n"
     ]
    }
   ],
   "source": [
    "weights = np.zeros(X_balanced.shape[1])\n",
    "learning_rate = 0.01\n",
    "epochs = 10\n",
    "\n",
    "trained_weights = gradient_descent(X_balanced, y_balanced, weights, learning_rate, epochs)"
   ]
  },
  {
   "cell_type": "code",
   "execution_count": 104,
   "id": "c3036395-33a5-4ba1-b352-6cd346487b52",
   "metadata": {},
   "outputs": [],
   "source": [
    "def predict_sm(X, weights, threshold=0.5):\n",
    "    z = np.dot(X, weights)\n",
    "    y_pred = sigmoid(z)\n",
    "    return (y_pred >= threshold).astype(int)"
   ]
  },
  {
   "cell_type": "code",
   "execution_count": 105,
   "id": "ccae6ea9-223c-4697-8833-080ff301f3c2",
   "metadata": {},
   "outputs": [],
   "source": [
    "train_predictions_sm = predict_sm(X_balanced, trained_weights)\n",
    "test_predictions_sm = predict_sm(X_test, trained_weights)"
   ]
  },
  {
   "cell_type": "code",
   "execution_count": 106,
   "id": "27b5e99f-4a43-4f36-94c4-ecebb45ec156",
   "metadata": {},
   "outputs": [
    {
     "name": "stdout",
     "output_type": "stream",
     "text": [
      "\n",
      "Train Dataset Evaluation:\n",
      "\n",
      "Confusion Matrix:\n",
      "----------------\n",
      "            Predicted\n",
      "             1    0\n",
      "Actual  1  [TP:1945 FN:929]\n",
      "        0  [FP:1103 TN:1771]\n",
      "\n",
      "Metrics:\n",
      "Accuracy:  0.646\n",
      "Precision: 0.638\n",
      "Recall:    0.677\n"
     ]
    }
   ],
   "source": [
    "print(\"\\nTrain Dataset Evaluation:\")\n",
    "evaluate(y_balanced, train_predictions_sm)"
   ]
  },
  {
   "cell_type": "code",
   "execution_count": 107,
   "id": "c9f0adbe-221b-4b7d-b940-548d98ad45db",
   "metadata": {},
   "outputs": [
    {
     "name": "stdout",
     "output_type": "stream",
     "text": [
      "\n",
      "Test Dataset Evaluation:\n",
      "\n",
      "Confusion Matrix:\n",
      "----------------\n",
      "            Predicted\n",
      "             1    0\n",
      "Actual  1  [TP: 96 FN: 32]\n",
      "        0  [FP:291 TN:429]\n",
      "\n",
      "Metrics:\n",
      "Accuracy:  0.619\n",
      "Precision: 0.248\n",
      "Recall:    0.750\n"
     ]
    }
   ],
   "source": [
    "print(\"\\nTest Dataset Evaluation:\")\n",
    "evaluate(y_test, test_predictions_sm)"
   ]
  },
  {
   "cell_type": "markdown",
   "id": "a8e3edc9-d8ad-4ec4-99ca-cc02b306f548",
   "metadata": {},
   "source": [
    "Results seem promising on the Train dataset with high precision and recall. However, low precision on test dataset means the model is overfitting. Further exploration use regularization techniques can be evaluated. "
   ]
  },
  {
   "cell_type": "markdown",
   "id": "4f5b6815-2f3a-42e7-88c5-b866b0beb601",
   "metadata": {},
   "source": [
    "## Thank you!"
   ]
  }
 ],
 "metadata": {
  "kernelspec": {
   "display_name": "Python 3 (ipykernel)",
   "language": "python",
   "name": "python3"
  },
  "language_info": {
   "codemirror_mode": {
    "name": "ipython",
    "version": 3
   },
   "file_extension": ".py",
   "mimetype": "text/x-python",
   "name": "python",
   "nbconvert_exporter": "python",
   "pygments_lexer": "ipython3",
   "version": "3.12.3"
  }
 },
 "nbformat": 4,
 "nbformat_minor": 5
}
