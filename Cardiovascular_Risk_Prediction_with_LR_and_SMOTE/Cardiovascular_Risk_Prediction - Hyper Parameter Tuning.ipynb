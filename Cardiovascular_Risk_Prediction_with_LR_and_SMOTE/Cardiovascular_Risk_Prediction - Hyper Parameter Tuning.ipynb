{
 "cells": [
  {
   "cell_type": "markdown",
   "id": "d96b3869-6a1f-48aa-8955-94c0aa673e75",
   "metadata": {},
   "source": [
    "## DATA 240: Bonus Assignment: 2"
   ]
  },
  {
   "cell_type": "markdown",
   "id": "f8e38657-1f61-49a9-864b-cc558ba4aa31",
   "metadata": {},
   "source": [
    "Please tune your hyperparameters (learning rate, batch size, number of epochs, etc.) to get the best results of\n",
    "accuracy, precision, and recall for test dataset.\n",
    "Please plot ROC curve and calculate AUC for train and test dataset for your best result. \\\n",
    "\n",
    "**NOTE:** You need to get more than 10 data points for ROC curve.\\\n",
    "Please include the curve corresponding to the base binary classification model.\\\n",
    "Please do not use any package for ROC curve and AUC calculation. You need to draw ROC curve using Matplotlib and calculate AUC from scratch. "
   ]
  },
  {
   "cell_type": "markdown",
   "id": "18f26905-ac78-49b2-9ac2-6ef64511d2f3",
   "metadata": {},
   "source": [
    "#### Carrying forward from the Assignment 3 as this is the continuation from assignment no. 3 question 2"
   ]
  },
  {
   "cell_type": "markdown",
   "id": "1a961a32-a560-4b66-ba36-28126d5a30ed",
   "metadata": {},
   "source": [
    "## 2. Binary classification with logistic regression "
   ]
  },
  {
   "cell_type": "code",
   "execution_count": 1,
   "id": "ce3de207-44d1-4673-85c2-01799eea8508",
   "metadata": {},
   "outputs": [],
   "source": [
    "import pandas as pd\n",
    "import numpy as np\n",
    "import matplotlib.pyplot as plt"
   ]
  },
  {
   "cell_type": "code",
   "execution_count": 2,
   "id": "d8168fa8-b65d-4197-89b4-0055852cb51d",
   "metadata": {},
   "outputs": [],
   "source": [
    "heart_train = pd.read_csv('heart_disease_train.csv')"
   ]
  },
  {
   "cell_type": "code",
   "execution_count": 3,
   "id": "704d6318-d9a4-4f55-92b9-1a88544a9de2",
   "metadata": {},
   "outputs": [],
   "source": [
    "heart_test = pd.read_csv('heart_disease_test.csv')"
   ]
  },
  {
   "cell_type": "code",
   "execution_count": 4,
   "id": "a4080f22-3a31-4fa1-a13b-25c051d35b21",
   "metadata": {},
   "outputs": [
    {
     "data": {
      "text/html": [
       "<div>\n",
       "<style scoped>\n",
       "    .dataframe tbody tr th:only-of-type {\n",
       "        vertical-align: middle;\n",
       "    }\n",
       "\n",
       "    .dataframe tbody tr th {\n",
       "        vertical-align: top;\n",
       "    }\n",
       "\n",
       "    .dataframe thead th {\n",
       "        text-align: right;\n",
       "    }\n",
       "</style>\n",
       "<table border=\"1\" class=\"dataframe\">\n",
       "  <thead>\n",
       "    <tr style=\"text-align: right;\">\n",
       "      <th></th>\n",
       "      <th>gender</th>\n",
       "      <th>age</th>\n",
       "      <th>education</th>\n",
       "      <th>currentSmoker</th>\n",
       "      <th>cigsPerDay</th>\n",
       "      <th>BPMeds</th>\n",
       "      <th>prevalentStroke</th>\n",
       "      <th>prevalentHyp</th>\n",
       "      <th>diabetes</th>\n",
       "      <th>totChol</th>\n",
       "      <th>sysBP</th>\n",
       "      <th>diaBP</th>\n",
       "      <th>BMI</th>\n",
       "      <th>heartRate</th>\n",
       "      <th>glucose</th>\n",
       "      <th>TenYearCHD</th>\n",
       "    </tr>\n",
       "  </thead>\n",
       "  <tbody>\n",
       "    <tr>\n",
       "      <th>0</th>\n",
       "      <td>1</td>\n",
       "      <td>63</td>\n",
       "      <td>1.0</td>\n",
       "      <td>0</td>\n",
       "      <td>0.0</td>\n",
       "      <td>0.0</td>\n",
       "      <td>0</td>\n",
       "      <td>1</td>\n",
       "      <td>0</td>\n",
       "      <td>190.0</td>\n",
       "      <td>148.0</td>\n",
       "      <td>90.0</td>\n",
       "      <td>27.13</td>\n",
       "      <td>72.0</td>\n",
       "      <td>86.0</td>\n",
       "      <td>0</td>\n",
       "    </tr>\n",
       "    <tr>\n",
       "      <th>1</th>\n",
       "      <td>1</td>\n",
       "      <td>45</td>\n",
       "      <td>3.0</td>\n",
       "      <td>0</td>\n",
       "      <td>0.0</td>\n",
       "      <td>0.0</td>\n",
       "      <td>0</td>\n",
       "      <td>0</td>\n",
       "      <td>0</td>\n",
       "      <td>162.0</td>\n",
       "      <td>125.0</td>\n",
       "      <td>89.0</td>\n",
       "      <td>27.98</td>\n",
       "      <td>85.0</td>\n",
       "      <td>83.0</td>\n",
       "      <td>0</td>\n",
       "    </tr>\n",
       "    <tr>\n",
       "      <th>2</th>\n",
       "      <td>0</td>\n",
       "      <td>51</td>\n",
       "      <td>1.0</td>\n",
       "      <td>1</td>\n",
       "      <td>2.0</td>\n",
       "      <td>0.0</td>\n",
       "      <td>0</td>\n",
       "      <td>0</td>\n",
       "      <td>0</td>\n",
       "      <td>261.0</td>\n",
       "      <td>127.0</td>\n",
       "      <td>81.0</td>\n",
       "      <td>20.24</td>\n",
       "      <td>75.0</td>\n",
       "      <td>96.0</td>\n",
       "      <td>0</td>\n",
       "    </tr>\n",
       "    <tr>\n",
       "      <th>3</th>\n",
       "      <td>1</td>\n",
       "      <td>45</td>\n",
       "      <td>3.0</td>\n",
       "      <td>1</td>\n",
       "      <td>30.0</td>\n",
       "      <td>0.0</td>\n",
       "      <td>0</td>\n",
       "      <td>0</td>\n",
       "      <td>0</td>\n",
       "      <td>250.0</td>\n",
       "      <td>126.0</td>\n",
       "      <td>89.5</td>\n",
       "      <td>28.68</td>\n",
       "      <td>75.0</td>\n",
       "      <td>92.0</td>\n",
       "      <td>0</td>\n",
       "    </tr>\n",
       "    <tr>\n",
       "      <th>4</th>\n",
       "      <td>0</td>\n",
       "      <td>45</td>\n",
       "      <td>2.0</td>\n",
       "      <td>1</td>\n",
       "      <td>3.0</td>\n",
       "      <td>0.0</td>\n",
       "      <td>0</td>\n",
       "      <td>0</td>\n",
       "      <td>0</td>\n",
       "      <td>250.0</td>\n",
       "      <td>130.0</td>\n",
       "      <td>80.0</td>\n",
       "      <td>20.24</td>\n",
       "      <td>90.0</td>\n",
       "      <td>86.0</td>\n",
       "      <td>0</td>\n",
       "    </tr>\n",
       "  </tbody>\n",
       "</table>\n",
       "</div>"
      ],
      "text/plain": [
       "   gender  age  education  currentSmoker  cigsPerDay  BPMeds  prevalentStroke  \\\n",
       "0       1   63        1.0              0         0.0     0.0                0   \n",
       "1       1   45        3.0              0         0.0     0.0                0   \n",
       "2       0   51        1.0              1         2.0     0.0                0   \n",
       "3       1   45        3.0              1        30.0     0.0                0   \n",
       "4       0   45        2.0              1         3.0     0.0                0   \n",
       "\n",
       "   prevalentHyp  diabetes  totChol  sysBP  diaBP    BMI  heartRate  glucose  \\\n",
       "0             1         0    190.0  148.0   90.0  27.13       72.0     86.0   \n",
       "1             0         0    162.0  125.0   89.0  27.98       85.0     83.0   \n",
       "2             0         0    261.0  127.0   81.0  20.24       75.0     96.0   \n",
       "3             0         0    250.0  126.0   89.5  28.68       75.0     92.0   \n",
       "4             0         0    250.0  130.0   80.0  20.24       90.0     86.0   \n",
       "\n",
       "   TenYearCHD  \n",
       "0           0  \n",
       "1           0  \n",
       "2           0  \n",
       "3           0  \n",
       "4           0  "
      ]
     },
     "execution_count": 4,
     "metadata": {},
     "output_type": "execute_result"
    }
   ],
   "source": [
    "heart_train.head()"
   ]
  },
  {
   "cell_type": "code",
   "execution_count": 5,
   "id": "ab1a8aca-4eb7-4872-9681-5c9f4f1f62d9",
   "metadata": {},
   "outputs": [
    {
     "data": {
      "text/html": [
       "<div>\n",
       "<style scoped>\n",
       "    .dataframe tbody tr th:only-of-type {\n",
       "        vertical-align: middle;\n",
       "    }\n",
       "\n",
       "    .dataframe tbody tr th {\n",
       "        vertical-align: top;\n",
       "    }\n",
       "\n",
       "    .dataframe thead th {\n",
       "        text-align: right;\n",
       "    }\n",
       "</style>\n",
       "<table border=\"1\" class=\"dataframe\">\n",
       "  <thead>\n",
       "    <tr style=\"text-align: right;\">\n",
       "      <th></th>\n",
       "      <th>gender</th>\n",
       "      <th>age</th>\n",
       "      <th>education</th>\n",
       "      <th>currentSmoker</th>\n",
       "      <th>cigsPerDay</th>\n",
       "      <th>BPMeds</th>\n",
       "      <th>prevalentStroke</th>\n",
       "      <th>prevalentHyp</th>\n",
       "      <th>diabetes</th>\n",
       "      <th>totChol</th>\n",
       "      <th>sysBP</th>\n",
       "      <th>diaBP</th>\n",
       "      <th>BMI</th>\n",
       "      <th>heartRate</th>\n",
       "      <th>glucose</th>\n",
       "      <th>TenYearCHD</th>\n",
       "    </tr>\n",
       "  </thead>\n",
       "  <tbody>\n",
       "    <tr>\n",
       "      <th>0</th>\n",
       "      <td>0</td>\n",
       "      <td>56</td>\n",
       "      <td>1.0</td>\n",
       "      <td>0</td>\n",
       "      <td>0.0</td>\n",
       "      <td>0.0</td>\n",
       "      <td>0</td>\n",
       "      <td>1</td>\n",
       "      <td>1</td>\n",
       "      <td>273.0</td>\n",
       "      <td>136.0</td>\n",
       "      <td>80.0</td>\n",
       "      <td>27.73</td>\n",
       "      <td>90.0</td>\n",
       "      <td>210.0</td>\n",
       "      <td>1</td>\n",
       "    </tr>\n",
       "    <tr>\n",
       "      <th>1</th>\n",
       "      <td>0</td>\n",
       "      <td>46</td>\n",
       "      <td>2.0</td>\n",
       "      <td>0</td>\n",
       "      <td>0.0</td>\n",
       "      <td>0.0</td>\n",
       "      <td>0</td>\n",
       "      <td>0</td>\n",
       "      <td>0</td>\n",
       "      <td>250.0</td>\n",
       "      <td>121.0</td>\n",
       "      <td>81.0</td>\n",
       "      <td>28.73</td>\n",
       "      <td>95.0</td>\n",
       "      <td>76.0</td>\n",
       "      <td>0</td>\n",
       "    </tr>\n",
       "    <tr>\n",
       "      <th>2</th>\n",
       "      <td>0</td>\n",
       "      <td>52</td>\n",
       "      <td>1.0</td>\n",
       "      <td>0</td>\n",
       "      <td>0.0</td>\n",
       "      <td>0.0</td>\n",
       "      <td>0</td>\n",
       "      <td>0</td>\n",
       "      <td>0</td>\n",
       "      <td>275.0</td>\n",
       "      <td>112.0</td>\n",
       "      <td>71.0</td>\n",
       "      <td>25.68</td>\n",
       "      <td>80.0</td>\n",
       "      <td>NaN</td>\n",
       "      <td>0</td>\n",
       "    </tr>\n",
       "    <tr>\n",
       "      <th>3</th>\n",
       "      <td>0</td>\n",
       "      <td>46</td>\n",
       "      <td>3.0</td>\n",
       "      <td>1</td>\n",
       "      <td>23.0</td>\n",
       "      <td>0.0</td>\n",
       "      <td>0</td>\n",
       "      <td>0</td>\n",
       "      <td>0</td>\n",
       "      <td>285.0</td>\n",
       "      <td>130.0</td>\n",
       "      <td>84.0</td>\n",
       "      <td>23.10</td>\n",
       "      <td>85.0</td>\n",
       "      <td>85.0</td>\n",
       "      <td>0</td>\n",
       "    </tr>\n",
       "    <tr>\n",
       "      <th>4</th>\n",
       "      <td>1</td>\n",
       "      <td>69</td>\n",
       "      <td>1.0</td>\n",
       "      <td>1</td>\n",
       "      <td>1.0</td>\n",
       "      <td>0.0</td>\n",
       "      <td>0</td>\n",
       "      <td>0</td>\n",
       "      <td>0</td>\n",
       "      <td>245.0</td>\n",
       "      <td>123.0</td>\n",
       "      <td>77.0</td>\n",
       "      <td>26.58</td>\n",
       "      <td>70.0</td>\n",
       "      <td>81.0</td>\n",
       "      <td>1</td>\n",
       "    </tr>\n",
       "  </tbody>\n",
       "</table>\n",
       "</div>"
      ],
      "text/plain": [
       "   gender  age  education  currentSmoker  cigsPerDay  BPMeds  prevalentStroke  \\\n",
       "0       0   56        1.0              0         0.0     0.0                0   \n",
       "1       0   46        2.0              0         0.0     0.0                0   \n",
       "2       0   52        1.0              0         0.0     0.0                0   \n",
       "3       0   46        3.0              1        23.0     0.0                0   \n",
       "4       1   69        1.0              1         1.0     0.0                0   \n",
       "\n",
       "   prevalentHyp  diabetes  totChol  sysBP  diaBP    BMI  heartRate  glucose  \\\n",
       "0             1         1    273.0  136.0   80.0  27.73       90.0    210.0   \n",
       "1             0         0    250.0  121.0   81.0  28.73       95.0     76.0   \n",
       "2             0         0    275.0  112.0   71.0  25.68       80.0      NaN   \n",
       "3             0         0    285.0  130.0   84.0  23.10       85.0     85.0   \n",
       "4             0         0    245.0  123.0   77.0  26.58       70.0     81.0   \n",
       "\n",
       "   TenYearCHD  \n",
       "0           1  \n",
       "1           0  \n",
       "2           0  \n",
       "3           0  \n",
       "4           1  "
      ]
     },
     "execution_count": 5,
     "metadata": {},
     "output_type": "execute_result"
    }
   ],
   "source": [
    "heart_test.head()"
   ]
  },
  {
   "cell_type": "code",
   "execution_count": 6,
   "id": "2abc8515-fb23-4eaf-a5ca-ffb2408f81f0",
   "metadata": {},
   "outputs": [
    {
     "data": {
      "text/plain": [
       "gender               int64\n",
       "age                  int64\n",
       "education          float64\n",
       "currentSmoker        int64\n",
       "cigsPerDay         float64\n",
       "BPMeds             float64\n",
       "prevalentStroke      int64\n",
       "prevalentHyp         int64\n",
       "diabetes             int64\n",
       "totChol            float64\n",
       "sysBP              float64\n",
       "diaBP              float64\n",
       "BMI                float64\n",
       "heartRate          float64\n",
       "glucose            float64\n",
       "TenYearCHD           int64\n",
       "dtype: object"
      ]
     },
     "execution_count": 6,
     "metadata": {},
     "output_type": "execute_result"
    }
   ],
   "source": [
    "heart_train.dtypes"
   ]
  },
  {
   "cell_type": "code",
   "execution_count": 7,
   "id": "31599386-5c87-4b9f-8a06-de02ed4bf1d2",
   "metadata": {},
   "outputs": [
    {
     "data": {
      "text/plain": [
       "gender               int64\n",
       "age                  int64\n",
       "education          float64\n",
       "currentSmoker        int64\n",
       "cigsPerDay         float64\n",
       "BPMeds             float64\n",
       "prevalentStroke      int64\n",
       "prevalentHyp         int64\n",
       "diabetes             int64\n",
       "totChol            float64\n",
       "sysBP              float64\n",
       "diaBP              float64\n",
       "BMI                float64\n",
       "heartRate          float64\n",
       "glucose            float64\n",
       "TenYearCHD           int64\n",
       "dtype: object"
      ]
     },
     "execution_count": 7,
     "metadata": {},
     "output_type": "execute_result"
    }
   ],
   "source": [
    "heart_test.dtypes"
   ]
  },
  {
   "cell_type": "markdown",
   "id": "51e878f0-602f-4e19-8b83-8cacd5e8c67d",
   "metadata": {},
   "source": [
    "Checking missing values on both heart_train and heart_test"
   ]
  },
  {
   "cell_type": "code",
   "execution_count": 8,
   "id": "ec1587dc-e816-46a5-9f34-1dc12ad0fd6d",
   "metadata": {},
   "outputs": [
    {
     "data": {
      "text/plain": [
       "gender               0\n",
       "age                  0\n",
       "education           84\n",
       "currentSmoker        0\n",
       "cigsPerDay          25\n",
       "BPMeds              42\n",
       "prevalentStroke      0\n",
       "prevalentHyp         0\n",
       "diabetes             0\n",
       "totChol             44\n",
       "sysBP                0\n",
       "diaBP                0\n",
       "BMI                 16\n",
       "heartRate            1\n",
       "glucose            315\n",
       "TenYearCHD           0\n",
       "dtype: int64"
      ]
     },
     "execution_count": 8,
     "metadata": {},
     "output_type": "execute_result"
    }
   ],
   "source": [
    "heart_train.isna().sum()"
   ]
  },
  {
   "cell_type": "code",
   "execution_count": 9,
   "id": "813edf10-08e0-4252-a9e1-c2dde7ffc283",
   "metadata": {},
   "outputs": [
    {
     "data": {
      "text/plain": [
       "gender              0\n",
       "age                 0\n",
       "education          21\n",
       "currentSmoker       0\n",
       "cigsPerDay          4\n",
       "BPMeds             11\n",
       "prevalentStroke     0\n",
       "prevalentHyp        0\n",
       "diabetes            0\n",
       "totChol             6\n",
       "sysBP               0\n",
       "diaBP               0\n",
       "BMI                 3\n",
       "heartRate           0\n",
       "glucose            73\n",
       "TenYearCHD          0\n",
       "dtype: int64"
      ]
     },
     "execution_count": 9,
     "metadata": {},
     "output_type": "execute_result"
    }
   ],
   "source": [
    "heart_test.isna().sum()"
   ]
  },
  {
   "cell_type": "markdown",
   "id": "692fb083-3eaa-4cb4-96d3-ab32f368a4a7",
   "metadata": {},
   "source": [
    "Checking the shape"
   ]
  },
  {
   "cell_type": "code",
   "execution_count": 10,
   "id": "12153214-cda1-49b7-a7f9-cc67d3126270",
   "metadata": {},
   "outputs": [
    {
     "data": {
      "text/plain": [
       "(3390, 16)"
      ]
     },
     "execution_count": 10,
     "metadata": {},
     "output_type": "execute_result"
    }
   ],
   "source": [
    "heart_train.shape"
   ]
  },
  {
   "cell_type": "code",
   "execution_count": 11,
   "id": "059ee6aa-ba87-4175-a1de-2f6915602ac9",
   "metadata": {},
   "outputs": [
    {
     "data": {
      "text/plain": [
       "(848, 16)"
      ]
     },
     "execution_count": 11,
     "metadata": {},
     "output_type": "execute_result"
    }
   ],
   "source": [
    "heart_test.shape"
   ]
  },
  {
   "cell_type": "code",
   "execution_count": 12,
   "id": "b3129793-eb94-406d-9ff8-46643faa62a9",
   "metadata": {},
   "outputs": [
    {
     "data": {
      "text/plain": [
       "array([ 1.,  3.,  2.,  4., nan])"
      ]
     },
     "execution_count": 12,
     "metadata": {},
     "output_type": "execute_result"
    }
   ],
   "source": [
    "heart_train['education'].unique()"
   ]
  },
  {
   "cell_type": "code",
   "execution_count": 13,
   "id": "af4ea1dc-f1b7-4b8d-af2e-de3e326cf013",
   "metadata": {},
   "outputs": [
    {
     "data": {
      "text/plain": [
       "array([ 1.,  2.,  3., nan,  4.])"
      ]
     },
     "execution_count": 13,
     "metadata": {},
     "output_type": "execute_result"
    }
   ],
   "source": [
    "heart_test['education'].unique()"
   ]
  },
  {
   "cell_type": "code",
   "execution_count": 14,
   "id": "dbc858d3-f225-4695-b7cb-71225ae9b65f",
   "metadata": {},
   "outputs": [
    {
     "data": {
      "text/plain": [
       "array([ 0.,  2., 30.,  3., 20., 15., 35., 23., 10.,  1., nan, 11., 40.,\n",
       "        5.,  9., 17., 16., 43., 12., 25.,  7.,  6.,  4., 50.,  8., 60.,\n",
       "       18., 70., 13., 38., 14., 45., 19.])"
      ]
     },
     "execution_count": 14,
     "metadata": {},
     "output_type": "execute_result"
    }
   ],
   "source": [
    "heart_train['cigsPerDay'].unique()"
   ]
  },
  {
   "cell_type": "code",
   "execution_count": 15,
   "id": "942b4a51-a5c4-4746-93d7-3910bca6c944",
   "metadata": {},
   "outputs": [
    {
     "data": {
      "text/plain": [
       "array([ 0., 23.,  1., 20., 30.,  7., 10.,  3.,  5.,  9., 43., 40., 15.,\n",
       "        6., 35., 25., 13.,  2., 60., 18., nan, 11., 29., 12., 45.,  8.,\n",
       "       17.])"
      ]
     },
     "execution_count": 15,
     "metadata": {},
     "output_type": "execute_result"
    }
   ],
   "source": [
    "heart_test['cigsPerDay'].unique()"
   ]
  },
  {
   "cell_type": "code",
   "execution_count": 16,
   "id": "4b15c884-d96d-4372-97bc-dc41b4615230",
   "metadata": {},
   "outputs": [
    {
     "data": {
      "text/plain": [
       "array([ 0.,  1., nan])"
      ]
     },
     "execution_count": 16,
     "metadata": {},
     "output_type": "execute_result"
    }
   ],
   "source": [
    "heart_train['BPMeds'].unique()"
   ]
  },
  {
   "cell_type": "code",
   "execution_count": 17,
   "id": "c5225744-8a8c-4eb1-982d-9d5b52d2927a",
   "metadata": {},
   "outputs": [
    {
     "data": {
      "text/plain": [
       "array([ 0.,  1., nan])"
      ]
     },
     "execution_count": 17,
     "metadata": {},
     "output_type": "execute_result"
    }
   ],
   "source": [
    "heart_test['BPMeds'].unique()"
   ]
  },
  {
   "cell_type": "markdown",
   "id": "5b8711f8-299e-4d26-9200-95efb2709bca",
   "metadata": {},
   "source": [
    "Checking the statistics of both the train and test set"
   ]
  },
  {
   "cell_type": "code",
   "execution_count": 18,
   "id": "f8440268-b412-49b7-8e4e-fa018131b2cb",
   "metadata": {},
   "outputs": [
    {
     "data": {
      "text/html": [
       "<div>\n",
       "<style scoped>\n",
       "    .dataframe tbody tr th:only-of-type {\n",
       "        vertical-align: middle;\n",
       "    }\n",
       "\n",
       "    .dataframe tbody tr th {\n",
       "        vertical-align: top;\n",
       "    }\n",
       "\n",
       "    .dataframe thead th {\n",
       "        text-align: right;\n",
       "    }\n",
       "</style>\n",
       "<table border=\"1\" class=\"dataframe\">\n",
       "  <thead>\n",
       "    <tr style=\"text-align: right;\">\n",
       "      <th></th>\n",
       "      <th>gender</th>\n",
       "      <th>age</th>\n",
       "      <th>education</th>\n",
       "      <th>currentSmoker</th>\n",
       "      <th>cigsPerDay</th>\n",
       "      <th>BPMeds</th>\n",
       "      <th>prevalentStroke</th>\n",
       "      <th>prevalentHyp</th>\n",
       "      <th>diabetes</th>\n",
       "      <th>totChol</th>\n",
       "      <th>sysBP</th>\n",
       "      <th>diaBP</th>\n",
       "      <th>BMI</th>\n",
       "      <th>heartRate</th>\n",
       "      <th>glucose</th>\n",
       "      <th>TenYearCHD</th>\n",
       "    </tr>\n",
       "  </thead>\n",
       "  <tbody>\n",
       "    <tr>\n",
       "      <th>count</th>\n",
       "      <td>3390.000000</td>\n",
       "      <td>3390.000000</td>\n",
       "      <td>3306.000000</td>\n",
       "      <td>3390.000000</td>\n",
       "      <td>3365.000000</td>\n",
       "      <td>3348.000000</td>\n",
       "      <td>3390.000000</td>\n",
       "      <td>3390.000000</td>\n",
       "      <td>3390.000000</td>\n",
       "      <td>3346.000000</td>\n",
       "      <td>3390.000000</td>\n",
       "      <td>3390.000000</td>\n",
       "      <td>3374.000000</td>\n",
       "      <td>3389.000000</td>\n",
       "      <td>3075.000000</td>\n",
       "      <td>3390.000000</td>\n",
       "    </tr>\n",
       "    <tr>\n",
       "      <th>mean</th>\n",
       "      <td>0.433628</td>\n",
       "      <td>49.614159</td>\n",
       "      <td>1.981246</td>\n",
       "      <td>0.486726</td>\n",
       "      <td>8.962556</td>\n",
       "      <td>0.028375</td>\n",
       "      <td>0.004720</td>\n",
       "      <td>0.302065</td>\n",
       "      <td>0.024779</td>\n",
       "      <td>236.759713</td>\n",
       "      <td>132.126696</td>\n",
       "      <td>82.752065</td>\n",
       "      <td>25.793874</td>\n",
       "      <td>75.776335</td>\n",
       "      <td>82.023089</td>\n",
       "      <td>0.152212</td>\n",
       "    </tr>\n",
       "    <tr>\n",
       "      <th>std</th>\n",
       "      <td>0.495648</td>\n",
       "      <td>8.609617</td>\n",
       "      <td>1.023009</td>\n",
       "      <td>0.499897</td>\n",
       "      <td>12.030447</td>\n",
       "      <td>0.166067</td>\n",
       "      <td>0.068548</td>\n",
       "      <td>0.459221</td>\n",
       "      <td>0.155473</td>\n",
       "      <td>45.347259</td>\n",
       "      <td>22.047822</td>\n",
       "      <td>11.933836</td>\n",
       "      <td>4.045690</td>\n",
       "      <td>11.952094</td>\n",
       "      <td>23.934546</td>\n",
       "      <td>0.359280</td>\n",
       "    </tr>\n",
       "    <tr>\n",
       "      <th>min</th>\n",
       "      <td>0.000000</td>\n",
       "      <td>32.000000</td>\n",
       "      <td>1.000000</td>\n",
       "      <td>0.000000</td>\n",
       "      <td>0.000000</td>\n",
       "      <td>0.000000</td>\n",
       "      <td>0.000000</td>\n",
       "      <td>0.000000</td>\n",
       "      <td>0.000000</td>\n",
       "      <td>107.000000</td>\n",
       "      <td>83.500000</td>\n",
       "      <td>50.000000</td>\n",
       "      <td>15.540000</td>\n",
       "      <td>44.000000</td>\n",
       "      <td>40.000000</td>\n",
       "      <td>0.000000</td>\n",
       "    </tr>\n",
       "    <tr>\n",
       "      <th>25%</th>\n",
       "      <td>0.000000</td>\n",
       "      <td>42.000000</td>\n",
       "      <td>1.000000</td>\n",
       "      <td>0.000000</td>\n",
       "      <td>0.000000</td>\n",
       "      <td>0.000000</td>\n",
       "      <td>0.000000</td>\n",
       "      <td>0.000000</td>\n",
       "      <td>0.000000</td>\n",
       "      <td>206.000000</td>\n",
       "      <td>116.500000</td>\n",
       "      <td>74.500000</td>\n",
       "      <td>23.080000</td>\n",
       "      <td>68.000000</td>\n",
       "      <td>71.000000</td>\n",
       "      <td>0.000000</td>\n",
       "    </tr>\n",
       "    <tr>\n",
       "      <th>50%</th>\n",
       "      <td>0.000000</td>\n",
       "      <td>49.000000</td>\n",
       "      <td>2.000000</td>\n",
       "      <td>0.000000</td>\n",
       "      <td>0.000000</td>\n",
       "      <td>0.000000</td>\n",
       "      <td>0.000000</td>\n",
       "      <td>0.000000</td>\n",
       "      <td>0.000000</td>\n",
       "      <td>233.500000</td>\n",
       "      <td>128.000000</td>\n",
       "      <td>82.000000</td>\n",
       "      <td>25.425000</td>\n",
       "      <td>75.000000</td>\n",
       "      <td>78.000000</td>\n",
       "      <td>0.000000</td>\n",
       "    </tr>\n",
       "    <tr>\n",
       "      <th>75%</th>\n",
       "      <td>1.000000</td>\n",
       "      <td>57.000000</td>\n",
       "      <td>3.000000</td>\n",
       "      <td>1.000000</td>\n",
       "      <td>20.000000</td>\n",
       "      <td>0.000000</td>\n",
       "      <td>0.000000</td>\n",
       "      <td>1.000000</td>\n",
       "      <td>0.000000</td>\n",
       "      <td>264.000000</td>\n",
       "      <td>143.500000</td>\n",
       "      <td>89.000000</td>\n",
       "      <td>28.060000</td>\n",
       "      <td>82.000000</td>\n",
       "      <td>87.000000</td>\n",
       "      <td>0.000000</td>\n",
       "    </tr>\n",
       "    <tr>\n",
       "      <th>max</th>\n",
       "      <td>1.000000</td>\n",
       "      <td>70.000000</td>\n",
       "      <td>4.000000</td>\n",
       "      <td>1.000000</td>\n",
       "      <td>70.000000</td>\n",
       "      <td>1.000000</td>\n",
       "      <td>1.000000</td>\n",
       "      <td>1.000000</td>\n",
       "      <td>1.000000</td>\n",
       "      <td>696.000000</td>\n",
       "      <td>295.000000</td>\n",
       "      <td>142.500000</td>\n",
       "      <td>56.800000</td>\n",
       "      <td>143.000000</td>\n",
       "      <td>394.000000</td>\n",
       "      <td>1.000000</td>\n",
       "    </tr>\n",
       "  </tbody>\n",
       "</table>\n",
       "</div>"
      ],
      "text/plain": [
       "            gender          age    education  currentSmoker   cigsPerDay  \\\n",
       "count  3390.000000  3390.000000  3306.000000    3390.000000  3365.000000   \n",
       "mean      0.433628    49.614159     1.981246       0.486726     8.962556   \n",
       "std       0.495648     8.609617     1.023009       0.499897    12.030447   \n",
       "min       0.000000    32.000000     1.000000       0.000000     0.000000   \n",
       "25%       0.000000    42.000000     1.000000       0.000000     0.000000   \n",
       "50%       0.000000    49.000000     2.000000       0.000000     0.000000   \n",
       "75%       1.000000    57.000000     3.000000       1.000000    20.000000   \n",
       "max       1.000000    70.000000     4.000000       1.000000    70.000000   \n",
       "\n",
       "            BPMeds  prevalentStroke  prevalentHyp     diabetes      totChol  \\\n",
       "count  3348.000000      3390.000000   3390.000000  3390.000000  3346.000000   \n",
       "mean      0.028375         0.004720      0.302065     0.024779   236.759713   \n",
       "std       0.166067         0.068548      0.459221     0.155473    45.347259   \n",
       "min       0.000000         0.000000      0.000000     0.000000   107.000000   \n",
       "25%       0.000000         0.000000      0.000000     0.000000   206.000000   \n",
       "50%       0.000000         0.000000      0.000000     0.000000   233.500000   \n",
       "75%       0.000000         0.000000      1.000000     0.000000   264.000000   \n",
       "max       1.000000         1.000000      1.000000     1.000000   696.000000   \n",
       "\n",
       "             sysBP        diaBP          BMI    heartRate      glucose  \\\n",
       "count  3390.000000  3390.000000  3374.000000  3389.000000  3075.000000   \n",
       "mean    132.126696    82.752065    25.793874    75.776335    82.023089   \n",
       "std      22.047822    11.933836     4.045690    11.952094    23.934546   \n",
       "min      83.500000    50.000000    15.540000    44.000000    40.000000   \n",
       "25%     116.500000    74.500000    23.080000    68.000000    71.000000   \n",
       "50%     128.000000    82.000000    25.425000    75.000000    78.000000   \n",
       "75%     143.500000    89.000000    28.060000    82.000000    87.000000   \n",
       "max     295.000000   142.500000    56.800000   143.000000   394.000000   \n",
       "\n",
       "        TenYearCHD  \n",
       "count  3390.000000  \n",
       "mean      0.152212  \n",
       "std       0.359280  \n",
       "min       0.000000  \n",
       "25%       0.000000  \n",
       "50%       0.000000  \n",
       "75%       0.000000  \n",
       "max       1.000000  "
      ]
     },
     "execution_count": 18,
     "metadata": {},
     "output_type": "execute_result"
    }
   ],
   "source": [
    "heart_train.describe()"
   ]
  },
  {
   "cell_type": "code",
   "execution_count": 19,
   "id": "3000740a-bf2d-4bc7-b899-8785f63e9d6b",
   "metadata": {},
   "outputs": [
    {
     "data": {
      "text/html": [
       "<div>\n",
       "<style scoped>\n",
       "    .dataframe tbody tr th:only-of-type {\n",
       "        vertical-align: middle;\n",
       "    }\n",
       "\n",
       "    .dataframe tbody tr th {\n",
       "        vertical-align: top;\n",
       "    }\n",
       "\n",
       "    .dataframe thead th {\n",
       "        text-align: right;\n",
       "    }\n",
       "</style>\n",
       "<table border=\"1\" class=\"dataframe\">\n",
       "  <thead>\n",
       "    <tr style=\"text-align: right;\">\n",
       "      <th></th>\n",
       "      <th>gender</th>\n",
       "      <th>age</th>\n",
       "      <th>education</th>\n",
       "      <th>currentSmoker</th>\n",
       "      <th>cigsPerDay</th>\n",
       "      <th>BPMeds</th>\n",
       "      <th>prevalentStroke</th>\n",
       "      <th>prevalentHyp</th>\n",
       "      <th>diabetes</th>\n",
       "      <th>totChol</th>\n",
       "      <th>sysBP</th>\n",
       "      <th>diaBP</th>\n",
       "      <th>BMI</th>\n",
       "      <th>heartRate</th>\n",
       "      <th>glucose</th>\n",
       "      <th>TenYearCHD</th>\n",
       "    </tr>\n",
       "  </thead>\n",
       "  <tbody>\n",
       "    <tr>\n",
       "      <th>count</th>\n",
       "      <td>848.000000</td>\n",
       "      <td>848.000000</td>\n",
       "      <td>827.000000</td>\n",
       "      <td>848.000000</td>\n",
       "      <td>844.000000</td>\n",
       "      <td>837.000000</td>\n",
       "      <td>848.000000</td>\n",
       "      <td>848.000000</td>\n",
       "      <td>848.000000</td>\n",
       "      <td>842.000000</td>\n",
       "      <td>848.000000</td>\n",
       "      <td>848.000000</td>\n",
       "      <td>845.000000</td>\n",
       "      <td>848.000000</td>\n",
       "      <td>775.000000</td>\n",
       "      <td>848.000000</td>\n",
       "    </tr>\n",
       "    <tr>\n",
       "      <th>mean</th>\n",
       "      <td>0.411557</td>\n",
       "      <td>49.468160</td>\n",
       "      <td>1.969770</td>\n",
       "      <td>0.523585</td>\n",
       "      <td>9.164692</td>\n",
       "      <td>0.034648</td>\n",
       "      <td>0.010613</td>\n",
       "      <td>0.344340</td>\n",
       "      <td>0.029481</td>\n",
       "      <td>236.570071</td>\n",
       "      <td>133.254717</td>\n",
       "      <td>83.458726</td>\n",
       "      <td>25.834485</td>\n",
       "      <td>76.288915</td>\n",
       "      <td>81.743226</td>\n",
       "      <td>0.150943</td>\n",
       "    </tr>\n",
       "    <tr>\n",
       "      <th>std</th>\n",
       "      <td>0.492406</td>\n",
       "      <td>8.424758</td>\n",
       "      <td>1.007385</td>\n",
       "      <td>0.499738</td>\n",
       "      <td>11.475080</td>\n",
       "      <td>0.182995</td>\n",
       "      <td>0.102533</td>\n",
       "      <td>0.475433</td>\n",
       "      <td>0.169251</td>\n",
       "      <td>41.471282</td>\n",
       "      <td>21.989009</td>\n",
       "      <td>11.808590</td>\n",
       "      <td>4.217051</td>\n",
       "      <td>12.318492</td>\n",
       "      <td>24.074923</td>\n",
       "      <td>0.358205</td>\n",
       "    </tr>\n",
       "    <tr>\n",
       "      <th>min</th>\n",
       "      <td>0.000000</td>\n",
       "      <td>33.000000</td>\n",
       "      <td>1.000000</td>\n",
       "      <td>0.000000</td>\n",
       "      <td>0.000000</td>\n",
       "      <td>0.000000</td>\n",
       "      <td>0.000000</td>\n",
       "      <td>0.000000</td>\n",
       "      <td>0.000000</td>\n",
       "      <td>145.000000</td>\n",
       "      <td>92.000000</td>\n",
       "      <td>48.000000</td>\n",
       "      <td>16.750000</td>\n",
       "      <td>45.000000</td>\n",
       "      <td>40.000000</td>\n",
       "      <td>0.000000</td>\n",
       "    </tr>\n",
       "    <tr>\n",
       "      <th>25%</th>\n",
       "      <td>0.000000</td>\n",
       "      <td>42.000000</td>\n",
       "      <td>1.000000</td>\n",
       "      <td>0.000000</td>\n",
       "      <td>0.000000</td>\n",
       "      <td>0.000000</td>\n",
       "      <td>0.000000</td>\n",
       "      <td>0.000000</td>\n",
       "      <td>0.000000</td>\n",
       "      <td>206.000000</td>\n",
       "      <td>117.875000</td>\n",
       "      <td>75.500000</td>\n",
       "      <td>23.060000</td>\n",
       "      <td>67.750000</td>\n",
       "      <td>71.000000</td>\n",
       "      <td>0.000000</td>\n",
       "    </tr>\n",
       "    <tr>\n",
       "      <th>50%</th>\n",
       "      <td>0.000000</td>\n",
       "      <td>49.000000</td>\n",
       "      <td>2.000000</td>\n",
       "      <td>1.000000</td>\n",
       "      <td>1.500000</td>\n",
       "      <td>0.000000</td>\n",
       "      <td>0.000000</td>\n",
       "      <td>0.000000</td>\n",
       "      <td>0.000000</td>\n",
       "      <td>235.000000</td>\n",
       "      <td>129.000000</td>\n",
       "      <td>82.500000</td>\n",
       "      <td>25.310000</td>\n",
       "      <td>75.000000</td>\n",
       "      <td>77.000000</td>\n",
       "      <td>0.000000</td>\n",
       "    </tr>\n",
       "    <tr>\n",
       "      <th>75%</th>\n",
       "      <td>1.000000</td>\n",
       "      <td>56.000000</td>\n",
       "      <td>3.000000</td>\n",
       "      <td>1.000000</td>\n",
       "      <td>20.000000</td>\n",
       "      <td>0.000000</td>\n",
       "      <td>0.000000</td>\n",
       "      <td>1.000000</td>\n",
       "      <td>0.000000</td>\n",
       "      <td>261.750000</td>\n",
       "      <td>144.500000</td>\n",
       "      <td>90.000000</td>\n",
       "      <td>27.930000</td>\n",
       "      <td>85.000000</td>\n",
       "      <td>86.000000</td>\n",
       "      <td>0.000000</td>\n",
       "    </tr>\n",
       "    <tr>\n",
       "      <th>max</th>\n",
       "      <td>1.000000</td>\n",
       "      <td>69.000000</td>\n",
       "      <td>4.000000</td>\n",
       "      <td>1.000000</td>\n",
       "      <td>60.000000</td>\n",
       "      <td>1.000000</td>\n",
       "      <td>1.000000</td>\n",
       "      <td>1.000000</td>\n",
       "      <td>1.000000</td>\n",
       "      <td>453.000000</td>\n",
       "      <td>215.000000</td>\n",
       "      <td>140.000000</td>\n",
       "      <td>51.280000</td>\n",
       "      <td>125.000000</td>\n",
       "      <td>325.000000</td>\n",
       "      <td>1.000000</td>\n",
       "    </tr>\n",
       "  </tbody>\n",
       "</table>\n",
       "</div>"
      ],
      "text/plain": [
       "           gender         age   education  currentSmoker  cigsPerDay  \\\n",
       "count  848.000000  848.000000  827.000000     848.000000  844.000000   \n",
       "mean     0.411557   49.468160    1.969770       0.523585    9.164692   \n",
       "std      0.492406    8.424758    1.007385       0.499738   11.475080   \n",
       "min      0.000000   33.000000    1.000000       0.000000    0.000000   \n",
       "25%      0.000000   42.000000    1.000000       0.000000    0.000000   \n",
       "50%      0.000000   49.000000    2.000000       1.000000    1.500000   \n",
       "75%      1.000000   56.000000    3.000000       1.000000   20.000000   \n",
       "max      1.000000   69.000000    4.000000       1.000000   60.000000   \n",
       "\n",
       "           BPMeds  prevalentStroke  prevalentHyp    diabetes     totChol  \\\n",
       "count  837.000000       848.000000    848.000000  848.000000  842.000000   \n",
       "mean     0.034648         0.010613      0.344340    0.029481  236.570071   \n",
       "std      0.182995         0.102533      0.475433    0.169251   41.471282   \n",
       "min      0.000000         0.000000      0.000000    0.000000  145.000000   \n",
       "25%      0.000000         0.000000      0.000000    0.000000  206.000000   \n",
       "50%      0.000000         0.000000      0.000000    0.000000  235.000000   \n",
       "75%      0.000000         0.000000      1.000000    0.000000  261.750000   \n",
       "max      1.000000         1.000000      1.000000    1.000000  453.000000   \n",
       "\n",
       "            sysBP       diaBP         BMI   heartRate     glucose  TenYearCHD  \n",
       "count  848.000000  848.000000  845.000000  848.000000  775.000000  848.000000  \n",
       "mean   133.254717   83.458726   25.834485   76.288915   81.743226    0.150943  \n",
       "std     21.989009   11.808590    4.217051   12.318492   24.074923    0.358205  \n",
       "min     92.000000   48.000000   16.750000   45.000000   40.000000    0.000000  \n",
       "25%    117.875000   75.500000   23.060000   67.750000   71.000000    0.000000  \n",
       "50%    129.000000   82.500000   25.310000   75.000000   77.000000    0.000000  \n",
       "75%    144.500000   90.000000   27.930000   85.000000   86.000000    0.000000  \n",
       "max    215.000000  140.000000   51.280000  125.000000  325.000000    1.000000  "
      ]
     },
     "execution_count": 19,
     "metadata": {},
     "output_type": "execute_result"
    }
   ],
   "source": [
    "heart_test.describe()"
   ]
  },
  {
   "cell_type": "markdown",
   "id": "bd4133e6-73fd-43ee-99e9-c1ae09bda6c9",
   "metadata": {},
   "source": [
    "### Imputing Missing Values in heart_train and heart_test"
   ]
  },
  {
   "cell_type": "markdown",
   "id": "63dfeba3-632c-4afe-8a25-4fc5f61fed18",
   "metadata": {},
   "source": [
    "Data Imputation: Using subclass methods to handle the missing values. \n",
    "For numerical features, we could use mean or median imputation, while for categorical features, mode imputation is suitable."
   ]
  },
  {
   "cell_type": "markdown",
   "id": "58f841a2-ba74-46ae-9eb6-5659650c5a38",
   "metadata": {},
   "source": [
    "In order to fill the missing values with sub class, we need to find what features are related with each other the most. For that, we have used the correlation matrix to identify features most strongly correlated with the column containing missing values."
   ]
  },
  {
   "cell_type": "code",
   "execution_count": 20,
   "id": "59acaf11-11e2-4ab8-9650-7bc4cb7625c6",
   "metadata": {},
   "outputs": [
    {
     "data": {
      "text/html": [
       "<div>\n",
       "<style scoped>\n",
       "    .dataframe tbody tr th:only-of-type {\n",
       "        vertical-align: middle;\n",
       "    }\n",
       "\n",
       "    .dataframe tbody tr th {\n",
       "        vertical-align: top;\n",
       "    }\n",
       "\n",
       "    .dataframe thead th {\n",
       "        text-align: right;\n",
       "    }\n",
       "</style>\n",
       "<table border=\"1\" class=\"dataframe\">\n",
       "  <thead>\n",
       "    <tr style=\"text-align: right;\">\n",
       "      <th></th>\n",
       "      <th>gender</th>\n",
       "      <th>age</th>\n",
       "      <th>education</th>\n",
       "      <th>currentSmoker</th>\n",
       "      <th>cigsPerDay</th>\n",
       "      <th>BPMeds</th>\n",
       "      <th>prevalentStroke</th>\n",
       "      <th>prevalentHyp</th>\n",
       "      <th>diabetes</th>\n",
       "      <th>totChol</th>\n",
       "      <th>sysBP</th>\n",
       "      <th>diaBP</th>\n",
       "      <th>BMI</th>\n",
       "      <th>heartRate</th>\n",
       "      <th>glucose</th>\n",
       "      <th>TenYearCHD</th>\n",
       "    </tr>\n",
       "  </thead>\n",
       "  <tbody>\n",
       "    <tr>\n",
       "      <th>gender</th>\n",
       "      <td>1.000000</td>\n",
       "      <td>-0.021699</td>\n",
       "      <td>0.017740</td>\n",
       "      <td>0.197109</td>\n",
       "      <td>0.312110</td>\n",
       "      <td>-0.063121</td>\n",
       "      <td>0.000538</td>\n",
       "      <td>-0.003935</td>\n",
       "      <td>0.021348</td>\n",
       "      <td>-0.075607</td>\n",
       "      <td>-0.041278</td>\n",
       "      <td>0.057516</td>\n",
       "      <td>0.090680</td>\n",
       "      <td>-0.117163</td>\n",
       "      <td>0.017359</td>\n",
       "      <td>0.093203</td>\n",
       "    </tr>\n",
       "    <tr>\n",
       "      <th>age</th>\n",
       "      <td>-0.021699</td>\n",
       "      <td>1.000000</td>\n",
       "      <td>-0.156948</td>\n",
       "      <td>-0.218453</td>\n",
       "      <td>-0.186060</td>\n",
       "      <td>0.126578</td>\n",
       "      <td>0.068083</td>\n",
       "      <td>0.304355</td>\n",
       "      <td>0.110090</td>\n",
       "      <td>0.262306</td>\n",
       "      <td>0.386243</td>\n",
       "      <td>0.204637</td>\n",
       "      <td>0.142417</td>\n",
       "      <td>-0.018992</td>\n",
       "      <td>0.121737</td>\n",
       "      <td>0.215881</td>\n",
       "    </tr>\n",
       "    <tr>\n",
       "      <th>education</th>\n",
       "      <td>0.017740</td>\n",
       "      <td>-0.156948</td>\n",
       "      <td>1.000000</td>\n",
       "      <td>0.011334</td>\n",
       "      <td>0.003289</td>\n",
       "      <td>-0.002784</td>\n",
       "      <td>-0.032811</td>\n",
       "      <td>-0.062608</td>\n",
       "      <td>-0.044612</td>\n",
       "      <td>-0.009843</td>\n",
       "      <td>-0.113493</td>\n",
       "      <td>-0.043689</td>\n",
       "      <td>-0.122646</td>\n",
       "      <td>-0.048114</td>\n",
       "      <td>-0.033716</td>\n",
       "      <td>-0.036786</td>\n",
       "    </tr>\n",
       "    <tr>\n",
       "      <th>currentSmoker</th>\n",
       "      <td>0.197109</td>\n",
       "      <td>-0.218453</td>\n",
       "      <td>0.011334</td>\n",
       "      <td>1.000000</td>\n",
       "      <td>0.771015</td>\n",
       "      <td>-0.047996</td>\n",
       "      <td>-0.032615</td>\n",
       "      <td>-0.096925</td>\n",
       "      <td>-0.048919</td>\n",
       "      <td>-0.051385</td>\n",
       "      <td>-0.130769</td>\n",
       "      <td>-0.103222</td>\n",
       "      <td>-0.164121</td>\n",
       "      <td>0.057198</td>\n",
       "      <td>-0.057929</td>\n",
       "      <td>0.022754</td>\n",
       "    </tr>\n",
       "    <tr>\n",
       "      <th>cigsPerDay</th>\n",
       "      <td>0.312110</td>\n",
       "      <td>-0.186060</td>\n",
       "      <td>0.003289</td>\n",
       "      <td>0.771015</td>\n",
       "      <td>1.000000</td>\n",
       "      <td>-0.043402</td>\n",
       "      <td>-0.029953</td>\n",
       "      <td>-0.063781</td>\n",
       "      <td>-0.046534</td>\n",
       "      <td>-0.021426</td>\n",
       "      <td>-0.090941</td>\n",
       "      <td>-0.055125</td>\n",
       "      <td>-0.091066</td>\n",
       "      <td>0.078196</td>\n",
       "      <td>-0.067160</td>\n",
       "      <td>0.054683</td>\n",
       "    </tr>\n",
       "    <tr>\n",
       "      <th>BPMeds</th>\n",
       "      <td>-0.063121</td>\n",
       "      <td>0.126578</td>\n",
       "      <td>-0.002784</td>\n",
       "      <td>-0.047996</td>\n",
       "      <td>-0.043402</td>\n",
       "      <td>1.000000</td>\n",
       "      <td>0.069341</td>\n",
       "      <td>0.260374</td>\n",
       "      <td>0.066023</td>\n",
       "      <td>0.098285</td>\n",
       "      <td>0.253094</td>\n",
       "      <td>0.197538</td>\n",
       "      <td>0.090651</td>\n",
       "      <td>0.013199</td>\n",
       "      <td>0.062359</td>\n",
       "      <td>0.103217</td>\n",
       "    </tr>\n",
       "    <tr>\n",
       "      <th>prevalentStroke</th>\n",
       "      <td>0.000538</td>\n",
       "      <td>0.068083</td>\n",
       "      <td>-0.032811</td>\n",
       "      <td>-0.032615</td>\n",
       "      <td>-0.029953</td>\n",
       "      <td>0.069341</td>\n",
       "      <td>1.000000</td>\n",
       "      <td>0.085928</td>\n",
       "      <td>0.016710</td>\n",
       "      <td>0.008202</td>\n",
       "      <td>0.047633</td>\n",
       "      <td>0.041469</td>\n",
       "      <td>0.031158</td>\n",
       "      <td>-0.022485</td>\n",
       "      <td>0.015608</td>\n",
       "      <td>0.078652</td>\n",
       "    </tr>\n",
       "    <tr>\n",
       "      <th>prevalentHyp</th>\n",
       "      <td>-0.003935</td>\n",
       "      <td>0.304355</td>\n",
       "      <td>-0.062608</td>\n",
       "      <td>-0.096925</td>\n",
       "      <td>-0.063781</td>\n",
       "      <td>0.260374</td>\n",
       "      <td>0.085928</td>\n",
       "      <td>1.000000</td>\n",
       "      <td>0.072848</td>\n",
       "      <td>0.169543</td>\n",
       "      <td>0.696449</td>\n",
       "      <td>0.619885</td>\n",
       "      <td>0.292622</td>\n",
       "      <td>0.147365</td>\n",
       "      <td>0.076927</td>\n",
       "      <td>0.168354</td>\n",
       "    </tr>\n",
       "    <tr>\n",
       "      <th>diabetes</th>\n",
       "      <td>0.021348</td>\n",
       "      <td>0.110090</td>\n",
       "      <td>-0.044612</td>\n",
       "      <td>-0.048919</td>\n",
       "      <td>-0.046534</td>\n",
       "      <td>0.066023</td>\n",
       "      <td>0.016710</td>\n",
       "      <td>0.072848</td>\n",
       "      <td>1.000000</td>\n",
       "      <td>0.053439</td>\n",
       "      <td>0.115293</td>\n",
       "      <td>0.035596</td>\n",
       "      <td>0.077206</td>\n",
       "      <td>0.034112</td>\n",
       "      <td>0.603499</td>\n",
       "      <td>0.085651</td>\n",
       "    </tr>\n",
       "    <tr>\n",
       "      <th>totChol</th>\n",
       "      <td>-0.075607</td>\n",
       "      <td>0.262306</td>\n",
       "      <td>-0.009843</td>\n",
       "      <td>-0.051385</td>\n",
       "      <td>-0.021426</td>\n",
       "      <td>0.098285</td>\n",
       "      <td>0.008202</td>\n",
       "      <td>0.169543</td>\n",
       "      <td>0.053439</td>\n",
       "      <td>1.000000</td>\n",
       "      <td>0.215922</td>\n",
       "      <td>0.166074</td>\n",
       "      <td>0.117041</td>\n",
       "      <td>0.076157</td>\n",
       "      <td>0.053876</td>\n",
       "      <td>0.087134</td>\n",
       "    </tr>\n",
       "    <tr>\n",
       "      <th>sysBP</th>\n",
       "      <td>-0.041278</td>\n",
       "      <td>0.386243</td>\n",
       "      <td>-0.113493</td>\n",
       "      <td>-0.130769</td>\n",
       "      <td>-0.090941</td>\n",
       "      <td>0.253094</td>\n",
       "      <td>0.047633</td>\n",
       "      <td>0.696449</td>\n",
       "      <td>0.115293</td>\n",
       "      <td>0.215922</td>\n",
       "      <td>1.000000</td>\n",
       "      <td>0.787136</td>\n",
       "      <td>0.331848</td>\n",
       "      <td>0.188739</td>\n",
       "      <td>0.138556</td>\n",
       "      <td>0.206707</td>\n",
       "    </tr>\n",
       "    <tr>\n",
       "      <th>diaBP</th>\n",
       "      <td>0.057516</td>\n",
       "      <td>0.204637</td>\n",
       "      <td>-0.043689</td>\n",
       "      <td>-0.103222</td>\n",
       "      <td>-0.055125</td>\n",
       "      <td>0.197538</td>\n",
       "      <td>0.041469</td>\n",
       "      <td>0.619885</td>\n",
       "      <td>0.035596</td>\n",
       "      <td>0.166074</td>\n",
       "      <td>0.787136</td>\n",
       "      <td>1.000000</td>\n",
       "      <td>0.377363</td>\n",
       "      <td>0.178134</td>\n",
       "      <td>0.050901</td>\n",
       "      <td>0.138634</td>\n",
       "    </tr>\n",
       "    <tr>\n",
       "      <th>BMI</th>\n",
       "      <td>0.090680</td>\n",
       "      <td>0.142417</td>\n",
       "      <td>-0.122646</td>\n",
       "      <td>-0.164121</td>\n",
       "      <td>-0.091066</td>\n",
       "      <td>0.090651</td>\n",
       "      <td>0.031158</td>\n",
       "      <td>0.292622</td>\n",
       "      <td>0.077206</td>\n",
       "      <td>0.117041</td>\n",
       "      <td>0.331848</td>\n",
       "      <td>0.377363</td>\n",
       "      <td>1.000000</td>\n",
       "      <td>0.061650</td>\n",
       "      <td>0.081233</td>\n",
       "      <td>0.060039</td>\n",
       "    </tr>\n",
       "    <tr>\n",
       "      <th>heartRate</th>\n",
       "      <td>-0.117163</td>\n",
       "      <td>-0.018992</td>\n",
       "      <td>-0.048114</td>\n",
       "      <td>0.057198</td>\n",
       "      <td>0.078196</td>\n",
       "      <td>0.013199</td>\n",
       "      <td>-0.022485</td>\n",
       "      <td>0.147365</td>\n",
       "      <td>0.034112</td>\n",
       "      <td>0.076157</td>\n",
       "      <td>0.188739</td>\n",
       "      <td>0.178134</td>\n",
       "      <td>0.061650</td>\n",
       "      <td>1.000000</td>\n",
       "      <td>0.090087</td>\n",
       "      <td>0.028420</td>\n",
       "    </tr>\n",
       "    <tr>\n",
       "      <th>glucose</th>\n",
       "      <td>0.017359</td>\n",
       "      <td>0.121737</td>\n",
       "      <td>-0.033716</td>\n",
       "      <td>-0.057929</td>\n",
       "      <td>-0.067160</td>\n",
       "      <td>0.062359</td>\n",
       "      <td>0.015608</td>\n",
       "      <td>0.076927</td>\n",
       "      <td>0.603499</td>\n",
       "      <td>0.053876</td>\n",
       "      <td>0.138556</td>\n",
       "      <td>0.050901</td>\n",
       "      <td>0.081233</td>\n",
       "      <td>0.090087</td>\n",
       "      <td>1.000000</td>\n",
       "      <td>0.101690</td>\n",
       "    </tr>\n",
       "    <tr>\n",
       "      <th>TenYearCHD</th>\n",
       "      <td>0.093203</td>\n",
       "      <td>0.215881</td>\n",
       "      <td>-0.036786</td>\n",
       "      <td>0.022754</td>\n",
       "      <td>0.054683</td>\n",
       "      <td>0.103217</td>\n",
       "      <td>0.078652</td>\n",
       "      <td>0.168354</td>\n",
       "      <td>0.085651</td>\n",
       "      <td>0.087134</td>\n",
       "      <td>0.206707</td>\n",
       "      <td>0.138634</td>\n",
       "      <td>0.060039</td>\n",
       "      <td>0.028420</td>\n",
       "      <td>0.101690</td>\n",
       "      <td>1.000000</td>\n",
       "    </tr>\n",
       "  </tbody>\n",
       "</table>\n",
       "</div>"
      ],
      "text/plain": [
       "                   gender       age  education  currentSmoker  cigsPerDay  \\\n",
       "gender           1.000000 -0.021699   0.017740       0.197109    0.312110   \n",
       "age             -0.021699  1.000000  -0.156948      -0.218453   -0.186060   \n",
       "education        0.017740 -0.156948   1.000000       0.011334    0.003289   \n",
       "currentSmoker    0.197109 -0.218453   0.011334       1.000000    0.771015   \n",
       "cigsPerDay       0.312110 -0.186060   0.003289       0.771015    1.000000   \n",
       "BPMeds          -0.063121  0.126578  -0.002784      -0.047996   -0.043402   \n",
       "prevalentStroke  0.000538  0.068083  -0.032811      -0.032615   -0.029953   \n",
       "prevalentHyp    -0.003935  0.304355  -0.062608      -0.096925   -0.063781   \n",
       "diabetes         0.021348  0.110090  -0.044612      -0.048919   -0.046534   \n",
       "totChol         -0.075607  0.262306  -0.009843      -0.051385   -0.021426   \n",
       "sysBP           -0.041278  0.386243  -0.113493      -0.130769   -0.090941   \n",
       "diaBP            0.057516  0.204637  -0.043689      -0.103222   -0.055125   \n",
       "BMI              0.090680  0.142417  -0.122646      -0.164121   -0.091066   \n",
       "heartRate       -0.117163 -0.018992  -0.048114       0.057198    0.078196   \n",
       "glucose          0.017359  0.121737  -0.033716      -0.057929   -0.067160   \n",
       "TenYearCHD       0.093203  0.215881  -0.036786       0.022754    0.054683   \n",
       "\n",
       "                   BPMeds  prevalentStroke  prevalentHyp  diabetes   totChol  \\\n",
       "gender          -0.063121         0.000538     -0.003935  0.021348 -0.075607   \n",
       "age              0.126578         0.068083      0.304355  0.110090  0.262306   \n",
       "education       -0.002784        -0.032811     -0.062608 -0.044612 -0.009843   \n",
       "currentSmoker   -0.047996        -0.032615     -0.096925 -0.048919 -0.051385   \n",
       "cigsPerDay      -0.043402        -0.029953     -0.063781 -0.046534 -0.021426   \n",
       "BPMeds           1.000000         0.069341      0.260374  0.066023  0.098285   \n",
       "prevalentStroke  0.069341         1.000000      0.085928  0.016710  0.008202   \n",
       "prevalentHyp     0.260374         0.085928      1.000000  0.072848  0.169543   \n",
       "diabetes         0.066023         0.016710      0.072848  1.000000  0.053439   \n",
       "totChol          0.098285         0.008202      0.169543  0.053439  1.000000   \n",
       "sysBP            0.253094         0.047633      0.696449  0.115293  0.215922   \n",
       "diaBP            0.197538         0.041469      0.619885  0.035596  0.166074   \n",
       "BMI              0.090651         0.031158      0.292622  0.077206  0.117041   \n",
       "heartRate        0.013199        -0.022485      0.147365  0.034112  0.076157   \n",
       "glucose          0.062359         0.015608      0.076927  0.603499  0.053876   \n",
       "TenYearCHD       0.103217         0.078652      0.168354  0.085651  0.087134   \n",
       "\n",
       "                    sysBP     diaBP       BMI  heartRate   glucose  TenYearCHD  \n",
       "gender          -0.041278  0.057516  0.090680  -0.117163  0.017359    0.093203  \n",
       "age              0.386243  0.204637  0.142417  -0.018992  0.121737    0.215881  \n",
       "education       -0.113493 -0.043689 -0.122646  -0.048114 -0.033716   -0.036786  \n",
       "currentSmoker   -0.130769 -0.103222 -0.164121   0.057198 -0.057929    0.022754  \n",
       "cigsPerDay      -0.090941 -0.055125 -0.091066   0.078196 -0.067160    0.054683  \n",
       "BPMeds           0.253094  0.197538  0.090651   0.013199  0.062359    0.103217  \n",
       "prevalentStroke  0.047633  0.041469  0.031158  -0.022485  0.015608    0.078652  \n",
       "prevalentHyp     0.696449  0.619885  0.292622   0.147365  0.076927    0.168354  \n",
       "diabetes         0.115293  0.035596  0.077206   0.034112  0.603499    0.085651  \n",
       "totChol          0.215922  0.166074  0.117041   0.076157  0.053876    0.087134  \n",
       "sysBP            1.000000  0.787136  0.331848   0.188739  0.138556    0.206707  \n",
       "diaBP            0.787136  1.000000  0.377363   0.178134  0.050901    0.138634  \n",
       "BMI              0.331848  0.377363  1.000000   0.061650  0.081233    0.060039  \n",
       "heartRate        0.188739  0.178134  0.061650   1.000000  0.090087    0.028420  \n",
       "glucose          0.138556  0.050901  0.081233   0.090087  1.000000    0.101690  \n",
       "TenYearCHD       0.206707  0.138634  0.060039   0.028420  0.101690    1.000000  "
      ]
     },
     "execution_count": 20,
     "metadata": {},
     "output_type": "execute_result"
    }
   ],
   "source": [
    "heart_train.corr()"
   ]
  },
  {
   "cell_type": "markdown",
   "id": "8bd9e52d-75ee-4600-8be0-65fc7cbba412",
   "metadata": {},
   "source": [
    "Using the sysBP and diaBP, for that categorizing systolic and diastolic BP into ranges.\\\n",
    "For SysBP : Values < 120 are low, 120-140 are normal and >120 high\\\n",
    "For DiaBP : Values < 80 are low, 80-90 are normal and >90 high"
   ]
  },
  {
   "cell_type": "code",
   "execution_count": 21,
   "id": "ef1da462-1877-4aeb-bc7f-70abfe34661c",
   "metadata": {},
   "outputs": [],
   "source": [
    "def categorize_bp(df, sys_threshold=140, dia_threshold=90):\n",
    "    \"\"\"Categorize systolic and diastolic BP into ranges.\"\"\"\n",
    "    sys_category = pd.cut(df['sysBP'], bins=[-float('inf'), 120, sys_threshold, float('inf')],\n",
    "                          labels=['low', 'normal', 'high'], right=True)\n",
    "    dia_category = pd.cut(df['diaBP'], bins=[-float('inf'), 80, dia_threshold, float('inf')],\n",
    "                          labels=['low', 'normal', 'high'], right=True)\n",
    "    return sys_category, dia_category"
   ]
  },
  {
   "cell_type": "markdown",
   "id": "8b9c173c-2d50-4346-a5af-28b964cd64b3",
   "metadata": {},
   "source": [
    "#### For heart_test, we will ensure that imputation is based on statistics derived from heart_train in order to avoid data leakage."
   ]
  },
  {
   "cell_type": "markdown",
   "id": "98afccaf-6670-4b47-b0cc-6b2cfb5e94bb",
   "metadata": {},
   "source": [
    "##### Imputation Logic for Education, cigsPerDay, and Glucose. "
   ]
  },
  {
   "cell_type": "code",
   "execution_count": 22,
   "id": "60d1314c-b218-499f-8713-f4e50ecbf6df",
   "metadata": {},
   "outputs": [],
   "source": [
    "def MissingValueImputer_1(train_df, test_df):\n",
    "    # Education: filling with mode (categorical variable)\n",
    "    train_df['education'].fillna(train_df['education'].mode()[0], inplace=True)\n",
    "    test_df['education'].fillna(train_df['education'].mode()[0], inplace=True)\n",
    "\n",
    "    # Smoker: filling with the median of current smokers (positively skewed, so using median)\n",
    "    # Set to 0 for non-smokers as they don't smoke\n",
    "    train_df.loc[train_df['currentSmoker'] == 0, 'cigsPerDay'] = 0\n",
    "    test_df.loc[test_df['currentSmoker'] == 0, 'cigsPerDay'] = 0\n",
    "    \n",
    "    median_cigs = train_df[train_df['currentSmoker'] == 1]['cigsPerDay'].median()\n",
    "    \n",
    "    train_df.loc[train_df['currentSmoker'] == 1, 'cigsPerDay'] = train_df.loc[train_df['currentSmoker'] == 1, 'cigsPerDay'].fillna(median_cigs)\n",
    "    test_df.loc[test_df['currentSmoker'] == 1, 'cigsPerDay'] = test_df.loc[test_df['currentSmoker'] == 1, 'cigsPerDay'].fillna(median_cigs)\n",
    "\n",
    "    # Glucose: based on diabetes status (max is significantly higher than 75th percentile, using median)\n",
    "    # Highest corelation with diabetes columns\n",
    "    train_df['glucose'] = train_df.groupby('diabetes', observed=False)['glucose'].transform(lambda x: x.fillna(x.median()))\n",
    "    test_df['glucose'] = test_df.groupby('diabetes', observed=False)['glucose'].transform(\n",
    "        lambda x: x.fillna(train_df.groupby('diabetes', observed=False)['glucose'].median()[x.name]))\n",
    "    \n",
    "    return train_df, test_df"
   ]
  },
  {
   "cell_type": "markdown",
   "id": "2fc29cc1-735a-4706-a7a8-8ac6a71646d6",
   "metadata": {},
   "source": [
    "##### Imputation Logic for BPMeds. Having strong corelation with prevalentHyp,sysBP,diaBP"
   ]
  },
  {
   "cell_type": "code",
   "execution_count": 23,
   "id": "8ede2d5f-e4a8-4707-9b92-6e7d87d39782",
   "metadata": {},
   "outputs": [],
   "source": [
    "def MissingValueImputer_2(train_df, test_df):\n",
    "    # BP Meds: \n",
    "    # Rule 1: Patients with prevalent hypertension (prevalentHyp == 1)\n",
    "    train_df.loc[train_df['BPMeds'].isnull() & (train_df['prevalentHyp'] == 1), 'BPMeds'] = 1\n",
    "    test_df.loc[test_df['BPMeds'].isnull() & (test_df['prevalentHyp'] == 1), 'BPMeds'] = 1\n",
    "    \n",
    "    # Rule 2: Patients with very high systolic blood pressure (sysBP > 140) and no prevalent hypertension\n",
    "    high_bp_threshold = 140\n",
    "    train_df.loc[train_df['BPMeds'].isnull() & (train_df['sysBP'] > high_bp_threshold), 'BPMeds'] = 1\n",
    "    test_df.loc[test_df['BPMeds'].isnull() & (test_df['sysBP'] > high_bp_threshold), 'BPMeds'] = 1\n",
    "\n",
    "    # Rule 3: Patients with very high diaBP blood pressure (diaBP > 90) and no prevalent hypertension\n",
    "    train_df.loc[train_df['BPMeds'].isnull() & (train_df['diaBP'] > 90), 'BPMeds'] = 1\n",
    "    test_df.loc[test_df['BPMeds'].isnull() & (test_df['diaBP'] > 90), 'BPMeds'] = 1\n",
    "\n",
    "    # Rule 4: Remaining missing values default to 0 (not on medication)\n",
    "    train_df['BPMeds'].fillna(0, inplace=True)\n",
    "    test_df['BPMeds'].fillna(0, inplace=True)\n",
    "    train_df['BPMeds'] = train_df['BPMeds'].astype(int)\n",
    "    test_df['BPMeds'] = test_df['BPMeds'].astype(int)\n",
    "    \n",
    "    return train_df, test_df"
   ]
  },
  {
   "cell_type": "markdown",
   "id": "6863b910-a7c0-40a1-a2f8-ef4ccc5468ce",
   "metadata": {},
   "source": [
    "##### Imputation Logic for Cholestrol, BMI, and Heart Rate."
   ]
  },
  {
   "cell_type": "markdown",
   "id": "e89e7974-2688-425e-ade7-8fd9eae6239b",
   "metadata": {},
   "source": [
    "Using subclass(based on corelation matrix which are highly corelated) and considering median for it. After reading the statistics we got in describe method, we saw feature cholestrol is positively skewed, therefore using median as it is robust to outliers.\n",
    "\n",
    "For Heart rate also, using median based on the statistics, as max is significantly higher than 75th percentile. Using Median as it is robust to outliers. Same for BMI as well, mean is higher than median and max is higher than 7th percentile. "
   ]
  },
  {
   "cell_type": "code",
   "execution_count": 24,
   "id": "300ad400-17de-42bc-bc69-1cd172dce1cf",
   "metadata": {},
   "outputs": [],
   "source": [
    "def MissingValueImputer_3(train_df, test_df):\n",
    "    \n",
    "    # Categorize sysBP for train and test datasets\n",
    "    train_df['sysBP_category'], train_df['diaBP_category'] = categorize_bp(train_df)\n",
    "    test_df['sysBP_category'], test_df['diaBP_category'] = categorize_bp(test_df)\n",
    "\n",
    "    # Cholesterol: Filling based on age and sysBP_category (Highest corelation with these columns)\n",
    "    train_df['totChol'] = train_df.groupby(['age', 'sysBP_category'], observed=False)['totChol'].transform(\n",
    "        lambda x: x.fillna(x.median())\n",
    "    )\n",
    "    test_df['totChol'] = test_df.groupby(['age', 'sysBP_category'], observed=False)['totChol'].transform(\n",
    "        lambda x: x.fillna(train_df.groupby(['age', 'sysBP_category'], observed=False)['totChol'].median()[x.name])\n",
    "    )\n",
    "    \n",
    "    # BMI: filling by using age, gender, prevalentHyp, sysBP, and diaBP (Highest corelation with these columns)\n",
    "    train_df['BMI'] = train_df.groupby(['age', 'gender', 'prevalentHyp', 'sysBP_category', 'diaBP_category'], observed=False)['BMI'].transform(\n",
    "        lambda x: x.fillna(x.median() if not x.isnull().all() else train_df['BMI'].median()))\n",
    "    test_df['BMI'] = test_df.groupby(['age', 'gender', 'prevalentHyp', 'sysBP_category', 'diaBP_category'], observed=False)['BMI'].transform(\n",
    "        lambda x: x.fillna(train_df.groupby(['age', 'gender', 'prevalentHyp', 'sysBP_category', 'diaBP_category'], observed=False)['BMI'].median().get(x.name, train_df['BMI'].median()) if not x.isnull().all() else train_df['BMI'].median()))\n",
    "\n",
    "    # Heart Rate: filling by using sysBP and diaBP (Highest corelation with these columns)\n",
    "    train_df['heartRate'] = train_df.groupby(['sysBP_category', 'diaBP_category'], observed=False)['heartRate'].transform(lambda x: x.fillna(x.median()))\n",
    "    test_df['heartRate'] = test_df.groupby(['sysBP_category', 'diaBP_category'], observed=False)['heartRate'].transform(\n",
    "        lambda x: x.fillna(train_df.groupby(['sysBP_category', 'diaBP_category'], observed=False)['heartRate'].median()[x.name]))\n",
    "\n",
    "    # Dropping the temporary sysBP_category column\n",
    "    train_df.drop(columns=['sysBP_category', 'diaBP_category'], inplace=True)\n",
    "    test_df.drop(columns=['sysBP_category','diaBP_category'], inplace=True)\n",
    "\n",
    "    return train_df, test_df"
   ]
  },
  {
   "cell_type": "code",
   "execution_count": 25,
   "id": "fe2047db-af53-4ada-85d9-5d193dca6241",
   "metadata": {},
   "outputs": [
    {
     "name": "stderr",
     "output_type": "stream",
     "text": [
      "/var/folders/f9/tzl1jwjn3f3fvhyb_dm77j6h0000gn/T/ipykernel_85150/3040251283.py:3: FutureWarning: A value is trying to be set on a copy of a DataFrame or Series through chained assignment using an inplace method.\n",
      "The behavior will change in pandas 3.0. This inplace method will never work because the intermediate object on which we are setting values always behaves as a copy.\n",
      "\n",
      "For example, when doing 'df[col].method(value, inplace=True)', try using 'df.method({col: value}, inplace=True)' or df[col] = df[col].method(value) instead, to perform the operation inplace on the original object.\n",
      "\n",
      "\n",
      "  train_df['education'].fillna(train_df['education'].mode()[0], inplace=True)\n",
      "/var/folders/f9/tzl1jwjn3f3fvhyb_dm77j6h0000gn/T/ipykernel_85150/3040251283.py:4: FutureWarning: A value is trying to be set on a copy of a DataFrame or Series through chained assignment using an inplace method.\n",
      "The behavior will change in pandas 3.0. This inplace method will never work because the intermediate object on which we are setting values always behaves as a copy.\n",
      "\n",
      "For example, when doing 'df[col].method(value, inplace=True)', try using 'df.method({col: value}, inplace=True)' or df[col] = df[col].method(value) instead, to perform the operation inplace on the original object.\n",
      "\n",
      "\n",
      "  test_df['education'].fillna(train_df['education'].mode()[0], inplace=True)\n",
      "/var/folders/f9/tzl1jwjn3f3fvhyb_dm77j6h0000gn/T/ipykernel_85150/2286975567.py:17: FutureWarning: A value is trying to be set on a copy of a DataFrame or Series through chained assignment using an inplace method.\n",
      "The behavior will change in pandas 3.0. This inplace method will never work because the intermediate object on which we are setting values always behaves as a copy.\n",
      "\n",
      "For example, when doing 'df[col].method(value, inplace=True)', try using 'df.method({col: value}, inplace=True)' or df[col] = df[col].method(value) instead, to perform the operation inplace on the original object.\n",
      "\n",
      "\n",
      "  train_df['BPMeds'].fillna(0, inplace=True)\n",
      "/var/folders/f9/tzl1jwjn3f3fvhyb_dm77j6h0000gn/T/ipykernel_85150/2286975567.py:18: FutureWarning: A value is trying to be set on a copy of a DataFrame or Series through chained assignment using an inplace method.\n",
      "The behavior will change in pandas 3.0. This inplace method will never work because the intermediate object on which we are setting values always behaves as a copy.\n",
      "\n",
      "For example, when doing 'df[col].method(value, inplace=True)', try using 'df.method({col: value}, inplace=True)' or df[col] = df[col].method(value) instead, to perform the operation inplace on the original object.\n",
      "\n",
      "\n",
      "  test_df['BPMeds'].fillna(0, inplace=True)\n"
     ]
    },
    {
     "name": "stdout",
     "output_type": "stream",
     "text": [
      "Train Data Missing Values After Imputation:\n",
      " gender             0\n",
      "age                0\n",
      "education          0\n",
      "currentSmoker      0\n",
      "cigsPerDay         0\n",
      "BPMeds             0\n",
      "prevalentStroke    0\n",
      "prevalentHyp       0\n",
      "diabetes           0\n",
      "totChol            0\n",
      "sysBP              0\n",
      "diaBP              0\n",
      "BMI                0\n",
      "heartRate          0\n",
      "glucose            0\n",
      "TenYearCHD         0\n",
      "dtype: int64\n",
      "\n",
      "Test Data Missing Values After Imputation:\n",
      " gender             0\n",
      "age                0\n",
      "education          0\n",
      "currentSmoker      0\n",
      "cigsPerDay         0\n",
      "BPMeds             0\n",
      "prevalentStroke    0\n",
      "prevalentHyp       0\n",
      "diabetes           0\n",
      "totChol            0\n",
      "sysBP              0\n",
      "diaBP              0\n",
      "BMI                0\n",
      "heartRate          0\n",
      "glucose            0\n",
      "TenYearCHD         0\n",
      "dtype: int64\n"
     ]
    }
   ],
   "source": [
    "# Imputation Logic for Education, cigsPerDay, and Glucose\n",
    "MissingValueImputer_1(heart_train, heart_test)\n",
    "# Imputation Logic for BPMeds¶\n",
    "MissingValueImputer_2(heart_train, heart_test)\n",
    "# Imputation Logic for Cholestrol, BMI, and Heart Rate\n",
    "MissingValueImputer_3(heart_train, heart_test)\n",
    "\n",
    "print(\"Train Data Missing Values After Imputation:\\n\", heart_train.isnull().sum())\n",
    "print(\"\\nTest Data Missing Values After Imputation:\\n\", heart_test.isnull().sum())"
   ]
  },
  {
   "cell_type": "markdown",
   "id": "740c9f3f-07ef-4d7c-9aad-0f2ca93f6a2c",
   "metadata": {},
   "source": [
    "### Normalising the data"
   ]
  },
  {
   "cell_type": "markdown",
   "id": "ce4ba8ed-26ad-4cfe-825c-5f15a67ad371",
   "metadata": {},
   "source": [
    "Applying z-score normalization on heart_train, and then normalizing heart_test using the mean and standard deviation from heart_train."
   ]
  },
  {
   "cell_type": "code",
   "execution_count": 26,
   "id": "e8039bcf-ce53-427e-a0e1-6153d4d1cafb",
   "metadata": {},
   "outputs": [],
   "source": [
    "mean_std = {}"
   ]
  },
  {
   "cell_type": "code",
   "execution_count": 27,
   "id": "9c3a1ff8-7930-4a76-8b8b-468615f9e796",
   "metadata": {},
   "outputs": [],
   "source": [
    "def z_score_normalize(train_df):\n",
    "    for column in train_df.columns:\n",
    "        if train_df[column].dtype in ['int64', 'float64'] and column != 'TenYearCHD':\n",
    "            mean = train_df[column].mean()\n",
    "            std = train_df[column].std()\n",
    "            mean_std[column] = (mean, std)\n",
    "            train_df[column] = (train_df[column] - mean) / std"
   ]
  },
  {
   "cell_type": "code",
   "execution_count": 28,
   "id": "6d78db1d-8982-4fe0-8a5c-fedec7cd014b",
   "metadata": {},
   "outputs": [],
   "source": [
    "z_score_normalize(heart_train)"
   ]
  },
  {
   "cell_type": "code",
   "execution_count": 29,
   "id": "4bb24722-3dbe-423e-8071-4fa0f464e0cf",
   "metadata": {},
   "outputs": [
    {
     "name": "stdout",
     "output_type": "stream",
     "text": [
      "{'gender': (0.4336283185840708, 0.495648331104533), 'age': (49.614159292035396, 8.609616730841537), 'education': (1.9569321533923303, 1.0217048588742135), 'currentSmoker': (0.48672566371681414, 0.4998974975685707), 'cigsPerDay': (9.043952802359883, 12.023146397122822), 'BPMeds': (0.033628318584070796, 0.18029709890002746), 'prevalentStroke': (0.00471976401179941, 0.06854833286068387), 'prevalentHyp': (0.30206489675516224, 0.4592209735457691), 'diabetes': (0.024778761061946902, 0.15547316301364433), 'totChol': (236.71312684365782, 45.08705642840767), 'sysBP': (132.12669616519173, 22.047822389406125), 'diaBP': (82.75206489675516, 11.933836490922324), 'BMI': (25.78600442477876, 4.039053065029307), 'heartRate': (75.77610619469027, 11.95033818141861), 'glucose': (81.70766961651917, 22.89993435334305)}\n"
     ]
    }
   ],
   "source": [
    "print(mean_std)"
   ]
  },
  {
   "cell_type": "code",
   "execution_count": 30,
   "id": "d2e449c1-15db-4312-aec3-2f7580e62687",
   "metadata": {},
   "outputs": [],
   "source": [
    "def apply_normalization(heart_test):\n",
    "    for column, (mean, std) in mean_std.items():\n",
    "        heart_test[column] = (heart_test[column] - mean) / std"
   ]
  },
  {
   "cell_type": "code",
   "execution_count": 31,
   "id": "de4478ad-1203-4a2f-bfe9-672119867118",
   "metadata": {},
   "outputs": [],
   "source": [
    "apply_normalization(heart_test)"
   ]
  },
  {
   "cell_type": "code",
   "execution_count": 32,
   "id": "cabedd6d-bf8d-4417-89d9-0bd86629fb67",
   "metadata": {},
   "outputs": [
    {
     "data": {
      "text/html": [
       "<div>\n",
       "<style scoped>\n",
       "    .dataframe tbody tr th:only-of-type {\n",
       "        vertical-align: middle;\n",
       "    }\n",
       "\n",
       "    .dataframe tbody tr th {\n",
       "        vertical-align: top;\n",
       "    }\n",
       "\n",
       "    .dataframe thead th {\n",
       "        text-align: right;\n",
       "    }\n",
       "</style>\n",
       "<table border=\"1\" class=\"dataframe\">\n",
       "  <thead>\n",
       "    <tr style=\"text-align: right;\">\n",
       "      <th></th>\n",
       "      <th>gender</th>\n",
       "      <th>age</th>\n",
       "      <th>education</th>\n",
       "      <th>currentSmoker</th>\n",
       "      <th>cigsPerDay</th>\n",
       "      <th>BPMeds</th>\n",
       "      <th>prevalentStroke</th>\n",
       "      <th>prevalentHyp</th>\n",
       "      <th>diabetes</th>\n",
       "      <th>totChol</th>\n",
       "      <th>sysBP</th>\n",
       "      <th>diaBP</th>\n",
       "      <th>BMI</th>\n",
       "      <th>heartRate</th>\n",
       "      <th>glucose</th>\n",
       "      <th>TenYearCHD</th>\n",
       "    </tr>\n",
       "  </thead>\n",
       "  <tbody>\n",
       "    <tr>\n",
       "      <th>0</th>\n",
       "      <td>1.142689</td>\n",
       "      <td>1.554755</td>\n",
       "      <td>-0.936603</td>\n",
       "      <td>-0.973651</td>\n",
       "      <td>-0.752212</td>\n",
       "      <td>-0.186516</td>\n",
       "      <td>-0.068853</td>\n",
       "      <td>1.519824</td>\n",
       "      <td>-0.159376</td>\n",
       "      <td>-1.036065</td>\n",
       "      <td>0.719949</td>\n",
       "      <td>0.607343</td>\n",
       "      <td>0.332750</td>\n",
       "      <td>-0.315983</td>\n",
       "      <td>0.187439</td>\n",
       "      <td>0</td>\n",
       "    </tr>\n",
       "    <tr>\n",
       "      <th>1</th>\n",
       "      <td>1.142689</td>\n",
       "      <td>-0.535931</td>\n",
       "      <td>1.020909</td>\n",
       "      <td>-0.973651</td>\n",
       "      <td>-0.752212</td>\n",
       "      <td>-0.186516</td>\n",
       "      <td>-0.068853</td>\n",
       "      <td>-0.657777</td>\n",
       "      <td>-0.159376</td>\n",
       "      <td>-1.657086</td>\n",
       "      <td>-0.323238</td>\n",
       "      <td>0.523548</td>\n",
       "      <td>0.543196</td>\n",
       "      <td>0.771852</td>\n",
       "      <td>0.056434</td>\n",
       "      <td>0</td>\n",
       "    </tr>\n",
       "    <tr>\n",
       "      <th>2</th>\n",
       "      <td>-0.874871</td>\n",
       "      <td>0.160964</td>\n",
       "      <td>-0.936603</td>\n",
       "      <td>1.026759</td>\n",
       "      <td>-0.585866</td>\n",
       "      <td>-0.186516</td>\n",
       "      <td>-0.068853</td>\n",
       "      <td>-0.657777</td>\n",
       "      <td>-0.159376</td>\n",
       "      <td>0.538666</td>\n",
       "      <td>-0.232526</td>\n",
       "      <td>-0.146815</td>\n",
       "      <td>-1.373095</td>\n",
       "      <td>-0.064944</td>\n",
       "      <td>0.624121</td>\n",
       "      <td>0</td>\n",
       "    </tr>\n",
       "    <tr>\n",
       "      <th>3</th>\n",
       "      <td>1.142689</td>\n",
       "      <td>-0.535931</td>\n",
       "      <td>1.020909</td>\n",
       "      <td>1.026759</td>\n",
       "      <td>1.742975</td>\n",
       "      <td>-0.186516</td>\n",
       "      <td>-0.068853</td>\n",
       "      <td>-0.657777</td>\n",
       "      <td>-0.159376</td>\n",
       "      <td>0.294694</td>\n",
       "      <td>-0.277882</td>\n",
       "      <td>0.565446</td>\n",
       "      <td>0.716503</td>\n",
       "      <td>-0.064944</td>\n",
       "      <td>0.449448</td>\n",
       "      <td>0</td>\n",
       "    </tr>\n",
       "    <tr>\n",
       "      <th>4</th>\n",
       "      <td>-0.874871</td>\n",
       "      <td>-0.535931</td>\n",
       "      <td>0.042153</td>\n",
       "      <td>1.026759</td>\n",
       "      <td>-0.502693</td>\n",
       "      <td>-0.186516</td>\n",
       "      <td>-0.068853</td>\n",
       "      <td>-0.657777</td>\n",
       "      <td>-0.159376</td>\n",
       "      <td>0.294694</td>\n",
       "      <td>-0.096458</td>\n",
       "      <td>-0.230610</td>\n",
       "      <td>-1.373095</td>\n",
       "      <td>1.190250</td>\n",
       "      <td>0.187439</td>\n",
       "      <td>0</td>\n",
       "    </tr>\n",
       "  </tbody>\n",
       "</table>\n",
       "</div>"
      ],
      "text/plain": [
       "     gender       age  education  currentSmoker  cigsPerDay    BPMeds  \\\n",
       "0  1.142689  1.554755  -0.936603      -0.973651   -0.752212 -0.186516   \n",
       "1  1.142689 -0.535931   1.020909      -0.973651   -0.752212 -0.186516   \n",
       "2 -0.874871  0.160964  -0.936603       1.026759   -0.585866 -0.186516   \n",
       "3  1.142689 -0.535931   1.020909       1.026759    1.742975 -0.186516   \n",
       "4 -0.874871 -0.535931   0.042153       1.026759   -0.502693 -0.186516   \n",
       "\n",
       "   prevalentStroke  prevalentHyp  diabetes   totChol     sysBP     diaBP  \\\n",
       "0        -0.068853      1.519824 -0.159376 -1.036065  0.719949  0.607343   \n",
       "1        -0.068853     -0.657777 -0.159376 -1.657086 -0.323238  0.523548   \n",
       "2        -0.068853     -0.657777 -0.159376  0.538666 -0.232526 -0.146815   \n",
       "3        -0.068853     -0.657777 -0.159376  0.294694 -0.277882  0.565446   \n",
       "4        -0.068853     -0.657777 -0.159376  0.294694 -0.096458 -0.230610   \n",
       "\n",
       "        BMI  heartRate   glucose  TenYearCHD  \n",
       "0  0.332750  -0.315983  0.187439           0  \n",
       "1  0.543196   0.771852  0.056434           0  \n",
       "2 -1.373095  -0.064944  0.624121           0  \n",
       "3  0.716503  -0.064944  0.449448           0  \n",
       "4 -1.373095   1.190250  0.187439           0  "
      ]
     },
     "execution_count": 32,
     "metadata": {},
     "output_type": "execute_result"
    }
   ],
   "source": [
    "heart_train.head()"
   ]
  },
  {
   "cell_type": "code",
   "execution_count": 33,
   "id": "ad9f4225-b2a2-47e6-9670-7b43acd6df79",
   "metadata": {},
   "outputs": [
    {
     "data": {
      "text/html": [
       "<div>\n",
       "<style scoped>\n",
       "    .dataframe tbody tr th:only-of-type {\n",
       "        vertical-align: middle;\n",
       "    }\n",
       "\n",
       "    .dataframe tbody tr th {\n",
       "        vertical-align: top;\n",
       "    }\n",
       "\n",
       "    .dataframe thead th {\n",
       "        text-align: right;\n",
       "    }\n",
       "</style>\n",
       "<table border=\"1\" class=\"dataframe\">\n",
       "  <thead>\n",
       "    <tr style=\"text-align: right;\">\n",
       "      <th></th>\n",
       "      <th>gender</th>\n",
       "      <th>age</th>\n",
       "      <th>education</th>\n",
       "      <th>currentSmoker</th>\n",
       "      <th>cigsPerDay</th>\n",
       "      <th>BPMeds</th>\n",
       "      <th>prevalentStroke</th>\n",
       "      <th>prevalentHyp</th>\n",
       "      <th>diabetes</th>\n",
       "      <th>totChol</th>\n",
       "      <th>sysBP</th>\n",
       "      <th>diaBP</th>\n",
       "      <th>BMI</th>\n",
       "      <th>heartRate</th>\n",
       "      <th>glucose</th>\n",
       "      <th>TenYearCHD</th>\n",
       "    </tr>\n",
       "  </thead>\n",
       "  <tbody>\n",
       "    <tr>\n",
       "      <th>0</th>\n",
       "      <td>-0.874871</td>\n",
       "      <td>0.741710</td>\n",
       "      <td>-0.936603</td>\n",
       "      <td>-0.973651</td>\n",
       "      <td>-0.752212</td>\n",
       "      <td>-0.186516</td>\n",
       "      <td>-0.068853</td>\n",
       "      <td>1.519824</td>\n",
       "      <td>6.272602</td>\n",
       "      <td>0.804818</td>\n",
       "      <td>0.175677</td>\n",
       "      <td>-0.230610</td>\n",
       "      <td>0.481300</td>\n",
       "      <td>1.190250</td>\n",
       "      <td>5.602301</td>\n",
       "      <td>1</td>\n",
       "    </tr>\n",
       "    <tr>\n",
       "      <th>1</th>\n",
       "      <td>-0.874871</td>\n",
       "      <td>-0.419782</td>\n",
       "      <td>0.042153</td>\n",
       "      <td>-0.973651</td>\n",
       "      <td>-0.752212</td>\n",
       "      <td>-0.186516</td>\n",
       "      <td>-0.068853</td>\n",
       "      <td>-0.657777</td>\n",
       "      <td>-0.159376</td>\n",
       "      <td>0.294694</td>\n",
       "      <td>-0.504662</td>\n",
       "      <td>-0.146815</td>\n",
       "      <td>0.728883</td>\n",
       "      <td>1.608649</td>\n",
       "      <td>-0.249244</td>\n",
       "      <td>0</td>\n",
       "    </tr>\n",
       "    <tr>\n",
       "      <th>2</th>\n",
       "      <td>-0.874871</td>\n",
       "      <td>0.277113</td>\n",
       "      <td>-0.936603</td>\n",
       "      <td>-0.973651</td>\n",
       "      <td>-0.752212</td>\n",
       "      <td>-0.186516</td>\n",
       "      <td>-0.068853</td>\n",
       "      <td>-0.657777</td>\n",
       "      <td>-0.159376</td>\n",
       "      <td>0.849177</td>\n",
       "      <td>-0.912865</td>\n",
       "      <td>-0.984768</td>\n",
       "      <td>-0.026245</td>\n",
       "      <td>0.353454</td>\n",
       "      <td>-0.161907</td>\n",
       "      <td>0</td>\n",
       "    </tr>\n",
       "    <tr>\n",
       "      <th>3</th>\n",
       "      <td>-0.874871</td>\n",
       "      <td>-0.419782</td>\n",
       "      <td>1.020909</td>\n",
       "      <td>1.026759</td>\n",
       "      <td>1.160765</td>\n",
       "      <td>-0.186516</td>\n",
       "      <td>-0.068853</td>\n",
       "      <td>-0.657777</td>\n",
       "      <td>-0.159376</td>\n",
       "      <td>1.070970</td>\n",
       "      <td>-0.096458</td>\n",
       "      <td>0.104571</td>\n",
       "      <td>-0.665008</td>\n",
       "      <td>0.771852</td>\n",
       "      <td>0.143770</td>\n",
       "      <td>0</td>\n",
       "    </tr>\n",
       "    <tr>\n",
       "      <th>4</th>\n",
       "      <td>1.142689</td>\n",
       "      <td>2.251650</td>\n",
       "      <td>-0.936603</td>\n",
       "      <td>1.026759</td>\n",
       "      <td>-0.669039</td>\n",
       "      <td>-0.186516</td>\n",
       "      <td>-0.068853</td>\n",
       "      <td>-0.657777</td>\n",
       "      <td>-0.159376</td>\n",
       "      <td>0.183797</td>\n",
       "      <td>-0.413950</td>\n",
       "      <td>-0.481996</td>\n",
       "      <td>0.196580</td>\n",
       "      <td>-0.483342</td>\n",
       "      <td>-0.030903</td>\n",
       "      <td>1</td>\n",
       "    </tr>\n",
       "  </tbody>\n",
       "</table>\n",
       "</div>"
      ],
      "text/plain": [
       "     gender       age  education  currentSmoker  cigsPerDay    BPMeds  \\\n",
       "0 -0.874871  0.741710  -0.936603      -0.973651   -0.752212 -0.186516   \n",
       "1 -0.874871 -0.419782   0.042153      -0.973651   -0.752212 -0.186516   \n",
       "2 -0.874871  0.277113  -0.936603      -0.973651   -0.752212 -0.186516   \n",
       "3 -0.874871 -0.419782   1.020909       1.026759    1.160765 -0.186516   \n",
       "4  1.142689  2.251650  -0.936603       1.026759   -0.669039 -0.186516   \n",
       "\n",
       "   prevalentStroke  prevalentHyp  diabetes   totChol     sysBP     diaBP  \\\n",
       "0        -0.068853      1.519824  6.272602  0.804818  0.175677 -0.230610   \n",
       "1        -0.068853     -0.657777 -0.159376  0.294694 -0.504662 -0.146815   \n",
       "2        -0.068853     -0.657777 -0.159376  0.849177 -0.912865 -0.984768   \n",
       "3        -0.068853     -0.657777 -0.159376  1.070970 -0.096458  0.104571   \n",
       "4        -0.068853     -0.657777 -0.159376  0.183797 -0.413950 -0.481996   \n",
       "\n",
       "        BMI  heartRate   glucose  TenYearCHD  \n",
       "0  0.481300   1.190250  5.602301           1  \n",
       "1  0.728883   1.608649 -0.249244           0  \n",
       "2 -0.026245   0.353454 -0.161907           0  \n",
       "3 -0.665008   0.771852  0.143770           0  \n",
       "4  0.196580  -0.483342 -0.030903           1  "
      ]
     },
     "execution_count": 33,
     "metadata": {},
     "output_type": "execute_result"
    }
   ],
   "source": [
    "heart_test.head()"
   ]
  },
  {
   "cell_type": "markdown",
   "id": "2bdec939-1ce5-4914-b111-d8a308237326",
   "metadata": {},
   "source": [
    "Our both datasets are free from missing values and are in normalised form now. We can begin to build logistic regression model."
   ]
  },
  {
   "cell_type": "code",
   "execution_count": 34,
   "id": "84d8f2cf-75a7-4346-93c2-3ff9eb3f9cfb",
   "metadata": {},
   "outputs": [],
   "source": [
    "# Preparing data for training and testing by separate features and target variable\n",
    "X_train = heart_train.drop(columns=['TenYearCHD']).values\n",
    "y_train = heart_train['TenYearCHD'].values\n",
    "\n",
    "X_test = heart_test.drop(columns=['TenYearCHD']).values\n",
    "y_test = heart_test['TenYearCHD'].values"
   ]
  },
  {
   "cell_type": "code",
   "execution_count": 35,
   "id": "fb296658-8748-4d81-b1f7-e4d0f77c21aa",
   "metadata": {},
   "outputs": [],
   "source": [
    "# Adding bias term to X\n",
    "X_train = np.c_[np.ones(X_train.shape[0]), X_train]\n",
    "X_test = np.c_[np.ones(X_test.shape[0]), X_test]"
   ]
  },
  {
   "cell_type": "code",
   "execution_count": 36,
   "id": "b0db5e95-927e-4441-9cbf-099efc146232",
   "metadata": {},
   "outputs": [
    {
     "data": {
      "text/plain": [
       "(848, 16)"
      ]
     },
     "execution_count": 36,
     "metadata": {},
     "output_type": "execute_result"
    }
   ],
   "source": [
    "X_test.shape"
   ]
  },
  {
   "cell_type": "code",
   "execution_count": 37,
   "id": "386a5a8d-47ae-447d-a39d-3ee5e969702c",
   "metadata": {
    "tags": []
   },
   "outputs": [
    {
     "data": {
      "text/plain": [
       "(3390, 16)"
      ]
     },
     "execution_count": 37,
     "metadata": {},
     "output_type": "execute_result"
    }
   ],
   "source": [
    "X_train.shape"
   ]
  },
  {
   "cell_type": "code",
   "execution_count": 38,
   "id": "95e2354f-910d-4013-8439-3424cfe092e7",
   "metadata": {},
   "outputs": [],
   "source": [
    "# Initialize weights and setting other parameters\n",
    "# initializing with the same logic as in ques 1\n",
    "weights = np.random.randn(X_train.shape[1]) * 0.01\n",
    "\n",
    "m, n = X_train.shape\n",
    "learning_rate = 0.01\n",
    "epochs = 10"
   ]
  },
  {
   "attachments": {
    "3c7b316e-2a0c-4fe5-ac27-93c26c6c0813.png": {
     "image/png": "[encoded data removed]"
    }
   },
   "cell_type": "markdown",
   "id": "493793d6-d05c-4d78-8a48-249de0f07688",
   "metadata": {},
   "source": [
    "<img src= \"attachment:3c7b316e-2a0c-4fe5-ac27-93c26c6c0813.png\" width=\"400\">"
   ]
  },
  {
   "cell_type": "markdown",
   "id": "f4b1e4ad-93a2-455a-aba8-8f212a28c508",
   "metadata": {},
   "source": [
    "Sigmoid function"
   ]
  },
  {
   "cell_type": "code",
   "execution_count": 39,
   "id": "b80b466e-bcc8-4bd6-9408-f84ba058dfb2",
   "metadata": {},
   "outputs": [],
   "source": [
    "def sigmoid(z):\n",
    "    return 1 / (1 + np.exp(-z))"
   ]
  },
  {
   "cell_type": "markdown",
   "id": "9bfee479-3c0d-428c-b169-85d056a01d3f",
   "metadata": {},
   "source": [
    "Cost function (Binary Cross-Entropy)"
   ]
  },
  {
   "cell_type": "code",
   "execution_count": 40,
   "id": "ef205668-60d5-4212-be67-aa5293c14d90",
   "metadata": {},
   "outputs": [],
   "source": [
    "def compute_cost(y, y_pred):\n",
    "    m = len(y)\n",
    "    cost = -(1 / m) * np.sum(y * np.log(y_pred) + (1 - y) * np.log(1 - y_pred))\n",
    "    return cost"
   ]
  },
  {
   "cell_type": "markdown",
   "id": "a7adbb7f-26a4-4c63-bcf3-286f7aaa7ecb",
   "metadata": {},
   "source": [
    "Gradient Descent Algorithm based on Logistic Regression"
   ]
  },
  {
   "attachments": {
    "099f45c6-1cc4-41e3-b5ad-39da120dd97e.png": {
     "image/png": "[encoded data removed]"
    }
   },
   "cell_type": "markdown",
   "id": "a8c2bba1-e05c-419d-86d3-b36557ba99a2",
   "metadata": {},
   "source": [
    "From class slides:\n",
    "\n",
    "<img src= \"attachment:099f45c6-1cc4-41e3-b5ad-39da120dd97e.png\" width=\"300\">"
   ]
  },
  {
   "cell_type": "code",
   "execution_count": 41,
   "id": "7df49381-e19b-41e7-94de-935599d2ee53",
   "metadata": {},
   "outputs": [],
   "source": [
    "def gradient_descent(X, y, weights, learning_rate, epochs):\n",
    "    m = X.shape[0]\n",
    "    for epoch in range(epochs):\n",
    "        # z as per formula\n",
    "        z = np.dot(X, weights)\n",
    "        y_pred = sigmoid(z)\n",
    "        \n",
    "        # Compute cost\n",
    "        cost = compute_cost(y, y_pred)\n",
    "        print(f\"Epoch {epoch+1}, Cost: {cost}\")\n",
    "        \n",
    "        # Compute gradients\n",
    "        dw = (1 / m) * np.dot(X.T, (y_pred - y))\n",
    "        \n",
    "        # Update weights\n",
    "        weights -= learning_rate * dw\n",
    "    \n",
    "    return weights"
   ]
  },
  {
   "cell_type": "markdown",
   "id": "250da453-2083-4f33-9ba8-8ebd5d67450b",
   "metadata": {},
   "source": [
    "Prediction"
   ]
  },
  {
   "cell_type": "code",
   "execution_count": 42,
   "id": "835bfccc-6902-4b3e-b6ac-bd3b7d969c1c",
   "metadata": {},
   "outputs": [],
   "source": [
    "def predict_proba(X, weights):\n",
    "    z = np.dot(X, weights)\n",
    "    return sigmoid(z)"
   ]
  },
  {
   "cell_type": "markdown",
   "id": "ce0dca05-2dd6-4b5e-8709-34f22f972624",
   "metadata": {},
   "source": [
    "Please print out the Cost function J for every iteration (until 10 epochs) for the train dataset."
   ]
  },
  {
   "cell_type": "markdown",
   "id": "c7101600-abe2-4f52-9240-99315193aec7",
   "metadata": {},
   "source": [
    "Train the model"
   ]
  },
  {
   "cell_type": "code",
   "execution_count": 43,
   "id": "306c97d0-6948-4120-a7cb-bc967584e686",
   "metadata": {},
   "outputs": [
    {
     "data": {
      "text/plain": [
       "(3390, 16)"
      ]
     },
     "execution_count": 43,
     "metadata": {},
     "output_type": "execute_result"
    }
   ],
   "source": [
    "X_train.shape"
   ]
  },
  {
   "cell_type": "code",
   "execution_count": 44,
   "id": "85b4bb9a-2c87-4280-bb26-f9dbdf116ed2",
   "metadata": {},
   "outputs": [
    {
     "data": {
      "text/plain": [
       "(3390,)"
      ]
     },
     "execution_count": 44,
     "metadata": {},
     "output_type": "execute_result"
    }
   ],
   "source": [
    "y_train.shape"
   ]
  },
  {
   "cell_type": "code",
   "execution_count": 45,
   "id": "1888243e-023c-4dee-9e3a-4c13fbbe5d88",
   "metadata": {},
   "outputs": [
    {
     "name": "stdout",
     "output_type": "stream",
     "text": [
      "Epoch 1, Cost: 0.6880610518194833\n",
      "Epoch 2, Cost: 0.6866415601037459\n",
      "Epoch 3, Cost: 0.6852310150394908\n",
      "Epoch 4, Cost: 0.6838293424474249\n",
      "Epoch 5, Cost: 0.6824364688544384\n",
      "Epoch 6, Cost: 0.6810523214885021\n",
      "Epoch 7, Cost: 0.6796768282735101\n",
      "Epoch 8, Cost: 0.6783099178240743\n",
      "Epoch 9, Cost: 0.6769515194402725\n",
      "Epoch 10, Cost: 0.6756015631023532\n"
     ]
    }
   ],
   "source": [
    "optimal_weights = gradient_descent(X_train, y_train, weights, learning_rate, epochs)"
   ]
  },
  {
   "cell_type": "markdown",
   "id": "6a43bce8-1d4f-4dd5-8755-b9a405263e34",
   "metadata": {},
   "source": [
    "#### Predicting probabilities on train and test sets"
   ]
  },
  {
   "cell_type": "code",
   "execution_count": 46,
   "id": "db41239a-3b84-4a34-a87f-09d54181fc24",
   "metadata": {},
   "outputs": [],
   "source": [
    "# Predict probabilities for training and test sets\n",
    "train_probabilities = predict_proba(X_train, optimal_weights)\n",
    "test_probabilities = predict_proba(X_test, optimal_weights)"
   ]
  },
  {
   "cell_type": "markdown",
   "id": "25033119-a905-4a79-928a-c2bd5d401678",
   "metadata": {},
   "source": [
    "##### Evaluation"
   ]
  },
  {
   "cell_type": "markdown",
   "id": "aa215557-03a6-4059-bc4c-65606d6a02a5",
   "metadata": {},
   "source": [
    "Please print out confusion matrix and its corresponding accuracy, precision, and recall for the train and test dataset after the last iteration. "
   ]
  },
  {
   "cell_type": "markdown",
   "id": "4dfe422c-ab38-4bed-bd0a-ccaeb7993ab0",
   "metadata": {},
   "source": [
    "##### Confusion Matrix"
   ]
  },
  {
   "cell_type": "code",
   "execution_count": 47,
   "id": "41c99db9-3d28-49f2-b7df-7e81ed06fed0",
   "metadata": {},
   "outputs": [],
   "source": [
    "threshold=0.5"
   ]
  },
  {
   "cell_type": "code",
   "execution_count": 48,
   "id": "66f8164b-57ae-4360-b515-9a2e9a37f69f",
   "metadata": {},
   "outputs": [],
   "source": [
    "def evaluate(y_true, y_pred):\n",
    "    y_pred_binary = y_pred >= threshold\n",
    "    tp = sum((y_true == 1) & (np.array(y_pred_binary) == 1))\n",
    "    tn = sum((y_true == 0) & (np.array(y_pred_binary) == 0))\n",
    "    fp = sum((y_true == 0) & (np.array(y_pred_binary) == 1))\n",
    "    fn = sum((y_true == 1) & (np.array(y_pred_binary) == 0))\n",
    "    \n",
    "    accuracy = (tp + tn) / len(y_true)\n",
    "    precision = tp / (tp + fp) if (tp + fp) > 0 else 0\n",
    "    recall = tp / (tp + fn) if (tp + fn) > 0 else 0\n",
    "\n",
    "    return tp, tn, fp, fn, accuracy, precision, recall"
   ]
  },
  {
   "cell_type": "code",
   "execution_count": 49,
   "id": "dade8741-3848-4b07-ad58-8ac8ab5a0c1f",
   "metadata": {},
   "outputs": [],
   "source": [
    "def print_metrics(metrics):\n",
    "    print(\"\\nConfusion Matrix:\")\n",
    "    print(\"----------------\")\n",
    "    print(f\"            Predicted\")\n",
    "    print(f\"             1    0\")\n",
    "    print(f\"Actual  1  [TP:{metrics[0]:3d} FN:{metrics[3]:3d}]\")\n",
    "    print(f\"        0  [FP:{metrics[2]:3d} TN:{metrics[1]:3d}]\")\n",
    "\n",
    "    print(\"\\nMetrics:\")\n",
    "    print(f\"Accuracy:  {metrics[4]:.3f}\")\n",
    "    print(f\"Precision: {metrics[5]:.3f}\")\n",
    "    print(f\"Recall:    {metrics[6]:.3f}\")"
   ]
  },
  {
   "cell_type": "code",
   "execution_count": 50,
   "id": "a228ec8d-7d49-41bf-ba94-5c1d19b8c62e",
   "metadata": {},
   "outputs": [
    {
     "name": "stdout",
     "output_type": "stream",
     "text": [
      "\n",
      "Train Dataset Evaluation:\n",
      "\n",
      "Confusion Matrix:\n",
      "----------------\n",
      "            Predicted\n",
      "             1    0\n",
      "Actual  1  [TP:172 FN:344]\n",
      "        0  [FP:449 TN:2425]\n",
      "\n",
      "Metrics:\n",
      "Accuracy:  0.766\n",
      "Precision: 0.277\n",
      "Recall:    0.333\n"
     ]
    }
   ],
   "source": [
    "# Evaluate on train dataset\n",
    "print(\"\\nTrain Dataset Evaluation:\")\n",
    "train_metrics = evaluate(y_train, train_probabilities)\n",
    "print_metrics(train_metrics)"
   ]
  },
  {
   "cell_type": "code",
   "execution_count": 51,
   "id": "5da6274e-8a92-4c2b-ad2d-aa633f0456f4",
   "metadata": {},
   "outputs": [
    {
     "name": "stdout",
     "output_type": "stream",
     "text": [
      "\n",
      "Test Dataset Evaluation:\n",
      "\n",
      "Confusion Matrix:\n",
      "----------------\n",
      "            Predicted\n",
      "             1    0\n",
      "Actual  1  [TP: 51 FN: 77]\n",
      "        0  [FP:121 TN:599]\n",
      "\n",
      "Metrics:\n",
      "Accuracy:  0.767\n",
      "Precision: 0.297\n",
      "Recall:    0.398\n"
     ]
    }
   ],
   "source": [
    "# Evaluate on test dataset\n",
    "print(\"\\nTest Dataset Evaluation:\")\n",
    "test_metrics = evaluate(y_test, test_probabilities)\n",
    "print_metrics(test_metrics)"
   ]
  },
  {
   "cell_type": "markdown",
   "id": "16860815-734e-4bd8-8b50-3619efed3d2f",
   "metadata": {},
   "source": [
    "**Function to calculate Reciever Operating Curve which depends on True Positive rate and False Positive rate**"
   ]
  },
  {
   "cell_type": "code",
   "execution_count": 52,
   "id": "1dcca258-5c04-4cbc-867f-3a79789f69c4",
   "metadata": {},
   "outputs": [],
   "source": [
    "def compute_roc_curve(y_true, y_prob):\n",
    "    thresholds = np.linspace(0, 1, 100)\n",
    "    tpr_values = []  \n",
    "    fpr_values = []  \n",
    "\n",
    "    for threshold in thresholds:\n",
    "        y_pred = (y_prob >= threshold).astype(int)\n",
    "\n",
    "        TP = np.sum((y_true == 1) & (y_pred == 1))\n",
    "        TN = np.sum((y_true == 0) & (y_pred == 0))\n",
    "        FP = np.sum((y_true == 0) & (y_pred == 1))\n",
    "        FN = np.sum((y_true == 1) & (y_pred == 0))\n",
    "\n",
    "        tpr = TP / (TP + FN) if (TP + FN) > 0 else 0\n",
    "        fpr = FP / (FP + TN) if (FP + TN) > 0 else 0\n",
    "\n",
    "        tpr_values.append(tpr)\n",
    "        fpr_values.append(fpr)\n",
    "\n",
    "    return fpr_values, tpr_values"
   ]
  },
  {
   "cell_type": "markdown",
   "id": "7afc97e1-8869-47d2-93e1-ada7c1faafad",
   "metadata": {},
   "source": [
    "**Calculating AUC-ROC**"
   ]
  },
  {
   "cell_type": "code",
   "execution_count": 53,
   "id": "a584a785-b155-47db-8f61-a1f7602692c3",
   "metadata": {},
   "outputs": [],
   "source": [
    "def compute_auc(fpr, tpr):\n",
    "    auc_value = 0.0\n",
    "    \n",
    "    for i in range(1, len(fpr)):\n",
    "        width = abs(fpr[i] - fpr[i - 1])\n",
    "        avg_height = abs((tpr[i] + tpr[i - 1]) / 2)\n",
    "        auc_value += width * avg_height\n",
    "    return auc_value"
   ]
  },
  {
   "cell_type": "code",
   "execution_count": 54,
   "id": "42338fdc-b28c-4d76-8a0a-e02a4c8a4110",
   "metadata": {},
   "outputs": [],
   "source": [
    "fpr_train_base, tpr_train_base = compute_roc_curve(y_train, train_probabilities)\n",
    "fpr_test_base, tpr_test_base = compute_roc_curve(y_test, test_probabilities)\n",
    "\n",
    "auc_train_base = compute_auc(fpr_train_base, tpr_train_base)\n",
    "auc_test_base = compute_auc(fpr_test_base, tpr_test_base)"
   ]
  },
  {
   "cell_type": "code",
   "execution_count": 55,
   "id": "2ee1f579-058f-40fd-8771-dc477bf8d2d2",
   "metadata": {},
   "outputs": [
    {
     "name": "stdout",
     "output_type": "stream",
     "text": [
      "AUC for Training set: 0.6487\n",
      "AUC for Test set: 0.6577\n"
     ]
    }
   ],
   "source": [
    "print(f\"AUC for Training set: {auc_train_base:.4f}\")\n",
    "print(f\"AUC for Test set: {auc_test_base:.4f}\")"
   ]
  },
  {
   "cell_type": "code",
   "execution_count": 56,
   "id": "84e0172f-2b63-4173-8066-40fa2182044c",
   "metadata": {},
   "outputs": [
    {
     "data": {
      "image/png": "[encoded data removed]",
      "text/plain": [
       "<Figure size 640x480 with 1 Axes>"
      ]
     },
     "metadata": {},
     "output_type": "display_data"
    }
   ],
   "source": [
    "fig, ax = plt.subplots()\n",
    "ax.plot(fpr_train_base, tpr_train_base, color='blue', label=f'Train ROC (AUC = {auc_train_base:.4f})')\n",
    "ax.plot([0, 1], [0, 1], linestyle='--', color='gray', label='Random Classifier')\n",
    "\n",
    "ax.set_xlabel('False Positive Rate')\n",
    "ax.set_ylabel('True Positive Rate')\n",
    "ax.set_title('ROC Curve - Training Set')\n",
    "\n",
    "ax.legend(loc='lower right')\n",
    "plt.show()"
   ]
  },
  {
   "cell_type": "code",
   "execution_count": 57,
   "id": "a2905473-cced-404a-b28a-02839b7e041f",
   "metadata": {},
   "outputs": [
    {
     "data": {
      "image/png": "[encoded data removed]",
      "text/plain": [
       "<Figure size 640x480 with 1 Axes>"
      ]
     },
     "metadata": {},
     "output_type": "display_data"
    }
   ],
   "source": [
    "fig, ax = plt.subplots()\n",
    "\n",
    "ax.plot(fpr_test_base, tpr_test_base, color='blue', label=f'Test ROC (AUC = {auc_test_base:.4f})')\n",
    "ax.plot([0, 1], [0, 1], linestyle='--', color='gray', label='Random Classifier')\n",
    "\n",
    "ax.set_xlabel('False Positive Rate')\n",
    "ax.set_ylabel('True Positive Rate')\n",
    "ax.set_title('Test Set ROC Curve')\n",
    "\n",
    "ax.legend(loc='upper left')\n",
    "plt.show()"
   ]
  },
  {
   "cell_type": "code",
   "execution_count": 58,
   "id": "1fa0a4cf-fe09-4fa4-9247-c9314d012f76",
   "metadata": {},
   "outputs": [
    {
     "name": "stdout",
     "output_type": "stream",
     "text": [
      "Class distribution:\n",
      "0    2874\n",
      "1     516\n",
      "Name: count, dtype: int64\n"
     ]
    }
   ],
   "source": [
    "class_counts = pd.Series(y_train).value_counts()\n",
    "print(f\"Class distribution:\\n{class_counts}\")"
   ]
  },
  {
   "cell_type": "markdown",
   "id": "f46818d6-e87a-4b8b-8ea9-507853e0f536",
   "metadata": {},
   "source": [
    "**As we have noticed already, dataset is heavily imbalanced having majority instances on class label 0 than class label 1. We have seen while model is giving good accuracy but it struggles to find a balance between Precision and Recall. This is due to the class imbalance that we many not see the accuate model's performance.**\n",
    "\n",
    "**AUC is heavily sensitive to class imbalance and to get the best results, we must address class imbalance. There are 3 techniques to address the class imbalance, also taught in class.**\n",
    "\n",
    "**1. Resampling\\\n",
    "2. SMOTE\\\n",
    "3. Weighted cost function**\n",
    "\n",
    "**We will try all the techniques and see if we can improve the AUC scores**\n"
   ]
  },
  {
   "cell_type": "markdown",
   "id": "dcf533fd-d10a-40b2-9b58-400c7c2bd0cc",
   "metadata": {},
   "source": [
    "#### Trying with class weights"
   ]
  },
  {
   "cell_type": "code",
   "execution_count": 59,
   "id": "2f5129e2-fe24-413f-b900-3145b466efe0",
   "metadata": {},
   "outputs": [],
   "source": [
    "def compute_weighted_cost(y, y_pred, class_weights):\n",
    "    m = len(y)\n",
    "    weighted_cost = -(1 / m) * np.sum(class_weights[y.astype(int)] * (y * np.log(y_pred) + (1 - y) * np.log(1 - y_pred)))\n",
    "    return weighted_cost"
   ]
  },
  {
   "cell_type": "code",
   "execution_count": 60,
   "id": "ac074d5b-22fe-44fb-934e-18b4b428a485",
   "metadata": {},
   "outputs": [],
   "source": [
    "def weighted_gradient_descent(X, y, weights, learning_rate, epochs, class_weights):\n",
    "    m = X.shape[0]\n",
    "    for epoch in range(epochs):\n",
    "        z = np.dot(X, weights)\n",
    "        y_pred = sigmoid(z)\n",
    "        \n",
    "        cost = compute_weighted_cost(y, y_pred, class_weights)\n",
    "\n",
    "        if (epoch%1000 == 0 or epoch == epochs-1):\n",
    "            print(f\"Epoch {epoch+1}, Cost: {cost}\")\n",
    "        \n",
    "        # Weighted gradient computation\n",
    "        dw = (1 / m) * np.dot(X.T, (y_pred - y) * class_weights[y.astype(int)])\n",
    "        \n",
    "        weights -= learning_rate * dw\n",
    "    \n",
    "    return weights"
   ]
  },
  {
   "cell_type": "code",
   "execution_count": 61,
   "id": "1e0124f5-0941-4ca2-b401-690d4a7889e1",
   "metadata": {},
   "outputs": [
    {
     "name": "stdout",
     "output_type": "stream",
     "text": [
      "Epoch 1, Cost: 0.6933832220658668\n",
      "Epoch 1001, Cost: 0.6109279018007817\n",
      "Epoch 2001, Cost: 0.610927822468624\n",
      "Epoch 3001, Cost: 0.6109278224430538\n",
      "Epoch 4000, Cost: 0.6109278224430448\n"
     ]
    }
   ],
   "source": [
    "class_weights = np.array([len(y_train) / (2 * np.bincount(y_train)[0]), \n",
    "                         len(y_train) / (2 * np.bincount(y_train)[1])])\n",
    "\n",
    "weights = np.random.randn(X_train.shape[1]) * 0.01\n",
    "\n",
    "# Pass the class weights to the weighted gradient descent function\n",
    "optimal_weights = weighted_gradient_descent(X_train, y_train, weights, 0.1, 4000, class_weights)"
   ]
  },
  {
   "cell_type": "code",
   "execution_count": 62,
   "id": "8c7ab884-9e0c-4e63-a227-a4e20196df95",
   "metadata": {},
   "outputs": [],
   "source": [
    "train_predictions = predict_proba(X_train, optimal_weights)"
   ]
  },
  {
   "cell_type": "code",
   "execution_count": 63,
   "id": "4ec5bad9-db94-4c0e-a51a-8b682b2a4edb",
   "metadata": {},
   "outputs": [],
   "source": [
    "test_predictions = predict_proba(X_test, optimal_weights)"
   ]
  },
  {
   "cell_type": "code",
   "execution_count": 64,
   "id": "fafefc5d-853c-42dd-860d-80130a873b6b",
   "metadata": {},
   "outputs": [
    {
     "name": "stdout",
     "output_type": "stream",
     "text": [
      "\n",
      "Train Dataset Evaluation:\n",
      "\n",
      "Confusion Matrix:\n",
      "----------------\n",
      "            Predicted\n",
      "             1    0\n",
      "Actual  1  [TP:344 FN:172]\n",
      "        0  [FP:934 TN:1940]\n",
      "\n",
      "Metrics:\n",
      "Accuracy:  0.674\n",
      "Precision: 0.269\n",
      "Recall:    0.667\n"
     ]
    }
   ],
   "source": [
    "print(\"\\nTrain Dataset Evaluation:\")\n",
    "train_metrics = evaluate(y_train, train_predictions)\n",
    "print_metrics(train_metrics)"
   ]
  },
  {
   "cell_type": "code",
   "execution_count": 65,
   "id": "85491652-7780-4029-b866-e7de52fbea05",
   "metadata": {},
   "outputs": [
    {
     "name": "stdout",
     "output_type": "stream",
     "text": [
      "\n",
      "Test Dataset Evaluation:\n",
      "\n",
      "Confusion Matrix:\n",
      "----------------\n",
      "            Predicted\n",
      "             1    0\n",
      "Actual  1  [TP: 91 FN: 37]\n",
      "        0  [FP:241 TN:479]\n",
      "\n",
      "Metrics:\n",
      "Accuracy:  0.672\n",
      "Precision: 0.274\n",
      "Recall:    0.711\n"
     ]
    }
   ],
   "source": [
    "print(\"\\nTest Dataset Evaluation:\")\n",
    "test_metrics = evaluate(y_test, test_predictions)\n",
    "print_metrics(test_metrics)"
   ]
  },
  {
   "cell_type": "code",
   "execution_count": 66,
   "id": "7907e4ab-00eb-411d-b15c-3eb1d0dccf54",
   "metadata": {},
   "outputs": [],
   "source": [
    "fpr_train, tpr_train = compute_roc_curve(y_train, train_predictions)\n",
    "fpr_test, tpr_test = compute_roc_curve(y_test, test_predictions)\n",
    "\n",
    "auc_train = compute_auc(fpr_train, tpr_train)\n",
    "auc_test = compute_auc(fpr_test, tpr_test)"
   ]
  },
  {
   "cell_type": "code",
   "execution_count": 67,
   "id": "6557c954-b4ac-468d-8056-6dfce3148a61",
   "metadata": {},
   "outputs": [
    {
     "name": "stdout",
     "output_type": "stream",
     "text": [
      "AUC for Training set: 0.7252\n",
      "AUC for Test set: 0.7579\n"
     ]
    }
   ],
   "source": [
    "print(f\"AUC for Training set: {auc_train:.4f}\")\n",
    "print(f\"AUC for Test set: {auc_test:.4f}\")"
   ]
  },
  {
   "cell_type": "code",
   "execution_count": 68,
   "id": "edefadd3-9bce-45d5-ae81-443768ebaf30",
   "metadata": {},
   "outputs": [
    {
     "data": {
      "image/png": "[encoded data removed]",
      "text/plain": [
       "<Figure size 640x480 with 1 Axes>"
      ]
     },
     "metadata": {},
     "output_type": "display_data"
    }
   ],
   "source": [
    "fig, ax = plt.subplots()\n",
    "ax.plot(fpr_train, tpr_train, color='blue', label=f'Train ROC (AUC = {auc_train:.4f})')\n",
    "ax.plot(fpr_train_base, tpr_train_base, color='red', label=f'Train ROC (Base) (AUC = {auc_train_base:.4f})')\n",
    "ax.plot([0, 1], [0, 1], linestyle='--', color='gray', label='Random Classifier')\n",
    "\n",
    "ax.set_xlabel('False Positive Rate')\n",
    "ax.set_ylabel('True Positive Rate')\n",
    "ax.set_title('ROC Curve - Training Set')\n",
    "\n",
    "ax.legend(loc='lower right')\n",
    "plt.show()"
   ]
  },
  {
   "cell_type": "code",
   "execution_count": 69,
   "id": "6c7f0b4e-279f-480a-bfbe-c55904c86ab5",
   "metadata": {},
   "outputs": [
    {
     "data": {
      "image/png": "[encoded data removed]",
      "text/plain": [
       "<Figure size 640x480 with 1 Axes>"
      ]
     },
     "metadata": {},
     "output_type": "display_data"
    }
   ],
   "source": [
    "fig, ax = plt.subplots()\n",
    "\n",
    "ax.plot(fpr_test, tpr_test, color='blue', label=f'Test ROC (AUC = {auc_test:.4f})')\n",
    "ax.plot(fpr_test_base, tpr_test_base, color='red', label=f'Test ROC (Base) (AUC = {auc_test_base:.4f})')\n",
    "ax.plot([0, 1], [0, 1], linestyle='--', color='gray', label='Random Classifier')\n",
    "\n",
    "ax.set_xlabel('False Positive Rate')\n",
    "ax.set_ylabel('True Positive Rate')\n",
    "ax.set_title('Test Set ROC Curve')\n",
    "\n",
    "ax.legend(loc='upper left')\n",
    "plt.show()"
   ]
  },
  {
   "cell_type": "markdown",
   "id": "cb60633d-0722-453a-936d-4c441578c5ec",
   "metadata": {},
   "source": [
    "**We notice there is an improvement in AUC using class weights. So we will try to do hyperparameter tuning to see if we can find the best weights and improve further**"
   ]
  },
  {
   "cell_type": "markdown",
   "id": "b18da76d-46b0-4ef4-9681-39048c6cee93",
   "metadata": {},
   "source": [
    "### Hyperparameter Tuning with Class weights"
   ]
  },
  {
   "cell_type": "markdown",
   "id": "e6c4c7b8-c384-426b-b684-f1605c446c80",
   "metadata": {},
   "source": [
    "**Trying different combinations of Learning Rates, Epochs, Regularization and Batch Sizes**"
   ]
  },
  {
   "cell_type": "code",
   "execution_count": 70,
   "id": "dd351df6-1944-4b56-b376-1aa48c106dca",
   "metadata": {},
   "outputs": [],
   "source": [
    "learning_rates = [0.001, 0.0001]\n",
    "epochs_list = [5000, 10000]\n",
    "lambda_regs = [0.01, 0.1]\n",
    "batch_sizes = [50, 100]\n",
    "\n",
    "best_weights_tuned = None\n",
    "best_accuracy_tuned = 0\n",
    "best_params = {}"
   ]
  },
  {
   "cell_type": "code",
   "execution_count": 71,
   "id": "88d6321d-a764-456a-9e94-65ec181ca235",
   "metadata": {},
   "outputs": [],
   "source": [
    "def compute_weighted_cost(y, y_pred, class_weights, weights, lambda_reg):\n",
    "    m = len(y)\n",
    "    weighted_cost = -(1 / m) * np.sum(class_weights[y.astype(int)] * (y * np.log(y_pred) + (1 - y) * np.log(1 - y_pred)))\n",
    "    reg_cost = (lambda_reg / (2 * m)) * np.sum(np.square(weights))\n",
    "    return weighted_cost + reg_cost"
   ]
  },
  {
   "cell_type": "code",
   "execution_count": 72,
   "id": "25ab0791-1856-4dce-80ca-e3587012820c",
   "metadata": {},
   "outputs": [],
   "source": [
    "def weighted_gradient_descent(X, y, weights, learning_rate, epochs, class_weights, lambda_reg, batch_size):\n",
    "    m, n = X.shape\n",
    "    for epoch in range(epochs):\n",
    "        permutation = np.random.permutation(m)\n",
    "        X_shuffled = X[permutation]\n",
    "        y_shuffled = y[permutation]\n",
    "\n",
    "        total_batches = (m + batch_size - 1) // batch_size\n",
    "\n",
    "        for i in range(0, m, batch_size):\n",
    "            X_batch = X_shuffled[i:i + batch_size]\n",
    "            y_batch = y_shuffled[i:i + batch_size]\n",
    "        \n",
    "            z = np.dot(X_batch, weights)\n",
    "            y_pred = sigmoid(z)\n",
    "        \n",
    "            cost = compute_weighted_cost(y_batch, y_pred, class_weights, weights, lambda_reg)\n",
    "            current_batch = i // batch_size + 1\n",
    "\n",
    "            if (epoch%1000 == 0 or epoch == epochs-1):\n",
    "                if (current_batch == total_batches):\n",
    "                    print(f\"Epoch {epoch+1}, Batch {current_batch}/{total_batches}, Cost: {cost}\")\n",
    "        \n",
    "            dw = (1 / m) * np.dot(X_batch.T, (y_pred - y_batch) * class_weights[y_batch.astype(int)]) + (lambda_reg / m) * weights\n",
    "        \n",
    "            weights -= learning_rate * dw\n",
    "    \n",
    "    return weights"
   ]
  },
  {
   "cell_type": "code",
   "execution_count": 73,
   "id": "30b9e3ed-1ab6-4c77-8af2-c3a2fdad4110",
   "metadata": {},
   "outputs": [
    {
     "name": "stdout",
     "output_type": "stream",
     "text": [
      "Starting Hyperparameter Tuning\n",
      "------------------------------\n",
      "Parameter Set:\n",
      "Learning Rate: 0.001, Epochs: 5000, Lambda: 0.01, Batch Size: 50\n",
      "------------\n",
      "Epoch 1, Batch 68/68, Cost: 0.5422408046615245\n",
      "Epoch 1001, Batch 68/68, Cost: 0.5221422365177876\n",
      "Epoch 2001, Batch 68/68, Cost: 0.9244396809617803\n",
      "Epoch 3001, Batch 68/68, Cost: 0.44409080756773545\n",
      "Epoch 4001, Batch 68/68, Cost: 0.6502853479229532\n",
      "Epoch 5000, Batch 68/68, Cost: 0.4517694333252462\n",
      "Accuracy: 0.644542772861357\n",
      "------------\n",
      "Parameter Set:\n",
      "Learning Rate: 0.001, Epochs: 5000, Lambda: 0.01, Batch Size: 100\n",
      "------------\n",
      "Epoch 1, Batch 34/34, Cost: 0.6178308682127627\n",
      "Epoch 1001, Batch 34/34, Cost: 0.7228256969218099\n",
      "Epoch 2001, Batch 34/34, Cost: 0.6046072162658578\n",
      "Epoch 3001, Batch 34/34, Cost: 0.5539889740885027\n",
      "Epoch 4001, Batch 34/34, Cost: 0.7158759336683582\n",
      "Epoch 5000, Batch 34/34, Cost: 0.47720451332835495\n",
      "Accuracy: 0.6427728613569321\n",
      "------------\n",
      "Parameter Set:\n",
      "Learning Rate: 0.001, Epochs: 5000, Lambda: 0.1, Batch Size: 50\n",
      "------------\n",
      "Epoch 1, Batch 68/68, Cost: 0.6469580040049226\n",
      "Epoch 1001, Batch 68/68, Cost: 0.5838651900320176\n",
      "Epoch 2001, Batch 68/68, Cost: 0.5585925819256077\n",
      "Epoch 3001, Batch 68/68, Cost: 0.5878419523182364\n",
      "Epoch 4001, Batch 68/68, Cost: 0.5539523139253015\n",
      "Epoch 5000, Batch 68/68, Cost: 0.6150990827409866\n",
      "Accuracy: 0.6410029498525074\n",
      "------------\n",
      "Parameter Set:\n",
      "Learning Rate: 0.001, Epochs: 5000, Lambda: 0.1, Batch Size: 100\n",
      "------------\n",
      "Epoch 1, Batch 34/34, Cost: 0.6145123988473109\n",
      "Epoch 1001, Batch 34/34, Cost: 0.6640666646669124\n",
      "Epoch 2001, Batch 34/34, Cost: 0.534511036596061\n",
      "Epoch 3001, Batch 34/34, Cost: 0.5481003418678917\n",
      "Epoch 4001, Batch 34/34, Cost: 0.6135783648981011\n",
      "Epoch 5000, Batch 34/34, Cost: 0.5975657116481378\n",
      "Accuracy: 0.6457227138643068\n",
      "------------\n",
      "Parameter Set:\n",
      "Learning Rate: 0.001, Epochs: 10000, Lambda: 0.01, Batch Size: 50\n",
      "------------\n",
      "Epoch 1, Batch 68/68, Cost: 0.4543330389370124\n",
      "Epoch 1001, Batch 68/68, Cost: 0.7154434351039846\n",
      "Epoch 2001, Batch 68/68, Cost: 0.6469442645119676\n",
      "Epoch 3001, Batch 68/68, Cost: 0.5444082445113385\n",
      "Epoch 4001, Batch 68/68, Cost: 0.4421883148752648\n",
      "Epoch 5001, Batch 68/68, Cost: 0.8373206483078429\n",
      "Epoch 6001, Batch 68/68, Cost: 0.5833576720368767\n",
      "Epoch 7001, Batch 68/68, Cost: 0.6396538077204454\n",
      "Epoch 8001, Batch 68/68, Cost: 0.813646794161214\n",
      "Epoch 9001, Batch 68/68, Cost: 0.6181490040988621\n",
      "Epoch 10000, Batch 68/68, Cost: 0.8298484796382908\n",
      "Accuracy: 0.6557522123893805\n",
      "------------\n",
      "Parameter Set:\n",
      "Learning Rate: 0.001, Epochs: 10000, Lambda: 0.01, Batch Size: 100\n",
      "------------\n",
      "Epoch 1, Batch 34/34, Cost: 0.6931272499942157\n",
      "Epoch 1001, Batch 34/34, Cost: 0.6337420146935453\n",
      "Epoch 2001, Batch 34/34, Cost: 0.5555280742724876\n",
      "Epoch 3001, Batch 34/34, Cost: 0.6287393410724472\n",
      "Epoch 4001, Batch 34/34, Cost: 0.6869402724010968\n",
      "Epoch 5001, Batch 34/34, Cost: 0.6707138954068865\n",
      "Epoch 6001, Batch 34/34, Cost: 0.5377292225100464\n",
      "Epoch 7001, Batch 34/34, Cost: 0.7030571307796954\n",
      "Epoch 8001, Batch 34/34, Cost: 0.6682966134992153\n",
      "Epoch 9001, Batch 34/34, Cost: 0.695779657605228\n",
      "Epoch 10000, Batch 34/34, Cost: 0.6358901350186794\n",
      "Accuracy: 0.6578171091445427\n",
      "------------\n",
      "Parameter Set:\n",
      "Learning Rate: 0.001, Epochs: 10000, Lambda: 0.1, Batch Size: 50\n",
      "------------\n",
      "Epoch 1, Batch 68/68, Cost: 0.8817419082384814\n",
      "Epoch 1001, Batch 68/68, Cost: 0.5844145090256587\n",
      "Epoch 2001, Batch 68/68, Cost: 0.5324602283709777\n",
      "Epoch 3001, Batch 68/68, Cost: 0.7593392092103045\n",
      "Epoch 4001, Batch 68/68, Cost: 0.5656468641953785\n",
      "Epoch 5001, Batch 68/68, Cost: 0.7536330323947679\n",
      "Epoch 6001, Batch 68/68, Cost: 0.5761063385344171\n",
      "Epoch 7001, Batch 68/68, Cost: 0.6210707075753619\n",
      "Epoch 8001, Batch 68/68, Cost: 0.41782682420067707\n",
      "Epoch 9001, Batch 68/68, Cost: 0.5165359998336707\n",
      "Epoch 10000, Batch 68/68, Cost: 0.783599615440797\n",
      "Accuracy: 0.6572271386430678\n",
      "------------\n",
      "Parameter Set:\n",
      "Learning Rate: 0.001, Epochs: 10000, Lambda: 0.1, Batch Size: 100\n",
      "------------\n",
      "Epoch 1, Batch 34/34, Cost: 0.8625592773353091\n",
      "Epoch 1001, Batch 34/34, Cost: 0.6368264603308326\n",
      "Epoch 2001, Batch 34/34, Cost: 0.6937483912501924\n",
      "Epoch 3001, Batch 34/34, Cost: 0.6168464154180434\n",
      "Epoch 4001, Batch 34/34, Cost: 0.5899415807648646\n",
      "Epoch 5001, Batch 34/34, Cost: 0.666513780042253\n",
      "Epoch 6001, Batch 34/34, Cost: 0.6158788796668673\n",
      "Epoch 7001, Batch 34/34, Cost: 0.6688028851201427\n",
      "Epoch 8001, Batch 34/34, Cost: 0.4751025713788321\n",
      "Epoch 9001, Batch 34/34, Cost: 0.5468379450586922\n",
      "Epoch 10000, Batch 34/34, Cost: 0.7005596155998701\n",
      "Accuracy: 0.656047197640118\n",
      "------------\n",
      "Parameter Set:\n",
      "Learning Rate: 0.0001, Epochs: 5000, Lambda: 0.01, Batch Size: 50\n",
      "------------\n",
      "Epoch 1, Batch 68/68, Cost: 0.6445074734185171\n",
      "Epoch 1001, Batch 68/68, Cost: 0.8569218456828344\n",
      "Epoch 2001, Batch 68/68, Cost: 0.7666706388151368\n",
      "Epoch 3001, Batch 68/68, Cost: 0.8823445524792431\n",
      "Epoch 4001, Batch 68/68, Cost: 0.7245189893344746\n",
      "Epoch 5000, Batch 68/68, Cost: 0.6490854176449753\n",
      "Accuracy: 0.6106194690265486\n",
      "------------\n",
      "Parameter Set:\n",
      "Learning Rate: 0.0001, Epochs: 5000, Lambda: 0.01, Batch Size: 100\n",
      "------------\n",
      "Epoch 1, Batch 34/34, Cost: 0.716830731810066\n",
      "Epoch 1001, Batch 34/34, Cost: 0.6693738394103608\n",
      "Epoch 2001, Batch 34/34, Cost: 0.5784004919668599\n",
      "Epoch 3001, Batch 34/34, Cost: 0.6920361488461262\n",
      "Epoch 4001, Batch 34/34, Cost: 0.6336733640708094\n",
      "Epoch 5000, Batch 34/34, Cost: 0.7331896398166505\n",
      "Accuracy: 0.6250737463126844\n",
      "------------\n",
      "Parameter Set:\n",
      "Learning Rate: 0.0001, Epochs: 5000, Lambda: 0.1, Batch Size: 50\n",
      "------------\n",
      "Epoch 1, Batch 68/68, Cost: 0.6829412983947641\n",
      "Epoch 1001, Batch 68/68, Cost: 0.619562556992056\n",
      "Epoch 2001, Batch 68/68, Cost: 0.7625349340821451\n",
      "Epoch 3001, Batch 68/68, Cost: 0.5661293817582219\n",
      "Epoch 4001, Batch 68/68, Cost: 0.6449234148686188\n",
      "Epoch 5000, Batch 68/68, Cost: 0.685419807540572\n",
      "Accuracy: 0.6283185840707964\n",
      "------------\n",
      "Parameter Set:\n",
      "Learning Rate: 0.0001, Epochs: 5000, Lambda: 0.1, Batch Size: 100\n",
      "------------\n",
      "Epoch 1, Batch 34/34, Cost: 0.839570448812216\n",
      "Epoch 1001, Batch 34/34, Cost: 0.7379344293624306\n",
      "Epoch 2001, Batch 34/34, Cost: 0.7670925736099434\n",
      "Epoch 3001, Batch 34/34, Cost: 0.5737677141045499\n",
      "Epoch 4001, Batch 34/34, Cost: 0.6939180888414317\n",
      "Epoch 5000, Batch 34/34, Cost: 0.7174848846072873\n",
      "Accuracy: 0.5926253687315635\n",
      "------------\n",
      "Parameter Set:\n",
      "Learning Rate: 0.0001, Epochs: 10000, Lambda: 0.01, Batch Size: 50\n",
      "------------\n",
      "Epoch 1, Batch 68/68, Cost: 0.6329280601571071\n",
      "Epoch 1001, Batch 68/68, Cost: 0.7194513172421749\n",
      "Epoch 2001, Batch 68/68, Cost: 0.6475282209283373\n",
      "Epoch 3001, Batch 68/68, Cost: 0.6330156279444181\n",
      "Epoch 4001, Batch 68/68, Cost: 0.7678218583950385\n",
      "Epoch 5001, Batch 68/68, Cost: 0.7660922762534695\n",
      "Epoch 6001, Batch 68/68, Cost: 0.7190999649320078\n",
      "Epoch 7001, Batch 68/68, Cost: 0.7162515127670287\n",
      "Epoch 8001, Batch 68/68, Cost: 0.694758984882337\n",
      "Epoch 9001, Batch 68/68, Cost: 0.6592907081633342\n",
      "Epoch 10000, Batch 68/68, Cost: 0.6651262625207255\n",
      "Accuracy: 0.6185840707964602\n",
      "------------\n",
      "Parameter Set:\n",
      "Learning Rate: 0.0001, Epochs: 10000, Lambda: 0.01, Batch Size: 100\n",
      "------------\n",
      "Epoch 1, Batch 34/34, Cost: 0.6558451395539392\n",
      "Epoch 1001, Batch 34/34, Cost: 0.7047617352610457\n",
      "Epoch 2001, Batch 34/34, Cost: 0.75932147280858\n",
      "Epoch 3001, Batch 34/34, Cost: 0.718811826854943\n",
      "Epoch 4001, Batch 34/34, Cost: 0.6982513028249868\n",
      "Epoch 5001, Batch 34/34, Cost: 0.7632996012596645\n",
      "Epoch 6001, Batch 34/34, Cost: 0.6516939044927855\n",
      "Epoch 7001, Batch 34/34, Cost: 0.6917423537045587\n",
      "Epoch 8001, Batch 34/34, Cost: 0.5854731470704766\n",
      "Epoch 9001, Batch 34/34, Cost: 0.5722932491847902\n",
      "Epoch 10000, Batch 34/34, Cost: 0.6468559572092453\n",
      "Accuracy: 0.6309734513274337\n",
      "------------\n",
      "Parameter Set:\n",
      "Learning Rate: 0.0001, Epochs: 10000, Lambda: 0.1, Batch Size: 50\n",
      "------------\n",
      "Epoch 1, Batch 68/68, Cost: 0.7434223596938359\n",
      "Epoch 1001, Batch 68/68, Cost: 0.627108973824138\n",
      "Epoch 2001, Batch 68/68, Cost: 0.958518673423656\n",
      "Epoch 3001, Batch 68/68, Cost: 0.6210717493755401\n",
      "Epoch 4001, Batch 68/68, Cost: 0.5267776448648533\n",
      "Epoch 5001, Batch 68/68, Cost: 0.6500258121353406\n",
      "Epoch 6001, Batch 68/68, Cost: 0.8242983253038497\n",
      "Epoch 7001, Batch 68/68, Cost: 0.4969315166053114\n",
      "Epoch 8001, Batch 68/68, Cost: 0.7412641903729845\n",
      "Epoch 9001, Batch 68/68, Cost: 0.709492696020518\n",
      "Epoch 10000, Batch 68/68, Cost: 0.5674921467271866\n",
      "Accuracy: 0.640117994100295\n",
      "------------\n",
      "Parameter Set:\n",
      "Learning Rate: 0.0001, Epochs: 10000, Lambda: 0.1, Batch Size: 100\n",
      "------------\n",
      "Epoch 1, Batch 34/34, Cost: 0.6519555018105148\n",
      "Epoch 1001, Batch 34/34, Cost: 0.6419341194708386\n",
      "Epoch 2001, Batch 34/34, Cost: 0.648067898833062\n",
      "Epoch 3001, Batch 34/34, Cost: 0.5846453245809238\n",
      "Epoch 4001, Batch 34/34, Cost: 0.6533596204296716\n",
      "Epoch 5001, Batch 34/34, Cost: 0.6407846791113959\n",
      "Epoch 6001, Batch 34/34, Cost: 0.608537525614927\n",
      "Epoch 7001, Batch 34/34, Cost: 0.6072036052454427\n",
      "Epoch 8001, Batch 34/34, Cost: 0.6614809231003859\n",
      "Epoch 9001, Batch 34/34, Cost: 0.596754593934423\n",
      "Epoch 10000, Batch 34/34, Cost: 0.6706682694379359\n",
      "Accuracy: 0.6215339233038348\n",
      "------------\n",
      "Best Parameters: {'learning_rate': 0.001, 'epochs': 10000, 'lambda': 0.01, 'batch_size': 100}, Best Accuracy: 0.6578171091445427\n"
     ]
    }
   ],
   "source": [
    "print(\"Starting Hyperparameter Tuning\")\n",
    "print(\"------------------------------\")\n",
    "for lr in learning_rates:\n",
    "    for epochs in epochs_list:\n",
    "        for lambda_reg in lambda_regs:\n",
    "            for batch_size in batch_sizes:\n",
    "                print(\"Parameter Set:\")\n",
    "                print(f\"Learning Rate: {lr}, Epochs: {epochs}, Lambda: {lambda_reg}, Batch Size: {batch_size}\")\n",
    "                print(\"------------\")\n",
    "                weights = np.random.randn(X_train.shape[1]) * 0.01\n",
    "                weights = weighted_gradient_descent(X_train, y_train, weights, lr, epochs, class_weights, lambda_reg, batch_size)\n",
    "                y_pred = predict_proba(X_train, weights)\n",
    "                y_pred_labels = (y_pred >= 0.5).astype(int) \n",
    "                accuracy = np.mean(y_pred_labels == y_train)\n",
    "                print(f\"Accuracy: {accuracy}\")\n",
    "                print(\"------------\")\n",
    "                \n",
    "                if accuracy > best_accuracy_tuned:\n",
    "                    best_accuracy_tuned = accuracy\n",
    "                    best_weights_tuned = weights\n",
    "                    best_params = {'learning_rate': lr, 'epochs': epochs, 'lambda': lambda_reg, 'batch_size': batch_size}\n",
    "\n",
    "print(f\"Best Parameters: {best_params}, Best Accuracy: {best_accuracy_tuned}\")"
   ]
  },
  {
   "cell_type": "code",
   "execution_count": 74,
   "id": "e481500a-e276-4e2c-90b8-112e562787d1",
   "metadata": {},
   "outputs": [],
   "source": [
    "train_predictions = predict_proba(X_train, best_weights_tuned)\n",
    "test_predictions = predict_proba(X_test, best_weights_tuned)"
   ]
  },
  {
   "cell_type": "code",
   "execution_count": 75,
   "id": "c65a6c56-428a-49b2-b233-34452013de2f",
   "metadata": {},
   "outputs": [
    {
     "name": "stdout",
     "output_type": "stream",
     "text": [
      "\n",
      "Train Dataset Evaluation:\n",
      "\n",
      "Confusion Matrix:\n",
      "----------------\n",
      "            Predicted\n",
      "             1    0\n",
      "Actual  1  [TP:349 FN:167]\n",
      "        0  [FP:993 TN:1881]\n",
      "\n",
      "Metrics:\n",
      "Accuracy:  0.658\n",
      "Precision: 0.260\n",
      "Recall:    0.676\n"
     ]
    }
   ],
   "source": [
    "print(\"\\nTrain Dataset Evaluation:\")\n",
    "train_metrics = evaluate(y_train, train_predictions)\n",
    "print_metrics(train_metrics)"
   ]
  },
  {
   "cell_type": "code",
   "execution_count": 76,
   "id": "8cc0d5f0-68ec-4789-bb63-9623072e7a1e",
   "metadata": {},
   "outputs": [
    {
     "name": "stdout",
     "output_type": "stream",
     "text": [
      "\n",
      "Test Dataset Evaluation:\n",
      "\n",
      "Confusion Matrix:\n",
      "----------------\n",
      "            Predicted\n",
      "             1    0\n",
      "Actual  1  [TP: 94 FN: 34]\n",
      "        0  [FP:251 TN:469]\n",
      "\n",
      "Metrics:\n",
      "Accuracy:  0.664\n",
      "Precision: 0.272\n",
      "Recall:    0.734\n"
     ]
    }
   ],
   "source": [
    "print(\"\\nTest Dataset Evaluation:\")\n",
    "test_metrics = evaluate(y_test, test_predictions)\n",
    "print_metrics(test_metrics)"
   ]
  },
  {
   "cell_type": "code",
   "execution_count": 77,
   "id": "ee44e554-4616-4949-bc82-522152304454",
   "metadata": {},
   "outputs": [],
   "source": [
    "fpr_train, tpr_train = compute_roc_curve(y_train, train_predictions)\n",
    "fpr_test, tpr_test = compute_roc_curve(y_test, test_predictions)\n",
    "\n",
    "auc_train = compute_auc(fpr_train, tpr_train)\n",
    "auc_test = compute_auc(fpr_test, tpr_test)"
   ]
  },
  {
   "cell_type": "code",
   "execution_count": 78,
   "id": "81c1c396-ff57-4c07-bd9b-4221b42b036a",
   "metadata": {},
   "outputs": [
    {
     "name": "stdout",
     "output_type": "stream",
     "text": [
      "AUC for Training set: 0.7240\n",
      "AUC for Test set: 0.7606\n"
     ]
    }
   ],
   "source": [
    "print(f\"AUC for Training set: {auc_train:.4f}\")\n",
    "print(f\"AUC for Test set: {auc_test:.4f}\")"
   ]
  },
  {
   "cell_type": "code",
   "execution_count": 79,
   "id": "d559d0c3-b170-4363-baf7-d1fb35a5cef4",
   "metadata": {},
   "outputs": [
    {
     "data": {
      "image/png": "[encoded data removed]",
      "text/plain": [
       "<Figure size 640x480 with 1 Axes>"
      ]
     },
     "metadata": {},
     "output_type": "display_data"
    }
   ],
   "source": [
    "fig, ax = plt.subplots()\n",
    "ax.plot(fpr_train, tpr_train, color='blue', label=f'Train ROC (AUC = {auc_train:.4f})')\n",
    "ax.plot(fpr_train_base, tpr_train_base, color='red', label=f'Train ROC (Base) (AUC = {auc_train_base:.4f})')\n",
    "ax.plot([0, 1], [0, 1], linestyle='--', color='gray', label='Random Classifier')\n",
    "\n",
    "ax.set_xlabel('False Positive Rate')\n",
    "ax.set_ylabel('True Positive Rate')\n",
    "ax.set_title('ROC Curve - Training Set')\n",
    "\n",
    "ax.legend(loc='lower right')\n",
    "plt.show()"
   ]
  },
  {
   "cell_type": "code",
   "execution_count": 80,
   "id": "00225468-7fe4-4e3f-9780-63f18198105f",
   "metadata": {},
   "outputs": [
    {
     "data": {
      "image/png": "[encoded data removed]",
      "text/plain": [
       "<Figure size 640x480 with 1 Axes>"
      ]
     },
     "metadata": {},
     "output_type": "display_data"
    }
   ],
   "source": [
    "fig, ax = plt.subplots()\n",
    "\n",
    "ax.plot(fpr_test, tpr_test, color='blue', label=f'Test ROC (AUC = {auc_test:.4f})')\n",
    "ax.plot(fpr_test_base, tpr_test_base, color='red', label=f'Test ROC (Base) (AUC = {auc_test_base:.4f})')\n",
    "ax.plot([0, 1], [0, 1], linestyle='--', color='gray', label='Random Classifier')\n",
    "\n",
    "ax.set_xlabel('False Positive Rate')\n",
    "ax.set_ylabel('True Positive Rate')\n",
    "ax.set_title('Test Set ROC Curve')\n",
    "\n",
    "ax.legend(loc='upper left')\n",
    "plt.show()"
   ]
  },
  {
   "cell_type": "markdown",
   "id": "c5700676-5a50-4736-89c6-345e4e79a995",
   "metadata": {},
   "source": [
    "**With Hyperparameter tuning we see that there is an improvement on unseen data with an increase in the AUC. We will next try to do Oversampling for the minority class.**"
   ]
  },
  {
   "cell_type": "markdown",
   "id": "dea839ed-2bab-47e8-90ce-ed1b1fb8805c",
   "metadata": {},
   "source": [
    "### Resampling: Oversampling the minority class to match the majority class"
   ]
  },
  {
   "cell_type": "code",
   "execution_count": 81,
   "id": "c638c250-9269-45c8-8467-8a7239b58161",
   "metadata": {},
   "outputs": [],
   "source": [
    "class_0_indices = np.where(y_train == 0)[0]\n",
    "class_1_indices = np.where(y_train == 1)[0]\n"
   ]
  },
  {
   "cell_type": "code",
   "execution_count": 82,
   "id": "1db9cfa7-9b9c-436a-8e5c-1d8bce949ed7",
   "metadata": {},
   "outputs": [],
   "source": [
    "def oversample(X, y):\n",
    "    if len(class_0_indices) > len(class_1_indices):\n",
    "        majority_class_indices = class_0_indices\n",
    "        minority_class_indices = class_1_indices\n",
    "    else:\n",
    "        majority_class_indices = class_1_indices\n",
    "        minority_class_indices = class_0_indices\n",
    "    \n",
    "    num_to_add = len(majority_class_indices) - len(minority_class_indices)\n",
    "    oversample_indices = np.random.choice(minority_class_indices, size=num_to_add, replace=True)\n",
    "    oversampled_indices = np.concatenate([majority_class_indices, minority_class_indices, oversample_indices])\n",
    "    np.random.shuffle(oversampled_indices)\n",
    "    X_balanced = X[oversampled_indices]\n",
    "    y_balanced = y[oversampled_indices]\n",
    "    \n",
    "    return X_balanced, y_balanced"
   ]
  },
  {
   "cell_type": "code",
   "execution_count": 83,
   "id": "c7a21228-3680-44d8-b98a-9fb4768fbc6b",
   "metadata": {},
   "outputs": [
    {
     "name": "stdout",
     "output_type": "stream",
     "text": [
      "Oversampling completed. The dataset is now balanced.\n"
     ]
    }
   ],
   "source": [
    "X_train_oversampled, y_train_oversampled = oversample(X_train, y_train)\n",
    "print(\"Oversampling completed. The dataset is now balanced.\")"
   ]
  },
  {
   "cell_type": "code",
   "execution_count": 84,
   "id": "934c60de-62f5-4ce5-bc00-791cde5fde22",
   "metadata": {},
   "outputs": [
    {
     "name": "stdout",
     "output_type": "stream",
     "text": [
      "Class distribution:\n",
      "0    2874\n",
      "1    2874\n",
      "Name: count, dtype: int64\n"
     ]
    }
   ],
   "source": [
    "class_counts = pd.Series(y_train_oversampled).value_counts()\n",
    "print(f\"Class distribution:\\n{class_counts}\")"
   ]
  },
  {
   "cell_type": "code",
   "execution_count": 85,
   "id": "c533cdfd-98de-4eaf-ac74-549c1c62fc38",
   "metadata": {},
   "outputs": [],
   "source": [
    "weights = np.random.randn(X_train.shape[1]) * 0.01\n",
    "\n",
    "m, n = X_train.shape\n",
    "learning_rate = 0.01\n",
    "epochs = 4000"
   ]
  },
  {
   "cell_type": "code",
   "execution_count": 86,
   "id": "3dc755ea-47d8-46a7-89c4-a8dac57061b9",
   "metadata": {},
   "outputs": [],
   "source": [
    "def gradient_descent_oversample(X, y, weights, learning_rate, epochs):\n",
    "    m = X.shape[0]\n",
    "    for epoch in range(epochs):\n",
    "        z = np.dot(X, weights)\n",
    "        y_pred = sigmoid(z)\n",
    "        cost = compute_cost(y, y_pred)\n",
    "        if (epoch%1000 == 0 or epoch == epochs-1):\n",
    "            print(f\"Epoch {epoch+1}, Cost: {cost}\")\n",
    "        dw = (1 / m) * np.dot(X.T, (y_pred - y))\n",
    "        weights -= learning_rate * dw\n",
    "    return weights"
   ]
  },
  {
   "cell_type": "code",
   "execution_count": 87,
   "id": "be19dc1d-aa40-4448-9dfa-32b791cb77c4",
   "metadata": {},
   "outputs": [
    {
     "name": "stdout",
     "output_type": "stream",
     "text": [
      "Epoch 1, Cost: 0.6950369779994453\n",
      "Epoch 1001, Cost: 0.6114976417066602\n",
      "Epoch 2001, Cost: 0.6102543410276793\n",
      "Epoch 3001, Cost: 0.6101720166857485\n",
      "Epoch 4000, Cost: 0.6101630311421571\n"
     ]
    }
   ],
   "source": [
    "optimal_weights_oversample = gradient_descent_oversample(X_train_oversampled, y_train_oversampled, weights, learning_rate, epochs)"
   ]
  },
  {
   "cell_type": "code",
   "execution_count": 88,
   "id": "5fe9172c-2324-46e5-85fd-368678bff10b",
   "metadata": {},
   "outputs": [],
   "source": [
    "train_predictions_oversample = predict_proba(X_train_oversampled, optimal_weights_oversample)\n",
    "test_predictions_oversample = predict_proba(X_test, optimal_weights_oversample)"
   ]
  },
  {
   "cell_type": "code",
   "execution_count": 89,
   "id": "dcf560df-9de0-49fb-8470-e553bd9a913b",
   "metadata": {},
   "outputs": [
    {
     "name": "stdout",
     "output_type": "stream",
     "text": [
      "\n",
      "Train Dataset Evaluation:\n",
      "\n",
      "Confusion Matrix:\n",
      "----------------\n",
      "            Predicted\n",
      "             1    0\n",
      "Actual  1  [TP:1918 FN:956]\n",
      "        0  [FP:929 TN:1945]\n",
      "\n",
      "Metrics:\n",
      "Accuracy:  0.672\n",
      "Precision: 0.674\n",
      "Recall:    0.667\n",
      "\n",
      "Test Dataset Evaluation:\n",
      "\n",
      "Confusion Matrix:\n",
      "----------------\n",
      "            Predicted\n",
      "             1    0\n",
      "Actual  1  [TP: 90 FN: 38]\n",
      "        0  [FP:244 TN:476]\n",
      "\n",
      "Metrics:\n",
      "Accuracy:  0.667\n",
      "Precision: 0.269\n",
      "Recall:    0.703\n"
     ]
    }
   ],
   "source": [
    "print(\"\\nTrain Dataset Evaluation:\")\n",
    "train_metrics_oversample = evaluate(y_train_oversampled, train_predictions_oversample)\n",
    "print_metrics(train_metrics_oversample)\n",
    "\n",
    "print(\"\\nTest Dataset Evaluation:\")\n",
    "test_metrics_oversample = evaluate(y_test, test_predictions_oversample)\n",
    "print_metrics(test_metrics_oversample)"
   ]
  },
  {
   "cell_type": "code",
   "execution_count": 90,
   "id": "84d4220c-ec3c-4c16-9db1-4a8050b4ab7e",
   "metadata": {},
   "outputs": [],
   "source": [
    "fpr_train_oversample, tpr_train_oversample = compute_roc_curve(y_train_oversampled, train_predictions_oversample)\n",
    "fpr_test_oversample, tpr_test_oversample = compute_roc_curve(y_test, test_predictions_oversample)\n",
    "\n",
    "auc_train_oversample = compute_auc(fpr_train_oversample, tpr_train_oversample)\n",
    "auc_test_oversample = compute_auc(fpr_test_oversample, tpr_test_oversample)"
   ]
  },
  {
   "cell_type": "code",
   "execution_count": 91,
   "id": "208ca283-fabe-4831-be56-01207ea97e07",
   "metadata": {},
   "outputs": [
    {
     "name": "stdout",
     "output_type": "stream",
     "text": [
      "AUC for Training set: 0.7255\n",
      "AUC for Test set: 0.7531\n"
     ]
    }
   ],
   "source": [
    "print(f\"AUC for Training set: {auc_train_oversample:.4f}\")\n",
    "print(f\"AUC for Test set: {auc_test_oversample:.4f}\")"
   ]
  },
  {
   "cell_type": "code",
   "execution_count": 92,
   "id": "94e57109-6539-4417-894f-d9a20e63e39e",
   "metadata": {},
   "outputs": [
    {
     "data": {
      "image/png": "[encoded data removed]",
      "text/plain": [
       "<Figure size 640x480 with 1 Axes>"
      ]
     },
     "metadata": {},
     "output_type": "display_data"
    }
   ],
   "source": [
    "fig, ax = plt.subplots()\n",
    "ax.plot(fpr_train, tpr_train, color='blue', label=f'Train ROC (AUC = {auc_train_oversample:.4f})')\n",
    "ax.plot(fpr_train_base, tpr_train_base, color='red', label=f'Train ROC (Base) (AUC = {auc_train_base:.4f})')\n",
    "ax.plot([0, 1], [0, 1], linestyle='--', color='gray', label='Random Classifier')\n",
    "\n",
    "ax.set_xlabel('False Positive Rate')\n",
    "ax.set_ylabel('True Positive Rate')\n",
    "ax.set_title('ROC Curve - Training Set')\n",
    "\n",
    "ax.legend(loc='lower right')\n",
    "plt.show()"
   ]
  },
  {
   "cell_type": "code",
   "execution_count": 93,
   "id": "eb3d7dbd-20cd-4ef2-b865-c2f38a2ae259",
   "metadata": {},
   "outputs": [
    {
     "data": {
      "image/png": "[encoded data removed]",
      "text/plain": [
       "<Figure size 640x480 with 1 Axes>"
      ]
     },
     "metadata": {},
     "output_type": "display_data"
    }
   ],
   "source": [
    "fig, ax = plt.subplots()\n",
    "\n",
    "ax.plot(fpr_test, tpr_test, color='blue', label=f'Test ROC (AUC = {auc_test_oversample:.4f})')\n",
    "ax.plot(fpr_test_base, tpr_test_base, color='red', label=f'Test ROC (Base) (AUC = {auc_test_base:.4f})')\n",
    "ax.plot([0, 1], [0, 1], linestyle='--', color='gray', label='Random Classifier')\n",
    "\n",
    "ax.set_xlabel('False Positive Rate')\n",
    "ax.set_ylabel('True Positive Rate')\n",
    "ax.set_title('Test Set ROC Curve')\n",
    "\n",
    "ax.legend(loc='upper left')\n",
    "plt.show()"
   ]
  },
  {
   "cell_type": "markdown",
   "id": "a835d637-cc89-4798-b476-6f51b90bbaee",
   "metadata": {},
   "source": [
    "**With Oversampling for minority class we see improvement in AUC for test dataset. So next we will try to undersample the majority class and see.**"
   ]
  },
  {
   "cell_type": "markdown",
   "id": "e028d582-0d2b-402a-8d96-5cdf045b7291",
   "metadata": {},
   "source": [
    "### Resampling: Undersampling the majority class to match the minority class"
   ]
  },
  {
   "cell_type": "code",
   "execution_count": 94,
   "id": "30f48571-0b1e-4f44-b039-a9427444001d",
   "metadata": {},
   "outputs": [],
   "source": [
    "class_0_indices = np.where(y_train == 0)[0]\n",
    "class_1_indices = np.where(y_train == 1)[0]"
   ]
  },
  {
   "cell_type": "code",
   "execution_count": 95,
   "id": "18744c02-b2ec-4603-bf5c-9319281c43ef",
   "metadata": {},
   "outputs": [
    {
     "name": "stdout",
     "output_type": "stream",
     "text": [
      "Undersampling completed. The dataset is now balanced.\n"
     ]
    }
   ],
   "source": [
    "if len(class_0_indices) > len(class_1_indices):\n",
    "    majority_undersample_indices = np.random.choice(class_0_indices, size=len(class_1_indices), replace=False)\n",
    "    undersampled_indices = np.concatenate([majority_undersample_indices, class_1_indices])\n",
    "    np.random.shuffle(undersampled_indices)\n",
    "    X_train_balanced = X_train[undersampled_indices]\n",
    "    y_train_balanced = y_train[undersampled_indices]\n",
    "    print(\"Undersampling completed. The dataset is now balanced.\")\n",
    "else:\n",
    "    X_train_balanced = X_train\n",
    "    y_train_balanced = y_train\n",
    "    print(\"No undersampling needed, the dataset is already balanced.\")"
   ]
  },
  {
   "cell_type": "code",
   "execution_count": 96,
   "id": "896ac69d-b319-42dc-8e0e-2e22a5968514",
   "metadata": {},
   "outputs": [
    {
     "name": "stdout",
     "output_type": "stream",
     "text": [
      "Class distribution:\n",
      "0    516\n",
      "1    516\n",
      "Name: count, dtype: int64\n"
     ]
    }
   ],
   "source": [
    "class_counts = pd.Series(y_train_balanced).value_counts()\n",
    "print(f\"Class distribution:\\n{class_counts}\")"
   ]
  },
  {
   "cell_type": "code",
   "execution_count": 97,
   "id": "74645fb9-08e3-4ada-a373-00ffaa7c6fc8",
   "metadata": {},
   "outputs": [],
   "source": [
    "weights = np.random.randn(X_train.shape[1]) * 0.01\n",
    "\n",
    "m, n = X_train.shape\n",
    "learning_rate = 0.01\n",
    "epochs = 4000"
   ]
  },
  {
   "cell_type": "code",
   "execution_count": 98,
   "id": "181f51ff-a201-4c49-a661-84fe3fc353f0",
   "metadata": {},
   "outputs": [],
   "source": [
    "def gradient_descent_unsample(X, y, weights, learning_rate, epochs):\n",
    "    m = X.shape[0]\n",
    "    for epoch in range(epochs):\n",
    "        z = np.dot(X, weights)\n",
    "        y_pred = sigmoid(z)\n",
    "        cost = compute_cost(y, y_pred)\n",
    "        if (epoch%1000 == 0 or epoch == epochs-1):\n",
    "            print(f\"Epoch {epoch+1}, Cost: {cost}\")\n",
    "        dw = (1 / m) * np.dot(X.T, (y_pred - y))\n",
    "        weights -= learning_rate * dw\n",
    "    return weights"
   ]
  },
  {
   "cell_type": "code",
   "execution_count": 99,
   "id": "bc0e25c0-43ff-4926-8c0c-deef4618dd9b",
   "metadata": {},
   "outputs": [
    {
     "name": "stdout",
     "output_type": "stream",
     "text": [
      "Epoch 1, Cost: 0.6917625522031641\n",
      "Epoch 1001, Cost: 0.6066556236755004\n",
      "Epoch 2001, Cost: 0.6050823768828413\n",
      "Epoch 3001, Cost: 0.6048768200201433\n",
      "Epoch 4000, Cost: 0.6048233071919349\n"
     ]
    }
   ],
   "source": [
    "optimal_weights_unsample = gradient_descent_unsample(X_train_balanced, y_train_balanced, weights, learning_rate, epochs)"
   ]
  },
  {
   "cell_type": "code",
   "execution_count": 100,
   "id": "07b3b766-4782-446b-b600-7adcb83cbe13",
   "metadata": {},
   "outputs": [],
   "source": [
    "train_predictions_unsample = predict_proba(X_train_balanced, optimal_weights_unsample)\n",
    "test_predictions_unsample = predict_proba(X_test, optimal_weights_unsample)"
   ]
  },
  {
   "cell_type": "code",
   "execution_count": 101,
   "id": "5a988ba2-99cc-4cb7-9976-a2eb7df380bb",
   "metadata": {},
   "outputs": [
    {
     "name": "stdout",
     "output_type": "stream",
     "text": [
      "\n",
      "Train Dataset Evaluation:\n",
      "\n",
      "Confusion Matrix:\n",
      "----------------\n",
      "            Predicted\n",
      "             1    0\n",
      "Actual  1  [TP:342 FN:174]\n",
      "        0  [FP:155 TN:361]\n",
      "\n",
      "Metrics:\n",
      "Accuracy:  0.681\n",
      "Precision: 0.688\n",
      "Recall:    0.663\n",
      "\n",
      "Test Dataset Evaluation:\n",
      "\n",
      "Confusion Matrix:\n",
      "----------------\n",
      "            Predicted\n",
      "             1    0\n",
      "Actual  1  [TP: 92 FN: 36]\n",
      "        0  [FP:239 TN:481]\n",
      "\n",
      "Metrics:\n",
      "Accuracy:  0.676\n",
      "Precision: 0.278\n",
      "Recall:    0.719\n"
     ]
    }
   ],
   "source": [
    "print(\"\\nTrain Dataset Evaluation:\")\n",
    "train_metrics_unsample = evaluate(y_train_balanced, train_predictions_unsample)\n",
    "print_metrics(train_metrics_unsample)\n",
    "\n",
    "print(\"\\nTest Dataset Evaluation:\")\n",
    "test_metrics_unsample = evaluate(y_test, test_predictions_unsample)\n",
    "print_metrics(test_metrics_unsample)"
   ]
  },
  {
   "cell_type": "code",
   "execution_count": 102,
   "id": "08fe57bf-0eb4-4b50-b1d2-2098aae05e78",
   "metadata": {},
   "outputs": [],
   "source": [
    "fpr_train_unsample, tpr_train_unsample = compute_roc_curve(y_train_balanced, train_predictions_unsample)\n",
    "fpr_test_unsample, tpr_test_unsample = compute_roc_curve(y_test, test_predictions_unsample)\n",
    "\n",
    "auc_train_unsample = compute_auc(fpr_train_unsample, tpr_train_unsample)\n",
    "auc_test_unsample = compute_auc(fpr_test_unsample, tpr_test_unsample)"
   ]
  },
  {
   "cell_type": "code",
   "execution_count": 103,
   "id": "12a068e3-3b02-4b27-8ab3-751ee075f597",
   "metadata": {},
   "outputs": [
    {
     "name": "stdout",
     "output_type": "stream",
     "text": [
      "AUC for Training set: 0.7336\n",
      "AUC for Test set: 0.7518\n"
     ]
    }
   ],
   "source": [
    "print(f\"AUC for Training set: {auc_train_unsample:.4f}\")\n",
    "print(f\"AUC for Test set: {auc_test_unsample:.4f}\")"
   ]
  },
  {
   "cell_type": "code",
   "execution_count": 104,
   "id": "21283eeb-96ba-4f26-838e-0399f494d996",
   "metadata": {},
   "outputs": [
    {
     "data": {
      "image/png": "[encoded data removed]",
      "text/plain": [
       "<Figure size 640x480 with 1 Axes>"
      ]
     },
     "metadata": {},
     "output_type": "display_data"
    }
   ],
   "source": [
    "fig, ax = plt.subplots()\n",
    "ax.plot(fpr_train, tpr_train, color='blue', label=f'Train ROC (AUC = {auc_train_unsample:.4f})')\n",
    "ax.plot(fpr_train_base, tpr_train_base, color='red', label=f'Train ROC (Base) (AUC = {auc_train_base:.4f})')\n",
    "ax.plot([0, 1], [0, 1], linestyle='--', color='gray', label='Random Classifier')\n",
    "\n",
    "ax.set_xlabel('False Positive Rate')\n",
    "ax.set_ylabel('True Positive Rate')\n",
    "ax.set_title('ROC Curve - Training Set')\n",
    "\n",
    "ax.legend(loc='lower right')\n",
    "plt.show()"
   ]
  },
  {
   "cell_type": "code",
   "execution_count": 105,
   "id": "a0b0d646-cb24-4d8c-8ca8-6920e4f1465b",
   "metadata": {},
   "outputs": [
    {
     "data": {
      "image/png": "[encoded data removed]",
      "text/plain": [
       "<Figure size 640x480 with 1 Axes>"
      ]
     },
     "metadata": {},
     "output_type": "display_data"
    }
   ],
   "source": [
    "fig, ax = plt.subplots()\n",
    "\n",
    "ax.plot(fpr_test, tpr_test, color='blue', label=f'Test ROC (AUC = {auc_test_unsample:.4f})')\n",
    "ax.plot(fpr_test_base, tpr_test_base, color='red', label=f'Test ROC (Base) (AUC = {auc_test_base:.4f})')\n",
    "ax.plot([0, 1], [0, 1], linestyle='--', color='gray', label='Random Classifier')\n",
    "\n",
    "ax.set_xlabel('False Positive Rate')\n",
    "ax.set_ylabel('True Positive Rate')\n",
    "ax.set_title('Test Set ROC Curve')\n",
    "\n",
    "ax.legend(loc='upper left')\n",
    "plt.show()"
   ]
  },
  {
   "cell_type": "markdown",
   "id": "ed053e1b-77b0-487e-b307-5ccbdb3e487e",
   "metadata": {},
   "source": [
    "**With Undersampling also we see a good improvement on training dataset, however, not much difference with test dataset. Next we will try to generate synthetic samples using SMOTE**"
   ]
  },
  {
   "cell_type": "markdown",
   "id": "d9ed56aa-15da-4258-afff-708da10e606a",
   "metadata": {},
   "source": [
    "### SMOTE (Synthetic Minority Over-sampling Technique):"
   ]
  },
  {
   "cell_type": "markdown",
   "id": "fb54d3b2-2e7b-40e7-b335-f09f9391206b",
   "metadata": {},
   "source": [
    "**This method involves generating new synthetic samples for the minority class. : SMOTE finds the k-nearest neighbors of the selected minority class sample and generates synthetic sample by interpolating between the selected minority class sample and one of its k-nearest neighbors.**"
   ]
  },
  {
   "cell_type": "code",
   "execution_count": 106,
   "id": "7e09462a-edca-4b97-8012-d4cb94a09f7b",
   "metadata": {
    "tags": []
   },
   "outputs": [
    {
     "name": "stdout",
     "output_type": "stream",
     "text": [
      "X_train.shape = (3390, 16)\n",
      "y_train.shape = (3390,)\n",
      "X_test.shape = (848, 16)\n",
      "y_test.shape = (848,)\n"
     ]
    }
   ],
   "source": [
    "print(f\"X_train.shape = {X_train.shape}\")\n",
    "print(f\"y_train.shape = {y_train.shape}\")\n",
    "print(f\"X_test.shape = {X_test.shape}\")\n",
    "print(f\"y_test.shape = {y_test.shape}\")"
   ]
  },
  {
   "cell_type": "code",
   "execution_count": 107,
   "id": "82c54fba-028c-4699-a753-3809b2a6adfa",
   "metadata": {
    "tags": []
   },
   "outputs": [],
   "source": [
    "def smote(X, y, minority_class=1, majority_class=0, N=100, k=5):\n",
    "    minority_indices = np.where(y == minority_class)[0]\n",
    "    majority_indices = np.where(y == majority_class)[0]\n",
    "    X_minority = X[minority_indices]\n",
    "\n",
    "    def euclidean_distance(a, b):\n",
    "        return np.sqrt(np.sum((a - b) ** 2))\n",
    "    \n",
    "    def find_k_nearest_neighbors(X, sample, k):\n",
    "        distances = np.array([euclidean_distance(sample, x) for x in X])\n",
    "        return distances.argsort()[:k]\n",
    "    \n",
    "    n_minority = len(minority_indices)\n",
    "    n_majority = len(majority_indices)\n",
    "    n_synthetic_samples = n_majority - n_minority\n",
    "    \n",
    "    synthetic_samples = []\n",
    "    for i in range(n_synthetic_samples):\n",
    "        idx = np.random.randint(0, n_minority)\n",
    "        neighbors = find_k_nearest_neighbors(X_minority, X_minority[idx], k)\n",
    "        neighbor = np.random.choice(neighbors)\n",
    "        diff = X_minority[neighbor] - X_minority[idx]\n",
    "        gap = np.random.rand()\n",
    "        synthetic_sample = X_minority[idx] + gap * diff\n",
    "        synthetic_samples.append(synthetic_sample)\n",
    "    \n",
    "    synthetic_samples = np.array(synthetic_samples)\n",
    "    y_synthetic = np.array([minority_class] * len(synthetic_samples))\n",
    "    \n",
    "    return np.vstack((X, synthetic_samples)), np.concatenate((y, y_synthetic))"
   ]
  },
  {
   "cell_type": "code",
   "execution_count": 108,
   "id": "9f5ab691-32bb-4545-bb85-2e9cad13503b",
   "metadata": {},
   "outputs": [
    {
     "name": "stdout",
     "output_type": "stream",
     "text": [
      "SMOTE completed. The dataset is now balanced.\n",
      "Class distribution after SMOTE: [2874 2874]\n"
     ]
    }
   ],
   "source": [
    "X_train_smote, y_train_smote = smote(X_train, y_train, minority_class=1, majority_class=0, k=5)\n",
    "\n",
    "print(\"SMOTE completed. The dataset is now balanced.\")\n",
    "print(f\"Class distribution after SMOTE: {np.bincount(y_train_smote)}\")"
   ]
  },
  {
   "cell_type": "code",
   "execution_count": 109,
   "id": "a0f5fe7a-9052-409e-99b8-b976c99100fc",
   "metadata": {
    "tags": []
   },
   "outputs": [
    {
     "name": "stdout",
     "output_type": "stream",
     "text": [
      "X_train.shape = (3390, 16)\n",
      "y_train.shape = (3390,)\n",
      "X_test.shape = (848, 16)\n",
      "y_test.shape = (848,)\n",
      "X_train_smote.shape = (5748, 16)\n",
      "y_train_smote.shape = (5748,)\n"
     ]
    }
   ],
   "source": [
    "print(f\"X_train.shape = {X_train.shape}\")\n",
    "print(f\"y_train.shape = {y_train.shape}\")\n",
    "print(f\"X_test.shape = {X_test.shape}\")\n",
    "print(f\"y_test.shape = {y_test.shape}\")\n",
    "print(f\"X_train_smote.shape = {X_train_smote.shape}\")\n",
    "print(f\"y_train_smote.shape = {y_train_smote.shape}\")"
   ]
  },
  {
   "cell_type": "code",
   "execution_count": 110,
   "id": "b5a2745e-67ec-4c90-b4aa-ea2863b18a3c",
   "metadata": {},
   "outputs": [],
   "source": [
    "def sigmoid(z):\n",
    "    return 1 / (1 + np.exp(-z))\n",
    "\n",
    "def compute_weighted_cost(y_true, y_pred, weights, lambda_reg):\n",
    "    m = len(y_true)\n",
    "    cost = -1/m * (np.dot(y_true, np.log(y_pred)) + np.dot(1 - y_true, np.log(1 - y_pred)))\n",
    "    reg_cost = (lambda_reg / (2 * m)) * np.sum(np.square(weights[1:]))  # Do not regularize the bias term\n",
    "    return cost + reg_cost\n",
    "\n",
    "def predict_proba(X, weights):\n",
    "    return sigmoid(np.dot(X, weights))"
   ]
  },
  {
   "cell_type": "code",
   "execution_count": 111,
   "id": "75ae6d40-4bc3-429c-ba81-d6657b99a53e",
   "metadata": {
    "tags": []
   },
   "outputs": [],
   "source": [
    "def gradient_descent_smote(X, y, weights, learning_rate, epochs, lambda_reg, batch_size):\n",
    "    m, n = X.shape\n",
    "\n",
    "    for epoch in range(epochs):\n",
    "        permutation = np.random.permutation(m)\n",
    "        X_shuffled = X[permutation]\n",
    "        y_shuffled = y[permutation]\n",
    "\n",
    "        for i in range(0, m, batch_size):\n",
    "            X_batch = X_shuffled[i:i + batch_size]\n",
    "            y_batch = y_shuffled[i:i + batch_size]\n",
    "            batch_size_actual = X_batch.shape[0]\n",
    "\n",
    "            z = np.dot(X_batch, weights)\n",
    "            y_pred = sigmoid(z)\n",
    "\n",
    "            error = y_pred - y_batch\n",
    "            dw = np.dot(X_batch.T, error) / batch_size_actual\n",
    "            dw[1:] += (lambda_reg / batch_size_actual) * weights[1:] \n",
    "\n",
    "            weights -= learning_rate * dw\n",
    "\n",
    "        if epoch % 1000 == 0 or epoch == epochs - 1:\n",
    "            cost = compute_weighted_cost(y_shuffled, sigmoid(np.dot(X_shuffled, weights)), weights, lambda_reg)\n",
    "            print(f\"Epoch {epoch + 1}, Cost: {cost}\")\n",
    "\n",
    "    return weights\n"
   ]
  },
  {
   "cell_type": "markdown",
   "id": "46b78e03-eed6-49ac-8a13-a946c2ea8dd9",
   "metadata": {},
   "source": [
    "#### Hyperparameter Tuning with balanced dataset"
   ]
  },
  {
   "cell_type": "code",
   "execution_count": 112,
   "id": "0adea455-8e83-48bf-8182-c1a673f43827",
   "metadata": {
    "tags": []
   },
   "outputs": [],
   "source": [
    "weights = np.random.randn(X_train_smote.shape[1]) * 0.01\n",
    "learning_rates = [0.001, 0.0001]\n",
    "epochs_list = [5000, 10000]\n",
    "lambda_regs = [0.01, 0.02]\n",
    "batch_sizes = [50, 100]"
   ]
  },
  {
   "cell_type": "code",
   "execution_count": 113,
   "id": "48ad6616-75cb-4764-93f6-b49a6db25325",
   "metadata": {},
   "outputs": [
    {
     "name": "stdout",
     "output_type": "stream",
     "text": [
      "Starting Hyperparameter Tuning\n",
      "------------------------------\n",
      "Parameter Set:\n",
      "Learning Rate: 0.001, Epochs: 5000, Lambda: 0.01, Batch Size: 50\n",
      "------------\n",
      "Epoch 1, Cost: 0.6844161183646976\n",
      "Epoch 1001, Cost: 0.6089391796743397\n",
      "Epoch 2001, Cost: 0.6089391930943228\n",
      "Epoch 3001, Cost: 0.6089391764823018\n",
      "Epoch 4001, Cost: 0.6089391723464023\n",
      "Epoch 5000, Cost: 0.6089391717482148\n",
      "Accuracy: 0.6699721642310369\n",
      "------------\n",
      "Parameter Set:\n",
      "Learning Rate: 0.001, Epochs: 5000, Lambda: 0.01, Batch Size: 100\n",
      "------------\n",
      "Epoch 1, Cost: 0.6865144527470639\n",
      "Epoch 1001, Cost: 0.6089396770541489\n",
      "Epoch 2001, Cost: 0.6089391768251738\n",
      "Epoch 3001, Cost: 0.6089391917439164\n",
      "Epoch 4001, Cost: 0.6089392843854908\n",
      "Epoch 5000, Cost: 0.608939189060732\n",
      "Accuracy: 0.6697981906750174\n",
      "------------\n",
      "Parameter Set:\n",
      "Learning Rate: 0.001, Epochs: 5000, Lambda: 0.02, Batch Size: 50\n",
      "------------\n",
      "Epoch 1, Cost: 0.6815809303240502\n",
      "Epoch 1001, Cost: 0.6089398816541859\n",
      "Epoch 2001, Cost: 0.608939859902291\n",
      "Epoch 3001, Cost: 0.6089398558216618\n",
      "Epoch 4001, Cost: 0.6089398561998063\n",
      "Epoch 5000, Cost: 0.6089398727050546\n",
      "Accuracy: 0.6699721642310369\n",
      "------------\n",
      "Parameter Set:\n",
      "Learning Rate: 0.001, Epochs: 5000, Lambda: 0.02, Batch Size: 100\n",
      "------------\n",
      "Epoch 1, Cost: 0.6862416044219104\n",
      "Epoch 1001, Cost: 0.6089405772915065\n",
      "Epoch 2001, Cost: 0.6089397532973163\n",
      "Epoch 3001, Cost: 0.6089398259549875\n",
      "Epoch 4001, Cost: 0.6089397322436909\n",
      "Epoch 5000, Cost: 0.6089397930914857\n",
      "Accuracy: 0.6699721642310369\n",
      "------------\n",
      "Parameter Set:\n",
      "Learning Rate: 0.001, Epochs: 10000, Lambda: 0.01, Batch Size: 50\n",
      "------------\n",
      "Epoch 1, Cost: 0.6874760812570428\n",
      "Epoch 1001, Cost: 0.6089391961313223\n",
      "Epoch 2001, Cost: 0.608939170470609\n",
      "Epoch 3001, Cost: 0.6089391865246957\n",
      "Epoch 4001, Cost: 0.6089391734096625\n",
      "Epoch 5001, Cost: 0.6089391663420983\n",
      "Epoch 6001, Cost: 0.6089391743350181\n",
      "Epoch 7001, Cost: 0.60893917309861\n",
      "Epoch 8001, Cost: 0.6089391699073277\n",
      "Epoch 9001, Cost: 0.6089391799806211\n",
      "Epoch 10000, Cost: 0.6089391816862121\n",
      "Accuracy: 0.6699721642310369\n",
      "------------\n",
      "Parameter Set:\n",
      "Learning Rate: 0.001, Epochs: 10000, Lambda: 0.01, Batch Size: 100\n",
      "------------\n",
      "Epoch 1, Cost: 0.6928852539703598\n",
      "Epoch 1001, Cost: 0.6089402872667458\n",
      "Epoch 2001, Cost: 0.608939256275978\n",
      "Epoch 3001, Cost: 0.6089392485893289\n",
      "Epoch 4001, Cost: 0.6089392192805257\n",
      "Epoch 5001, Cost: 0.6089391885727363\n",
      "Epoch 6001, Cost: 0.6089392364967126\n",
      "Epoch 7001, Cost: 0.6089391890635234\n",
      "Epoch 8001, Cost: 0.6089392941491751\n",
      "Epoch 9001, Cost: 0.6089392918468349\n",
      "Epoch 10000, Cost: 0.6089391969095254\n",
      "Accuracy: 0.6696242171189979\n",
      "------------\n",
      "Parameter Set:\n",
      "Learning Rate: 0.001, Epochs: 10000, Lambda: 0.02, Batch Size: 50\n",
      "------------\n",
      "Epoch 1, Cost: 0.6848397509423121\n",
      "Epoch 1001, Cost: 0.6089398891503649\n",
      "Epoch 2001, Cost: 0.6089398568017036\n",
      "Epoch 3001, Cost: 0.608939851250564\n",
      "Epoch 4001, Cost: 0.6089398547085869\n",
      "Epoch 5001, Cost: 0.6089398575815362\n",
      "Epoch 6001, Cost: 0.6089398614905348\n",
      "Epoch 7001, Cost: 0.6089398859862787\n",
      "Epoch 8001, Cost: 0.6089398638917892\n",
      "Epoch 9001, Cost: 0.6089398428658681\n",
      "Epoch 10000, Cost: 0.6089398587379693\n",
      "Accuracy: 0.6699721642310369\n",
      "------------\n",
      "Parameter Set:\n",
      "Learning Rate: 0.001, Epochs: 10000, Lambda: 0.02, Batch Size: 100\n",
      "------------\n",
      "Epoch 1, Cost: 0.6888407347628357\n",
      "Epoch 1001, Cost: 0.6089403278509852\n",
      "Epoch 2001, Cost: 0.608939801879147\n",
      "Epoch 3001, Cost: 0.6089398023959425\n",
      "Epoch 4001, Cost: 0.608939702588767\n",
      "Epoch 5001, Cost: 0.6089397978709931\n",
      "Epoch 6001, Cost: 0.6089397176499137\n",
      "Epoch 7001, Cost: 0.6089397409137743\n",
      "Epoch 8001, Cost: 0.608939736464405\n",
      "Epoch 9001, Cost: 0.6089397791314081\n",
      "Epoch 10000, Cost: 0.6089397215952205\n",
      "Accuracy: 0.6699721642310369\n",
      "------------\n",
      "Parameter Set:\n",
      "Learning Rate: 0.0001, Epochs: 5000, Lambda: 0.01, Batch Size: 50\n",
      "------------\n",
      "Epoch 1, Cost: 0.6938045996655579\n",
      "Epoch 1001, Cost: 0.6101656871598891\n",
      "Epoch 2001, Cost: 0.6090143212709248\n",
      "Epoch 3001, Cost: 0.608948054779547\n",
      "Epoch 4001, Cost: 0.6089412560199905\n",
      "Epoch 5000, Cost: 0.6089398874517099\n",
      "Accuracy: 0.6699721642310369\n",
      "------------\n",
      "Parameter Set:\n",
      "Learning Rate: 0.0001, Epochs: 5000, Lambda: 0.01, Batch Size: 100\n",
      "------------\n",
      "Epoch 1, Cost: 0.6885133934208456\n",
      "Epoch 1001, Cost: 0.6149310688056332\n",
      "Epoch 2001, Cost: 0.6101193031869903\n",
      "Epoch 3001, Cost: 0.6092153448814589\n",
      "Epoch 4001, Cost: 0.609015655973019\n",
      "Epoch 5000, Cost: 0.6089653183486384\n",
      "Accuracy: 0.6701461377870563\n",
      "------------\n",
      "Parameter Set:\n",
      "Learning Rate: 0.0001, Epochs: 5000, Lambda: 0.02, Batch Size: 50\n",
      "------------\n",
      "Epoch 1, Cost: 0.6895584575339405\n",
      "Epoch 1001, Cost: 0.6101549585075081\n",
      "Epoch 2001, Cost: 0.6090128827406693\n",
      "Epoch 3001, Cost: 0.6089477164694523\n",
      "Epoch 4001, Cost: 0.6089414182043726\n",
      "Epoch 5000, Cost: 0.6089403322465621\n",
      "Accuracy: 0.6699721642310369\n",
      "------------\n",
      "Parameter Set:\n",
      "Learning Rate: 0.0001, Epochs: 5000, Lambda: 0.02, Batch Size: 100\n",
      "------------\n",
      "Epoch 1, Cost: 0.6986402228511117\n",
      "Epoch 1001, Cost: 0.6151599116261975\n",
      "Epoch 2001, Cost: 0.6101379925007315\n",
      "Epoch 3001, Cost: 0.6092115239828688\n",
      "Epoch 4001, Cost: 0.6090110587708736\n",
      "Epoch 5000, Cost: 0.6089618648245348\n",
      "Accuracy: 0.6699721642310369\n",
      "------------\n",
      "Parameter Set:\n",
      "Learning Rate: 0.0001, Epochs: 10000, Lambda: 0.01, Batch Size: 50\n",
      "------------\n",
      "Epoch 1, Cost: 0.691369744038\n",
      "Epoch 1001, Cost: 0.6101247135650459\n",
      "Epoch 2001, Cost: 0.6090157131603722\n",
      "Epoch 3001, Cost: 0.6089499121452041\n",
      "Epoch 4001, Cost: 0.60894217282149\n",
      "Epoch 5001, Cost: 0.6089402906608798\n",
      "Epoch 6001, Cost: 0.608939631613168\n",
      "Epoch 7001, Cost: 0.6089393715842453\n",
      "Epoch 8001, Cost: 0.6089392616883016\n",
      "Epoch 9001, Cost: 0.6089392129042602\n",
      "Epoch 10000, Cost: 0.6089391908672233\n",
      "Accuracy: 0.6701461377870563\n",
      "------------\n",
      "Parameter Set:\n",
      "Learning Rate: 0.0001, Epochs: 10000, Lambda: 0.01, Batch Size: 100\n",
      "------------\n",
      "Epoch 1, Cost: 0.6872600052454033\n",
      "Epoch 1001, Cost: 0.6148957699672233\n",
      "Epoch 2001, Cost: 0.6100832544356668\n",
      "Epoch 3001, Cost: 0.6091960873380864\n",
      "Epoch 4001, Cost: 0.6090061058370867\n",
      "Epoch 5001, Cost: 0.6089601231441708\n",
      "Epoch 6001, Cost: 0.608947366875153\n",
      "Epoch 7001, Cost: 0.6089430677688398\n",
      "Epoch 8001, Cost: 0.6089413427248263\n",
      "Epoch 9001, Cost: 0.6089404509001831\n",
      "Epoch 10000, Cost: 0.6089399567522584\n",
      "Accuracy: 0.6703201113430759\n",
      "------------\n",
      "Parameter Set:\n",
      "Learning Rate: 0.0001, Epochs: 10000, Lambda: 0.02, Batch Size: 50\n",
      "------------\n",
      "Epoch 1, Cost: 0.689674479026592\n",
      "Epoch 1001, Cost: 0.6101125612355017\n",
      "Epoch 2001, Cost: 0.6090102401301024\n",
      "Epoch 3001, Cost: 0.6089482423269134\n",
      "Epoch 4001, Cost: 0.6089418683031682\n",
      "Epoch 5001, Cost: 0.6089405519742265\n",
      "Epoch 6001, Cost: 0.608940142298386\n",
      "Epoch 7001, Cost: 0.6089399851099523\n",
      "Epoch 8001, Cost: 0.6089399190408799\n",
      "Epoch 9001, Cost: 0.6089398912699238\n",
      "Epoch 10000, Cost: 0.6089398787629733\n",
      "Accuracy: 0.6699721642310369\n",
      "------------\n",
      "Parameter Set:\n",
      "Learning Rate: 0.0001, Epochs: 10000, Lambda: 0.02, Batch Size: 100\n",
      "------------\n",
      "Epoch 1, Cost: 0.6922329175547609\n",
      "Epoch 1001, Cost: 0.6148983915777122\n",
      "Epoch 2001, Cost: 0.6100830480588822\n",
      "Epoch 3001, Cost: 0.6091960238125929\n",
      "Epoch 4001, Cost: 0.6090057038030519\n",
      "Epoch 5001, Cost: 0.6089596395242485\n",
      "Epoch 6001, Cost: 0.6089469491425602\n",
      "Epoch 7001, Cost: 0.6089429109985266\n",
      "Epoch 8001, Cost: 0.6089412497594884\n",
      "Epoch 9001, Cost: 0.6089405689715559\n",
      "Epoch 10000, Cost: 0.6089402383468032\n",
      "Accuracy: 0.6699721642310369\n",
      "------------\n",
      "Best Parameters: {'learning_rate': 0.0001, 'epochs': 10000, 'lambda': 0.01, 'batch_size': 100}, Best Accuracy: 0.6703201113430759\n"
     ]
    }
   ],
   "source": [
    "best_weights_tuned = None\n",
    "best_accuracy_tuned = 0\n",
    "best_params = {}\n",
    "\n",
    "print(\"Starting Hyperparameter Tuning\")\n",
    "print(\"------------------------------\")\n",
    "for lr in learning_rates:\n",
    "    for epochs in epochs_list:\n",
    "        for lambda_reg in lambda_regs:\n",
    "            for batch_size in batch_sizes:\n",
    "                print(\"Parameter Set:\")\n",
    "                print(f\"Learning Rate: {lr}, Epochs: {epochs}, Lambda: {lambda_reg}, Batch Size: {batch_size}\")\n",
    "                print(\"------------\")\n",
    "                weights = np.random.randn(X_train_smote.shape[1]) * 0.01\n",
    "                weights = gradient_descent_smote(X_train_smote, y_train_smote, weights, lr, epochs, lambda_reg, batch_size)\n",
    "                y_pred = predict_proba(X_train_smote, weights)\n",
    "                y_pred_labels = (y_pred >= 0.5).astype(int)\n",
    "                accuracy = np.mean(y_pred_labels == y_train_smote)\n",
    "                print(f\"Accuracy: {accuracy}\")\n",
    "                print(\"------------\")\n",
    "                \n",
    "                if accuracy > best_accuracy_tuned:\n",
    "                    best_accuracy_tuned = accuracy\n",
    "                    best_weights_tuned = weights\n",
    "                    best_params = {'learning_rate': lr, 'epochs': epochs, 'lambda': lambda_reg, 'batch_size': batch_size}\n",
    "\n",
    "print(f\"Best Parameters: {best_params}, Best Accuracy: {best_accuracy_tuned}\")"
   ]
  },
  {
   "cell_type": "code",
   "execution_count": 114,
   "id": "068c843c-0516-44ee-8d85-608a7448f11f",
   "metadata": {
    "tags": []
   },
   "outputs": [
    {
     "data": {
      "text/plain": [
       "array([-0.25278845,  0.29657538,  0.60760043, -0.04961234,  0.07522668,\n",
       "        0.17097742,  0.06459684,  0.06044555,  0.08300638,  0.05159403,\n",
       "        0.06579589,  0.22765704,  0.04192543, -0.0246796 , -0.03056233,\n",
       "        0.04688195])"
      ]
     },
     "execution_count": 114,
     "metadata": {},
     "output_type": "execute_result"
    }
   ],
   "source": [
    "best_weights_tuned"
   ]
  },
  {
   "cell_type": "code",
   "execution_count": 115,
   "id": "7bf86252-93ca-48bb-b050-66e85f53d752",
   "metadata": {
    "tags": []
   },
   "outputs": [],
   "source": [
    "# After tuning, use the best weights to make predictions\n",
    "train_predictions_smote = predict_proba(X_train_smote, best_weights_tuned)\n",
    "test_predictions_smote = predict_proba(X_test, best_weights_tuned)"
   ]
  },
  {
   "cell_type": "code",
   "execution_count": 116,
   "id": "0aca986a-9b8b-4369-bd3f-ebf015c9cb9d",
   "metadata": {
    "tags": []
   },
   "outputs": [
    {
     "name": "stdout",
     "output_type": "stream",
     "text": [
      "\n",
      "Train Dataset Evaluation:\n",
      "\n",
      "Confusion Matrix:\n",
      "----------------\n",
      "            Predicted\n",
      "             1    0\n",
      "Actual  1  [TP:1938 FN:936]\n",
      "        0  [FP:959 TN:1915]\n",
      "\n",
      "Metrics:\n",
      "Accuracy:  0.670\n",
      "Precision: 0.669\n",
      "Recall:    0.674\n"
     ]
    }
   ],
   "source": [
    "print(\"\\nTrain Dataset Evaluation:\")\n",
    "train_metrics = evaluate(y_train_smote, train_predictions_smote)\n",
    "print_metrics(train_metrics)"
   ]
  },
  {
   "cell_type": "code",
   "execution_count": 117,
   "id": "92008615-0752-4b7a-aac8-3f4aea0d13aa",
   "metadata": {
    "tags": []
   },
   "outputs": [
    {
     "name": "stdout",
     "output_type": "stream",
     "text": [
      "\n",
      "Test Dataset Evaluation:\n",
      "\n",
      "Confusion Matrix:\n",
      "----------------\n",
      "            Predicted\n",
      "             1    0\n",
      "Actual  1  [TP: 94 FN: 34]\n",
      "        0  [FP:242 TN:478]\n",
      "\n",
      "Metrics:\n",
      "Accuracy:  0.675\n",
      "Precision: 0.280\n",
      "Recall:    0.734\n"
     ]
    }
   ],
   "source": [
    "print(\"\\nTest Dataset Evaluation:\")\n",
    "test_metrics = evaluate(y_test, test_predictions_smote)\n",
    "print_metrics(test_metrics)"
   ]
  },
  {
   "cell_type": "code",
   "execution_count": 118,
   "id": "806f87d7-5977-4ca5-aa8e-3f35a4002a8a",
   "metadata": {},
   "outputs": [],
   "source": [
    "fpr_train, tpr_train = compute_roc_curve(y_train_smote, train_predictions_smote)\n",
    "fpr_test, tpr_test = compute_roc_curve(y_test, test_predictions_smote)\n",
    "\n",
    "auc_train = compute_auc(fpr_train, tpr_train)\n",
    "auc_test = compute_auc(fpr_test, tpr_test)"
   ]
  },
  {
   "cell_type": "code",
   "execution_count": 119,
   "id": "970e7bac-f9ab-4ab0-8eba-f1677b8fe271",
   "metadata": {},
   "outputs": [
    {
     "name": "stdout",
     "output_type": "stream",
     "text": [
      "AUC for Training set: 0.7272\n",
      "AUC for Test set: 0.7591\n"
     ]
    }
   ],
   "source": [
    "print(f\"AUC for Training set: {auc_train:.4f}\")\n",
    "print(f\"AUC for Test set: {auc_test:.4f}\")"
   ]
  },
  {
   "cell_type": "code",
   "execution_count": 120,
   "id": "5eaad0de-550c-460e-b9b5-e5b93316b26e",
   "metadata": {},
   "outputs": [
    {
     "data": {
      "image/png": "[encoded data removed]",
      "text/plain": [
       "<Figure size 640x480 with 1 Axes>"
      ]
     },
     "metadata": {},
     "output_type": "display_data"
    }
   ],
   "source": [
    "fig, ax = plt.subplots()\n",
    "ax.plot(fpr_train, tpr_train, color='blue', label=f'Train ROC (AUC = {auc_train:.4f})')\n",
    "ax.plot(fpr_train_base, tpr_train_base, color='red', label=f'Train ROC (Base) (AUC = {auc_train_base:.4f})')\n",
    "ax.plot([0, 1], [0, 1], linestyle='--', color='gray', label='Random Classifier')\n",
    "\n",
    "ax.set_xlabel('False Positive Rate')\n",
    "ax.set_ylabel('True Positive Rate')\n",
    "ax.set_title('ROC Curve - Training Set')\n",
    "\n",
    "ax.legend(loc='lower right')\n",
    "plt.show()"
   ]
  },
  {
   "cell_type": "code",
   "execution_count": 121,
   "id": "fcf8809e-9425-48d7-9a76-3295e1d02af3",
   "metadata": {},
   "outputs": [
    {
     "data": {
      "image/png": "[encoded data removed]",
      "text/plain": [
       "<Figure size 640x480 with 1 Axes>"
      ]
     },
     "metadata": {},
     "output_type": "display_data"
    }
   ],
   "source": [
    "fig, ax = plt.subplots()\n",
    "\n",
    "ax.plot(fpr_test, tpr_test, color='blue', label=f'Test ROC (AUC = {auc_test:.4f})')\n",
    "ax.plot(fpr_test_base, tpr_test_base, color='red', label=f'Test ROC (Base) (AUC = {auc_test_base:.4f})')\n",
    "ax.plot([0, 1], [0, 1], linestyle='--', color='gray', label='Random Classifier')\n",
    "\n",
    "ax.set_xlabel('False Positive Rate')\n",
    "ax.set_ylabel('True Positive Rate')\n",
    "ax.set_title('Test Set ROC Curve')\n",
    "\n",
    "ax.legend(loc='upper left')\n",
    "plt.show()"
   ]
  },
  {
   "cell_type": "markdown",
   "id": "b2145e0a-881d-4f85-84e6-58ad8e0509d4",
   "metadata": {},
   "source": [
    "**Using Smote we see an improvement in the overall score. However, as compared to other methods tested its at par with the improvements we saw earlier. Overall, with different techniques tested, we were able to improve on the AUC score**"
   ]
  },
  {
   "attachments": {},
   "cell_type": "markdown",
   "id": "8c9407e4-8ab3-4c4b-a726-c91c5cda66da",
   "metadata": {},
   "source": [
    "### Comparing Metrics across all models\n",
    "\n",
    "**We see an improvement with all the techniques used. With use cases involving Healthcare Sector, Recall is an extremely important metrics as False negatives are more critical in healthcare. With that in mind, if we check our models we see an improvement in Recall for all models.Overall, we see from AUC-ROC curves that with the techniques used, the performances have improved**"
   ]
  },
  {
   "cell_type": "markdown",
   "id": "d33ea24e-aad9-4230-ac91-b11d95d2cdf8",
   "metadata": {},
   "source": [
    "## Thank You"
   ]
  }
 ],
 "metadata": {
  "kernelspec": {
   "display_name": "Python 3 (ipykernel)",
   "language": "python",
   "name": "python3"
  },
  "language_info": {
   "codemirror_mode": {
    "name": "ipython",
    "version": 3
   },
   "file_extension": ".py",
   "mimetype": "text/x-python",
   "name": "python",
   "nbconvert_exporter": "python",
   "pygments_lexer": "ipython3",
   "version": "3.12.3"
  }
 },
 "nbformat": 4,
 "nbformat_minor": 5
}
